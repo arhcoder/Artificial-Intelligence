{
  "nbformat": 4,
  "nbformat_minor": 0,
  "metadata": {
    "colab": {
      "provenance": []
    },
    "kernelspec": {
      "name": "python3",
      "display_name": "Python 3"
    },
    "language_info": {
      "name": "python"
    }
  },
  "cells": [
    {
      "cell_type": "markdown",
      "source": [
        "**Regresión lineal con mínimos cuadrados**\n",
        "\n",
        "En este ejemplo aprenderemos a realizar un modelo de regresión lineal usando mínimos cuadrados."
      ],
      "metadata": {
        "id": "OyuekZGBAwHp"
      }
    },
    {
      "cell_type": "code",
      "source": [
        "import numpy as np\n",
        "import pandas as pd\n",
        "import matplotlib.pyplot as plt\n",
        "from sklearn import datasets\n",
        "import random\n",
        "\n",
        "np.random.seed(123)\n",
        "random.seed(123)\n"
      ],
      "metadata": {
        "id": "2MBXkJ1nA-HG"
      },
      "execution_count": 18,
      "outputs": []
    },
    {
      "cell_type": "markdown",
      "source": [
        "Cargamos conjunto de datos\n",
        "\n",
        "Ejemplos totales: 442\n",
        "\n",
        "Dimensionalidad: 10\n",
        "\n",
        "Características reales,  -.2 < x < .2\n",
        "\n",
        "Targets integer 25 - 346\n",
        "\n",
        "https://scikit-learn.org/stable/modules/generated/sklearn.datasets.load_diabetes.html\n",
        "\n",
        "https://scikit-learn.org/stable/auto_examples/ensemble/plot_gradient_boosting_regression.html#sphx-glr-auto-examples-ensemble-plot-gradient-boosting-regression-py\n"
      ],
      "metadata": {
        "id": "HL6LLb9kHYVV"
      }
    },
    {
      "cell_type": "code",
      "source": [
        "X, y = datasets.load_diabetes(return_X_y=True)\n",
        "print(\"Shape:\",X.shape, y.shape)"
      ],
      "metadata": {
        "id": "f1KczyvUHc5N",
        "colab": {
          "base_uri": "https://localhost:8080/"
        },
        "outputId": "820bba80-c2dc-4009-a56b-9c9fd48c754f"
      },
      "execution_count": 19,
      "outputs": [
        {
          "output_type": "stream",
          "name": "stdout",
          "text": [
            "Shape: (442, 10) (442,)\n"
          ]
        }
      ]
    },
    {
      "cell_type": "markdown",
      "source": [
        "Dividir en conjuntos de entrenamiento y prueba (Método Hold out)"
      ],
      "metadata": {
        "id": "k4ODrMq7aLzP"
      }
    },
    {
      "cell_type": "code",
      "source": [
        "from sklearn.model_selection import train_test_split\n",
        "X_train, X_val, y_train, y_val = train_test_split(X, y, test_size=0.2, random_state=0)"
      ],
      "metadata": {
        "id": "erUy9Lf7amVP"
      },
      "execution_count": 20,
      "outputs": []
    },
    {
      "cell_type": "markdown",
      "source": [
        "Suponemos modelo lineal con un solo atributo, esto es,\n",
        "\n",
        "$$\n",
        "f_{\\boldsymbol{\\theta}}(\\mathbf{x}') = \\boldsymbol{\\theta}^\\top \\mathbf{x}',\n",
        "$$\n",
        "\n",
        "donde $\\boldsymbol{\\theta}$ y $\\mathbf{x}'$ son vectores columna.\n"
      ],
      "metadata": {
        "id": "8d3XxbRwQa6b"
      }
    },
    {
      "cell_type": "markdown",
      "source": [
        "Estimamos los parámetros por mínimos cuadrados\n",
        "$$\n",
        "\\boldsymbol{\\theta} = (\\mathbf{X}^\\top \\mathbf{X})^{-1} \\mathbf{X}^\\top \\mathbf{y}\n",
        "$$"
      ],
      "metadata": {
        "id": "Ys88aP6wW_qV"
      }
    },
    {
      "cell_type": "code",
      "source": [
        "theta = np.linalg.inv(X_train.T @ X_train) @ X_train.T @ y_train\n",
        "print(theta)"
      ],
      "metadata": {
        "id": "VaZiL50davDs",
        "outputId": "e44d51e8-fab1-4e09-bb49-738e50f1956c",
        "colab": {
          "base_uri": "https://localhost:8080/"
        }
      },
      "execution_count": 21,
      "outputs": [
        {
          "output_type": "stream",
          "name": "stdout",
          "text": [
            "[  53.2175059   -98.21636348  562.28384536  210.63329087  105.86928998\n",
            " -511.49182488 -128.85164303  385.2818476   402.77562935   18.85279567]\n"
          ]
        }
      ]
    },
    {
      "cell_type": "markdown",
      "source": [
        "Definimos la función de costo, basado en el error cuadrático medio:\n",
        "\n",
        "$$\n",
        "E(\\boldsymbol{\\theta}) = \\frac{1}{n}\\sum_{i=1}^n (f_{\\boldsymbol{\\theta}}(\\mathbf{x}'^{(i)}) - y^{(i)})^2\n",
        "$$"
      ],
      "metadata": {
        "id": "ZlhFrEF5XfW-"
      }
    },
    {
      "cell_type": "code",
      "source": [
        "sse = lambda y_t, y_p: ((y_t - y_p)**2).mean()"
      ],
      "metadata": {
        "id": "lS_pMbKrawcs"
      },
      "execution_count": 22,
      "outputs": []
    },
    {
      "cell_type": "markdown",
      "source": [
        "Realizamos predicciones en conjunto de prueba"
      ],
      "metadata": {
        "id": "YsQBnVJ7Xlcl"
      }
    },
    {
      "cell_type": "code",
      "source": [
        "predictions = X_val @ theta\n",
        "print(predictions)"
      ],
      "metadata": {
        "id": "KMM12Ugaaz8k",
        "outputId": "0bab157c-ede1-4ed1-8e7a-0f93aa957480",
        "colab": {
          "base_uri": "https://localhost:8080/"
        }
      },
      "execution_count": 23,
      "outputs": [
        {
          "output_type": "stream",
          "name": "stdout",
          "text": [
            "[  84.08816161   82.87983957   14.18774774  -37.00849816   25.64130719\n",
            "   95.76749902  -42.54040227   34.25825522   -6.41138494   78.3588702\n",
            "   16.77463107   33.30789501  -29.37344846  -55.30528334   93.14057169\n",
            "  -58.91573926  -18.30729766  -75.36139462  -64.40669734   45.88298463\n",
            "   41.70392846    5.01706956    9.51895749    4.56383248   49.17519177\n",
            "    4.03321933  -34.76554009  -63.61644048   32.99868772   10.6412546\n",
            "   18.00262115  -64.88185857  -16.52865073  -26.74895864  -27.15326888\n",
            "   32.77484908   -3.1081017    45.5210942   -34.10522004   37.16660397\n",
            "  -72.01600004    1.13665083  -17.43316729   30.06094094   29.03735182\n",
            "  -68.46610643  -10.76963054  -27.77741857  -32.03991372   50.9950964\n",
            "   13.88537061  -70.22719702  -14.36521634   15.2995173    62.16800908\n",
            "   13.869211     23.78040106  -34.41453525  -30.67097901   12.15579363\n",
            "   50.98540962   10.64619538    7.5527698   -44.708715    118.16918516\n",
            "  -21.4082187   -73.63785872   75.3380597    53.97015924 -100.86108706\n",
            "  -66.25086311  -20.59400552  -31.01130979    0.58126749  -12.56913046\n",
            "   36.0969451   -53.27495656   32.63560342   68.10312139   13.00940485\n",
            "  -22.48457053   63.74579842  -78.65196437   48.39568846  -69.0381639\n",
            "  -67.41887972  -16.2149797    45.97355988  -35.56350404]\n"
          ]
        }
      ]
    },
    {
      "cell_type": "markdown",
      "source": [
        "Cálculamos el error cuadrático medio entre los valores reales y los valores predichos"
      ],
      "metadata": {
        "id": "yGo-tTsfXr2V"
      }
    },
    {
      "cell_type": "code",
      "source": [
        "ECM = sse(y_val, predictions)\n",
        "print(ECM)"
      ],
      "metadata": {
        "colab": {
          "base_uri": "https://localhost:8080/"
        },
        "id": "qSN6JF5RXuDc",
        "outputId": "058d05b9-e70b-40b1-84ef-13a2ad5243d5"
      },
      "execution_count": 24,
      "outputs": [
        {
          "output_type": "stream",
          "name": "stdout",
          "text": [
            "27308.662502164\n"
          ]
        }
      ]
    }
  ]
}