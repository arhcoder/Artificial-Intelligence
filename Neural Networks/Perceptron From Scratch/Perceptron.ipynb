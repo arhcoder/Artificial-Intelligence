{
  "nbformat": 4,
  "nbformat_minor": 0,
  "metadata": {
    "colab": {
      "provenance": [],
      "toc_visible": true
    },
    "kernelspec": {
      "name": "python3",
      "display_name": "Python 3"
    },
    "language_info": {
      "name": "python"
    }
  },
  "cells": [
    {
      "cell_type": "markdown",
      "source": [
        "# 🧠 REDES NEURONALES\n",
        "## 🧪 Facultad de Ciencias\n",
        "## 🏫 Universidad Nacional Autónoma de México\n",
        "\n",
        "<hr>\n",
        "\n",
        "### 📄 Práctica No. 01\n",
        "\n",
        "#### Realizado por:\n",
        "#### Iván Alejadro Ramos Herrera\n",
        "#### 💜 [@arhcoder](https://github.com/arhcoder)\n",
        "\n"
      ],
      "metadata": {
        "id": "P7F5VNFJMckc"
      }
    },
    {
      "cell_type": "markdown",
      "source": [
        "# [01]\n",
        "# 📚 Selección de Dataset\n",
        "\n",
        "## MNIST\n",
        "### Fuente: sklearn.datasets.load_digits\n",
        "### Información del dataset:\n",
        "\n",
        "> Load and return the digits dataset (classification). Each datapoint is a 8x8 image of a digit.\n",
        "\n",
        "|                   |      |\n",
        "|-------------------|------|\n",
        "| Classes           | 10   |\n",
        "| Samples per class | ~180 |\n",
        "| Samples total     | 1797 |\n",
        "| Dimensionality    | 64   |\n",
        "| Features integers | 0-16 |\n",
        "\n",
        "> We used preprocessing programs made available by NIST to extract normalized bitmaps of handwritten digits from a preprinted form. From a total of 43 people, 30 contributed to the training set and different 13 to the test set. 32x32 bitmaps are divided into nonoverlapping blocks of 4x4 and the number of on pixels are counted in each block. This generates an input matrix of 8x8 where each element is an integer in the range 0..16. This reduces dimensionality and gives invariance to small distortions.\n",
        "\n",
        "> For info on NIST preprocessing routines, see M. D. Garris, J. L. Blue, G. T. Candela, D. L. Dimmick, J. Geist, P. J. Grother, S. A. Janet, and C. L. Wilson, NIST Form-Based Handprint Recognition System, NISTIR 5469, 1994.\n",
        "\n"
      ],
      "metadata": {
        "id": "eUmJqJKuCoA0"
      }
    },
    {
      "cell_type": "code",
      "source": [
        "# Se obtiene el dataset:\n",
        "from sklearn.datasets import load_digits\n",
        "digits = load_digits()"
      ],
      "metadata": {
        "id": "_cQdrQyUFyYw"
      },
      "execution_count": 370,
      "outputs": []
    },
    {
      "cell_type": "markdown",
      "source": [
        "## Exploración"
      ],
      "metadata": {
        "id": "AoyhUg2TIA66"
      }
    },
    {
      "cell_type": "code",
      "source": [
        "# Explorando el dataset:\n",
        "print(\"Data:\\n\", digits.data,)\n",
        "print(\"\\nTamaños:\", digits.data.shape)\n",
        "print(\"\\nImágen:\\n\", digits.images[0])\n",
        "print(\"\\nTargets:\", digits.target)"
      ],
      "metadata": {
        "colab": {
          "base_uri": "https://localhost:8080/"
        },
        "id": "CoK4pzMOGF5_",
        "outputId": "1836456f-f3af-43f3-d263-5ed2e2752123"
      },
      "execution_count": 371,
      "outputs": [
        {
          "output_type": "stream",
          "name": "stdout",
          "text": [
            "Data:\n",
            " [[ 0.  0.  5. ...  0.  0.  0.]\n",
            " [ 0.  0.  0. ... 10.  0.  0.]\n",
            " [ 0.  0.  0. ... 16.  9.  0.]\n",
            " ...\n",
            " [ 0.  0.  1. ...  6.  0.  0.]\n",
            " [ 0.  0.  2. ... 12.  0.  0.]\n",
            " [ 0.  0. 10. ... 12.  1.  0.]]\n",
            "\n",
            "Tamaños: (1797, 64)\n",
            "\n",
            "Imágen:\n",
            " [[ 0.  0.  5. 13.  9.  1.  0.  0.]\n",
            " [ 0.  0. 13. 15. 10. 15.  5.  0.]\n",
            " [ 0.  3. 15.  2.  0. 11.  8.  0.]\n",
            " [ 0.  4. 12.  0.  0.  8.  8.  0.]\n",
            " [ 0.  5.  8.  0.  0.  9.  8.  0.]\n",
            " [ 0.  4. 11.  0.  1. 12.  7.  0.]\n",
            " [ 0.  2. 14.  5. 10. 12.  0.  0.]\n",
            " [ 0.  0.  6. 13. 10.  0.  0.  0.]]\n",
            "\n",
            "Targets: [0 1 2 ... 8 9 8]\n"
          ]
        }
      ]
    },
    {
      "cell_type": "markdown",
      "source": [
        "🔎 Según la documentación, el dataset incluye miles de imágenes de 8x8 que contienen el dibujo de cada uno de los dígitos escritos a mano del 0 al 10. Aproximadamente 180 ejemplos por cada dígito.\n",
        "\n",
        "Las imágenes están representadas como matrices de 8x8 en $digits.images$, en donde esto retorna una lista con cada imágen.\n",
        "\n",
        "En $digits.data$ se incluyen todas las imágenes como un vector de 64 features.\n",
        "\n",
        "En $digits.target$ se incluyen las clasificaciones."
      ],
      "metadata": {
        "id": "2pl87IMpIFqU"
      }
    },
    {
      "cell_type": "markdown",
      "source": [
        "# [02]\n",
        "# 📑 Separación en Entrenamiento y Test\n",
        "### Se hará una separación de los datos en un esquema 70% entrenamiento y 30% evaluación."
      ],
      "metadata": {
        "id": "_h6UZyVfKdVP"
      }
    },
    {
      "cell_type": "markdown",
      "source": [
        "## Separación"
      ],
      "metadata": {
        "id": "bzF6vULlK1Cd"
      }
    },
    {
      "cell_type": "code",
      "source": [
        "import random\n",
        "\n",
        "# Se establecen las variables:\n",
        "X = digits.data\n",
        "y = digits.target\n",
        "\n",
        "# Se hace un shuffle al dataset para evitar sesgos:\n",
        "data = list(zip(X, y))\n",
        "random.shuffle(data)\n",
        "X, y = zip(*data)\n",
        "\n",
        "# Se separa en 70% - 30%:\n",
        "train_size = int(0.7 * len(X))\n",
        "\n",
        "X_train = X[:train_size]\n",
        "X_test = X[train_size:]\n",
        "\n",
        "y_train = y[:train_size]\n",
        "y_test = y[train_size:]\n",
        "\n",
        "print(\"X de Entrenamiento:\", len(X_train))\n",
        "print(\"X de Evaluación:\", len(X_test))\n",
        "print(\"\\ny de Entrenamiento:\", len(y_train))\n",
        "print(\"y de Evaluación:\", len(y_test))"
      ],
      "metadata": {
        "colab": {
          "base_uri": "https://localhost:8080/"
        },
        "id": "sXSwk79fK5DP",
        "outputId": "e7fc15f1-e529-4783-ba4f-548d50eb2ea2"
      },
      "execution_count": 403,
      "outputs": [
        {
          "output_type": "stream",
          "name": "stdout",
          "text": [
            "X de Entrenamiento: 1257\n",
            "X de Evaluación: 540\n",
            "\n",
            "y de Entrenamiento: 1257\n",
            "y de Evaluación: 540\n"
          ]
        }
      ]
    },
    {
      "cell_type": "markdown",
      "source": [
        "# [03]\n",
        "# 🧠 Modelo del Perceptrón\n",
        "## Perceptrón para clasificación."
      ],
      "metadata": {
        "id": "STNIuksjOYgh"
      }
    },
    {
      "cell_type": "markdown",
      "source": [
        "## Perceptrón"
      ],
      "metadata": {
        "id": "ZOZ1d_HuQs0X"
      }
    },
    {
      "cell_type": "code",
      "source": [
        "import numpy as np\n",
        "\n",
        "# CLASE DEL PERCEPTRÓN #\n",
        "class Perceptron:\n",
        "\n",
        "  # Constructor para instanciar un Perceptrón:\n",
        "  def __init__(self, classes, inputs, activation_function=\"identity\"):\n",
        "\n",
        "\n",
        "  # ATRIBUTOS #\n",
        "    self.classes = classes\n",
        "    self.inputs = inputs\n",
        "    self.activation_functions = {\n",
        "      \"identity\": lambda x: x,\n",
        "      \"step\": lambda x: np.where(x >= 0, 1, 0),\n",
        "      \"sigmoid\": lambda x: 1 / (1 + np.exp(-x)),\n",
        "      \"relu\": lambda x: np.maximum(0, x),\n",
        "      \"tanh\": lambda x: np.tanh(x)\n",
        "    }\n",
        "    self.activation_function = self.activation_functions[activation_function]\n",
        "\n",
        "    # Los vectores de pesos y sesos se inicializan de manera aleatoria:\n",
        "    self.weights = np.random.rand(classes, inputs)\n",
        "    self.biases = np.random.rand(classes)\n",
        "\n",
        "\n",
        "\n",
        "  # MÉTODOS #\n",
        "  # Función de Entrenamiento:\n",
        "  def train(self, X_train, y_train, learning_rate, iterations):\n",
        "    '''\n",
        "      Entradas:\n",
        "        - X_train: Matriz de datos de entrenamiento.\n",
        "        - y_train: Vector de etiquetas de entrenamiento.\n",
        "      Proceso:\n",
        "        - Mediante el algoritmo propuesto en clase por el\n",
        "          profesor, se actualizan los pesos de las conexiones.\n",
        "    '''\n",
        "\n",
        "    # Para las iteraciones:\n",
        "    for _ in range(iterations):\n",
        "\n",
        "      # Para el conjunto de datos:\n",
        "      for j in range(len(X_train)):\n",
        "\n",
        "        # Forward:\n",
        "        x = X_train[j]\n",
        "        y = y_train[j]\n",
        "        W = self.weights\n",
        "        b = self.biases\n",
        "        f = self.activation_function(W @ x + b)\n",
        "\n",
        "        # Backward:\n",
        "        self.weights[y] += learning_rate * x\n",
        "        self.biases[y] += learning_rate\n",
        "        self.weights[np.argmax(f)] -= learning_rate * x\n",
        "        self.biases[np.argmax(f)] -= learning_rate\n",
        "\n",
        "\n",
        "\n",
        "  # Función de Predicción:\n",
        "  def predict(self, X):\n",
        "    '''\n",
        "    Entradas:\n",
        "      - X: Matriz de datos de entrada para predecir.\n",
        "    Salida:\n",
        "      - y_prediction: Etiqueta predicha.\n",
        "    '''\n",
        "\n",
        "    # Forward:\n",
        "    W = self.weights\n",
        "    b = self.biases\n",
        "    f = self.activation_function(X @ W.T + b)\n",
        "\n",
        "    # Predicción:\n",
        "    y_prediction = np.argmax(f, axis=1)\n",
        "    return y_prediction\n",
        "\n",
        "\n",
        "\n",
        "\n",
        "  # Función de Evaluación:\n",
        "  def accuracy(self, X_test, y_test):\n",
        "    '''\n",
        "    Entradas:\n",
        "      - X_test: Matriz de datos de prueba.\n",
        "      - y_test: Etiquetas verdaderas de prueba.\n",
        "    Salida:\n",
        "      - accuracy: Accuracy (exactitud) del modelo.\n",
        "    '''\n",
        "\n",
        "    # Predice sobre el X_test:\n",
        "    y_pred = self.predict(X_test)\n",
        "\n",
        "    # Calcula el accuracy:\n",
        "    correct_predictions = 0\n",
        "    total_samples = len(y_test)\n",
        "\n",
        "    for true_label, predicted_label in zip(y_test, y_pred):\n",
        "      if true_label == predicted_label:\n",
        "        correct_predictions += 1\n",
        "\n",
        "    return correct_predictions / total_samples"
      ],
      "metadata": {
        "id": "D6G3a0dfQuhf"
      },
      "execution_count": 373,
      "outputs": []
    },
    {
      "cell_type": "markdown",
      "source": [
        "## Implementación\n",
        "Acá se creará una instancia del Perceptrón creado, se entrenará y se evaluará."
      ],
      "metadata": {
        "id": "yf5HCQMknG0r"
      }
    },
    {
      "cell_type": "code",
      "source": [
        "import warnings\n",
        "warnings.filterwarnings(\"ignore\")"
      ],
      "metadata": {
        "id": "pchMi_YprzLB"
      },
      "execution_count": 374,
      "outputs": []
    },
    {
      "cell_type": "code",
      "source": [
        "# INSTANCIA DEL PERCEPTRÓN:\n",
        "#   - Clases: 10;\n",
        "#   - Inputs: 64;\n",
        "#   - Función: Sigmoide;\n",
        "perceptron = Perceptron(classes=10, inputs=64, activation_function=\"sigmoid\")\n",
        "\n",
        "# ENTRENAMIENTO DEL PERCEPTRÓN:\n",
        "#   - Tasa de aprendizaje: 0.01;\n",
        "#   - Iteraciones: 2000;\n",
        "perceptron.train(X_train, y_train, learning_rate=0.01, iterations=1000)\n",
        "\n",
        "# EVALUACIÓN DEL PERCEPTRÓN:\n",
        "accuracy = perceptron.accuracy(X_test, y_test)\n",
        "print(f\"Exactitud: {accuracy*100:.2f}%\")"
      ],
      "metadata": {
        "colab": {
          "base_uri": "https://localhost:8080/"
        },
        "id": "DxReCAulYqoC",
        "outputId": "a29dd4c7-3270-4f69-e761-ef2923ab7f9c"
      },
      "execution_count": 404,
      "outputs": [
        {
          "output_type": "stream",
          "name": "stdout",
          "text": [
            "Exactitud: 90.37%\n"
          ]
        }
      ]
    },
    {
      "cell_type": "markdown",
      "source": [
        "## Funciones de Activación\n",
        "Se crearán múltiples instancias con diferentes funciones de activación para medir su exactitud."
      ],
      "metadata": {
        "id": "wWjy3AOYoQih"
      }
    },
    {
      "cell_type": "code",
      "source": [
        "# MÚLTIPLES INSTANCIAS DEL PERCEPTRÓN PARA PROBAR\n",
        "# DISTINTAS FUNCIONES DE ACTIVACIÓN:\n",
        "\n",
        "functions = [\"identity\", \"step\", \"sigmoid\", \"relu\", \"tanh\"]\n",
        "learning_rate = 0.01\n",
        "iterations = 1000\n",
        "classes = len(np.unique(y))\n",
        "inputs = digits.data.shape[1]\n",
        "\n",
        "print(\"Variables del Modelo\")\n",
        "print(\" * Tasa de aprendizaje:\", learning_rate)\n",
        "print(\" * Iteraciones:\", iterations)\n",
        "print(\" * Clases:\", classes)\n",
        "print(\" * Entradas:\", inputs)\n",
        "print(\" * Función de Activación:\")\n",
        "\n",
        "# Prueba para cada Función de Activación:\n",
        "perceptrons = list()\n",
        "for function in functions:\n",
        "\n",
        "  # Crea el Perceptrón:\n",
        "  perceptron = Perceptron(classes=classes, inputs=inputs, activation_function=function)\n",
        "\n",
        "  # Entrena el Perceptrón:\n",
        "  perceptron.train(X_train, y_train, learning_rate=learning_rate, iterations=iterations)\n",
        "\n",
        "  # Evalúa el Perceptrón:\n",
        "  accuracy = perceptron.accuracy(X_test, y_test)\n",
        "\n",
        "  # Impresión estética:\n",
        "  max_function_name_length = max(len(function) for function in functions)\n",
        "  formatted_function = f\"[{function}]:\".ljust(max_function_name_length + 3)\n",
        "  print(f\"    * {formatted_function}\\t\\t{accuracy*100:.2f}%\")\n",
        "\n",
        "  # Guarda los Perceptrones:\n",
        "  perceptrons.append({\"Perceptron\": perceptron, \"Function\": function, \"Accuracy\": accuracy})"
      ],
      "metadata": {
        "colab": {
          "base_uri": "https://localhost:8080/"
        },
        "id": "1PP0vO4WoYyF",
        "outputId": "7da9b9fb-a154-4cf9-b374-d6539da74581"
      },
      "execution_count": 431,
      "outputs": [
        {
          "output_type": "stream",
          "name": "stdout",
          "text": [
            "Variables del Modelo\n",
            " * Tasa de aprendizaje: 0.01\n",
            " * Iteraciones: 1000\n",
            " * Clases: 10\n",
            " * Entradas: 64\n",
            " * Función de Activación:\n",
            "    * [identity]:\t\t97.41%\n",
            "    * [step]:    \t\t90.56%\n",
            "    * [sigmoid]: \t\t90.56%\n",
            "    * [relu]:    \t\t97.04%\n",
            "    * [tanh]:    \t\t90.19%\n"
          ]
        }
      ]
    },
    {
      "cell_type": "markdown",
      "source": [
        "## Resultados\n",
        "### Se obtuvieron los siguientes accuracies para las diferentes Funciones de Activación seleccionadas:\n",
        "\n",
        "Variables del Modelo\n",
        " * Tasa de aprendizaje: 0.01\n",
        " * Iteraciones: 1000\n",
        " * Clases: 10\n",
        " * Entradas: 64\n",
        " * Función de Activación:\n",
        "    * [identity]:\t\t96.48%\n",
        "    * [step]:    \t\t91.67%\n",
        "    * [sigmoid]: \t\t90.93%\n",
        "    * [relu]:    \t\t95.37%\n",
        "    * [tanh]:    \t\t91.85%\n",
        "\n",
        "### Los mejores resultados en la clasificación de este dataset se obtienen con la función de activación de identidad."
      ],
      "metadata": {
        "id": "rVSOpCa8Km_0"
      }
    },
    {
      "cell_type": "markdown",
      "source": [
        "# [04]\n",
        "# 🧮 Visualización de PESOS"
      ],
      "metadata": {
        "id": "268WJIzXbcYG"
      }
    },
    {
      "cell_type": "markdown",
      "source": [
        "## Analizando la forma del Perceptrón\n",
        "\n",
        "1. Nuestro problema tiene 64 pixeles para cada ejemplo de entrenamiento; es decir, tiene 64 características cada ejemplo; es decir, nuestra red tiene 64 entradas (64 neuronas de entrada).\n",
        "\n",
        "2. Nuestro problema debe clasificar a 10 clases; por ende tendrá 10 neuronas de salida.\n",
        "\n",
        "Dado que tenemos 64 neuronas de entrada, que se conectan en su completitud con 10 neuronas de salida, tenemos PARA CADA SALIDA DE LAS 10, UN VECTOR DE 64 PESOS, PARA CADA UNA DE LAS 64 CONEXIONES.\n",
        "\n",
        "**POR ENDE, NUESTRA RED CONTIENE UNA MATRIZ DE PESOS DE 64 X 10, EN DONDE CADA NEURONA DE SALIDA (CLASE) TIENE SUS 64 PESOS RESPECTIVOS; QUE PROVOCA QUE SE ACTIVE O NO DICHA NEURONA...**"
      ],
      "metadata": {
        "id": "NUgmPjsafTcs"
      }
    },
    {
      "cell_type": "markdown",
      "source": [
        "## Analizando cada imágen\n",
        "Cada valor de entrenamiento corresponde a una imágen de un número dibujado a mano (de 8x8 pixeles), es decir, de 64 características..."
      ],
      "metadata": {
        "id": "83KY5YpJgglt"
      }
    },
    {
      "cell_type": "code",
      "source": [
        "# Visualizando un ejemplo de entrenamiento como matriz:\n",
        "import matplotlib.pyplot as plt\n",
        "\n",
        "imagen = digits.images[0]\n",
        "etiqueta = digits.target[0]\n",
        "\n",
        "# Mostrar la imagen:\n",
        "plt.imshow(imagen, cmap=plt.cm.gray_r)\n",
        "plt.title(f\"Imagen del dígito {etiqueta}\")\n",
        "plt.show()"
      ],
      "metadata": {
        "colab": {
          "base_uri": "https://localhost:8080/",
          "height": 453
        },
        "id": "M-Cn2cOEgcQm",
        "outputId": "00576bac-7174-4c8b-f30f-fbe199f5358f"
      },
      "execution_count": 432,
      "outputs": [
        {
          "output_type": "display_data",
          "data": {
            "text/plain": [
              "<Figure size 640x480 with 1 Axes>"
            ],
            "image/png": "[encoded data removed]"
          },
          "metadata": {}
        }
      ]
    },
    {
      "cell_type": "code",
      "source": [
        "# Selecciona el Perceptrón con el mejor Accuracy:\n",
        "best = perceptrons[0]\n",
        "for perceptron in perceptrons:\n",
        "  if perceptron[\"Accuracy\"] >= best[\"Accuracy\"]:\n",
        "    best = perceptron\n",
        "\n",
        "# Resultados del mejor:\n",
        "print(f\"Mejor Perceptrón:\\n * Función [{best['Function']}]\\n * Accuracy: {best['Accuracy']*100:.2f}%\")"
      ],
      "metadata": {
        "colab": {
          "base_uri": "https://localhost:8080/"
        },
        "id": "bSEAYNbUH7u-",
        "outputId": "c194eeb3-3b68-4073-9ca0-efa88ed5d0f9"
      },
      "execution_count": 433,
      "outputs": [
        {
          "output_type": "stream",
          "name": "stdout",
          "text": [
            "Mejor Perceptrón:\n",
            " * Función [identity]\n",
            " * Accuracy: 97.41%\n"
          ]
        }
      ]
    },
    {
      "cell_type": "markdown",
      "source": [
        "## Visualización de PESOS para la Clase 0\n",
        "### Se utilizará el esquema de color \"binary\" de matplotlib y se representarán los pesos como una matriz de 8 x 8 para simular cómo resultaría la imágen.\n",
        "\n",
        "El gráfico de calor de pesos nos debería dibujar con más intensidad los pixeles que resultan más importantes (pesos) para la determinación de la clase, tal como si se coloreara el texto (por ello el esquema \"binary\" que va de blanco a nergro según la intensidad crezca)."
      ],
      "metadata": {
        "id": "b7yvviCkh2Fx"
      }
    },
    {
      "cell_type": "code",
      "source": [
        "import matplotlib.pyplot as plt\n",
        "\n",
        "# Matriz de PESOS del mejor perceptrón para la clase 0:\n",
        "weights_class_0 = best[\"Perceptron\"].weights[0, :]\n",
        "weights_class_0 = weights_class_0.reshape((8, 8))\n",
        "\n",
        "# Gráfica de calor:\n",
        "plt.figure(figsize=(8, 8))\n",
        "plt.imshow(weights_class_0, cmap=\"binary\")\n",
        "plt.title(\"Pesos del Perceptrón para la Clase 0\")\n",
        "plt.colorbar()\n",
        "plt.axis(\"off\")\n",
        "plt.show()"
      ],
      "metadata": {
        "colab": {
          "base_uri": "https://localhost:8080/",
          "height": 653
        },
        "id": "oG5HZdyQijBv",
        "outputId": "0db0a306-90c2-40ad-91ef-08808ca5b2a8"
      },
      "execution_count": 434,
      "outputs": [
        {
          "output_type": "display_data",
          "data": {
            "text/plain": [
              "<Figure size 800x800 with 2 Axes>"
            ],
            "image/png": "[encoded data removed]"
          },
          "metadata": {}
        }
      ]
    },
    {
      "cell_type": "markdown",
      "source": [
        "## Visualización completa de PESOS\n",
        "### SE VISUALIZARÁN LOS PESOS EN MAPA DE CALOR PARA CADA UNA DE LAS CLASES.\n",
        "\n",
        "Debería hacerse visible qué pixeles tienen más importancia para cada clase y por ende una imágen general de lo que cada clase representa."
      ],
      "metadata": {
        "id": "sZz3ciygkw4n"
      }
    },
    {
      "cell_type": "code",
      "source": [
        "import matplotlib.pyplot as plt\n",
        "\n",
        "# Crea una figura con subtramas para cada clase:\n",
        "fig, axes = plt.subplots(2, 5, figsize=(12, 6))\n",
        "fig.suptitle(\"Pesos del Perceptrón para cada DÍGITO\", fontsize=16)\n",
        "\n",
        "# Para cada clase:\n",
        "for i in range(10):\n",
        "    # Obtiene la matriz de pesos:\n",
        "    weights_class_i = best[\"Perceptron\"].weights[i, :]\n",
        "    weights_class_i = weights_class_i.reshape((8, 8))\n",
        "\n",
        "    # Ubica la gráfica:\n",
        "    row, col = i // 5, i % 5\n",
        "    ax = axes[row, col]\n",
        "\n",
        "    # Gráficas individuales:\n",
        "    ax.imshow(weights_class_i, cmap=\"binary\")\n",
        "    ax.set_title(f\"Clase {i}\")\n",
        "    ax.axis(\"off\")\n",
        "\n",
        "# Muestra las gráficas:\n",
        "plt.tight_layout(pad=1.0)\n",
        "plt.show()"
      ],
      "metadata": {
        "colab": {
          "base_uri": "https://localhost:8080/",
          "height": 466
        },
        "id": "rSBe10vNlEBR",
        "outputId": "d16510d8-c1f9-4764-ca5f-07abd0bf0741"
      },
      "execution_count": 436,
      "outputs": [
        {
          "output_type": "display_data",
          "data": {
            "text/plain": [
              "<Figure size 1200x600 with 10 Axes>"
            ],
            "image/png": "[encoded data removed]"
          },
          "metadata": {}
        }
      ]
    },
    {
      "cell_type": "markdown",
      "source": [
        "# [05]\n",
        "# 📈 Más métricas de Evaluación\n",
        "## Precisión, Recall, F1, Exactitud, Micro-Average y Weighted-Average."
      ],
      "metadata": {
        "id": "-UqHw35InYoI"
      }
    },
    {
      "cell_type": "markdown",
      "source": [
        "## Cálculo de Métricas"
      ],
      "metadata": {
        "id": "v-CBwpdHvmn1"
      }
    },
    {
      "cell_type": "code",
      "source": [
        "import numpy as np\n",
        "\n",
        "# Matriz de confusión:\n",
        "def confusion_matrix(y_true, y_pred, classes):\n",
        "  confusion_matrix = np.zeros((classes, 2, 2))\n",
        "\n",
        "  for true_label, predicted_label in zip(y_true, y_pred):\n",
        "    # Encuentra los Verdaderos Positivos (TP: True Positives):\n",
        "    if true_label == predicted_label:\n",
        "      confusion_matrix[true_label, 0, 0] += 1\n",
        "    else:\n",
        "      # (FN: False Negatives):\n",
        "      confusion_matrix[true_label, 1, 0] += 1\n",
        "      # (TN: True Negatives):\n",
        "      confusion_matrix[predicted_label, 1, 1] += 1\n",
        "      # (FP: False Positives):\n",
        "      confusion_matrix[predicted_label, 0, 1] += 1\n",
        "\n",
        "  return confusion_matrix\n",
        "\n",
        "\n",
        "# Precisión:\n",
        "def precision(confusion_matrix):\n",
        "  TP = confusion_matrix[:, 0, 0]\n",
        "  FP = confusion_matrix[:, 0, 1]\n",
        "  precision = TP / (TP + FP)\n",
        "  return precision\n",
        "\n",
        "\n",
        "# Recall:\n",
        "def recall(confusion_matrix):\n",
        "  TP = confusion_matrix[:, 0, 0]\n",
        "  FN = confusion_matrix[:, 1, 0]\n",
        "  recall = TP / (TP + FN)\n",
        "\n",
        "  return recall\n",
        "\n",
        "# F1:\n",
        "def f1(precision, recall):\n",
        "  f1 = 2 * (precision * recall) / (precision + recall)\n",
        "  return f1\n",
        "\n",
        "\n",
        "# Micro-Average:\n",
        "def micro_average(confusion_matrix):\n",
        "  TP = np.sum(confusion_matrix[:, 0, 0])\n",
        "  FP = np.sum(confusion_matrix[:, 0, 1])\n",
        "  micro_average = TP / (TP + FP)\n",
        "\n",
        "  return micro_average\n",
        "\n",
        "\n",
        "# Weighted-Average:\n",
        "def weighted_average(precision):\n",
        "    classes = len(precision)\n",
        "    weights = np.bincount(y_test)\n",
        "    weighted_average = np.sum(precision * weights) / np.sum(weights)\n",
        "\n",
        "    return weighted_average\n",
        "\n",
        "\n",
        "# Predice con el mejor perceptrón encontrado:\n",
        "perceptron = best[\"Perceptron\"]\n",
        "y_pred = perceptron.predict(X_test)\n",
        "\n",
        "# Encuentra las métricas de evaluación:\n",
        "confusion_matrix = confusion_matrix(y_test, y_pred, classes=10)\n",
        "precision = precision(confusion_matrix)\n",
        "recall = recall(confusion_matrix)\n",
        "f1 = f1(precision, recall)\n",
        "micro_average = micro_average(confusion_matrix)\n",
        "weighted_average = weighted_average(precision)\n",
        "\n",
        "# RESULTADOS FINALES:\n",
        "# Imprime las métricas por clase\n",
        "for i in range(10):\n",
        "  print(\"\\n______________________________\")\n",
        "  print(f\"\\nCLASE {i}:\")\n",
        "  print(f\"Matriz de Confusión:\\n{confusion_matrix[i]}\")\n",
        "  print(f\"Precisión: {precision[i]*100:.2f}%\")\n",
        "  print(f\"Recall: {recall[i]*100:.2f}%\")\n",
        "  print(f\"F1: {f1[i]*100:.2f}%\")\n",
        "\n",
        "print(\"\\n______________________________\\n\\nRESULTADOS GLOBALES\")\n",
        "print(f\"\\nMicro-Average: {micro_average*100:.2f}%\")\n",
        "print(f\"\\nWeighted-Average: {weighted_average*100:.2f}%\")\n",
        "print(\"\\n______________________________\\n\")"
      ],
      "metadata": {
        "colab": {
          "base_uri": "https://localhost:8080/"
        },
        "id": "cjGSrWIlU5RE",
        "outputId": "710d50a2-42ea-4497-956b-97792269a165"
      },
      "execution_count": 446,
      "outputs": [
        {
          "output_type": "stream",
          "name": "stdout",
          "text": [
            "\n",
            "______________________________\n",
            "\n",
            "CLASE 0:\n",
            "Matriz de Confusión:\n",
            "[[49.  1.]\n",
            " [ 0.  1.]]\n",
            "Precisión: 98.00%\n",
            "Recall: 100.00%\n",
            "F1: 98.99%\n",
            "\n",
            "______________________________\n",
            "\n",
            "CLASE 1:\n",
            "Matriz de Confusión:\n",
            "[[60.  1.]\n",
            " [ 3.  1.]]\n",
            "Precisión: 98.36%\n",
            "Recall: 95.24%\n",
            "F1: 96.77%\n",
            "\n",
            "______________________________\n",
            "\n",
            "CLASE 2:\n",
            "Matriz de Confusión:\n",
            "[[59.  1.]\n",
            " [ 0.  1.]]\n",
            "Precisión: 98.33%\n",
            "Recall: 100.00%\n",
            "F1: 99.16%\n",
            "\n",
            "______________________________\n",
            "\n",
            "CLASE 3:\n",
            "Matriz de Confusión:\n",
            "[[46.  2.]\n",
            " [ 1.  2.]]\n",
            "Precisión: 95.83%\n",
            "Recall: 97.87%\n",
            "F1: 96.84%\n",
            "\n",
            "______________________________\n",
            "\n",
            "CLASE 4:\n",
            "Matriz de Confusión:\n",
            "[[59.  1.]\n",
            " [ 2.  1.]]\n",
            "Precisión: 98.33%\n",
            "Recall: 96.72%\n",
            "F1: 97.52%\n",
            "\n",
            "______________________________\n",
            "\n",
            "CLASE 5:\n",
            "Matriz de Confusión:\n",
            "[[51.  1.]\n",
            " [ 0.  1.]]\n",
            "Precisión: 98.08%\n",
            "Recall: 100.00%\n",
            "F1: 99.03%\n",
            "\n",
            "______________________________\n",
            "\n",
            "CLASE 6:\n",
            "Matriz de Confusión:\n",
            "[[54.  2.]\n",
            " [ 1.  2.]]\n",
            "Precisión: 96.43%\n",
            "Recall: 98.18%\n",
            "F1: 97.30%\n",
            "\n",
            "______________________________\n",
            "\n",
            "CLASE 7:\n",
            "Matriz de Confusión:\n",
            "[[58.  1.]\n",
            " [ 3.  1.]]\n",
            "Precisión: 98.31%\n",
            "Recall: 95.08%\n",
            "F1: 96.67%\n",
            "\n",
            "______________________________\n",
            "\n",
            "CLASE 8:\n",
            "Matriz de Confusión:\n",
            "[[44.  3.]\n",
            " [ 2.  3.]]\n",
            "Precisión: 93.62%\n",
            "Recall: 95.65%\n",
            "F1: 94.62%\n",
            "\n",
            "______________________________\n",
            "\n",
            "CLASE 9:\n",
            "Matriz de Confusión:\n",
            "[[46.  1.]\n",
            " [ 2.  1.]]\n",
            "Precisión: 97.87%\n",
            "Recall: 95.83%\n",
            "F1: 96.84%\n",
            "\n",
            "______________________________\n",
            "\n",
            "RESULTADOS GLOBALES\n",
            "\n",
            "Micro-Average: 97.41%\n",
            "\n",
            "Weighted-Average: 97.42%\n",
            "\n",
            "______________________________\n",
            "\n"
          ]
        }
      ]
    },
    {
      "cell_type": "markdown",
      "source": [
        "## RESULTADOS GLOBALES\n",
        "\n",
        "______________________________\n",
        "\n",
        "**CLASE 0**:\n",
        "Matriz de Confusión:\n",
        "**[[49.  1.]\n",
        " [ 0.  1.]]**\n",
        "Precisión: **98.00%**\n",
        "Recall: **100.00%**\n",
        "F1: **98.99%**\n",
        "\n",
        "______________________________\n",
        "\n",
        "**CLASE 1**:\n",
        "Matriz de Confusión:\n",
        "**[[60.  1.]\n",
        " [ 3.  1.]]**\n",
        "Precisión: **98.36%**\n",
        "Recall: **95.24%**\n",
        "F1: **96.77%**\n",
        "\n",
        "______________________________\n",
        "\n",
        "**CLASE 2**:\n",
        "Matriz de Confusión:\n",
        "**[[59.  1.]\n",
        " [ 0.  1.]]**\n",
        "Precisión: **98.33%**\n",
        "Recall: **100.00%**\n",
        "F1: **99.16%**\n",
        "\n",
        "______________________________\n",
        "\n",
        "**CLASE 3**:\n",
        "Matriz de Confusión:\n",
        "**[[46.  2.]\n",
        " [ 1.  2.]]**\n",
        "Precisión: **95.83%**\n",
        "Recall: **97.87%**\n",
        "F1: **96.84%**\n",
        "\n",
        "______________________________\n",
        "\n",
        "**CLASE 4**:\n",
        "Matriz de Confusión:\n",
        "**[[59.  1.]\n",
        " [ 2.  1.]]**\n",
        "Precisión: **98.33%**\n",
        "Recall: **96.72%**\n",
        "F1: **97.52%**\n",
        "\n",
        "______________________________\n",
        "\n",
        "**CLASE 5**:\n",
        "Matriz de Confusión:\n",
        "**[[51.  1.]\n",
        " [ 0.  1.]]**\n",
        "Precisión: **98.08%**\n",
        "Recall: **100.00%**\n",
        "F1: **99.03%**\n",
        "\n",
        "______________________________\n",
        "\n",
        "**CLASE 6**:\n",
        "Matriz de Confusión:\n",
        "**[[54.  2.]\n",
        " [ 1.  2.]]**\n",
        "Precisión: **96.43%**\n",
        "Recall: **98.18%**\n",
        "F1: **97.30%**\n",
        "\n",
        "______________________________\n",
        "\n",
        "**CLASE 7**:\n",
        "Matriz de Confusión:\n",
        "**[[58.  1.]\n",
        " [ 3.  1.]]**\n",
        "Precisión: **98.31%**\n",
        "Recall: **95.08%**\n",
        "F1: **96.67%**\n",
        "\n",
        "______________________________\n",
        "\n",
        "**CLASE 8**:\n",
        "Matriz de Confusión:\n",
        "**[[44.  3.]\n",
        " [ 2.  3.]]**\n",
        "Precisión: **93.62%**\n",
        "Recall: **95.65%**\n",
        "F1: **94.62%**\n",
        "\n",
        "______________________________\n",
        "\n",
        "**CLASE 9**:\n",
        "Matriz de Confusión:\n",
        "**[[46.  1.]\n",
        " [ 2.  1.]]**\n",
        "Precisión: **97.87%**\n",
        "Recall: **95.83%**\n",
        "F1: **96.84%**\n",
        "\n",
        "______________________________\n",
        "\n",
        "Micro-Average: **97.41%**\n",
        "\n",
        "Weighted-Average: **97.42%**\n",
        "\n",
        "______________________________"
      ],
      "metadata": {
        "id": "ijFgplequCtI"
      }
    },
    {
      "cell_type": "markdown",
      "source": [
        "# [06]\n",
        "## Realizado por:\n",
        "### Iván Alejadro Ramos Herrera\n",
        "### 💜 [@arhcoder](https://github.com/arhcoder)"
      ],
      "metadata": {
        "id": "4DinJz64wzft"
      }
    }
  ]
}