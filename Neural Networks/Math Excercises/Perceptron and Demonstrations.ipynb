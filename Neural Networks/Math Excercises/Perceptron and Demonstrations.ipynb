{
  "nbformat": 4,
  "nbformat_minor": 0,
  "metadata": {
    "colab": {
      "provenance": [],
      "toc_visible": true
    },
    "kernelspec": {
      "name": "python3",
      "display_name": "Python 3"
    },
    "language_info": {
      "name": "python"
    }
  },
  "cells": [
    {
      "cell_type": "markdown",
      "source": [
        "# 🧠 REDES NEURONALES\n",
        "## 🧪 Facultad de Ciencias\n",
        "## 🏫 Universidad Nacional Autónoma de México\n",
        "\n",
        "<hr>\n",
        "\n",
        "### 📄 Tarea No. 01\n",
        "\n",
        "#### Realizado por:\n",
        "#### Iván Alejadro Ramos Herrera\n",
        "#### 💜 [@arhcoder](https://github.com/arhcoder)\n",
        "\n"
      ],
      "metadata": {
        "id": "P7F5VNFJMckc"
      }
    },
    {
      "cell_type": "markdown",
      "source": [
        "# [01]\n",
        "Dado el siguiente cuadro con las predicciones hechas por una maquina de aprendizaje para predecir colores y los valores esperados de la supervision:\n",
        "\n",
        "![image.png](data:image/png;base64,iVBORw0KGgoAAAANSUhEUgAAAqQAAABBCAYAAAAHULaxAAAAAXNSR0IArs4c6QAAAARnQU1BAACxjwv8YQUAAAAJcEhZcwAADsMAAA7DAcdvqGQAACx7SURBVHhe7d0HuB1V1Qbg8UdpIiIgRaR3YugQikDovfdOAIFI7x2REkACCIj0GnrvJfTeIVQpgtKbiigoYpl/3s3d8RBuAknOmbng+p7nPveUObP37L3Kt9Zee+YbZYUiEAgEAoFAIBBoCP/X9T8QCAQCgUAgEGgEQUgDgUAgEAgEAo0iCGkgEAgEAoFAoFEEIQ0EAoFAIBAINIrPbWraf//9i8suu6zrXSAQCAQCgUAg0F7suOOOxRZbbFF885vfTO8/R0j/+te/Fh9//HHXu0DgU5xwwgnF9773vWKDDTbo+iQQCAQCgUBg1PDtb3+7GGeccYpvfOMb6X3c9inwpfDzn/+8+P73v1/89Kc/7fokEAgEAoFAoD2IGtIejvfee6+4/fbb0/9AIBAIBAKBryM6liF99913ixtuuKF4//33uz75L6RnxxtvvGLSSSctZppppmKGGWYo/u//Os+NlSPceeedxUsvvVTky5588smLpZdeuphwwgnT+0GDBhV33313seyyyxYrrbRSMdZYY6XP24W///3vxdVXX13ccsstRZ8+fYpNN920+Na3vtX17WfxxhtvFEcccUQxePDgon///qneoilEhjQQCAQCgUCn0DEW+N3vfrfo1atXIoB77LFH+ttzzz0TSVXAescddxT9+vUrFlhggVSX+OKLL3b9snMYd9xxi7nmmiuRZH3RJ7WROfv48ssvF3vvvXdx2mmnFT/72c+KV155JX3eLiDByPBhhx1WnH766cVee+1VDBkypOvbz+JPf/pTcfTRRxdnnHFG8fbbbxdTTTVV1zeBQCAQCAQCXy90jJDKLM4777zFrrvuWow55pjFP//5z5QF3XzzzYttt922OO6444qNNtqo+Nvf/lZcdNFFKVPYaVI6xhhjFFNMMUWx5JJLJnKoT/5agSzL4Dq2E8lj5zYOuY1czNsKWdRzzjmnuPzyy4vFFluseOCBB4rVV1+969tAIBAIBAKBrxc6vk4+/vjjf2ZJOhMwGdR55pkn7dyGJ554orjyyivT605DH7ojgtNMM03KkG644YYpgzr11FN3fdMeaFMbO+ywQ8oKu8VW7969u779L2Rmn3nmmWKXXXZJxHSWWWbp+iYQCAQCgUDg64eOE9LuiB/IEiKruUbzX//6V/HWW2+l193BMvuzzz5b/OUvf+n65FP8+9//Lt58883itddeKz755JOuTz8P9aOInozs8KBPW221VXH22Wcnwjj22GN3ffNf/Oc//yneeeed4oUXXig++OCD9L47yLz+7ne/S226jVbOtrrNwWabbZaIpkxxdzWqk002WfpODet3vvOdrk9HDO0pB9Bm3LYrEAgEAoHAVwkdv+3TU089VSy66KLFn//850TwkL111lknEbRLLrmk2HnnnROh9N1OO+1ULLTQQsVZZ51V/PGPf0zL50sttVQxxxxzFCeeeGLx+9//PtWAHnTQQcWUU05Z3H///cWxxx6bakORSeR0u+22K+abb76u1oviww8/TL+99tpr02sbqNStqt9EYL3WniyujTu5bnS66aYrDj300LTpCRA+da/qS2V3kVHnW2+99dJfzgL73Pluu+221EdlCJNMMkmx++67Fz/4wQ+KQw45pHjyyScTkUU29V9b4DNtnHrqqeneXK4fEUeOV1lllbTEj5Qrd3juuefSb2wKs5zvYQaPPvpoOmbBBRdMG6Cmn3764QYEI4tR2dRkLK666qpUJ6sfNrGtscYa6Xo/+uij4rzzzit++9vfpjlRyqG0o5Mgc+qE9en1119PfZp11lmLNddcM2XqzcvFF1+cgqNlllmmWGKJJbp+2XmQxUceeaS46aabUr8EUHPOOWead/JWN8jtpZdemvphPMjwxhtvnOawbtBr/bEZcP7550+BrNrvaaedNt1UOetop0E/Bb7kRx/YNbpI9+mF/nQazz//fJJRdoGuK4taddVVk62455570mZJ/VxhhRWKH//4x12/6jwEwWwXm2y+JA4WWWSRJL/t3hg6IuQ5uv7665MNNUdkhX8wR1ao2mUThwd2Rt0/n6Ot5ZdfPtl5pVj8E5vd6T6wc0rh7I8gJz/60Y+S32Vj+Ykbb7wx2Wd2zgbeToMNufnmm5NfJB9833LLLZd8te/0h+z4fLfddus2GdRJ8KtK5MzRP/7xj6TLEkcSSHWCDl933XWpD8bAGJFhiTRj9OCDDyZZZvf4zU4Db+MHjA+ZxWHWWmuttKeFDTr//PMTL7OKu+WWW3b9ajSAkHYSlZMvJ5hgAqS3rAa4rJQkfV4RkrIiZ+V4442XvqvIW3nvvfeWlXCW++yzT1kZ2PRXOeWyV69eZTUY6bgJJ5ywrAahrAhYOcUUU5SVgSkrclZWxLesyGw52WSTlc8880xqoyKM5bbbbpvOo+2KpJUnnXRSWRnxsprUdL6KkKbfQ0WO0u99XilwWSl1+rwShvL4448vK0JWVgpcVk66vPXWW8sf/vCHqf+V4UnHVSSn3GSTTVJbxxxzTLrG/fbbr6wMclkR6bIi2Wk8XI82KhKU3kNFeNNvKgVI37/00kvlG2+8UVYCWVYGJY1JZfTTsZVQpuOcoxKQsnLSZf/+/cu+ffumzxxfEf2yEup0fDtw4IEHlpVh73r35fHOO++UvXv3LitDUw4YMGBonyrHUVYOrKycaXnfffel93WgMoZlFQiluayIXvnwww93ffMpjjzyyHK11VZL/a4LFRktL7jggrIyzmlM9PHuu+8uZ5tttjRm5K9OkK8qmCmrgCz1hX6QrZVWWqn2vpD5vffeu5x44omTXu26665Jz9mByrGn8aoDrvtXv/pVWTmqpGP9+vVLclKR4XKiiSYqr7jiiq4jOwv6Qw9dPztROYWubz6Vow033LDcfvvt0+s6cdRRR5VVIJxsOF2ugodkm6rgOtm2OuCau5sjdjrPEXnuNAYNGlRWDjr1oXLeZRXwlpUDT/bGd3WMhzbYOf5MX1599dWubz79jn/YYIMN2uojvgja3WqrrZI/3nrrrcuKLHd986nv1R99xgHqxE033ZQ4yumnn57k47HHHksytOmmm5YVQe06qh7gDGxcFeQmXW6FOayCvPLss8/u+qQevPXWW8mHG6MqAB9qW+g57kPHhgwZkj4bXXT+XkstqNpL2dCnn3467R4/99xzE9ufffbZi4qMpWylaE5m0X+RExa+7777FpWhSZk1kZ6MqCVvUagMl+Mtc1eGJ0WEFXlMkY6IS7ThPLJN6kMrRUgRWHcQnTl3K/RZRCkzKlqQrRQ1yZA4XmZA9kZ7IqxrrrlmaCZQ1sLtpGQI3AbLn6jHLa9aIaqviFFxyimnpMyh8XAtzqPflZKk65U9c6yMWWs2sSKrKVNjDCvHnY4XSYmymobMmo1t5lk2VMYNXIe5kuERXXU6Y5ChH4svvnjKxOuL7K2+QGUwUymGTIJ+1wWyI3NAlsiLsZDJIdMVWf9cmUonQVdkuswNfTNeNgLOPPPMSaZk6OoE3amCurSSYlzIEB2riE+Sd7pSB2Tb2A42hP6xCVZq9MOKyMILL9x1ZGdB760ayRSzf63zYVWJLMmetNbtdxrarMhemisrDeZJ5ot9JL9seB1wzXmOKgI6dI74gTxHddgZPuLwww9P9puvI790h7+z6sK3dRp8j5UyG3jpcl5RA37M6p5VtE6vSrVCn6pgKe3NoMd/+MMfkn/1564y7Ay5rmN8MipylfauyEDyuewdu+ePTZZprhPsjBUPPtE+EnMFxshtIPmFigCmz+oCP8SH6wOuY6yAr2BzrMS0a3WoVkLqAiwpWUJ56KGHEjFgMAiEZVPCANlo+D/jjDOmzU/SwRdccEG6XRIgEogXhTJRlmCdHxhBgsRZMNow22yzJSMFBJ9ydIdhDZZzWmqQsiYseRmcUlnCZACl1Sm962B8TaDlbW1YtpL6z4rYnUFERAi/1Dc4znVRzHy7J2QWuWZIIJ9HO4RBWxxlXmJAYjiKngDLQjZvWZJW40qwGYLf/OY36XPkvk4gfUinMbOslpUeGTXO7mxQJzhyMtSvX7+hy8/kSUChb4hyXaCDHNk222yTggVkXR8ESuS0LnLRCnqA3CAc+Z7BDLZl6bwpsg7oh4CV3CBcZJfuqfWmh3WBfUBK2SbL93SJTiE9bJuxqRNslY2gSpfYPv2SeCC3gr46A+Pu5gjRyHPUnf1tN7ShD+RVwCSpYFz0wZJnHX0AQTV90Z7l+ywnyujok1K4usF/rrjiisn228jMh2dfYJ7q1CMgJ2yvPRuSW+wdcqxP/GedyQAwV7gK3oAP3HrrrelzuuRuO4Kquv0l8OHsij7gWuSIT8Cz6NiwSbZRRa2ElIKuu+66xVFHHZUyjoipKG147JpznGCCCZLyMHqiJ8bY5qcsKBi7zKLoE2RZ1VYQqtaNTqJVwjeyYFxFKgSCsORzUByZVlka2SNEBtkC/c5/yPQvfvGLVEOK0HYHJNPEZsONWGbkida++tZMnrpDbhMITE+BrK06V/MmW2FOCLU5mnvuuWuNiME8MtTqkR9//PGhwY175AqSOI86gZAaH/VlZFYNsYczkAfylzO4dYD8MIYyPIIbjkwgZK6MUZ3keFiQk+HpUF3IZKJdBnhUQF7IL7uprtZmRs5BkM+5+r5OmBeB+SabbJIytmeeeWbx2GOPJXmpW37BHPlrco6ynAy74lYn+FsrQWpW1dQifbJbbJ5gs245AW0i5vyomkhyq5ZVBpc9toJYJ9g7dc44iYDbvgYJKOOU5bduCLLpN+IpASeos5Fack2yoAnw4QIJJFnga2zwET7KqnXmHaOLWgkpEEhKimBmpR0Rhj0G0RK5ZEExeTJLMpBuJE+gFJDLFJjIbAy1Nyrwe0sLgEhxzBkU3p8+aitnL73OaW3fueYRTZjJpQyZRLYStPw6X3eThGBUwfgozJYdUHYgmBD5iZZ91gRky2WuZfzuuuuuFEzIgjNO7VKuLwtzK6AZOHBgkl+BF2IsE9gEGBmbD20CQUpFx8pi6h6XwPAhCO7bt28K7DhQ8ssmcupNQD9sfBS8cJqWppskY4FPIYFDTiytKqswT5IadZW6DAv+UAZQ1ljQLREjqUR2PUjny3CCdoNfVRI4YMCAxBusPiBgTYGd5QNkHo2R0hNjxGfJIjcBPtzKoXGh4/iKDViSf+3c6PqV8zAIGhKaIynRFcdN8fKfSRNdyK5mQpfJ4sjC7/MyKkeNtHQHfcqZTdGMMoIvC4bbpOa+ti61m3ggpIShyah/VMHIqMmRebNsL5OjdKOueqruYDzV+TJASjyUWyBd7aqFGRnIEhx55JEp2+VuA5bSyHQTBJBjUG/nKWYCPQSdbAq8Aj0Hgty11147zYvsl7pfJLXOEoYMNsq9la00yJLKmLCFTZCLwGchEaMmkS9kXwTfZITdawJkwuoiciMZIEGhXA1BbSIAl+BBRNUdS1DwSUodmvJLGRI17s6At9jJLrst0926elonzBv7ItjkL/lx/9WPtnOsOu7xZBhbl49bXw8PIzqGk0Ya8rKqFDKBzplDZA7h8d5xmbhKL/suZxpz5tT7ES0pGWzKgjQ6btCgQakgO/dRJvTVV19NQqwGRf/U/5188skpUwqOlQETpXZ3bc7NiDMaQFHzuOWaPZkqUW13ApnP2d25ewr0m7KLtA4++OBE8uu4bcWIYM7cwoIjlT1AmJuA7JbbdukPZ0H5Zc1l5OueUxkUm4bIfa5FRFKb6EtPRE8aA+UuMunsnRUHGaZRXQkaHajV1z4nmuv0kdSmVnPMUdPz1JPkhN9wayflFEgpvVYG1xTIqBUzSQqle0rivG8CSgXYfv7JhiEgt7l8rkmokdcn9piPkllukijTbT4cN7FRT1DT7gROxwkpIpjrODk2dYQjIoAU2ZJuNioIX6twcNZS2WoskDTZJTvMLXVSNjvs/UcMLVUQejCh6hdlOG1kyX2wBI8Q6KN2cl+9ZlQRKMrcp0+fJAyUx2RIW4s2ZZNuv/32NFnqY3NKHXFVQiBzYUlNnSvimp07EHz9l+WwTIAQaYPhQGZ9l3fRSuHLiCDY+uY8kPs87Fj5Ph/TE+C6LCdSKssPdgo24TyHhSiUHCGCIsAmQA78mWtF4+6HSmZk2umCz+va7ZnrpgRC9MguYfKtTtHnNn6R4zpBV8m49ulEU6Bj5kl/WsuBmgJbYGMlm0iGOa8msupsjnFhW3P2hI01Ruyr7E7rqk8n0RPmSB/IqrbJa0+RE//5s6aJDbC16lttfpPwqetewsOCrJgryaLBgwenjVZW79jebJMlk5qADc0SJrKkkhVNLddnkB08xEZzOq0WuN0+fIwDK3S9bitMooLck046aejucYppKRspFU0PW6dBMBA45A2RdTySZUKkq/NyFMWyNM8QcpgcpChdsS1iqPbN5Hkt68jBOwYpVdBtEPOueX1gzB2HzDqPfjg35yxK8Z3lXEXFyKvJYHjtVnQdNqQ4xmv/fe9YhhnBsFHFEoUMhpv051v8aIczWXnlldNSPCX1uZoRDtjGABtt/NatnUS6iIl+ulbj43jGRT2mDVb6pd+UiQC1q1D8zjvvTONk5+qoQiaYATLudjX2BEJqbMinpQgBQRNL0+YpF4uTUXMs+iQDbgemhtkmhDqW2cyJ9sgR+UNAlb+YM32jl3RPRr8O0EPE+MILL0wrE+yBObPsV2f5irlgmwS++XYs2pdZyVntJsB+sWVu72MHbhOE1DiwWeSFrbVCRD5k29lbcygD1un5YvcET3mOBFXa9Gc5uK45ojsSEsaEnLCb9Ic/akpOlN0gW+ahyVKpjGz7zZPlcoSrCbAl5NQqAy7BDued/uSZLZQAy9nTOkGXzRs5cis3RLAp+cmQWecD+AQ8q90+vGNPakKIGAQOZFhw+pRzWKKkK6JadaGMS4aLdnzrrkDHIqoILkepHbV3Jq31tgj6IdpxjGwTUud7RhwB1Afn9V80jyRmaBfJBP1hXJAFiu14S2YElbEhKPrEcTHIzs+B+l6bucQg384no7WNfP36KzJDOGV4kWF91gYCqp/aydB/TlGU53oz9JHDQnhGF6PypKbugJDKGpinngDzKljhNFxfEwpvns0p48wICS44UPJGDsgOOaiDLJNBuqQvgirEglHUR3KvDzIsdS35aZc9oOvmyvggGNqvM3jQD32gn3SMnJCZfAeQphyFMWGTBMLZkdYNMkNW2DxBJ1lld3xmNUSmx1877NCIkO3nsHNEXtjIuuaInPA1bLQ2jYk+sMdNyQkILgVQ9LkngB/QJ/6xKYKcZUZySX9wAuSYj0ZI6ZUSB3PYBOi3vknINdWHYYHAW/HohA/v+KNDA18PtIuQBgKBQCAQCAyL+td3AoFAIBAIBAKBFgQhDQQCgUAgEAg0iiCkgUAgEAgEAoFGEYQ0EAgEAoFAINAogpAGAoFAIBAIBBrF53bZuw9XfnZ7IJBx7rnnpluGuGdqIBAIBAKBwOjAvbXd1jDfDu1zhPSqq65K998KBFrhgQDu+9j00yICgUAgEAh89eGBHp6Hnx/o8TlC6mbc3d3MPvC/jV//+tfp5vvrr79+1yeBQCAQCAQCowYPFvHQiOFmSAOB7hA3xg8EAoFAINAptHVTE27r8ZUemfncc8+lxw96rSbV8+s95tOjsL6uyI+A9Ai9l1566TOP8fwiyEp7zJ7n4HuU2fBgjD1a9JBDDikGDhwY9b6BQCAQCAS+8mhbhtQz4O+9997i0ksvTc+B9SxuJMszfdUHIFmex7rPPvuk5wt/HeHZ/b/85S+LE044IT2f/pRTTikWWGCBrm+HD8T1mmuuSWOjZGK//fYrttlmm26f/YzUI6OnnnpqOvdJJ52UnjfeaUSGNBAIBAKBQKfQtgypjVDbbrtt8fjjjxf9+/cvDj300JTB23777dOD+K+77rpETr/OkB1+8MEH0/+nnnqqeOihh7q+GTEQ+EcffTRtHJL9vPHGG4uPP/6469v/Qvb1xBNPLC677LJiqaWWKnbbbbdi2mmn7fo2EAgEAoFA4KuJthDSjz76qDj77LPTEn3v3r3T3xhjjFGMOeaYxTzzzFPsv//+Rd++fYfupPq6YpJJJikWXXTRYoIJJijmnHPOYvHFF+/6ZsQYZ5xxioUXXriYZpppUhZyrbXWSp+1Qrb5/PPPLwYPHpwyqGeeeWa6BdPXNdscCAQCgUDgfwdtYYgyn+of4ZVXXknLzq2YYYYZitVXXz3t0v46Y/zxx0/L7uo6ZYoR8y8D5H2FFVZI9aMypJtttln6rBV2ofXp06e44ooriu22266YfPLJP3dMIBAIBAKBwFcRbakhdTN9JOrOO+9Mmb2111672HHHHYuZZ555aAbv5ZdfTmRLxtQS9auvvjp00w8iJzuIyL377rupHhXciH3KKadM9advvvnm0ON9jowpE7BZSg2ltiaaaKKhJM1lffDBB6kdJNk5LW/70x6C55zatBkJpppqqrRU/sgjjyRSvdBCCyUSrW4zH+N3PpMNtYRued53k046abouv8tD6nxqab137AsvvJCW5Y2R7xyr32OPPXbx9ttvD71uGVbf54yyz19//fXUD+OjffcDdVNZ59K+sfWdtvRRf+CJJ55IbRrfOeaY4zM3oR0ZjE4NqT4p2zBWrsXGNvc0Rapl0ZuAMTP+OXjynlxNPPHEozQ+owvtk3Nyon3j5HYY+tNdLXGnISP/3nvvpbkyf+aJTDUxX3mu6DMYGzpAt+pcdTEOdJzNMCfkhU6aLzXjw65qdBq5L9p3+xQ2RB+nnnrqYqyxxuo6qh606ri+sMPsK9vG5tTVnzxH+qEPw86R/nRav/Xhk08+SX3QFjllv8lxttmd7oO54A/4TG3xw+x33s/BztAjffPXaRgTbWb/aG60yxfn7+g3veLz69BrY0N/2Dp9IKPsrfkxf/TJMewwblGHHTYGmVMYA2OED7DDxkjyz3zynXXYGzLCD1gFB2NEjvz3HRnDmcYdd9zUp9FGNRGjjWqQyq233hoLS3/VQJYzzTRTueuuu5a33HJL+r4Vzz//fLnaaquV1QSn41dZZZWyEoB07JJLLllWZCV9vsYaa5Tvv/9+WRHPdHw+d58+fcp+/fqVq6++elkRrbIajHKdddYpH3300bIapLKavPLFF18sK1Jc9urVqzzqqKPKo48+upx33nnLPfbYo6wMVOrHxRdfXM4111xD+33ooYeWa665ZlkZrbKa9HL55Zcv77333nLhhRdO7x1TGfty0KBBZUUA0+979+5d9u3bt7zhhhvKE044oZxhhhmGnu+ss85K7VSEuNx8883LGWecsTz44IPLY445Jl1PZSDL22+/Pf0tscQSZaWk6XfrrrtuWU1y+m1lPMrTTz+9rMhxGqdTTz213HjjjdP4Dhw4sKyMflkpTXndddel6/N74+eYLbfcMn1mfCrhLddff/2yIvDpvCOLAw88MF3fqKAS2vKII44od9ttt/KUU04pjzzyyHK55ZYrzzvvvLIS9K6j6gP5uO+++9L4HHLIIalP22+/fbnJJpuUTz/9dNdR9UF/tLvvvvsm+TjjjDPSa3NINsxvnSAj+kF/jM2AAQPKKshM8lx3X+D+++9PtuTwww8vTzvttHKnnXZK+sQuGLs64Loff/zx8rDDDisXWWSRcpdddilPPvnksgryyjnnnLO85557uo7sPCrCNbQviy++eLKFxx9/fFkF5mUVcJcPPfRQ15H1gM296667yn322SeNzXHHHZfkZ/rpp0/2vAqKu47sLMhCHhc2Oc/R3HPPPXSO6pCXZ599Ntn4pZZaquzfv3955plnlvPNN185yyyzlIMHD07j1WlUBDjZbPK5wAILlJdccknyKdp+5plnkv6svPLKSbfqgHbZ3LXWWquceeaZy4022qh8+OGH0+fk+dprr00+8YADDhjq+zqNivyluVlwwQWTb9Z25gYV+UtzSL/OP//85IfrAJvG7hsjXGTIkCHp8yrASD6eTO28885pfuuA68ZzyBCus/feeyfOURHmNH541QorrJDGsR1oSxgigqgEbOgGG+xeNtCOcxm1yrmmrGMlfOn7ylCl+sdWhi9jpv5y6aWX/sznooSKNBaVsKb3zv3hhx8Wiy22WFERzaIaoHTMlVdeWVTELTF50eE555yT3isX+MlPfpIyuLKOlUMrrr/++nSuZZZZJtW25qyq5XB3ArA07px2zXu9xRZbDI0i9VPbMqQyqLPOOmux1157FRXBKlZaaaW0TN8a/bpmm5TcfUD7Msc2eum3SFDUpQ2blIbNIlTGs6iIblGR6DSelYAWlSFJm8dkRCtiV1TCkqI4S/7LLrvs0N+JyCtCnY6pyG4aEzv5bbqqG8bbjfVdf+6/TJs7BMic1w2RJtm5+uqr05hWxDSVlLhLhE1jouM6YW4uuOCCJMPmkKxuuOGGqQzGI1tlNOpClrnKGKfsvbEh//SBLJGrOiHbpS+VM0v6RX70x2pM5WSTLagLdN/1s2X0yJhUZDA9aURWsC6wL2yFvtxxxx2pdp8d0Re16Oxx3dC+lZiKZKS5YXdtbq3IYMqe1IXu5ojM5Dlqtc2dgj7IctnU6o89oUfssIxtHX2QraIvZMF48Gtkhq+zWiZT7PuKKHf9orPQLj/HzvJdxsSKi8/5Atwh97muVRjZ2RVXXDH5JbY2rwKBFRj2T3bfvNWlU1Z7Pb1IplQ2dLbZZkufm6/pppsu/ecfZNrrgOs2J/POO29aCSdDMrZkWNbd2Bkn/KUdaAsh1TnChgTOP//8yQgA54ZIuf3R7rvvnowVQul4SjusYnrvgvPvW5FJqmMoVBWJp/9IlyUqAo74cN4MI6LGWTGMBC0LmyUDjl8/tOO8uR8GGvmrWH9yvv47BvFUauA4k3Lrrbem491r1TnzrZ0ol+tqBYfqOKTDzvuLLroo9ZWhRk7zMkp348GQINWMG+Wporh0LOXVrnS587leyGPkGIaGspkPG6z0zXioU60bSDnhNV95zJUcKLfwVzeqQCzNASNt/I27AEO/zJG5qhP6Y4wY5Bz4mG/Oy9zW3R8BjvYFW8aGUbKUZQnW8med0L6xIS+chPecBH2hi3URUoTLeLBz5IS8eGrZ1ltvncpZfFcXXLv2BNPGgy1YZZVVUvDPZrETdYJtkTRga/SNUxXoCTwF3vS+DrAteY6Q4DxHyGCdcyThkgmwpV7BJRJx8MEHJ1tszjoNY4EoSPAgNrfcckvXN5/u82D/kENzVxf0ScDNXz755JPJtvHDeILX9Jq/rmN8Mti1TTbZJBE9QS+fCvrFzyNafERdYGfIDgLIFz3//PPpcz7CvhRld5mk1gX2TlCHHymTlNABMkSWcBm61g60rVCDITKQsoEDBgxIzNngAlJ21113FSeffHJbHIi2nJvgcuAEGXLNm5vSI3Pgxvx2pLsLgMHzW8KfawdbhV92waAb4J133rlYcMEF0/cIL8FkYDjHCy+8MNWXiMAp14h2uiPCJkt/CTunseqqq6YsgqwvowHdKaHryJvFGFgkAQiIfhJS1+K6IZ/Df8czAF5TtvyduagbhJkBEjyo16H4lAvxqZtsAQMjKCGT5lTEbj7UE8mw61edQPgOO+yw4qabbkp6ow/6Zm6NF5mrCxzUVlttlWRP0EdfZZs87EGtUK4lqgv0x+oCneM8BGdWMswV2alzbOiQ8fHfPNF7usUGsSt1Q5v6YlwEL/pCtrPdrRN5bPTJ2PivP4KIOvuT+8H25TmS5Mhz5Ps6kOVE3ao+kGN98L+uPrAr/Bb/M2jQoKQ7/CO/hZzXSbQyyKk9Jmzu3XffnfwRG/f0008Xs8wyS/q+TpgLgR3fn2/VyK8Kdq08IPRkqS7oD7k1b8ZGkg85FlTwoe7c04R+kxeZYr5AUkufrCBLUghGyXU70JaRRu5sHgIGSDYUMd1ll11StE45XcA999zTdodmAhE0MIGECVnkPMGAIYL6SOgOOOCAdNP57hzI8AaVYfXbHOkTDMu90ur5FlfDg3bWWGONJPTOg+zcfPPNKTo96KCDkqAND5SWsoI2cjv+5/4bz3ytPRXm5LXXXiuuuuqq4thjj01kJxPxpkBWzKNA5ayzzkpjWrcxzDA+ok2ZdI5DOYF55cyaAKcloCPjxx9/fFrl4NTqNMytIN8CGKsFglp9EZAFAoERQzZNtk2m7bbbbkuBnMSMFb8mwM7KYFt+FoAjyVbJ+DqJoCZsjOSNIFzwLTGBK+AvMv51LY23gm9Xvmgl1D3HzReCjIg25Tf1SXabr5I5xmPYZCsA7VwBacvs65ilopxZIlQYtUypGjhL3oij5XTOrt3IWRKRsHYIWCZvnLobyLsdU/5TwzmyNV+9evVKGVPnpURqUUW86kC1OSJYGvb0pgMPPDCNBWJqLNTGEbjhQR8zSUbo/eXX+ZoJShMR08hAqcaee+6Zbv6/6aabpnrjumpyugOyh9zIVgtmLC3KBrYryhtZ0Bv1ve4vC+RVNpmc1A2yZb522GGHlMGw5LnBBhsMLW2oG+TcCocHbViatnJhJaany3wg0BMgcLMSx0+oU7fk6nXdZR0ZbAifaR8GkixJZcXMZzKDTcF+EmRPX2SQH3jggWLddddtLAiXLZaRREStCMnWKmdAAJuAcRDEKBlQGqlfApwvWiEeWbRltLFmTsygtQJ5E2VYoubsKUcmiu2C7EmuaZDhcn7CnQmP9LKMaSuQwUzuviyQQxuXEBjZLFlXtVJfRGyRn4svvjg5UM7UphmEQ5mBLN2InubkOpBeQFq0m1/nrCgBzUv5PREyvEcccUTKRho/AUITxKYVQ4YMSZk/8uIhBGSFDDcFWfzjjjsuza8lIgFVUxBsIYD02SYZ0a+xaWp82BSBmzmyykD/6G6T8xUIfFXA1iJ/MqXIllUPxK8pYgN0WQbQfytCypMEmU0lBAA3sXkH0WL/1PM3RdqBndMf/5UrSfohqU0kKYAcqeM3b/YRWKmSSVYT3U60jf4jaDKi3dWIZvJn6SA7W8KYBxdp44wRLReZs3/dOR7vHZPbsfxLiLLiYeuUL280UocnO+n8fosYybbkpfLW8+cMb3cQIchuiqK05f/ss8/+hQTbOS0DiCYonCX+nXbaKW04EqnmOp7uHKzMqsgNjBGyAEoF1I36vcye5Q9oPceXeV0HzJW6E/V+5szYGRNL+PpSd39AXTF5VQOT59zY6l8TfRIwWa4XKJF9Y4TIW14b2cBpdCG4s0RvLPQHzJ3xsbpR99ioXbVkRf5b54oONDFXub2656U71H3tXwZNzMmwyH1oco7yGDQ9FqDExSoH3ZagsdrXJPnjS3EBvpBf9N7rpiEjqeTQnSu85l+bhI3JOIfaVnNX94avYYEcI6SSZFaIBRHtLp1qGyE1UNdee22qzyT0BpDD51AsS6sbsVQum+dYOxExfsIocnMrF0RNNCBzSBgQB2Qu11FmmCBZE9GVrCMHRaBldGQsDZjdr87Pibr9lPaRQE85QuIMJFKnjUyARSH5ZrjdgWLn5Wa3Zmit8dOOWhhEJxshhdr67noOP/zwVHuhTfUyiJrsk/pS46RmL7erHtcxBEB/ZYacwxKq/lFiDlldq+t0vc6RN0A5j+tyjHZ8nq/RuUdUt9pumG/E2vWYM9lSS+TGhYy4dY9NK8Mb804g79hWQuCuCna/qiM1h4Ib0d+IMtfthk0psuHkz+amgQMHpvpiQZSA6tRTT001TXVA1lhfzI8yC/WsxofcGB81t3X1BQRbsjlk39joi8BXeY7sKcOYiXMngdzQJTpuXgTCdJ1e1k069IUOkw2v9UmWvYm+gD6wwTInghe2h27XqdPg2rubI6tJdY4LeTQf2hVMsX3GpYm5AT6Wn1FGZ9m1aWIDMpBWzPjhddZZp7HMXytkRPlaWT8bdZqG5B1fKWmViWCTIDN4llVv9a3mr91yNMaBChtHExQO0dJBrzkP9SEcLLLhItyr00RTDhfB8akJo7SEkbPzfU7l+y86MBmWGBgX5/JbRMw5FUVTdAST85QhRWS1YcBkSp3X+XyGQKqNE/1YQrfJhvGkoMirbCdDiiwPbylenxkbtZCUKoMRshwiq4WAOR9ok3FEghAgfzY1MU6W7mVyEXIEyHX6HbJEUfXfOLmli/67ZyeyL8tLcdzKxDi4xssvvzwRYEqV23YOBlmb+RrBOfVxZCAwkH0e2fvWicT1icMyV94LPuwWRMK9N2/IeV1GUmChXf2ReTM2bg1jvMyj8dcn/+uAcSXnSAb5Q+IFb8bEe/qhtKCO0gxGkIwLZoyPOVlvvfVSNOwz5IMM0JE6oC/6ZGzMjXbd15ieC8JsOmAPENROgg5bWlTKIIAwJ2SHk0CY65JdECyovXPfXNdPn32mDIgM19kXMDbqygQI7J3gl103d3WWE7GD7JQ5Mi95joxJnTXQ999/f5IV1873kF2v2Z265yZD+3wOn5r9QJMwDuYF2JdO6++XAZ/ArvC7uEhPqFOn03RJHXBd/mhEME+4CBniw9uNtjw6lNOkdBwoAyAqREAYBErISHWX/ubc/BZpYjAYdkuFLpiTblXeiy++OBUZ+0xNqqwnR8VJ5sexdQeTKXIXresHojk6RkGfLTcjowT4i8BIGousfMgsA25cOJIv2xftGmPEn2ByinVidB8dikyYC46CovvM9bj+0Z2TUYF5MZbm0HhqP3/mfd0GUtuyO2Q/kwqO3RjRhbr7o11zhlRkw0xXBW3ktk4YG20bgywr9FkfOfye4MwCgZ4Ovpku9xR9odf8fd32ZETgo/gm3KVunzQ84DjsXLv334wqJCrwEX6p3WgLIa0DrYRUxtDtg9wfNFAPRoeQBgKBQCAQCIwIzdzTYBQgqwj4s6hKJBMIBAKBQCAQ+OqjxxNSaX27tGVILen7U8zvPpJ2AwcCgUAgEAgEvtro8Uv2ahXUgKrb9LoVNi418SSF/0XEkn0gEAgEAoFO4StTQxpoFkFIA4FAIBAIdApfmRrSQCAQCAQCgcDXE5/LkHqOq/tdBgKtIBdus+W+p4FAIBAIBAKjA0+79MAGtzuEzxFST0p64IEHut4FAoFAIBAIBALthadnelBRvsdq1JAGAoFAIBAIBBpF1JAGAoFAIBAIBBpFENJAIBAIBAKBQKMIQhoIBAKBQCAQaBRBSAOBQCAQCAQCDaIo/h8BUOk2EFFTzAAAAABJRU5ErkJggg==)\n",
        "\n",
        "Obtener la matriz de confusion, los valores de precisión, recall (sensitibity), F1, así como el accuracy, y macro y weighted average por clase."
      ],
      "metadata": {
        "id": "kM6QLBCdND2S"
      }
    },
    {
      "cell_type": "markdown",
      "source": [
        "## Matriz de confusión\n",
        "\n",
        "| Clase              | Real \"a\" | Real \"r\" | Real \"v\" |\n",
        "|--------------------|----------|----------|----------|\n",
        "| **Predicción \"a\"** | 2        | 1        | 1        |\n",
        "| **Predicción \"r\"** | 1        | 3        | 0        |\n",
        "| **Predicción \"v\"** | 2        | 1        | 4        |"
      ],
      "metadata": {
        "id": "paKHuaOVNydJ"
      }
    },
    {
      "cell_type": "markdown",
      "source": [
        "## Medidas\n",
        "\n",
        "| Clase | Predicciones | Datos Reales |\n",
        "|-------|--------------|--------------|\n",
        "| **\"a\"** | 4          | 5            |\n",
        "| **\"r\"** | 4          | 5            |\n",
        "| **\"v\"** | 7          | 5            |"
      ],
      "metadata": {
        "id": "iowIkn7OJOXj"
      }
    },
    {
      "cell_type": "markdown",
      "source": [
        "## Falsos/Verdaderos - Positivos/Negativos\n",
        "\n",
        "| Predicción | TP | TN | FP | FN |\n",
        "|------------|----|----|----|----|\n",
        "| **\"a\"**    | 2  | 8  | 2  | 3  |\n",
        "| **\"r\"**    | 3  | 9  | 1  | 2  |\n",
        "| **\"v\"**    | 4  | 7  | 3  | 1  |"
      ],
      "metadata": {
        "id": "nknOz-FHJTsO"
      }
    },
    {
      "cell_type": "markdown",
      "source": [
        "## Métricas de evaluación\n",
        "\n",
        "| Clase     | Precisión | Recall | F1-Score | Accuracy |\n",
        "|-----------|-----------|--------|----------|----------|\n",
        "| **\"a\"**   | 2/4       | 2/5    | 4/9      | 10/15    |\n",
        "| **\"r\"**   | 3/4       | 3/5    | 2/3      | 12/15    |\n",
        "| **\"v\"**   | 4/7       | 4/5    | 2/3      | 11/15    |\n",
        "|**Decimales** |        |        |          |          |\n",
        "| **\"a\"**   | 50%       | 40%    | 44.44%   | 66.66%   |\n",
        "| **\"r\"**   | 75%       | 60%    | 66.66%   | 80%      |\n",
        "| **\"v\"**   | 57.14%    | 80%    | 66.66%   | 73.33%   |\n",
        "\n",
        "- *Macro-Average:* 60.71%\n",
        "- *Weighted Average:* 60%"
      ],
      "metadata": {
        "id": "l9Z-42wYJakL"
      }
    },
    {
      "cell_type": "markdown",
      "source": [
        "## Código de verificación"
      ],
      "metadata": {
        "id": "knHeHzVRJl8V"
      }
    },
    {
      "cell_type": "code",
      "source": [
        "# Verificación en código:\n",
        "import numpy as np\n",
        "\n",
        "# Datos de la máquina:\n",
        "predictions = [\"v\", \"v\", \"a\", \"a\", \"r\", \"r\", \"v\", \"a\", \"r\", \"r\", \"v\", \"v\", \"a\", \"v\", \"v\"]\n",
        "reals = [\"a\", \"a\", \"a\", \"a\", \"a\", \"r\", \"r\", \"r\", \"r\", \"r\", \"v\", \"v\", \"v\", \"v\", \"v\"]\n",
        "classes = [\"a\", \"r\", \"v\"]\n",
        "\n",
        "# Diccionarios para contar los TP, TN, FP, FN:\n",
        "tp_dict = {iclass: 0 for iclass in classes}\n",
        "tn_dict = {iclass: 0 for iclass in classes}\n",
        "fp_dict = {iclass: 0 for iclass in classes}\n",
        "fn_dict = {iclass: 0 for iclass in classes}\n",
        "\n",
        "# Contando los TP, TN, FP, FN:\n",
        "for iclass in classes:\n",
        "    for prediction, real in zip(predictions, reals):\n",
        "        if prediction == iclass and real == iclass:\n",
        "            tp_dict[iclass] += 1\n",
        "        elif prediction != iclass and real != iclass:\n",
        "            tn_dict[iclass] += 1\n",
        "        elif prediction == iclass and real != iclass:\n",
        "            fp_dict[iclass] += 1\n",
        "        elif prediction != iclass and real == iclass:\n",
        "            fn_dict[iclass] += 1\n",
        "\n",
        "# Resultados:\n",
        "for iclass in classes:\n",
        "    print(f\"Clase \\\"{iclass}\\\":\")\n",
        "    print(f\"TP: {tp_dict[iclass]}, TN: {tn_dict[iclass]}, FP: {fp_dict[iclass]}, FN: {fn_dict[iclass]}\\n\")"
      ],
      "metadata": {
        "colab": {
          "base_uri": "https://localhost:8080/"
        },
        "id": "IUhO8mNYjHGq",
        "outputId": "f6d020d5-fe40-4da6-cdc6-b7e8da69774a"
      },
      "execution_count": 61,
      "outputs": [
        {
          "output_type": "stream",
          "name": "stdout",
          "text": [
            "Clase \"a\":\n",
            "TP: 2, TN: 8, FP: 2, FN: 3\n",
            "\n",
            "Clase \"r\":\n",
            "TP: 3, TN: 9, FP: 1, FN: 2\n",
            "\n",
            "Clase \"v\":\n",
            "TP: 4, TN: 7, FP: 3, FN: 1\n",
            "\n"
          ]
        }
      ]
    },
    {
      "cell_type": "markdown",
      "source": [
        "# [02]\n",
        "A partir de los siguientes clústers, calcular sus purezas.\n",
        "\n",
        "![image.png](data:image/png;base64,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)\n"
      ],
      "metadata": {
        "id": "mv0xfUr6ryCt"
      }
    },
    {
      "cell_type": "markdown",
      "source": [
        "## Conteos\n",
        "\n",
        "*Número de elementos en cada clúster*:\n",
        "* n1 = 6\n",
        "* n2 = 6\n",
        "* n3 = 5\n",
        "\n",
        "*Clase mayoritaria en cada clúster*:\n",
        "* C1[\"x\"] = 5\n",
        "* C2[\"o\"] = 4\n",
        "* C3[\"☗\"] = 3"
      ],
      "metadata": {
        "id": "zLHmnYjSsyZ_"
      }
    },
    {
      "cell_type": "markdown",
      "source": [
        "## Purezas\n",
        "*División del mayoritario y cantidad*:\n",
        "* Para C1: 5/6: <u>83.33%</u>\n",
        "* Para C2: 4/6 = <u>66.66%</u>\n",
        "* Para C3: 3/5 = <u>60%</u>"
      ],
      "metadata": {
        "id": "7oJdLUOTJx9G"
      }
    },
    {
      "cell_type": "markdown",
      "source": [
        "# [03]\n",
        "A partir de los siguientes datos de entrenamiento:\n",
        "\n",
        "- X_train = [0, 1, 1.5, 3, 3, 3.5, 5]\n",
        "- y_train = [0, 2, 2, 3, 2.5, 4.5, 6]\n",
        "\n",
        "Estimar la recta de regresion que minimice el error cuadrático medio usando el algoritmo de Least-Squares (notese que b = 0). Evaluar el modelo usando MSE obtenido en los siguientes datos:\n",
        "- X_test = [2.5, 4, 6]\n",
        "- y_test = [3.5, 4.8, 8]"
      ],
      "metadata": {
        "id": "S5TSoAPevNjg"
      }
    },
    {
      "cell_type": "markdown",
      "source": [
        "## Graficando la distribución"
      ],
      "metadata": {
        "id": "ShB1AjNRxkd5"
      }
    },
    {
      "cell_type": "code",
      "source": [
        "# Librerías mecesarias:\n",
        "import numpy as np\n",
        "import matplotlib.pyplot as plt\n",
        "\n",
        "# Datos de entrenamiento:\n",
        "X_train = np.array([0, 1, 1.5, 3, 3, 3.5, 5]).reshape(-1, 1)\n",
        "y_train = np.array([0, 2, 2, 3, 2.5, 4.5, 6])\n",
        "\n",
        "# Datos de test:\n",
        "X_test = np.array([2.5, 4, 6]).reshape(-1, 1)\n",
        "y_test = np.array([3.5, 4.8, 8])\n",
        "\n",
        "plt.scatter(X_train, y_train, c=\"red\", label=\"Entrenamiento\")\n",
        "plt.scatter(X_test, y_test, c=\"green\", label=\"Test\")\n",
        "plt.title(\"Distribución de puntos\")\n",
        "plt.xlabel(\"x\")\n",
        "plt.ylabel(\"y\")\n",
        "plt.legend()\n",
        "plt.show()"
      ],
      "metadata": {
        "colab": {
          "base_uri": "https://localhost:8080/",
          "height": 472
        },
        "id": "fguug1v1wf6D",
        "outputId": "e2c86818-e07a-4ae4-8da1-eaa05684f79f"
      },
      "execution_count": 62,
      "outputs": [
        {
          "output_type": "display_data",
          "data": {
            "text/plain": [
              "<Figure size 640x480 with 1 Axes>"
            ],
            "image/png": "[encoded data removed]"
          },
          "metadata": {}
        }
      ]
    },
    {
      "cell_type": "markdown",
      "source": [
        "## Regresión Lineal Simple"
      ],
      "metadata": {
        "id": "xtSgrdj0x_94"
      }
    },
    {
      "cell_type": "markdown",
      "source": [
        "Estimación los parámetros por Mínimos Cuadrados:\n",
        "\n",
        "$\\boldsymbol{\\theta} = (\\mathbf{X}^\\top \\mathbf{X})^{-1} \\mathbf{X}^\\top \\mathbf{y}$"
      ],
      "metadata": {
        "id": "oQdrMktmsUti"
      }
    },
    {
      "cell_type": "code",
      "source": [
        "# Para Regresión Lineal Simple, el valor de \"theta\" (W), es sólo uno:\n",
        "theta = np.linalg.inv(X_train.T @ X_train) @ X_train.T @ y_train\n",
        "print(\"Valores de θ:\", theta)"
      ],
      "metadata": {
        "id": "8jROt96TXjE5",
        "colab": {
          "base_uri": "https://localhost:8080/"
        },
        "outputId": "fe7227bf-4ced-4e05-b10f-e28fe0574530"
      },
      "execution_count": 63,
      "outputs": [
        {
          "output_type": "stream",
          "name": "stdout",
          "text": [
            "Valores de θ: [1.14957265]\n"
          ]
        }
      ]
    },
    {
      "cell_type": "markdown",
      "source": [
        "Función de costo: Error Cuadrático Medio:\n",
        "\n",
        "$E(\\boldsymbol{\\theta}) = \\frac{1}{n}\\sum_{i=1}^n (f_{\\boldsymbol{\\theta}}(\\mathbf{x}'^{(i)}) - y^{(i)})^2$"
      ],
      "metadata": {
        "id": "fDU7weoEr-vj"
      }
    },
    {
      "cell_type": "code",
      "source": [
        "# Retorna el Error Cuadrático Medio con base en predicciones y datos reales:\n",
        "sse = lambda y_real, y_predicted: ((y_real - y_predicted)**2).mean()"
      ],
      "metadata": {
        "id": "CPmLWQ-wXhLB"
      },
      "execution_count": 64,
      "outputs": []
    },
    {
      "cell_type": "markdown",
      "source": [
        "Realizamos predicciones en conjunto de prueba:"
      ],
      "metadata": {
        "id": "6CJ2ClkstZ66"
      }
    },
    {
      "cell_type": "code",
      "source": [
        "# Hace predicciones con el set de test y la \"theta\" calculada:\n",
        "predictions = X_test @ theta\n",
        "print(predictions)"
      ],
      "metadata": {
        "id": "KpltSlAQYFaY",
        "colab": {
          "base_uri": "https://localhost:8080/"
        },
        "outputId": "a62aa312-11b2-4d04-ba8b-392c69cb8599"
      },
      "execution_count": 65,
      "outputs": [
        {
          "output_type": "stream",
          "name": "stdout",
          "text": [
            "[2.87393162 4.5982906  6.8974359 ]\n"
          ]
        }
      ]
    },
    {
      "cell_type": "code",
      "source": [
        "# Compara las predicciones y los valores reales:\n",
        "print(\"Predictions:\", predictions)\n",
        "print(\"Real values:\", y_test)"
      ],
      "metadata": {
        "colab": {
          "base_uri": "https://localhost:8080/"
        },
        "id": "_7jXdtFn3GEj",
        "outputId": "cf75f4dd-58cf-4231-b9b7-71fdeaab088b"
      },
      "execution_count": 66,
      "outputs": [
        {
          "output_type": "stream",
          "name": "stdout",
          "text": [
            "Predictions: [2.87393162 4.5982906  6.8974359 ]\n",
            "Real values: [3.5 4.8 8. ]\n"
          ]
        }
      ]
    },
    {
      "cell_type": "markdown",
      "source": [
        "Calcula el error cuadrático medio entre los valores reales y los valores predichos:"
      ],
      "metadata": {
        "id": "HZerGMFdtn15"
      }
    },
    {
      "cell_type": "code",
      "source": [
        "ECM = sse(y_test, predictions)\n",
        "print(\"Error:\", ECM)"
      ],
      "metadata": {
        "colab": {
          "base_uri": "https://localhost:8080/"
        },
        "id": "wxKo81cGtx3S",
        "outputId": "f9c055a9-19a8-4eee-cd65-2c700db5dfa3"
      },
      "execution_count": 67,
      "outputs": [
        {
          "output_type": "stream",
          "name": "stdout",
          "text": [
            "Error: 0.5494319648379483\n"
          ]
        }
      ]
    },
    {
      "cell_type": "markdown",
      "source": [
        "## Gráfica de Regresión"
      ],
      "metadata": {
        "id": "PajoGf4j3v7q"
      }
    },
    {
      "cell_type": "code",
      "source": [
        "# Gráfica de los puntos y la regresión:\n",
        "plt.scatter(X_train, y_train, c=\"red\", label=\"Entrenamiento\")\n",
        "plt.scatter(X_test, y_test, c=\"green\", label=\"Test\")\n",
        "xrange = np.linspace(0, 6, 100)\n",
        "line = xrange.reshape(-1, 1) @ theta\n",
        "plt.plot(xrange, line, label=\"Línea de regresión\", color=\"blue\")\n",
        "plt.title(\"Regresión Lineal Simple\")\n",
        "plt.xlabel(\"x\")\n",
        "plt.ylabel(\"y\")\n",
        "plt.legend()\n",
        "plt.show()"
      ],
      "metadata": {
        "colab": {
          "base_uri": "https://localhost:8080/",
          "height": 472
        },
        "id": "tjADOqjA30le",
        "outputId": "d350f339-f875-4332-de63-61c405b3cda0"
      },
      "execution_count": 68,
      "outputs": [
        {
          "output_type": "display_data",
          "data": {
            "text/plain": [
              "<Figure size 640x480 with 1 Axes>"
            ],
            "image/png": "[encoded data removed]"
          },
          "metadata": {}
        }
      ]
    },
    {
      "cell_type": "markdown",
      "source": [
        "🛑 El **Error Cuadrático Medio es alto** muy probablemente gracias a que **el último punto de test** (verde) está alejado de la línea ajustada por los puntos de train (rojos). Si quitamos ese punto, podrémos ver que el error se reduce..."
      ],
      "metadata": {
        "id": "eIsmYmhd53i-"
      }
    },
    {
      "cell_type": "code",
      "source": [
        "# Nuevo cálculo del error sin el último punto de test:\n",
        "last = len(X_test) - 1\n",
        "X_test_new = X_test[:last]\n",
        "y_test_new = y_test[:last]\n",
        "\n",
        "predictions_new = X_test_new @ theta\n",
        "ECM = sse(y_test_new, predictions_new)\n",
        "print(\"Error:\", ECM)"
      ],
      "metadata": {
        "colab": {
          "base_uri": "https://localhost:8080/"
        },
        "id": "4ObR8v7r6UKi",
        "outputId": "7da07b88-bb34-4c3b-904e-df913ccdd759"
      },
      "execution_count": 69,
      "outputs": [
        {
          "output_type": "stream",
          "name": "stdout",
          "text": [
            "Error: 0.21632414712542947\n"
          ]
        }
      ]
    },
    {
      "cell_type": "markdown",
      "source": [
        "# [04]\n",
        "Demostrar que la divergencia KL:\n",
        "\n",
        "$D_{KL}(p \\parallel q) = \\mathbb{E}\\left[ p(x) \\log\\left(\\frac{p(x)}{q(x)}\\right) \\right]$\n",
        "\n",
        "es siempre mayor a 0 y solo igual a 0 si *q(x) = p(x)* para toda x.\n",
        "\n",
        "Recordando que *p(x)* es una distribución que queremos aproximar con *q(x)*."
      ],
      "metadata": {
        "id": "fQxSSvwZ7K90"
      }
    },
    {
      "cell_type": "markdown",
      "source": [
        "## Demostración"
      ],
      "metadata": {
        "id": "UV4-nSGj-Ydi"
      }
    },
    {
      "cell_type": "markdown",
      "source": [
        "### Caso p(x) = q(x)\n",
        "\n",
        "$p(x) = q(x) \\text{ siempre que } q(x) \\neq 0$ tenemos que por la propiedad $\\frac{a}{a} = 1$:\n",
        "\n",
        "$\\mathbb{E}\\left[ p(x) \\log\\left(\\frac{p(x)}{q(x)}\\right) \\right] = \\mathbb{E}\\left[ p(x) \\log\\left(1\\right) \\right]$\n",
        "\n",
        "y por la propiedad $\\log(1) = 0$, entonces:\n",
        "\n",
        "$\\mathbb{E}\\left[ p(x) \\cdot 0 \\right]$, por ende:\n",
        "\n",
        "$D_{KL}(p \\parallel q) = \\mathbb{E}\\left[ p(x) \\cdot 0 \\right]$\n",
        "\n",
        "$D_{KL}(p \\parallel q) = \\mathbb{E}\\left[ 0 \\right]$\n",
        "\n",
        "$D_{KL}(p \\parallel q) = 0$\n",
        "\n",
        "<br>\n",
        "\n",
        "Por ende, concluímos que:\n",
        "\n",
        "$p(x) = q(x) \\iff q(x) \\neq 0$:\n",
        "\n",
        "$D_{KL}(p \\parallel q) = 0$\n"
      ],
      "metadata": {
        "id": "bNmHoPav-cD-"
      }
    },
    {
      "cell_type": "markdown",
      "source": [
        "### Caso p(x) ≠ q(x)\n",
        "\n",
        "Partiendo de otra manera de escribir la Divergencia KL:\n",
        "\n",
        "$D_{KL}(p \\parallel q) = \\mathbb{E} \\left[ p(x) \\cdot \\log\\left(\\frac{p(x)}{q(x)}\\right) \\right]$\n",
        "\n",
        "y aprovechando la propiedad de los logaritmos:\n",
        "\n",
        "$\\log\\left(\\frac{a}{b}\\right) = \\log(a) - \\log(b)$,\n",
        "reescribimos como:\n",
        "\n",
        "$D_{KL}(p \\parallel q) = \\mathbb{E}\\left[ p(x) \\cdot \\left[\\log(p(x)) - \\log(q(x))\\right]\\right]$\n",
        "\n",
        "$\\mathbb{E}\\left[ p(x) \\cdot \\left[\\log(p(x)) - \\log(q(x))\\right] \\right]$\n",
        "\n",
        "Distribuímos:\n",
        "\n",
        "$\\mathbb{E}\\left[ p(x)\\log(p(x)) \\right] - \\mathbb{E}\\left[ p(x)\\log(q(x)) \\right]$\n",
        "\n",
        "Ahora representamos la Divergencia como una resta de dos términos:\n",
        "\n",
        "🛑 Ahora, notemos que podemos expresar la Divergencia KL como la resta de dos términos (Término 1 - Término 2):\n",
        "\n",
        "- Término 1: $\\mathbb{E}\\left[ p(x)\\log(p(x)) \\right]$\n",
        "\n",
        "- Término 2: $\\mathbb{E}\\left[ p(x)\\log(q(x))\\right]$\n",
        "\n",
        "Para que la divergencia sea siempre mayor que 0, debemos asegurarnos que el Término 1 sea siempre mayor al Término 2, pues se trata de una resta.\n",
        "\n",
        "Entonces:\n",
        "\n",
        "$D_{KL}(p \\parallel q) > 0 \\iff \\mathbb{E}[ p(x)\\log(p(x))] > \\mathbb{E}[ p(x)\\log(q(x))]$\n",
        "\n",
        "cuando *p(x) es distinta de q(x)*...\n",
        "\n",
        "<br>\n",
        "\n",
        "**UTILIZANDO UNA PROPIEDAD DE LA DESIGUALDAD DE JENSEN QUE EXPLICA QUE...**\n",
        "\n",
        "Si **f(x) : R → R** es una función convexa tal que las variables X y f(x) tienen esperanza, entonces:\n",
        "\n",
        "$f(\\mathbb{E}(x)) ≤ \\mathbb{E}[f(x)]$\n",
        "\n",
        "Si la función es cóncava, la desigualdad se invierte:\n",
        "\n",
        "$\\mathbb{E}[f(x)] ≤ f(\\mathbb{E}[x])$\n",
        "\n",
        "Si la función ***f(x) = log(x)***, que es una función cóncava, ya que la segunda derivada de log(x) es negativa para todos los valores positivos de x.\n",
        "\n",
        "Por lo tanto:\n",
        "\n",
        "$\\mathbb{E}[\\log(x)] ≤ \\log(\\mathbb{E}[x])$\n",
        "\n",
        "Consultar en (https://webs.um.es/joseori/documentos/docencia/ce1.pdf), página 8.\n",
        "\n",
        "<br>\n",
        "\n",
        "**APLICANDO LA PROPIEDAD DE LA DESIGUALDAD DE JENSEN A LA DESIGUALDAD QUE TRATÁBAMOS DE PROBAR, CON LOS TÉRMINOS 1 Y 2...**\n",
        "\n",
        "$\\mathbb{E}[ p(x)\\log(p(x))] > \\mathbb{E}[ p(x)\\log(q(x))]$\n",
        "\n",
        "<br>\n",
        "\n",
        "*Para el Término 1:*\n",
        "\n",
        "$\\mathbb{E}[p(x)\\log(p(x))] ≥ log(\\mathbb{E}[p(x)])$\n",
        "\n",
        "<br>\n",
        "\n",
        "*Para el Término 2:*\n",
        "\n",
        "$\\mathbb{E}[p(x)\\log(q(x))] ≥ log(\\mathbb{E}[p(x)])$\n",
        "\n",
        "<br>\n",
        "\n",
        "Se nota que ambos términos son mayores o iguales a $\\log(\\mathbb{E}[p(x)])$\n",
        "\n",
        "por ende, como\n",
        "\n",
        "$ a - a = 0$;\n",
        "\n",
        "$\\log(\\mathbb{E}[p(x)]) - \\log(\\mathbb{E}[p(x)]) = 0$;\n",
        "\n",
        "Regresamos a la fórmula de Divergencia:\n",
        "\n",
        "$D_{KL}(p \\parallel q) = \\mathbb{E}[ p(x)\\log(p(x))] - \\mathbb{E}[ p(x)\\log(q(x))] ≥ \\log(\\mathbb{E}[p(x)]) - \\log(\\mathbb{E}[p(x)])$\n",
        "\n",
        "Es decir...\n",
        "\n",
        "$D_{KL}(p \\parallel q) = \\mathbb{E}[ p(x)\\log(p(x))] - \\mathbb{E}[ p(x)\\log(q(x))] ≥ 0$"
      ],
      "metadata": {
        "id": "ejE-wHUC9R9i"
      }
    },
    {
      "cell_type": "markdown",
      "source": [
        "### Concluímos\n",
        "\n",
        "$D_{KL}(p \\parallel q) > 0 \\iff p(x) \\neq q(x)$\n",
        "\n",
        "$D_{KL}(p \\parallel q) = 0 \\iff p(x) = q(x)$"
      ],
      "metadata": {
        "id": "TMrj5ZZBG7L3"
      }
    },
    {
      "cell_type": "markdown",
      "source": [
        "# [05]\n",
        "Demostrar que la solucion al problema de la regresión lineal está dada por los parametros:\n",
        "\n",
        "$(w,b) = (X^{T} X)^{-1} X^{T}Y$"
      ],
      "metadata": {
        "id": "_pOVZjCsHpyT"
      }
    },
    {
      "cell_type": "markdown",
      "source": [
        "## Demostración"
      ],
      "metadata": {
        "id": "OMGbTV-Xx27I"
      }
    },
    {
      "cell_type": "markdown",
      "source": [
        "Para la demostración, partimos del hecho de que la Solución a la Regresión está contemplada como problema de optimización, en donde se buscan una serie de parámetros $\\theta$ que determinen la forma de una Función Lineal (Línea, Plano, Hiérplano, etc) que se ajuste a una serie de puntos $X$ llamados **Datos de supervisión**, que tienen como resultado $Y$, de manera que se busca minimizar la distancia de la Función Lineal estimada con respecto a los puntos, utilizando la función de coste $EMC$ (Error Cuadrático Medio), de la forma:\n",
        "\n",
        "$EMC$:\n",
        "\n",
        "$R(\\theta) = \\frac{1}{2} \\sum_{(x,y)}|| y - (wx + b)||^2_2$\n",
        "\n",
        "Considerando que $\\theta$ es un vector extendido que contiene $w$, además de una columna extra con los valores de $b$, por lo que...\n",
        "\n",
        "$\\theta = (w, b)$\n",
        "\n",
        "Y donde:\n",
        "\n",
        "- Σ representa la suma sobre todos los puntos de datos en tu conjunto de entrenamiento.\n",
        "- (w, b) son los parámetros que deseamos encontrar.\n",
        "- (x, y) son los puntos de datos individuales en el conjunto de supervisión.\n",
        "- n es el número de observaciones de supervisión.\n",
        "- x es la variable independiente.\n",
        "- y es la variable dependiente.\n",
        "- w es el coeficiente de la pendiente.\n",
        "- b es la ordenada al origen.\n",
        "\n",
        "En donde se puede reescribir de manera matricial como:\n",
        "\n",
        "Primero, podemos reescribir la función ECM en forma matricial:\n",
        "\n",
        "$ECM = \\frac{1}{n}||Y - (XW + b)||^2$\n",
        "\n",
        "Donde:\n",
        "\n",
        "- Y es un vector columna con todas las observaciones yi.\n",
        "- X es una matriz con todas las observaciones xi como columnas.\n",
        "- W es un vector columna que contiene los coeficientes w.\n",
        "- b es un escalar.\n",
        "\n",
        "<br>\n",
        "\n",
        "**Minimización:**\n",
        "\n",
        "Para resolver el problema de encontrar los valores de $\\theta$ que minimicen la función de coste, recurrimos a la Optimización de $R(\\theta)$, por ende podemos aprovechar el gradiente para encontrar el $argmin$ para $R$; derivando e igualando a 0:\n",
        "\n",
        "$\\nabla R(\\theta) = 0$\n",
        "\n",
        "$\\frac{\\delta}{\\delta w}\\frac{1}{n} ||Y - (XW + b)||^2$\n",
        "\n",
        "Calculando las derivadas parciales con respecto a w, b:\n",
        "\n",
        "<br>\n",
        "\n",
        "Derivada parcial de R con respecto a w:\n",
        "\n",
        "$\\frac{\\delta}{\\delta w}(\\frac{1}{n} || Y - (WX + b) ||^2)$\n",
        "\n",
        "$ = \\frac{1}{n} \\frac{\\delta}{\\delta w}(|| Y - (WX + b) ||^2)$\n",
        "\n",
        "Aplicando la Regla de la Cadena para derivar:\n",
        "\n",
        "$ = \\frac{1}{n} \\frac{\\delta}{\\delta w}(Y - (WX + b))^T \\cdot (Y - (XW + b))$\n",
        "\n",
        "$ = \\frac{1}{n} \\frac{\\delta}{\\delta w}(Y^T - (WX + b)^T) \\cdot (Y - (XW + b))$\n",
        "\n",
        "Aprovechando la propiedad $(A^T)^T = A$, y la derivada de una constante es 0:\n",
        "\n",
        "$ = \\frac{1}{n} \\frac{\\delta}{\\delta w}(Y^T - W^T X^T - b) \\cdot (Y - (XW + b))$\n",
        "\n",
        "$ = \\frac{1}{n} \\frac{\\delta}{\\delta w}(Y^T - W^T X^T - b) \\cdot (Y - XW - b)$\n",
        "\n",
        "Simplificando al derivar:\n",
        "\n",
        "$ = \\frac{1}{n}(X^T) \\cdot (Y - XW - b)$\n",
        "\n",
        "$ = -\\frac{1}{n}X^T \\cdot (Y - XW - b)$\n",
        "\n",
        "Concluyendo la primer derivada parcial como:\n",
        "\n",
        "$\\frac{\\delta R(\\theta)}{\\delta w} = -\\frac{1}{n}X^T \\cdot (Y - XW - b)$\n",
        "\n",
        "<br>\n",
        "\n",
        "Derivando con respecto a b:\n",
        "\n",
        "MISMO PROCESO DE SIMPLIFICACIÓN:\n",
        "\n",
        "$\\frac{\\delta}{\\delta b}(\\frac{1}{n} || Y - (WX + b) ||^2)$\n",
        "\n",
        "$ = \\frac{1}{n} \\frac{\\delta}{\\delta b}(|| Y - (WX + b) ||^2)$\n",
        "\n",
        "Aplicando la Regla de la Cadena para derivar:\n",
        "\n",
        "$ = \\frac{1}{n} \\frac{\\delta}{\\delta b}(Y - (WX + b))^T \\cdot (Y - (XW + b))$\n",
        "\n",
        "$ = \\frac{1}{n} \\frac{\\delta}{\\delta b}(Y^T - (WX + b)^T) \\cdot (Y - (XW + b))$\n",
        "\n",
        "Aprovechando la propiedad $(A^T)^T = A$, y la derivada de una constante es 0:\n",
        "\n",
        "$ = \\frac{1}{n} \\frac{\\delta}{\\delta b}(Y^T - W^T X^T - b) \\cdot (Y - (XW + b))$\n",
        "\n",
        "$ = \\frac{1}{n} \\frac{\\delta}{\\delta b}(Y^T - W^T X^T - b) \\cdot (Y - XW - b)$\n",
        "\n",
        "Derivando y simplificando:\n",
        "\n",
        "$ = \\frac{1}{n}(-1) \\cdot (Y - XW - b)$\n",
        "\n",
        "Concluyendo la primer derivada parcial como:\n",
        "\n",
        "$\\frac{\\delta R(\\theta)}{\\delta b} = -\\frac{1}{n} \\cdot (Y - XW - b)$\n",
        "\n",
        "<br>\n",
        "\n",
        "Igualando las derivadas parciales a 0 para minimizar:\n",
        "\n",
        "Para w:\n",
        "\n",
        "$-\\frac{1}{n}X^T \\cdot (Y - XW - b) = 0$\n",
        "\n",
        "Eliminamos el -n:\n",
        "\n",
        "$X^T \\cdot (Y - XW - b) = 0$\n",
        "\n",
        "$X^T Y - X^T XW - X^T b = 0$\n",
        "\n",
        "$X^T Y - X^T XW = X^T b$\n",
        "\n",
        "Despejando W:\n",
        "\n",
        "$- X^T XW = X^T b - X^T Y$\n",
        "\n",
        "Cambiando signos:\n",
        "\n",
        "$X^T XW = - X^T b + X^T Y$\n",
        "\n",
        "$W = (X^T X)^{-1} \\cdot (- X^T b + X^T Y)$\n",
        "\n",
        "$W = (X^T X)^{-1} (- X^T b) + (X^T X)^{-1} ( X^T Y)$\n",
        "\n",
        "$W = (X^T X)^{-1} (- X^T b) + (X^T X)^{-1} ( X^T Y)$\n",
        "\n",
        "Para b:\n",
        "\n",
        "$-\\frac{1}{n} \\cdot (Y - XW - b) = 0$\n",
        "\n",
        "Eliminamos el -n y redistribuímos:\n",
        "\n",
        "$Y - (XW + b) = 0$\n",
        "\n",
        "$Y - b = XW$\n",
        "\n",
        "$- b = XW - Y$\n",
        "\n",
        "Cambiando signos:\n",
        "\n",
        "$b = -WX + Y$\n",
        "\n",
        "<br>\n",
        "\n",
        "$∴$\n",
        "\n",
        "Los valores que minimizan la Función de Coste $R(\\theta)$ son:\n",
        "\n",
        "$W = (X^T X)^{-1} X^T Y$\n",
        "\n",
        "$b = Y - XW$\n",
        "\n",
        "Y volviendo a:\n",
        "\n",
        "Considerando que $\\theta$ es un vector extendido que contiene $w$, además de una columna extra con los valores de $b$, por lo que...\n",
        "\n",
        "$\\theta = (w, b)$\n",
        "\n",
        "Extrapolamos que:\n",
        "\n",
        "<br>\n",
        "\n",
        "$\\theta = (X^T X)^{-1} X^T Y$\n"
      ],
      "metadata": {
        "id": "YYACSFt1IpVK"
      }
    },
    {
      "cell_type": "markdown",
      "source": [
        "# [06]\n",
        "Desarrollar un perceptron para el operador l lógico de implicación x → y, así como para los operadores de NAND y NOR."
      ],
      "metadata": {
        "id": "xlqLDEnSIrou"
      }
    },
    {
      "cell_type": "markdown",
      "source": [
        "## Implicación\n",
        "\n",
        "**Tabla de inputs / outputs:**\n",
        "\n",
        "| x | y | x => y |\n",
        "|---|---|--------|\n",
        "| 0 | 0 | 1      |\n",
        "| 0 | 1 | 1      |\n",
        "| 1 | 0 | 0      |\n",
        "| 1 | 1 | 1      |"
      ],
      "metadata": {
        "id": "mYssAgdUKN0P"
      }
    },
    {
      "cell_type": "markdown",
      "source": [
        "### Gráfica"
      ],
      "metadata": {
        "id": "bCsybfwmNcX9"
      }
    },
    {
      "cell_type": "code",
      "source": [
        "import matplotlib.pyplot as plt\n",
        "plt.scatter([0, 0, 1], [0, 1, 1], c=\"blue\", label=\"1\")\n",
        "plt.scatter([1], [0], c=\"red\", label=\"0\")\n",
        "plt.show()"
      ],
      "metadata": {
        "colab": {
          "base_uri": "https://localhost:8080/",
          "height": 430
        },
        "id": "UUsUnOS6Niqd",
        "outputId": "96f45be9-ac37-4fa4-f3e4-61fbf6cff959"
      },
      "execution_count": 70,
      "outputs": [
        {
          "output_type": "display_data",
          "data": {
            "text/plain": [
              "<Figure size 640x480 with 1 Axes>"
            ],
            "image/png": "[encoded data removed]"
          },
          "metadata": {}
        }
      ]
    },
    {
      "cell_type": "markdown",
      "source": [
        "Sí son puntos linealmente separables, por lo que con sólo un perceptrón nos basta..."
      ],
      "metadata": {
        "id": "wP7gmsnVOoW2"
      }
    },
    {
      "cell_type": "markdown",
      "source": [
        "### Perceptrón\n",
        "\n",
        "![image.png](data:image/png;base64,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)"
      ],
      "metadata": {
        "id": "YgM0_jzLVh48"
      }
    },
    {
      "cell_type": "markdown",
      "source": [
        "### Solución\n",
        "\n",
        "- **Entradas**:\n",
        "  - x\n",
        "  - y\n",
        "- **Perceptrones**:\n",
        "  - f(x): x => y\n",
        "- **Pesos**:\n",
        "  - w1 = -1\n",
        "  - w2 =  1\n",
        "- **Sesgo**:\n",
        "  - b = 0.5\n",
        "- **Función**:\n",
        "  - f(x) = 0 si x < 0\n",
        "  - f(x) = 1 si x ≥ 0"
      ],
      "metadata": {
        "id": "3U1ros3BZCR0"
      }
    },
    {
      "cell_type": "markdown",
      "source": [
        "## NAND\n",
        "\n",
        "**Tabla de inputs / outputs:**\n",
        "\n",
        "| x | y | x NAND y |\n",
        "|---|---|----------|\n",
        "| 0 | 0 | 1        |\n",
        "| 0 | 1 | 1        |\n",
        "| 1 | 0 | 1        |\n",
        "| 1 | 1 | 0        |"
      ],
      "metadata": {
        "id": "o-WO4cLNVyDO"
      }
    },
    {
      "cell_type": "markdown",
      "source": [
        "### Gráfica"
      ],
      "metadata": {
        "id": "5FAP93EQWnCc"
      }
    },
    {
      "cell_type": "code",
      "source": [
        "plt.scatter([0, 0, 1], [0, 1, 0], c=\"blue\", label=\"1\")\n",
        "plt.scatter([1], [1], c=\"red\", label=\"0\")\n",
        "plt.show()"
      ],
      "metadata": {
        "colab": {
          "base_uri": "https://localhost:8080/",
          "height": 430
        },
        "outputId": "59ef958c-cd4f-43b1-c095-91ae3698fc46",
        "id": "c-dEyyj7WnCc"
      },
      "execution_count": 71,
      "outputs": [
        {
          "output_type": "display_data",
          "data": {
            "text/plain": [
              "<Figure size 640x480 with 1 Axes>"
            ],
            "image/png": "[encoded data removed]"
          },
          "metadata": {}
        }
      ]
    },
    {
      "cell_type": "markdown",
      "source": [
        "Sí son puntos linealmente separables, por lo que con sólo un perceptrón nos basta..."
      ],
      "metadata": {
        "id": "8V4YGWaQWnCd"
      }
    },
    {
      "cell_type": "markdown",
      "source": [
        "### Perceptrón\n",
        "\n",
        "![image.png](data:image/png;base64,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)"
      ],
      "metadata": {
        "id": "sFRdmDitY59t"
      }
    },
    {
      "cell_type": "markdown",
      "source": [
        "### Solución\n",
        "\n",
        "- **Entradas**:\n",
        "  - x\n",
        "  - y\n",
        "- **Perceptrones**:\n",
        "  - f(x): x NAND y\n",
        "- **Pesos**:\n",
        "  - w1 = -1\n",
        "  - w2 =  -1\n",
        "- **Sesgo**:\n",
        "  - b = 1.5\n",
        "- **Función**:\n",
        "  - f(x) = 0 si x < 0\n",
        "  - f(x) = 1 si x ≥ 0"
      ],
      "metadata": {
        "id": "ddFt3qjuaOVN"
      }
    },
    {
      "cell_type": "markdown",
      "source": [
        "## NOR\n",
        "\n",
        "**Tabla de inputs / outputs:**\n",
        "\n",
        "| x | y | x NOR y  |\n",
        "|---|---|----------|\n",
        "| 0 | 0 | 1        |\n",
        "| 0 | 1 | 0        |\n",
        "| 1 | 0 | 0        |\n",
        "| 1 | 1 | 0        |"
      ],
      "metadata": {
        "id": "bupcrmFbbMjA"
      }
    },
    {
      "cell_type": "markdown",
      "source": [
        "### Gráfica"
      ],
      "metadata": {
        "id": "3WSgM_DUbMjB"
      }
    },
    {
      "cell_type": "code",
      "source": [
        "plt.scatter([0], [0], c=\"blue\", label=\"1\")\n",
        "plt.scatter([0, 1, 1], [1, 0, 1], c=\"red\", label=\"0\")\n",
        "plt.show()"
      ],
      "metadata": {
        "colab": {
          "base_uri": "https://localhost:8080/",
          "height": 430
        },
        "outputId": "d3204628-fa14-4cb5-9802-93c52b8c18d3",
        "id": "z4c13KDZbMjB"
      },
      "execution_count": 72,
      "outputs": [
        {
          "output_type": "display_data",
          "data": {
            "text/plain": [
              "<Figure size 640x480 with 1 Axes>"
            ],
            "image/png": "[encoded data removed]"
          },
          "metadata": {}
        }
      ]
    },
    {
      "cell_type": "markdown",
      "source": [
        "Sí son puntos linealmente separables, por lo que con sólo un perceptrón nos basta..."
      ],
      "metadata": {
        "id": "C52pkVz0bMjB"
      }
    },
    {
      "cell_type": "markdown",
      "source": [
        "### Perceptrón\n",
        "\n",
        "![image.png](data:image/png;base64,iVBORw0KGgoAAAANSUhEUgAAAngAAAGICAYAAADS7Z2+AAAgAElEQVR4Ae2dz2setxb380/kH+jm/g/ZZBVw4ZJF3n/BdOFCugp0d1eG4JKXbrIJzeqWgMnKpBT6QhramussvGpxwBSnGIM3LSZkk+V50cwczRk90ow0kmY083wNT575IR0dfY7m0TeSZuYW4Q8EQAAEQAAEQAAEQGBVBG6tqjaoDAiAAAiAAAiAAAiAAEHgoRGAAAiAAAiAAAiAwMoIQOCtLKCoDgiAAAiAAAiAAAhA4KENgAAIgAAIgAAIgMDKCEDgrSygqA4IgAAIgAAIgAAIQOChDYAACIAACIAACIDAyghA4K0soKgOCIAACIAACIAACEDgoQ2AAAiAAAiAAAiAwMoIQOCtLKCoDgiAAAiAAAiAAAhA4KENgAAIgAAIgAAIgMDKCEDgrSygqA4IgAAIgAAIgAAIQOChDYAACIAACIAACIDAyghA4K0soKgOCIAACIAACIAACEDgoQ2AAAiAAAiAAAiAwMoIQOCtLKCoDgiAAAiAAAiAAAhA4KENgAAIgAAIgAAIgMDKCEDgrSygqA4IgAAIgAAIgAAIQOChDYAACIAACIAACIDAyghA4K0soKgOCIAACIAACIAACEDgoQ2AAAiAAAiAAAiAwMoIQOCtLKCoDgiAAAiAAAiAAAhA4KENgAAIgAAIgAAIgMDKCEDgrSygqA4IgAAIgAAIgAAIQOChDYAACIAACIAACIDAyghA4K0soKgOCIAACIAACIAACEDgoQ2AAAiAAAiAAAiAwMoIQOCtLKCoDgiAAAiAAAiAAAhA4KENgAAIgAAIgAAIgMDKCEDgrSygqA4IgAAIgAAIgAAIQOChDYAACIAACIAACIDAyghA4K0soKgOCIAACIAACIAACEDgoQ2AAAiAAAiAAAiAwMoIQOCtLKCoDgiAAAiAAAiAAAhA4KENgAAIgAAIgAAIgMDKCEDgrSygqA4IgAAIgAAIgAAIQOChDYAACIAACIAACIDAyghA4K0soKgOCIAACIAACIAACEDgoQ2AAAiAAAiAAAiAwMoIQOCtLKCoDgiAAAiAAAiAAAhA4KENgAAIgAAIgAAIgMDKCEDgrSygqA4IgAAIgAAIgAAIQOCNbAO3bt0in89I88gGAiAAAiAAAiAAAqMJQOAFoPMRdH1pAopCUhAAARAAARAAARAYTQACbwBdn2CLOTdQLE6DAAiAAAiAAAiAwGgCEHgOdDHiLSSvo3gcBgEQAAEQAAEQAIHRBCDwLOhCBFqKtBYXcAgEQAAEQAAEQAAERhOAwDPQhQg2I+vGbogtlRZ/IAACIAACIAACIJCCAFRFQ9FHjMUCn6KMWB+RHwRAAARAAARAYPkEIPCIJn/cyZDQW36zQg1AAARAwJ/A3Z1TwgcM1toG/K+EtCm3XuDNJbbmKjdt84E1EAABEIgnsNaOHfWCaFVtYK4/CLyeBxZPEZQ+oTdF+SgDBEAABOYmACEEIbTmNjDX9bXVAs8lrqYORil+TF1vlAcCIAACioDs3EEEBNZAoIQ2vbUCrzRRVZo/a7jAUAcQAIFlECihM1wGKXi5FAIltGkIPGOKds7GYxN5c/qDskEABEBgCgIldIZT1BNlbA+BEtr0Vgo8m5BSx+b+K9Wvubmg/PUQeH/9hO4f/Zs+az73T9/S+5zV4/LevMxbTs46GLYnZ2iUn2O3hM4wR71gc3sJlNCm51M1V9e0y7fGH9x0WsHl4VmzJuOMXlx1TiXZsQmpJIYTGCnZtwTVg4ktJvD+/KEWdizwqu+M4kuLoYxljAnp+/MnpMRt6N8cDEN9HJO+hM5wjN/IAwIuAiW06fkEHhG1Qu6U9k8aTEL47R5+crEbfdwmoNSxUv5K968UTvBjYQQ+vtQjd4+um/+1fXxLj5qRvEfXC6vPaHev6PVpI3TfPKHXHwMMrZhhCZ1hQCSQFAQGCZTQpmdXNscHfHv4BR0Tkd43RvUGaXomsAkoz6yTJVuCj5swPtDl4W/06svv6b+ff0///fIP+rCZqLAjS/S5MIS+7lw/qUfv9KhVLXR4uvb+echQfTcvjwZKkbgx0jVqBM8mQPnYQ3oWIs4qTlf07E0zPT3Gn6QMfQM3TboSOsNpaopStoVACW16doFHdEP7PFW7x1OztdjL0RCWIJ6W4GM3Nh/odxZ2StwtQuAt0ecu9SXtseC6f/6WXqvpSbEOrxJoWvgN1+r1abuGj8Wd+k4v8IhIj5opQdcKNFnWsMfKzlt61Ii7sesOUzL08nnCRCV0hhNWd9Ki9ExZpkGTSSuzoMJKaNMFCDwiOrnoPAdJT9cmDqZNOKljpf0txU/J7cPhD/Tqm0v6cPUHvVqEwCNaos+S+ZK2WZxIQVYJnY1RqeFaaYH35gk9u77qv3mCBdqYETN2hX1kURogRmsTrTD8LDgvO0GUkmFrtYytEjrDMkik9wICLz1TH4sltOky1I0h8HKsvVMBsQknn0DNkaYUXy+/USNyv9HlBoRmBMycio0SeJf0K48Amt9mORv+RByI8jmi3C3KKsVJJeya6U0+HjpF+4zXsbHoUmLPNmWaQuCREGhHT+j1mLglHMFTIjme4ZhK5MtTQmeYr3bzWobAm4d/CW16foEnbqrYP+CRvO27e9ZsgqUIPDXK9d/Pf6DfN5ZINWLsG0P6RYklCDyzHaxmn4XWkVi7ZjsWWuGP4qYFm/jiMiJG8LQIfdPcHDF6FE4IxTH+cF1SMwxlniF9CZ1hhmoVYRICb54wlNCmZxZ4n+jFXnOTRbM+QN9ksXdtGTWKC1QposmnFsX4evJbtabuV3WXc7P96vADUSPkqm1ZoSiBJw3FblvEomsUsBifY+tcdn49tcqjbvwdKJicdrRoEkKKy9DfQmD64OLp2cZHLjtsxFEWJARp6F20RMTly6nuajuQofSohO0SOsMSOOTwAQIvB9VhmyW06VkFnhZzO+KmCjGidzfxotBiRNNw2yhnOrkRP0rgqenaV1/+UN8hK453qlOMWILA68SliJ0ren3+UNxg8ZAenYc/6HhT5Dyk+6cvxSNHEgk8PWImp2X5LtruTR2heMc+B48oDcNQf3OnL6EzzF3HuexD4M1DvoQ2PZ/AE+vuzDV3ukHuiOfjJYgRBN4YiLVQenX4B/2qpmpP1E0UP9Dvh2pkzzJ1GyXwLKKM1+K5Rt/GVMnME+WzaSzPvpomHDtqxGIi6xsj8lQbVreEQJLOsGdwoO1T8iz/4TD1l7M5Y8X5cn5rn2IHTFLxFXZk389+tjdZfqLjw4v2hQg7p7R7cCNm9sQTOPhJHDtnRho/slz23R1b+xgXtyRt2s99Z6r5BJ7TpXwnli7w2P98hGyW+WaKH+hVJbLq/WokT9x8Ud+M0TwihUVZ9W0RgbZiqmPTCrw0Pjsrk+wErwFTd2CGizQxmrXwabxkQGGoOAKpOsO2oxaDAw5BkQVCX1n6nE1EZPGmMqqZxAq8VC8n0BxO6a5YisV+ssBrZ/j4WbnNt85jE3jdJV/eVIVPUnRW+fW5sLilatPedbAkhMCzQCnhEIu5oe8pfNVCqLmhor7xovswY52mI+6U4AsReFPUpi1jfp+vyLwbdOP5arwGTK8va/3332pF3oZ9fyNICQLZCKTsDFthMM3D800ounwtROoUruNm/tT7LJxSLXnS9WiWVul9XwGpBVMtxljQsZ/Vvk5z0b6u9KoVdHUe3m+XeF3yzKDB3oeproeR13V8yGbKNj1Uluv81gs8JaBK/BsSdrbzJdYDPrkItKJLLpjvCjBOE3hjgK1I63oyW0IcA4HpCaTtDLnjVyNE+R+ev0GLRUZnuq/1iQXNRr5MB1g4pRJ40S8nYPF2cFG/5KARVOyn4sPb5mha9zgzFQLvsHkSh6/YlMwTxy1tm5aO+m+XqW78/Q9OuQRhZPMx9FgwGGSYmAAv1nc8v01504zejV17Z1aIp3q7ItJMhX0QmJ5A8s5Qd9bdUaJpasbC45S0QNH+tGJkGl9asZRO4EW+nEALvBv9alIp6tQ2j5ptiGHmWAm4lrNsP3f3xKhfEOTWXoq4SZ+C3EiYGAKvwBG8UDE3lD5he4GpWAI85aof2yFeu2VMw9Z3i7pG71ggyrs5+ZgjD4/iBa/FY7vCV/bf8DkWD/JvJ4HknSELgWbxve6wJ8LLI028xowFy9R+qOpqX8aMarl4xfAVAo94e++ajg/r0dY4gRe2Ts6snmbVjCrGxC15mzad9diHwLt1q3okiQerSZK4xJos3JXG57i0g+0ZCHgLPJ6elY/oMPxlwVY9+JbTS8FnpKdGqAWLMgg8kyT20xJI2hmyaFBPYcj88HwnBe2DEhw8MhQnPpxlDZzQoiWVwNN1G8mX8zf+aBHVTKfL0TxTEHNd6uPMtR4VveTpWWMN3QCe7mn2rZpeZ/vj4pa0TXe99N7bOoGnyNiEkDexzAlDfLOlDTmWuSow30uARZNLwLFgc51vjJuCsXd0bqzA660IToJANIF0neHmIy1YQPBoWrSzXgaEH/wIjxjh4VWmPRGLojRTtKJehkDz5ssiigUn7zecqmlZPUIopluvrus1e3ptIwswnvZufduY2rWjsRxtbeg2OTJuOv/OqaWcaQ5B4DUjeEoYzf3nEmc+frny+h73KQNpUhJIJPCC3pMKgZcygrCVjkCqzlCLuYkent9LQIuUOdYBtp6lFHhJ+LKgY4FH7Zo71Q5qcWYRWiyUdT5T4Im1gSNFWUUtUdxStek2kuFb86uacJ+T5LAJnySGI4yk8slmJ+RYRBWQ1ZvAkMBrX0vVd1ME3zhx3+c9qTyl2zvKZ6sA+xq7Bk+9heEJ3X/T2AmeKrb5NnDs+kn95owpyhpwZcrT77nezVrJ+6OeoTidx0k6Q9Exu6b2WgExRd1YgHSf9zZFybKMZAIvFV+LwCNhux19+0THB3wXtBLJZ7R/aHvQMY/gqVq3wrC1I2n4bKeJW5I27eNuTxoIPDGCp0TQXH8uARbrj8uu7/HY8pHfRYBFU88ULE+/ugSZcZ5f4eW665bFYJ9gtHvLvsYIPJ5yFjYmEF1a6ExQlp0dH63fQfvo+ooPZPvmOMvH71TbszNwV7mEztDt3dgzrVAwBedYi2PyJRN4YwpfZJ40cSuhTc+naAoIvEvkTO3aVH64yvE5PjWT9ZfHoqlH4OnpV8tdsTwadyTzs03bjRZ8TqaflrISHtVIEvtesOBITobrfPTvmkHyAhqDohwtJj9y7G3tIpcjYXZL6AzDPB5IfXVDL/bqqVnvtWkDJseehsALIJcwbiW0aQg8YwSPxU5Ak4hKyuXZvqMMD2S2led7bMA0TqckwKN0UWKoHT0LH71LWZnGFouQ0XWqR8Pu86Namm9Zt41RrFFl2YQRH7OI7kFUbRw+2/CH7YoRTq7fRtqegri96FHfLivX6G6PxUlOldAZJqmomGqs6zTuDswkvjRGIPA8aGaIWwlteqsFngr7kKjxaBqjksxVrs3ZIV/6ztvs4VhaAlqsjFpHpTr4WjSo0bMi/iIFHtfHnIJML/CIiH31fhTNEOFacNVTpk/o9UdOn0bgcVu5f/62Xu/IIpG/S2kDXO3mu4TO0HBp3K4QCrt7F3Scf0Z+0E8IvEFEJNcApopbCW166wWeCn2fgFHnUv9NXV6I/0O+9Z0PKQdpwwhU05vn43qLKm9JHTuLppCRKYFLC7w3T+jZ9RW9F+c2NiPLquzxqFhCkcRC7LPOFPuG98EHWrvtSGA1Lc51KKkdiNqV0BkKd7AJAtEESmjT6dVLNJZ5DPQJFz4X6xnb6fuOLSNl/j4/h86l9AO2VkYgWnRd0bPTh9QZwVNiT4+GCV7RZSlbYmo1WpC5RvCEzxGbUuDV6x1rY3wcU7QRcJEVBAIIQOAFwJoi6ZBoMc8P+WSmH9ofsjfn+SHf+87P6TfKLpBAEtHV1OujEEw28ZWgLC2OfB5F04tbCMWN0cs0U7TdKWVm9LJ+VEw1zdzr4GwnS+gMZ6s8Cl4lgRLaNEbwLE2rT6zkOGdxoehDMQyKrhicy0pAT63yVKf+DrthwWlHiyYhpHQZPGUZVhYZU5tcdvBIGAtN5120iQQetc9P7IxwKg6FTs+qRldCZ5i18c9oHGvw5oFfQpuGwHPEPkbEhOR1FL+YwyF1NdMuppJwNAkBFkcbwiNwZGnTjnr8yktxw0IigadFmXy0TCvE5E0dw4DqkUb96JLhDBEp1AOlHzajdkrYPqRH52/71ypGlJYiawmdYYp6lGgDAm+eqJTQpiHwBmJvipJU+wPFLvJ0DJtFVhhOgwAIJCFQQmeYpCIFGoHAmycoJbRpCDzP2MeIF5nXs7jFJ5N1Dt1efOVRARAAgSACaTvD+hVXu/zu0p1T2j24nviRJSX4UIcAAi+oKSZLnLZNj3MLAm8ct8FHq7CoGWl+VdmYxZjvpYDwrdtS6gM/QWBKAuk6wxva5zdICIFX25/qocMl+NBGbxECT71BQr93dqo4tYxybKVr0+O9g8Abzw45Awn4iiBXusDisid3+el7PLuDKAAEFkIgVWd4fNC8HmznjF6cfKpqf3lyTXo0b++aLjMzKcEHWcWiBV5H2InYjXvkp6z27Nup2nRMRSDwYugh72gCviLIlW50wZEZXf7EHo90C9lBYNEE0nSG7pfEa5GjhF9W8VCCD92moOt+cNM9UcBeK4ZPaXfvrLmbOneMpql4mjYd5ysEXhw/5E5AYAniKNZH3/wJcMIECCyOQJLOUL8mzBAIV9edadv9k4x4SvDBqF7JAk+9Ikyvj3SxM+qzlN0kbTqyshB4kQCRPS0BXyHkSpfWm9qaq6xcx3PUATZBoGQCKTpDLWR2Lui4qmx9o4O0rbZ3D+up2xw8SvDBrJf2qcARvI6vEHgdHCl2IPBSUISNLARiBFQqh0J8GCozxJZKiz8Q2BYCUoSNrbMWMjsX9EKNDOmbLM5o/+Sa9pv9qQTeXD6Y/DQXCDwTTdb9FG061kH0IrEEkX8SAqHiSKYf46DM79oeY1fmcdmVx2V6bIPAWgmk6Ay1kNHCTj0e5aa5qcK9Ni4l0xJ8MOujfYLAM9Fk3U/RpmMdhMCLJYj8kxOQAih028dZH5s+dnzTDJXnawfpQGCpBJJ0hnqK75Tu7l10b6a4au+knWYN3ow+GI0AAs8AMtFukjYd6SsEXiRAZJ+XwJA46jtv87wvvTqX62+ucnPVB3ZBIIRAks5QiDhzGlaLHL0+L8S7gLQl+GC4q+uOETyDTN7dJG060sV8PVakY8gOAqEEhkRS33kuyycNp83xPXf5OeoEmyAwRCBNZ/iJXuiHHDueg5dd5JTgQ5c2BF6Xx1R7adp0nLcQeHH8kLtQAn1CKfTc1FV0+Te1HygPBKYikKwzFCNo0ma1vcd312auVQk+iCpC4AkYE27K9jdhsZ2iIPA6OLCzRgIuweRzfC4eLt/m8gflgkBOAkk7w423I5yJmy1y1kLYLsGHxp2SBZ72TdwYI9vC3dxT6iJkqTdlPVLb9rUHgedLCulWQcAlnFzH56y0zac5/UHZIJCLQAmdYa66zW1Xi6js09PhNdW+QeCFw/PIAYHnAQlJ1knAJqDksblrLX2R23P7hfJBIDUBCLzURFt7WkQVKPBaL9e3VUKbhsBbX7tCjQIJSPHE24EmsiVnf+R3tsJgGARmIlBCZzhT1bMXC4GXHbG1gBLaNASeNTQ4uC0EpHCS26XUX/okt0vxD36AQAoCJXSGKepRog0IvHmiUkKbhsCbJ/YotRACUjTxdiGuaTfYL/mtT8660b4d4O6O8YJ34nPm8fr9oO1rpE5pV93deCUrIh81cUrtD6VaLH9tpJX5sL1UAm2MT5daBfgNAh0CJbRpCLxOSLCzbQSkaOLt0hiwX/K7DB9ZxNUirPtwWT4nBR4fk6KNt9X7QrlWLoHHaSd63AW7g+/sBEroDLNXEgVsFYES2jQE3lY1OVRWEpCCSW7LNCVsS9/k9vy+mYJNCi8+xwJPijYxYnfF6ZR44/wirVgYrqeadk6pKybnJwEP4giU0BnG1QC5QaBLoIQ2DYHXjQn2toiAFEu8XWr12T/57e2rfPCqEEwqfyuaWIh5WyXS07A8siaFFwu3xq7woR2pa8oS7xCtz9kFHpHruJ/P/XWNs+3nAVK5CJTQGbp8W/px3e6Na3/p9Srd/xLaNARe6a0E/mUjIMUSb2crLNIw+ye/Q0zqH/md03YqVIiucSNirYjbPzir18rtXdNl5Vh77sXVkJDktCwQXWKrTXd3TGfVV199bozQDYkE0toIlNAZ2vxawzF97Y+5ZtYAYKY6lNCmIfBmCj6KnZ+AFEu8Pb9Xdg/YP/ltT+k+enzAI231VKjeH/3Dz4JLiSLeZgHJ+7Vg0p2MnoaVfpqCztxXaeubM/hHc2MUUJrr2dZ11kK0Tuw63mMKpxIS4Liqb/ylJaCvvdHXeVp/tsVaCW0aAm9bWhvquUFAiiXe3khUyAH2T36Hu8ai65Tu7jUjblbB5WuZ7dUiriuSHOes5ZmCTuxvPOH+jPYPP/k6uJlOTwfLkTr2lcXpZjYcyUsgbWdouVN7jruvO68rk+0tL0vTOgSeSWSa/bRtepzPEHjjuCHXCghIscTbpVaL/ZPfo3zVAqcezRs7ElaXzcKo6bz0NKcSSt1zWvxFCrxxU8mSFPvF08FEpJnwTR4yPbanIJCuM7yh/T0eqTa/JxJZHWHHPkxUtiVY5Qu8QgS5hV3MoXRterwXEHjj2SHnwglIscTbpVaJ/ZPfo3zVYqbueOIEE4ultvPSQu7ggvar0bf6nO5kNp6Xp2rBdlh0iRG8alrpEx0f8ohj/Cib9qWZpmWf41iMigYyNQRSdYYcy+q5jCf1SO/lyTXp5y4aU/M5AtD6oJ7xyO22vUZylNlnU7f3IqdoCxDkffAizqVq0xEuEAReDD3kXTQBKZZ4u9QKsX/yO9hXOcJ2cNE8QDim42FhJmwYAlI/AFkc3xg11OfYjinwVE3FsdhOWnNQ5VnqEAwWGWIJpOkMOZb8H4XWKy1yrP/BaNMl2Tq5aB/IvdG2k5QQZETXvUCB14rhM3oxkyAPghmQOE2bDijQkhQCzwIFh7aDgBRLcrvE2kv/eDvMTyGQmh96/eM6WjBxh8rCTHkkyhEjeN3jjufgaT+EDdkp6c4ydhRP2Oc1frrsMKpInYZAks5Qtw/ZHono6rozbbvxH4w0VbBbcflkT53laLkCj38/ZhbkWaiTeAPPfDcOQeBlCi7MLoMAiyX5XZrn0jfeDvVRizm5Bk6PZJ3SqMeO6KlVo0PVnZqaBhbnZHksrPS3SCdFohR4ujx1kwg/jiWURJO+42OsYBzpA7JpAikEnhYyuo1377zmMiaditftTLZvXe1JNjSXzrU0SdH9hbjYzCnI+z0OOsvtTX3P9QeBNxd5lFsEARZM8rsIx4QT0jfeFqeHN/UPad//lMeIHP4fuNl58XFD4ClP1ZSoXpdUn998v6wYYTM6Jd1Zyef5DROwpBA+xopFi3UcCiOQojNs28YFvVDTpOI/D/sn182a0M1rIMzTwNT62jOvkUA7Eck1F+NaijCZJKv2qyRBnqRmtZEUbTrWHQi8WILIv2gCLJjM71IqZfrF+6X4t1w/WoE36YjOcoFl9TxFZ9gKhvoGImVz9+DGePA2BF7WQAYYb+NVkCAP8H8oaYo2PVTG0HkIvCFCOL96Aiya5HcplZY+8XYpvi3WD/UYC36UBkbvighjks5Qj5apKfwLUm9Q0X9ieQDW4Gkqs260Aq8gQZ6QSJI2HekPBF4kQGRfJgEWS33fc9fM5dvcfi22fCkAqum7sGmz+hVsi6190Y4n6QyFiDNHZVsxMfGzDnWbC2trKYOl617YFG37/MmCBHlC8EnadKQ/EHiRAJF9OQRcgsl1fO6a2fya26dFl687W/V8MnEn76IrtQ7n03SGYu2murnH9tiNqUWObnMQeBsttURBvuHk+ANp2vT48lVOCLw4fshdOAGbSAo5Nlf1XD7O5Q/KBYGcBJJ1hkI0SJvVthL1OSvR2NYjZvomj3YKsvZpGj+4qtqfqcUtO+D8LlCQO30NPyHbX3juNDkg8NJwhJWCCLjE0djjU1fN5efUfqA8EJiKQNLOcONVYWfiZov8NdKCCgJvGHYBgnzYyXEpkrbpcS5gBG8kN2QrjIBLFPkc56r0peU0ub9L8CF3HWEfBEwCJXSGpk9r2deCs7gRvIbwzII8V5xLaNMYwcsVXdjNTqBPDA2dczk3Np/Lnu/xucr19Q/pQCAngRI6w5z1m9N28QJvTjgZyy6hTUPgZQwwTKcnMCSEhs77eJTChk85nGbq8rhcfINAKQRK6AxLYZHaDwi81ET97JXQpiHw/GKFVDMSGBJAQ+fHuD5kU52P/ZuijFgfkR8EpiBQQmc4RT3nKAMCbw7qeBftPNQTlurTQacQAgldXowpX7audCkq6rLtOj5Upiuf6/iQPZwHgbUQgMBbSyRRDyZQQpuOH4bg2mzJt6sz9j2+JZhGVdOXoSvdqEI9MrnKy3XcwyUkAYFVESihM1wVUFRmdgIltGkIPI9mgI7cA9LIJLFsRxYbnC3WT9/8wY4hAwisgEAJneEKMKIKBREooU1D4PU0CN9OOTZdjwurPLVkXrG+u/KvMtCoFAh4EiihM/R0dXHJsAZvnpCV0KYh8Byxd3XEuY473FjN4VhupYGIrQ/nL61e8AcE5iBQQmc4R72nKBMCbwrKm2WU0KYh8DbjQtz5+nxbsncO+diQaTqZF74j6zVme0nV963fkuoEX0FgKgIldIZT1XXqciDwpiZel1dCm4bAE7H36aRF8lGbU5QxyrFEmXzq15cmkRswAwIgsCACyTvDztsRzujF1dQwPtHxwRntiteV7R5c0/HkfhBB4E0d+7q85G16RDUg8BpofaKDz43g68zCNl3fzowFnnDVwa43qrAAACAASURBVPd4gVWCSyAAAhMSSNYZdoTdKdV2pxZ4N7S/x2Wb31P7sgSBV44YTtnkk7XpCKcg8IgGp2Qj+PZmHRJAvZlnPjnk+9D5md1H8SAAAgURSNUZHh+0gmp372wWgdf6cEYvTj5VlC9PrtvRvL1rupyQfdkjeGWJ4ZRhSdWmY3yCwBsQeDFwffP2iSFfG1Ok6/PT59wUPqIMEACB5RFI1hmeXJCeCj25mEHg3dB+My27e1iLO46GFlo7047i6XIPbtiVYr5LE8MpwSRr0xFObb3AcwmTCKajspbih+m8yy/f46Y97IMACICASSBLZziHwHOVeXXdmbbdPzEJ5NsvV+CVJ4ZTRiFLmw50cKsFnkukBDJMlrwUf1x++B5PBgSGQAAEtoJAls7QJbYyEtViaueCjqty6vVlsn5q2xzdy+hSuTdZuOIzoxhOGQcZ85R2Q2xB4N26tbEGLwRg6rQ2EZW6DJc9W9m+x1w2cRwEQAAEhghk6QxdAmLImYjzUuC9UNPF+i7aM9o/uXZO30YUOZhV+1TYFK32qyAxPAgzIEGWNh1Qvkq6tQLPJVwC+SVPPrVfrvJ8jievPAyCAAhsJYEsneGsAk/c7HFw09xU4Z6SzBl0LaQKFniliOGUccjSpgMdhMATI3iB7LIlt4mrlIXZ7PseS+kHbIEACICAIpClM5xB4JEu85Tu7l10n7931d5JizV44vEtepTzlHZnFsMpr8YsbTrQwa0UeC4xE8guW/Ic/rls+hzPVlEYBgEQAIE1CTwh4sx1dnokTU9JThN6XW5hI3gliuGUEYHAS0kzwJZN1ARknyRpCh9tNnyPTVJJFAICIAACaxJ49Ile6IccO56DN7HQKlbgFSiGU16MEHgpaQbYsomcgOyTJB3roy2f77FJKoZCQAAEQMAgkKoz1GJGTPtJ23enGD0TwqVbdj1tW99dawDIuKuZTCwsh6tUnhge9tk/hYy9f660KbduitYldtJijbcW4qcrrc/xeE9hAQRAAATiCKTqDLWYmVPgKRQbr0w7E+vL4liF5tZMihN4ilO7LlG2gWp7jx81E1rjMtLL+szlEQTerXIR2AQaNxTbOd9jbAPfIAACIFACgRI6wxI45PChaIGnKlyQGE7Jv4Q2Xa66SUla2LKJIHG6qE2br2OPFVUxOAMCIAACgkAJnaFwZ1WbxQu8VdFuK1NCm4bAW9gIXojAa5satkAABECgXAIldIbl0onzDAIvjt/Y3CW06dkFnm581hcwi0WYidYP2ATS2ADmzmfzdehYbp9gHwRAAARSEyihM0xdp1Ls6T42UR9aSr1K96OENj27wJOLLM3nBrXnzroPjIyIrE0gRZjLmtXmq+1YVidgHARAAAQyEyihM8xcRZjfMgIltOn5BR4RHR80r3XZu25e6VK3BNfxmHayJIFk85WPxTBAXhAAARAoiUAJnWFJPODL8gmU0KaLEHjtE63lSF373r6Ur3VhgSS/S21K0kfeLtVX+AUCIAACYwmU0BmO9R35QMBGoIQ2XYbAo1bM6Wla/U6/tM/CYaFkftsCNPcx00e1X9bfB7r85gf67+ffN58f6NeTD2W5qL35QJeHv9GrLxtfv/yDSvVUu4wNENgSAiV0hmtFjTV480S2hDZdjGLQjbCZpuXpWS34EsaofOFEVL6PH+h3Fkta4NXi6deThMFKYsriKwReErIwAgIpCJTQGaaoR4k2dN+KmywmDU8JbboYgde9oYJH9OSUbbrYlC+eliDwiOjkN3r1zaUeCbs8bEbzvrlMF6xElj4c/lD7evUHvVKCFAIvEVmYAYF4AiV0hvG1KNMCBN48cSmhTZcj8DovabbfdJEqTDaBp46V8je3f5ffqJG43zo3vNRsmpEwhzhSIkpN1746DJn8vKRfjRFAPeXrKCcqThB4UfiQGQRyEEjeGXbejpBnoGCQQwk+EBEE3mCksiRI3qZHeFmOqlHO63V3tcBLeXOFycYmosw0c+3P7Vst1H6g369MAo0Ys47Q8TSoLZ9pR+5D4Eka2AaBbSSQrDPsiKpmoMD6jNWMlEvwQVSvfIH3iY4PzmhXvD949+Cajjf6H1GpBWwma9MRdS1L4ImbLe4aj0yJqKM1q01EqWNz/xXh18lv1UhctZau2a5G5ZrRL9sIXT3qFzp6l4q2RSS6Rv8wgpcKOuyAQDICqTpDXrut7O3unVFtd9oRvBJ8kIEpW+Dd0P4eC3Hze9q4SWYptlO16Rhf5lc0He957d0p5bi5olMUlbnOzSbwTL+z7zciSAk8JdxefflDvWZNHG99UHfS1jdXqPV48/xB4M3DHaWCQBoCyTrDkwvSoz96RmhioVCCDyIsJQu8Vgyf0YuTT5XXlyfX7Whe5oEegSn5ZrI2HeFZOQJPDWuzkp8oqDYxNecoXjn+1ILp1eEf9OvnP9DvJ+rGhB/o90M1sienYNtp2fGPR7GIM16T5xqFi2jwhBG8GHrICwJZCGTpDOcSeJJQAT6UK/DcAzra56mn12XsIreztOlAn+YXePoC4OHZaf+3VYqoKsWPuv3wzRQ/0KtKZNX71UievvmiR5jpND6tscdOQoHHo4z6Bg4WkR3B6uMv0oAACKQmkKUz1H3LtH1Kh00BPmixVNpjUlxsrq4707Y51+J3YpV4J0ubDvSxKIG3u3cx+cJKl7BSx6f6K8EHs65aEDXTrnyHbPt4kR5hFiTwzJLz7Ov6aGHXPPAYAi8PcFgFgQACWTpDl4AI8Cs6aQE+lCrwtF87/DKD+mYL2RbU9hTLtaLjbDEg62E5Pcmh6VTMJNUZV0ifwMop9OYqdxwl5AIBEACBPASydIYFiKv2yRDzjSJqIVXYCJ72a+eCXqh1i/ou2jPaP7mm/WYfAm/8NQeB17CbWmxNXd74JoKcIAACIJCXAARePr5aSBUr8Hh51intHtw0z191r8/LRyqt5SxtOtBFCDwBbEh0qfOxf1OUEesj8oMACIDAlASydIYYwatCWKrAa0c3T+nu3gW9kM+9u2rvpMUavPFXYrxiGV92kTl9BJhMM1QJmdZne8gezoMACIDA2ghA4OWLaLECT4g4cxpW+6zX5+Xjk8tyljYd6CwEngOYjxhLmcbhBg6DAAiAwOoJpOoMW2HQTvtJ23cnEAwl+CAbjPansCla6rye1PEcvOJ8lmT7t2W760+Z7ywEXg/blAKuz1aPCzgFAiAAAqsnkKoz1GJGL9g3hR7fsZkPaQk+yNppf0oUS2IUT7aBals9VUNWZGHbsj5zuQ6B50G+T5zFnPMoGklAAARAYPUESugM1wq5aIGnoG+8u/dM3Gyx3KiU0KYh8ALaT4yYk3kDikRSEAABEFg9gRI6w7VCLl7grRR8CW0aAi+icUnR1rcdUQSyggAIgMDqCZTQGa4VMgTePJEtoU1D4M0Te5QKAiAAAiDQECihM1xrMCDw5olsCW0aAm+e2KNUEAABEACBhkAJnSGCAQIpCZTQpiHwUkYUtkAABEAABIIJlNAZBjuNDCDQQ6CENg2B1xMgnAIBEAABEMhPoITOMH8tUcI2ESihTUPgbVOLQ11BAARAoEACJXSGBWKBSwsmUEKbhsBbcAOC6yAAAiCwBgIldIZr4Ig6lEOghDYNgVdOe4AnIAACILCVBEroDLcSPCqdjUAJbRoCL1t4YRgEQAAEQMCHQAmdoY+fSAMCvgRKaNMQeL7RQjoQAAEQAIEsBEroDLNUDEa3lkAJbRoCb2ubHyoOAiAAAmUQKKEzLIMEvFgLgRLaNATeWloT6gECIAACCyVQQme4UHRwu1ACJbRpCLxCGwfcAgEQAIFtISA7Q2yfEhisi8Fc1zEE3lzkUS4IgAAIgEBFAIJmXYIG8ezGc67LHAJvLvIoFwRAAARAoCIAQdAVBOCxLh5zXeYQeHORR7kgAAIgAAIgAAIgkIkABF4msDALAiAAAiAAAiAAAnMRgMCbizzKBQEQAAEQAAEQAIFMBCDwMoGFWRAAARAAARAAARCYiwAE3lzkUS4IgAAIgAAIgAAIZCIAgZcJLMyCAAiAAAiAAAiAwFwEIPDmIo9yQQAEQAAEQAAEQCATAQi8TGBhFgRAAARAAARAAATmIgCBNxd5lAsCIAACIAACIAACmQhA4GUCC7MgAAIgAAIgAAIgMBeBlQm8v4ie/ovoPw+I/p4LqaXcd18T/Uf51Xxe/mxJNHDolwdtfrajvn/5ayAjToMACIAACIAACGwbAQi83BF3CbOn34WV7LIDgRfGEalBAARAAARAYAsIQODlDPLf37Wjbu+akba/fxbHAgpngfcuIA+SggAIgAAIgAAIbCWB9Qq8d98107X/Inr6deCUrRBhcjpUbYeMvPHUrJ6S/YvopZhqDRl9g8DbygsUlQYBEAABEACBMQRWKvDEejct0L4O4JNI4LEo++Vnol+MdXjKLy38PFxjW7o+D8LyexSBJCAAAiAAAiAAAusgsF6Bp8UT33jxL6Kppzc3RFkj6jZG9jwak81WqEj0KAZJQAAEQAAEQAAElk9gpQLPuIuWxVHIlGiK2HK5LMT4zl4+HuOPmoKuRvNCRiZTVAo2QAAEQAAEQAAESiewfoE36qaGRFO0+iYLIThtx7iV8Po8PfrIJyzfEHgWKDgEAiAAAiAAAiCgCKxU4FnW4IXcHEGJBJ4i/NLiC4/oddqgLNMclRPTzNWonbAZMwrYKR87IAACIAACIAACayGwPoHHo2BaCM19M8JfRDwlW/n0gEjddGH7Y983RvAsAk/dGcyPXrHZwjEQAAEQAAEQAIGtJbAygbe1cUTFQQAEQAAEQAAEQEATgMDTKLABAiAAAiAAAiAAAusgAIG3jjiiFiAAAiAAAiAAAiCgCUDgaRTYAAEQAAEQAAEQAIF1EIDAW0ccUQsQAAEQAAEQAAEQ0AQg8DQKbIAACIAACIAACIDAOghA4K0jjqgFCIAACIAACIAACGgCEHgaBTZAAARAAARAAARAYB0EIPDWEUfUAgRAAARAAARAAAQ0AQg8jQIbIAACIAACIAACILAOAhB464gjagECIAACIAACIAACmgAEnkaBDRAAARAAARAAARBYBwEIvHXEEbUAARAAARAAARAAAU0AAk+jwAYIgAAIgAAIgAAIrIMABN464ohagAAIgAAIgAAIgIAmAIGnUWADBEAABEAABEAABNZBAAJvHXFELUAABEAABEAABEBAE4DA0yiwAQIgAAIgAAIgAALrIACBt444ohYgAAIgAAIgAAIgoAlA4GkU2AABEAABEAABEACBdRCAwFtHHFELEAABEAABEAABENAEIPA0CmyAAAiAAAiAAAiAwDoIQOCtI46oBQiAAAiAAAiAAAhoAssWeH/+REd3vqJzXZ2xGxf0vzv36H9/js2/oHzJmBl1zmXXKGaa3YW3B8RimmYyaSkLb5OTskJhIAACikBBAu+Czr/9ip7fuk2PxefoR1egfqIjTvfFT65EXsf/+fZeU+bSRN58zLpg08WC7XJMnn97wYcm++ayH99aWntQiBCLyRqKUdD5F81v152n9I9xLnZ32W0ytvbIDwIgMIZAMQJP/ziyaGu+7QJP/W827Y9pW36KEcExoQjP0/rsI4rTM6s9Tmm3GZFVI6k/flWJ7ir+qUak/vyJ/veFn5hv2S6nPRAtIxb//PiUju5wHFTbvUfPv/jJKYqWEgvtZwaBp641bf/Wktpk+O8acoAACKQhUIbA+/OpHrl7/q37h56r3P5vNuUPnegcI0cE2c+s30UwI0oZi9bWPTr6ohZ4z79oR3VHj+Z1hB2L4aHRuYW1B1pGLM61wOY4iG+nMFpGLLQAc9Yj9hdhGRxia4n8IAACaQiUIfCa0RqvKTEhbOyjexFgtB+3KbntCLesWbWvQ0KFiHIxy2D3n2q0To7u3KbHap3ln+OnanXHe+s2PdcjRx7cNOMFtIeFxKKaQlbrXX/keKplBm28ndfdAmKh21k2gdeObKtlLE5W1h8MHAQBENg2AosTeHqUx/UjKjq6x8ZInM7rXFu1oP8h6w5vWKjoeruYjWz1g3ZHxGJY4LUxcnZwzIbr++NX9PyLp3Qupn69/jMhpzyNtjQSWZVNc8thk+tsOKjLtLb9lqm8ZrLEwvCr2hXtxD1Ka/fRZi7kmOaSIBZa4Knp5moamkcn79FRsrWkeTiEMENaEACBZRCYT+CJH3V5U0Vne6Ozan/c3B2BnKoS/8sV5fXl5bVfj0tc5yLq0OEk1y2OZBbeXNPHQne2t/qmaD3KZYFn67T5nFXoWCjo9OmWA+h62vyzuDB8yIOJaDsb7V+fa/+zoH3MGQuumC7/Nm34xmnUd+Gx0AJPXo9iu7dusp5D2xk4DBWJ8yAAAssjsCyBpzuCtiNyIW9/bOuOWe8PdaoBZbjKVsd1eeIHviPKNoRYn7XmnPaNRwYs36ZdnWeYmYcHbZIAuy2LoVj43WTB9lwdJosT63ndOXryCKhnC6d/i/2To2X9OQbOevrI3B4bbcR+fIJYNNXSPIZEt2c9B2h1Tuuyh34XOrnsO5qjuubvNCPGchQ41X8aM3Cw1whHQQAElkxgPoEnqfl2ur7pKtvicRF63ZXPKEybzzkFKH13bHd+7G0iz+hkHWbch31Z+KZzl2Q/E2S3ZfrYMxbc8dpEGp9jgcT7nJbZW+MX5Leqeuu71Z6dTu9R9pf9703sc9K3TtZ0w/Vjf5mvdInPcV14n9P2xkIZ0mLlNrENab+7PexrN/3wHvs7XPawLa5rtWZUJrdylwlCt9NzCPUA6UEABMonsFCB5yPU5JROPdLl10Ev5MfTt9PQ6TyZ+bbZULs6fUgsHM6wrWrUpZ2e5JEp7mit8ea8Q6NFuugE7UGKGJvYb45Z/dV+9GzoOg3FuK0LC7DoaU8ue0wshHjm2PXUMo3YzhgLbncbdRFljo5xB0wbxzT2OsaxAwIgsBICCxV4ntNr3Pk0Haju1HqDt5AfT123ARa+6XqZWE6G2tXpa4HnFwtLueoQd5hqFLTZru+OVSxY8Dm4aD8c5zeKTNAe2N8ecaem70d31gF10iNWzQgyi5LR8eC6BcdCTQE3Swy8R7PLjgWzhMDbuIhwAARAYAYCyxJ43Jn4dIYybfNMNa87J3U+XwFgj5r+sXd16t6dmt1+O/Iy4KeuT4SAsLkQYlemDYmFrdzqGHf0XzWP2FCP3aifpaieo1g/BNsxmhUghqqitO8DnJ2+bp7QIivBuq+ujx4x7tSHOcbUjW2ExIJFeL1WzfutDx3fN7mOOZIyFvqaN65tXYb3qPFATTJwGCgRp0EABBZIYFkCT0zp9I84iA6k6URdP74bMdMCwCEQNjLYD+jy5hZ43szs9XAf5Y594M5Hucg8NBbOwjm+9+i5GgWqOtTm2J179UOzjU5Wm9Lx9RQ1On1ce9DlywcSpxJ4QTFmds3omWqfLlbSaec22/ONBadX5QYyLTwW+poXPNXjUvTrF8VxJ06fExk4+BSLNCAAAssisDCBJ+5O7fmx1D+08q41/b/e/sXcOm+yzjdTg9A/8sNCRdeph9kYL33s6jQjYuH2SYgE9fDi5hlj7UhJN8ad41bB7RYa2v+E7UH7k9Cm9tMnxrrtJFgPKQX8YCy6cevcVa7jstxY6BjouggRnWr0Tt6hn7D9uK81nAEBEFgqgcUJPL3+yjVNKzov7vg5OLpjdeXVInBYNLHN2b51PT181fXymMILqdCQXe1jK8LY/GAsOKHju+1MRf0d5cmygkSFrp8ow+FPyGHtT8oOWvvqE+N29DVu9K6utX8sIgSerl+5seB37OoRu0roNe/ZVQ/ZTvGXiUMK12ADBECgLAJlCLxAJm2H4v7ffqBJ6ryoPWXHG+5Ilhx5mIkRVTlCl6UGUxsVYmQh7cE/xq3AM/8TNDVlv/KWFwu/eoWmAodQYkgPAttMYJECTz6bLMUIhGoA/p3jUptL26mnYlaTyGV3Xs7LbA8esfiTb0KJXXs3XXyWGYv0fMAhPVNYBIE1E1iowBOPylDTIJEjLHrKLOE6mSIbjZ7eiWfWqV8uu51CpttZdHtwxUJMX9fT1GmnOnNFZ9GxSAgFHBLChCkQ2BICyxV4KkB/PqWj0DvxrIFVUx/L6PCs7occTMbMKDSXXaOYaXYX3h5ssRAC77m6ZlKtCcsekIXHIhkfcEiGEoZAYEsILFvgbUmQUE0QAAEQAAEQAAEQCCEAgRdCC2lBAARAAARAAARAYAEEIPAWECS4CAIgAAIgUBaBuzunlPtTVo3hzdIIQOAtLWLwFwRAAARAYHYCucWdso8/EIghAIEXQw95QQAEQAAEtpIABN5Whn1RlYbAW1S4ynY25Q9e2TWFdyAAAttOQP7epWSRy25KH2FrGQQg8JYRp0V4qX6YUvylspPCF9gAARAAARuBXEIsl11bHXBs3QQg8NYd30lrl0qYpbIzaeVnLEx2CKm3Z6wWigaBognIay2lo7nspvQRtpZBAAJvGXFahJfqhynFXyo7KXxZgo1cvHLZXQJT+AgCQwTU9cGfobQh59kmrr8QakhrIwCBZ6OCY6MIpPpBGmPnw+EP9Orwwyi/fTJ9OPyNXn1zSflK8PHCnmYML7ul7tGxdnPGouQ4dOlhb+0E1PXBn5R1ZZtjr7+UvsDWsglA4C07fkV53/eDdHlyQbviB3H34IYuHd732bFlUYLiv59/T//NJsA+0O9ffq/LsPkw57FQXr6xCLWrGOSNRdlxmLMNoOzpCajrgz8pS2ebY66/lH7A1vIJQOAtP4bF1MD1g3R5eKZ/COWP1929a6vI03b+fErPb92mox97qnjyWy28vvxj5OjaB7pUo3Ms4Jx2WnHx60mPPzOc0rw8yg6JRcdu9lgsOA7vvib6z7/az8ufPSJhJPnlQZtf2vrlLyMhdkshIH/LUvqUy25KH2FrGQQg8JYRp0V42REE7PHVtR652z/5VB+9uqH95n+/+xaxpOw8/+In+keIin++/YqOvr1gq803i64f6Pcr45TXLudvRufUKKBT4BHR1R/0SqX5/DerMPUqMkMiK3dbOYGxqOz++FWCWAxNbC84Di5h9vQ7WwTcx1x2Fi7w3l8/oftH/6bPms/907f03k3Beub9+UOdn+2o7/vnoy56axn2g5/o+OCM9O+WkUhdH/wxTondT3R8eEG7e01ax39qRQZt0/u6lpmxDQKCAASegIHNOALWH6STi/oH6+CmMV7/aPJ07e5hI/pE0crO41u36fGde9UI3vM7t6v9SvSJdNSM3sWsvavWi6mpXRZvfQJPTEFGjeL9+FVdnw3BKivnv23lbsseGAtl9/zbe5PEYpY4KEYxsfj7u3bU7V0z0vb3z+KYLQiOYyzw3jnOL/CwS5h99uZlkMhz2cku8MR/iGxLStT1wR97eD7RCxZ2nBYCz44KR7MQgMDLgnU7jdqEBk8J7h7e1P+T5R86/tbCr2VW2fnzJzpqhN3jW/fof3+253nr8hs1mjZ29I6tNN+eAk+P4n3jWkFo2LXtxogKiz0bd0syCo2FtjtlLKaMg4IUEwuemtVTsn8RvRRTrSGjb5MJvJ/oSP3nyfa585T+sTWcMcc+vtQjd4+um5G2j2/pUTOS9+ja3ygLvJA8/dbbGQTVxjufDQEmRJpxTuZzlaeuuUocslg0bNjy+di15cMxEDAJQOCZRLA/moD6YTL/WFTIH63qB29jNKnNqdIOj+DxtF6i6VJfYUGX9OvQVG5bFftWjKiwWLRxtyTTAs83Fiqd3whewlhMGQcFKSYWLMp++ZnoF2MdnlpHp4WfLRrGMbal1989CMtvmHPvTiTwrp/U06qnbxtXruj16UMt+kJG3+YVeMr9etahum72Lui40avyOnLz5uo3S1Ug8AZRIUE6AhB46VhuvSX1g2f+SYFX/0+2TsHHXVO0w2vwfERFI8aqdXPNOjvXFGxuYdEICevIydCNJCZUY9/G3UhS7TJzld4nFpVdrzV4Q7EoKA6KRKpYbIiyRtRtjOzZomEcs9kKFYmGyTl3WZTdP39Lr8+76/CqdXRa+A17ybba9XcPacxavuGS+lO0188FHRN1Rv76c6r1uxB4g4yQIDkBCLzkSLfXoFVo8A/bzhm94DXRtmMCm7YjbrIQp5vNIVGhkhUkLFKJik0QVUdjObx5yMbddqzJqeOg9qNiUVAcVF1SxUKKMjVa93cDjo+HTNE2WfXXO17f97U+tKSNTVH271qUbYzsDdfKZitUJA6X0pcCI3h9dHCuXAIQeOXGZnGedQSB8P74wFjnwuteLOvvVDaXHWGy2qzX4H1PUTc8sFHfETxOt8A1eKqqIbHwjYOymywWzNc10mrGKyYOylYj9p6PueFF32TxoBV3tmPsM6/P85m6zSbwppmilaKsGm37WEPg4yFTtIyPv99f8/q+J/SaDwZ9T7cGT7vF/5HCFK1Ggo38BCDw8jPemhLcgkA9KuBMPy7l7s4Z7R8meNAxPwMvopNnYVI9KFlO5Tpu3uAH+UaJyhhRYWlNbu6WxGo9kWcsguxGxmKWOCg8sbF4KZ5/p9fPOdbf6fPmqNxfRE8ddmJGAW3hp2kEHumbLB7Ss0bcWY81Pv7f//d/qjV7SgwO/U0m8FiU8ZIGwzF1ffDHOLW5y7Yg8DbZ4Eg2AhB42dBun+EgQdCDx98OT9OOv5M2TFjwVGPkjR2xosJg58/LyDiwG2Y3LhazxEHVPzoWfxHxlGwl4B4QqZsubH/OETyLwHv6NRE/esVmawHHXp+2z79r18/9mz7bEHHt3bWfHZmjclf07I3dTswooB++emo25jl4zhFzuWTFcEZdd/wxTmEXBIIIQOAF4ULiPgJhgsBtKcgOjxwNTem5i/M8wwIm0ZSwZ6k+yYJ4+Rhs0gTbnSQW5cYhAO2WJL2i1+ftnbOfHT2kR+f2Bx2rO2yVCNwcux9hDQAAIABJREFUwdsUePffPKFn/OiVGUmq64M/Ljcg8FxkcHwKAhB4U1DekjKCBYGDS6gdnjbN+S5aHmF6FTEd7Khu9OFQXr4FjrGbNxYf9Fq/EuPgyxXp1kFAXR/8SVkjtjnm+kvpB2wtnwAE3vJjWEwNUv0gjbFTvQnhcOiVWONRVfYLFHeqRmN4+ZAYazdnLEqOgw9TpFkPAXV98Cdlrdjm2OsvpS+wtWwCEHjLjl9R3qf6QUplpyg4GZ3JxSuX3YwoYBoEJiOgrg/+pCyUbeL6S0l1O21B4G1n3LPUOtUPUio7WSpZoNFcvHLZLRAhXAKBYALq+uBPcOaeDGwT118PJJzyIgCB54UJiXwIpPpBSmXHx+c1pMnFK5fdNTBHHUBAXR/8SUmDbeL6S0l1O21B4G1n3LPUOtUPUio7WSpZoNFcvHLZLRAhXAKBYALq+uBPcOaeDGwT118PJJzyIgCB54UJiXwIpPpBGmMn58J+VfcPh7+RunMz320cPoTtacbwslvqHh1rN2csSo5Dlx721k5AXR/8SVlXtjn2+kvpC2wtmwAE3rLjV5T3fT9IlycX4k0WzcvuHd732bFlUYKiehNFNgHWPntNPYqltL8wXupNFhe0u9d0Tj1P1g+zW1PJG4uy41Bau4A/eQmo64M/KUtim2Ouv5R+wNbyCUDgLT+GxdTA9YN0eXimfwjlj9ddh7jQdnpfcN9UO/rhuh/oUo3Offl9LRKdD0xuxUXUa8oyREvzGrT9iV6wsOPOyREDZapjN3ssFhyHd18T6deQOV5TNhSbztswxGvLkr+qbMgRnPclIH/LfPP4pMtl16dspFkXAQi8dcVz1tp0BAF7wu9g3Dkl/cqfq/Zl3/snnLD9Vnaef/ET/SNExT/ffkVHGy+EZ9E19lVlnL8Rd+pdtE6BR0RXf9Cr6n21ka8qa6uaZMvK3WFZie3dgxu65LgMCbwfv5ogFguOg0uYPf3OEQHHYZedhQu899dP6P5R+6ox9aaK9w4ErsPvz+u3XHRed6beenF+5cqS6Hj8q8qUIyGzFyo9BF6i8MEMQeChESQjYBUaJxf1D9bBTVNO/aO524wg7R5+2ihf2Xl86zY9vnOPnt+6Tc/v3K72K9EnUzejd68iHnBcrRdTU7ss3voEXrUWr54OjhrFi37/qYRgjLR1T7n3PAXe+bf3JonFLHFQdGJi8fd37cgdvzf275/FMTf+jTMs8N5tnFnsAZcw++zNyyCR57KTXeDxNbJjX1LiI8RCZy9UsH3sLrZRwPFJCUDgTYp73YXZBB7/wO0e3tRrv3hqkL+18GvZVHb+/ImOGmH3+NY9+t+f7Xneql8fNnb0jq00354CT4/ixazFixEVhttq18bdkqx7iDuvoRE8lWvKWEwZB1W3mFjw1OzLnxu2fxG9fNAKvJDRt8kE3k90pP7zZPvceUr/dFvJ+L2PL/XI3SN+b+zHt/SoGc17dO1vmgVeSJ5+6+0MghRT1fbG9SCWNRjnZF5reXyNBcxeKDuDdq2F4SAIbBKAwNtkgiMjCagfJvOPBZ780aqmCDdG9tqcKu3wCB5P6yWaLvUVFnRJvw5N5bZVsW/FiAqLRRt3S7LuIe58jE5LJlJ2/UbwEsZiyjioysbEgkXZLz8T/WKsw1Nr8rTwk1Qd22xLr+V7EJbfYXbz8EQC7/oJVVOqp28bF67o9elDLfpCRt/mFXjK/XrWofoN27ug42ZmuNpv/qO6yZmINn7jhmcvlJ1Bu9bCcBAENglA4G0ywZGRBNQPk/knBV699qtOwcddU7TDa/B8REUjxqp1cwM3UeQWFo2QsI6c3LpNRz+a5Pz3bdwHc3sKPCWA4mNRUBwUmFSx2BBljajbGNkbjAaRzVaoSPQoZqokLMrun7+l1+fddXhd4TfsEdtq1+A9pDFr+YZL6k/Bv1l3dy7o2EOIcfqQ2QvlAQRefxxw1p8ABJ4/K6QcIGAVGiwkds7oBa+Jth0TtrUdcZOFON1sQuAxE82LD/h8cwwGRvC0qahYbIHAU6N1fze0WKyFTNFq0M3GO17f97V5ppD9drpVCy+xtm5TlP27FmUbI3vD1bHZChWJw6X0pRg3gscCTwq2odkL5YVM3+cVzoHAEAEIvCFCOO9NwCU0jg/a50XJH6+7lvV3qjCXHdOReg3e9xR1wwMb9R3B43QLXYPnjIUU4A0T3zio5MliwXwHbnZJshZSOR4zRatvsnjQijvbMW5jvD7PZ+o2m8BLNUXrL/Cq0baPNQQWayFTtIyPv99f8/q+J/SaDwZ9T7MGTwo839kLVQ35GxlULSQGAYMABJ4BBLvjCbgFgXq47pl40PEZ7R/ekOuRwW47hm/8DLwIscXCpHpQspzK/dx+8wY/yDdKVMaICgOB2vXmRUS5BB5FxOL3q1YgThoHBS82Fi/FM+v0+jnb+jtxd+1/zFG5v4ieOuzEjAJa2gpRKoFnNd4e1DdZPKRnjbgj27Emh1qfp0bllBgc+ptM4PEo99i7aHV+9+yFntUQlYbAEzCwGUUAAi8KHzJLAiFCQ+Yzt/3t8DStXYyZdm37YQKPpxojb+yIFRVGRfx5GRkHdsPsjo9FuMBLFAdV/+hY/GWsn3tApG66sP05R/AsAu/p10T86BWbrQUce33aPv9OT+Oqu2g3RJwcDTRH5a7o2Ru7nZhRQD989dSsfn6nkUldH/wxTuld53+omtkLCDyNChsZCEDgZYC6rSbDBIGbUpAdHjkamtJzF+d5hgVMoilhz1J9kgXx8jHYpAm2O0ksyo1DANotSXpFr8/bO2c/O3pIj87tDzp2j+BtCrz7b57QM370yowk1fXBH7cbYbMXyg7bDL7+3E7gzJYSgMDb0sDnqHaqH6RQOzxtqt4T+yFHxeiDXmP2KmI6OItrgVO0IT6ExkHZzhuLsuMQwhZpl09AXR/8SVkbtjnm+kvpB2wtnwAE3vJjWEwNUv0gjbFTvQkh4o0WQxAr+wWKO+X3GF5D9Y2xmzMWJcfBhynSrIeAuu74k7JWbDPXdZ3SV9gqmwAEXtnxWZR3qX6QUtlZFLwIZ3PxymU3oqrICgLFEFDXB39SOsU2cf2lpLqdtiDwtjPuWWqd6gcplZ0slSzQaC5euewWiBAugUAwAXV98Cc4c08GtonrrwcSTnkRgMDzwoREPgRS/SClsuPj8xrS5OKVy+4amKMOIKCuD/6kpME2cf2lpLqdtiDwtjPuWWqd6gcplZ0slSzQaC5euewWiBAugUAwAXV98Cc4c08GtonrrwcSTnkRgMDzwoREPgRS/SCNsZNzYb+q+4fD30jdQZvnLl0fuu40Y3i5rbVnxtrNGYuS49CSw9Y2EFDXB39S1pdtjr3+UvoCW8smAIG37PgV5b37B0k9C+qCdveaH8Se95+qCrnt2KurBEX1BoRsAqx99pp6FEtpf6G8Lk8uxFtFTql6jZKlUqF2lYm8sSg7DhaEOLRiAur64E/KarLNMddfSj9ga/kEIPCWH8NiamD/QfpEL1jY8Q+ir8DrfcF9U+3oh+t+oEs1Ovfl97VIdD4wuRUXUa8pyxAtO3d7QfL9mLIjuWuJScdu9lgsOA7vvibqfU2ZPRado7886Npge8lfVdYpFTsRBOT1E2FmI2suuxsF4cDqCUDgrT7E01WwIwhEsUpU1C/bvq5HjixiQiSv/lf8/Iuf6B8hKv759is6+vZCJlPjRfR7JczGvqqM8zfiTr2L1inwiPQL7j+PfFWZUYvYXRf3Dbv63ZinpF+/dNW+eH3/pJujsvvjV5Q/FguOg0uYPf2uC3Noz2Vn4QLv/fUTuq9eT9Z81Ltm3w+xMM6/P6/fU8s2+HsJrypTVbGNmPe9cRcCz2gA2B1NAAJvNDpkNAkMCg0WGB4C7/Gt2/T4zj16fus2Pb9zm9R+JTRkoc3o3auIBxxX68XU1O7VH/RqSOCJKcioUbzo959KCAFT2icX9ZRS8x5Movpdm7vNyOru4aeOYRXP82/vVexzx2KWOKjaxsTi7+/aUTd+b+zfP4tjHZz9Oyzw3vUnW9JZlzD77M3LIJHnspNd4PHv1Y59GYOPEAsZMefY+tjltPgGgT4CEHh9dHAuiEBKgUd//kRHjbB7fOse/e/PTVcuv1Ejb2NH7wx7ngJPj+LFrMWLERWG22p3kHuThzub3cObek0kT5nztxZ+dQZtd8pYTBkHVc2YWPDU7MufG8J/Eb0UU60ho2+TCbyf6Ej958n2ufOU/mlqEv318aUeuXvE7439+JYeNSN5j679S2CBF5Kn33o7ai3FVLW98Z9PscTEOCfzWssTAtFnxJxtDNrlhPgGgQECEHgDgHDan4D6Yer94x8844fSzKPsDI/g8bReoulSX2FBl/Srx0ifWafOfoyo6Biqdwa5N3lY4MkOpJo63xjZa+36jeAljMWUcVDVjIkFi7Jffib6xViHp9bQaeHXBKDvi23x2rv/PAjL32e7c24igXf9pJ6WPeXJyCt6ffpQi76Q0bd5BZ6CV490V9fN3gUdX9VA5XXUQcw7G9dV/4g5Zxu0ywnxDQIDBCDwBgDhtD8B9cPU+xcg8IbXffmIikaMKUHGH9cau9zCohES1pGTW7fp6Mdecr0nB7k3uaXAq9dE1if4uG2KVgmg+FgUFAdV5VSx2BBljajbGNnrDV990mYrVCR6FDNVEhZl98/f0uvz7jq8ag2dFn7DHrEtXnv32dFDGrOWb7ik/hR8ndzduaDjZuScxZgtJ6f3HTFnG2zT97rmfPgGAZMABJ5JBPujCQz+IAUIvMoJcZPFplMQeMxkkDsnZP47Z/SiGYUg27EmfcduVCy2QOCp0bq/G3As1kKmaDlG/P2O1/d9zUcK+26nW7XwEmvrNkXZv2tRtjGyN1wtm61QkThcSl+KcSN4LPDUdcSfvhFz9oDTdq4/PolvEAggAIEXAAtJ+wm4fpCOD9ofOPnjdVcKDWHaZUckqTbrNXjfU9QND2zUdwSP0y1wDZ6qqjMWxvo7ldY3DiptslgwX9dIqxmvmDgoWzFTtPomiwetuLMdY595fZ7P1G02gZdqitZf4FWjbR9rCCzWQqZoGR9/v7/m9X1P6DUfDPqeZg2eFHg+I+ZcBfkbycfwDQJjCEDgjaGGPFYCLkHgFBWRAo/4GXgRnTwLEz2Fy1O5jps3+EG+UaIyRlRYyLu4W5LW64nUY2v0qMIZ7R/ekO3xzUF2I2MxSxwUoNhYvPxXe9esXj/XTNXyiB4HQp83R+X+InrqsBMzCsjldr5TCbyO0c0dfZPFQ3rWiDuyHWtyqvV5alROicGhv8kEnh7dHnkXrc7vN2LO9YbAYxL4jiUAgRdLEPk1gSBBoHNtbvjb4Wna8XfShgkLnmqMvLEjVlQYyPx5GRkHdsPsxsViljio+kfH4i8inpKtBNwDInXThfozBZ5zBM8i8J5+TcSPXqmtLe7f16ft8+/0NK66i3ZDxMnRQHNU7oqevbHbiRkF9INZT83qO2CNTOr64I9xSu86/3NrGTHnTGwz7Prj3PgGgZYABF7LAluRBFL9IAXZ4ZGjoSm9yLq1D1VONCUc7U9rIIhXm21wK9juJLFgIVleHAaBbl2CK3p93t45q26OeHRuf9CxewRvU+Ddf/OEnvGjV2Zkqq4P/rjdUK9p9BsxZxtsM/j6YwP4BoGGAAQemkIyAql+kELt8LSpek/sh2S1kYY+6DVmryKmg6XFlNuhvHzLHmM3byzKjoMvV6RbBwF1ffAnZY3Y5pjrL6UfsLV8AhB4y49hMTVI9YM0xk71JoSIN1oMQazsFyjulN9jeA3VN8ZuzliUHAcfpkizHgLquuNPylqxzVzXdUpfYatsAhB4ZcdnUd6l+kFKZWdR8CKczcUrl92IqiIrCBRDQF0f/EnpFNvE9ZeS6nbagsDbzrhnqXWqH6RUdrJUskCjuXjlslsgQrgEAsEE1PXBn+DMPRnYJq6/Hkg45UUAAs8LExL5EEj1g5TKjo/Pa0iTi1cuu2tgjjqAgLo++JOSBtvE9ZeS6nbagsDbzrhnqXWqH6RUdrJUskCjuXjlslsgQrgEAsEE1PXBn+DMPRnYJq6/Hkg45UUAAs8LExL5EEj1gzTGTs6F/aruHw5/I3UHbZ67dH3outOM4eW21p4ZazdnLEqOQ0sOW9tAQF0f/ElZX7Y59vpL6QtsLZsABN6y41eU9+4fJPUsqAva3Wt+EPeurW9O4Mq47XCK7rcSFNWbKLIJsPbZa+pRLKX9hfHyj0WY3ZpK3liUHYfS2gX8yUtAXR/8SVkS2xxz/aX0A7aWTwACb/kxLKYG9h+kT/SChR3/IPoKvN4X3DfVjn647ge6VKNzX35fi0TnA5NbcRH1mrIM0bJztxUUFouO3eyxWHAc3n3dfV2Zz7tmzfB03oYhXluW/FVlZsHYH0tAXR/8GWvDlo9tdq4/W0IcA4EBAhB4A4Bw2p+A6wdJvXS7ftn2df0OVA+B9/yLn+gfISr++fYrOvr2wnCGRdfYV5Vx/kbcqffQOgUeEV39Qa+qd9VGvqrMqEXsrou7zW5ILCq7P35F8bEYmthecBxcwuzpdzb87mMuO4sWeOpNFk/oPr9q7M1Leu8m4Dzz/rx+T23ndWfqvbXnV848aU7Ev6pM+XF5ciHe/Wx/r630V113/JHHsQ0CoQQg8EKJIb2TwKDQ4Jdvewi8x7du0+M79+j5rdv0/M5tUvuV0JClN6N3ryIecFytF1NTuyze+gRetRavng6OGsWLfv+phDDyQccesVDxPP/2XsU+dyxmiYPCGBOLv79rR+74vbF//yyOdePUu8cC711vqgWd3HzF2GdLE3h8jezYRRmLsL7fPfUfKplOb/f8Buo0O6cLijdcLZEABF6JUVmoT30/dFWV+Aez58dNpavs/PkTHTXC7vGte/S/Pzeh1C+oHzt6Z9jzFHh6FC9mLV6MqDDc1rwsx3sPecRCx3PKWEwZBwUoJhY8NaunZP8ievmgFXgho2+TCbyf6Ej958n2ufOU/ultNGEn1cjb/dO39P7jS7p/9G+KFXiPrsPKd6e+oX0xSiYF1d2N3yaxrME4J/NZy+JrbOeU9k8+1Umu2rL3T6y5OoLQngJHQcCPAASeHyek8iCgBYErLf/gGT+UZnJlZ3gEj6f1Ek2X+goLuqRfh6ZyzQqZ+zGiwrTFgthyvPeQRyxUHPxG8BLGYso4KEAxsWBR9svPRL8Y6/D+8y8iLfx6I1GfZFsqX/V5EJbfo4g6yXQCT7u0aIGnalFP1VaCbu+CjpuZ4Wq/EYq6rnLj5KIWawc3zdHazm6TZ/ewEX0yT3M9s23jFHZBIIgABF4QLiTuI6B+lHr/PESFyq/sDK/78hEVjRir1s0N3ESRW1g0QsI6cnLrNh392Euu9+Qgd1tuj1hUdr3W4A3FoqA4KBapYrEhyhpRtzGyZwuAccxmK1QkGiaL2U0k8No1eM3I4MQVbKdbL+jYQ4hx+t3Dm/opAuaooRZ+3Yqo644/3TPYA4EwAhB4YbyQuofAoNDwEBXKvLYjbrLYLHZIVKgcBQmLVKJiE0TLy3LOecgjFjoOykhULAqKg6pLqlhIUaZG6/5uaPPxkClaM1DveH3f1+aZQvbf0iM17So/rjV2yQVeU+7p24lYjBvBY4HHYk19VzebbYzsdash03fPYA8EwghA4IXxQuoeAh1BINIdH7T/I5U/Xnd3zuiF5UY4lx1hstqs1+B9T1E3PLBR3xE8TrfQNXghsfCNg0KYLBbMd+BmlyRrIZXjjdh7vnGHNjeMnm99k8WDVtzZjrEJXp/nM3WbTeClmqKdTuAxPv5+f92s6Tt6Qq/5YNB3uw6u+3t0SinX4EmBVz9FoHaSj2OKNihoSDyCAATeCGjIYifgEgQhokJZdtnZKJWfgRchtliYVA9KllO5n9tv3uAH+UaJyhhRsQEhgBcRhcTCOw7Kp8hYzBIH5XdsLF7ymjnj2ybi9Po6c1TuL6KnRn5OGzMKaGkrRKkEntW4/aDHCN7r0/pRKOqmjKG/yQQej3LzyJvhmBSHxql6V+cX/5G1HTMyD9o10mMXBFwEIPBcZHA8mECQIOix7m+Hp2ntYqynCH0qTFjwVGPkjR2xokJ7X2/48zIyDuyG2Y2LxSxxUPWPjsVfRDwlyzdHqJsubH/OETyLwHv6NRE/esVmawHHXp8aU7h6OvchPfsoKyBHA81ROcvjVho7S3gOnvM/VI71d4qKuu74IylhGwRCCUDghRJDeieBMEHgNOM/gqdM8MjR0JSeuzjPMyxgEk0Je5bqkywVd7OsYLuTxKLcOJj8tn3fX+ARuUfwNgXe/TdP6Nm1ZW3HxMBZhPVfJ+rVgGfiQcdntH94M/iqRrY9cZVQ3MoIQOCtLKBzVqf/h87fs1A7PG2q3hM79M4Efy9kyg96jdmriOlgaTHldigv37LH2M0bi7Lj4MsV6dZBQF0f/ElZI7Y55vpL6QdsLZ8ABN7yY1hMDVL9II2xU70JIeKNFkMQK/sFijvl9xheQ/WNsZszFiXHwYcp0qyHgLru+JOyVmwz13Wd0lfYKpsABF7Z8VmUd/KHKXZ7URWf2dlY1n35Z64aigeBYgnI6yalk7nspvQRtpZBAAJvGXGClyAAAiAAAgURyCXEctktCB1cmYgABN5EoFEMCIAACIDAegjkEmK57K6HPGriSwACz5cU0oEACIAACIBAQ0AKsVzbgA0CMQQg8GLoIS8IgAAIgMBWEsgl6qTdrQSLSicjAIGXDCUMgQAIgAAIbAsBKcRybW8LS9QzDwEIvDxcYRUEQAAEQAAEQAAEZiMAgTcbehQMAiAAAiAAAiAAAnkIQODl4QqrIAACIAACIAACIDAbAQi82dCjYBAAARAAARAAARDIQwACLw9XWAUBEAABEAABEACB2QhA4M2GHgWDAAiAAAiAAAiAQB4CEHh5uMIqCIAACIAACIAACMxGAAJvNvQoGARAAARAAARAAATyEIDAy8MVVkEABEAABEAABEBgNgIQeLOhR8EgAAIgAAIgAAIgkIcABF4errAKAiAAAiAAAiAAArMRgMCbDT0KBgEQAAEQAAEQAIE8BCDw8nCFVRAAARAAARAAARCYjQAE3mzoUTAIgAAIgAAIgAAI5CEAgZeHK6xuEYHjg1O6u3NKdw9utqjWqCoIgAAIgEDJBCDwSo7OYn37RMcHZ7SrRE/z2d27oOOrxVao1/EyBd4N7Wv+Z/Siw57Pmcd94vaJXuy1ceX43t05o92D69XGuLcBDJ5k3oqbyZzPmccRi0GsSAACINBLAAKvFw9OhhPgDssuAvZPwi2WnqN8gXdKu4efBEaOkRQVfGwobi6Bx/ku6FiUhE1FoMsWsUCrAAEQmIIABN4UlLemDNn5ixG7K9nBrU8ALEHg3d2R3DkeLPBC4ibSiinpy8OzdrS2Iya3pvH3VJR520Qwn0MsegDiFAiAwAgCEHgjoCGLg8DVtZ6W3RipO7nQAoDPsTBSIxqXJxc6r5rG2reKhE90fCjTndqnBbmsvWu6pHqqi6cS1TTipeH+5ck17e+1AkWlVVPK3WlNzrQ5dca2N9bgXd3QC5+p6kB/2ZP+bxYOLCrkKB6fa0RFUNzsAo/Idbzfy6LOCg5mLFsBy0IsxHPmvYxY9Nd1BXEOCR3SgsCCCUDgLTh4pbne3zG0nRxPUbHA0wJJrxmrO0JOV9dTdCxGuu7oFBGxYNq5oH2+AULmESNPJDt1mabaNjvztg5WnwPsssit6hbir3fQ2dcz2j9oxGsleJWB9pwSsWFxE3GQ9dU2l32zScvilHSMRBvptknfYLS8FxGLvvrqc+a14csC6UAABKYiAIE3FektKKftHOV0IFd8Uxh0BN4eL9AX6cS0Ymv7jF6cNOvJ5NSvFBtaMNVCcb9J39oQ/l1d0351c4BYo6Y7MTnqRdT6e0ZsU9VOH9c+GHXgGxykv1psSUHq4S/jHPxuRcULUW4tWuQ5KfAEF21f1KWqn7mvEnZHSbUw0jaWtaHj2bQ/va/jG1ofyZu3WUDyfi2YrG1UF2eyN/dVwjSx0HWW7VS2deO4dhEbIAACxRCAwCsmFMt3RHcKQpi1tdrsjHR6dYdtm1CMwPEoQZvXHEHRHaLscITA66TXx9muLFRut+W1U3XcEXdFn8ql68ECwCEQqxJsPuhjhm19fMhf6Ttvs791Xu1jxclxzitugo1lxNM+tc4+LeWb+ZzSXT11b7TRoKqwvQXFwtr2uB4sToMgIDEIgMDEBCDwJga+5uK0iPASCkIYSXGmAAmB1B1xatcwbU6Rig7Y2jm5yV+qEa697mNdtH2LaDNHqHS9OW1f+Rt1kyN4Y4Scq17cGTc2O+V2z2n/veLmFngdMe1yaynHdQx5VDXG8S7vbvvunisnFuyX+E+HZiKutRgsyAsCIJCVAAReVrzbZVyPpm0860tx2OwwdGc2p8DTnZZDPLJo6wikblx1PTittmkRbDY7fem7RQXsMe/Wh9bPi+YZefW5sLgJgVfVV9340t6gYorfAIfLSqpjUreLOPG6zFjodtFcn9x+4liUFWZ4AwJrJgCBt+boTl030SludPT6nEVwGAJPdyxaKLaiwqtzsZRlR9HavavXAKqU4jiLNpswq4yGpJXr3VoO7U0h4pjd4YCjm6KiLYfFbFOe5mWZetPn2DdLfSUvI5YBDpeTVMb6gO/+5vqPcXOhsdAcVN0tdRiDAnlAAAQmIwCBNxnqbShIdP5qum/g5gIeEVDiih9doh5Zot+AIY/rUaLuDQ5WqhuixJrKEHLsQ3dEql2DJ+qm/RLH1Ho0FoNS8HhwaIVXjIgw62jrkA1/LQK6uiO5N27Chq6vnGa2iETTtaL3N+tna6dhVVhqLAQLXm+p234YAaQGARCYngAE3vTM112i/l8/jxLJ766A0R0ndx6d727aaoqG36wcAAADaElEQVTX+oosyxSat8AT6wA7ZQufhYhpRxbF+eqZec0UpUirRJsWqhu2jboF+OvfeGyioivEOq/N8o6b6PRlfcUUvBTs/v6WkbJtk2KdmWTTqbOvzwuOhW6bdZvfGJn3RYB0IAACkxOAwJsc+RYU2Ny0oG9UcLyntO1MpWBS7zS90SN6XVruhwx3pm51p2QIqa6xZq/7WIn6Ics37bPhjA79svOg5WY0kcsz0pInh+lG8FSVWWwo5gYfL39dAk9OPy90FI/jqES78aBtKe7DRQ4zN3gvIhbsu7qjmEe5rRcSDoIACBRGAAKvsIBskzta4KHj2Kawo66LItAKPFP0LqoacBYEtpAABN4WBr2UKkPglRIJ+AECFgLqVXu8LAL/CbMAwiEQKJsABF7Z8Vm1dxB4qw4vKrdUAmKqul5mYU4tL7Vi8BsEtosABN52xbuo2kLgFRUOOAMCNQEh8HbVW2b4rmrwAQEQWBQBCLxFhQvOggAIgAAIgAAIgMAwAQi8YUZIAQIgAAIgAAIgAAKLIgCBt6hwwVkQAAEQAAEQAAEQGCYAgTfMCClAAARAAARAAARAYFEEIPAWFS44CwIgAAIgAAIgAALDBCDwhhkhBQiAAAiAAAiAAAgsigAE3qLCBWdBAARAAARAAARAYJgABN4wI6QAARAAARAAARAAgUURgMBbVLjgLAiAAAiAAAiAAAgME4DAG2aEFCAAAiAAAiAAAiCwKAIQeIsKF5wFARAAARAAARAAgWECEHjDjJACBEAABEAABEAABBZFAAJvUeGCsyAAAiAAAiAAAiAwTAACb5gRUoAACIAACIAACIDAoghA4C0qXHAWBEAABEAABEAABIYJQOANM0IKEAABEAABEAABEFgUAQi8RYULzoIACIAACIAACIDAMAEIvGFGSAECIAACIAACIAACiyIAgbeocMFZEAABEAABEAABEBgmAIE3zAgpQAAEQAAEQAAEQGBRBCDwFhUuOAsCIAACIAACIAACwwQg8IYZIQUIgAAIgAAIgAAILIoABN6iwgVnQQAEQAAEQAAEQGCYAATeMCOkAAEQAAEQAAEQAIFFEYDAW1S44CwIgAAIgAAIgAAIDBOAwBtmhBQgAAIgAAIgAAIgsCgCEHiLChecBQEQAAEQAAEQAIFhAv8fFeFHLcRkOXIAAAAASUVORK5CYII=)"
      ],
      "metadata": {
        "id": "2S7wrV1Ue952"
      }
    },
    {
      "cell_type": "markdown",
      "source": [
        "### Solución\n",
        "\n",
        "- **Entradas**:\n",
        "  - x\n",
        "  - y\n",
        "- **Perceptrones**:\n",
        "  - f(x): x NOR y\n",
        "- **Pesos**:\n",
        "  - w1 = -1\n",
        "  - w2 =  -1\n",
        "- **Sesgo**:\n",
        "  - b = 0.5\n",
        "- **Función**:\n",
        "  - f(x) = 0 si x < 0\n",
        "  - f(x) = 1 si x ≥ 0"
      ],
      "metadata": {
        "id": "5E-fJ3jCbMjJ"
      }
    },
    {
      "cell_type": "markdown",
      "source": [
        "# [07]\n",
        "A partir de los siguientes datos de entrenamiento:\n",
        "\n",
        "![image.png](data:image/png;base64,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)"
      ],
      "metadata": {
        "id": "FRMug9LkfQy1"
      }
    },
    {
      "cell_type": "markdown",
      "source": [
        "Aplicar el algoritmo del percpetron por 5 iteraciones, iniciando con los pesos $w^T$ = (1 1 1), b = 1 con rango de aprendizaje η = 1:\n",
        "\n",
        "¿Cuál es el valor final de los pesos?"
      ],
      "metadata": {
        "id": "UBTAmTdDfd0F"
      }
    },
    {
      "cell_type": "markdown",
      "source": [
        "## Algoritmo"
      ],
      "metadata": {
        "id": "_SLJs_Aff2SN"
      }
    },
    {
      "cell_type": "code",
      "source": [
        "import numpy as np\n",
        "\n",
        "# Datos para el algoritmo:\n",
        "X = np.array([[1, 1, 1],\n",
        "              [1, 0, 1],\n",
        "              [0, 1, 1],\n",
        "              [1, 0, 0],\n",
        "              [0, 1, 0],\n",
        "              [0, 0, 0]])\n",
        "y = np.array([1, 1, 1, 0, 0, 0])\n",
        "\n",
        "learning_rate = 1\n",
        "iterations = 5\n",
        "\n",
        "# Función de activación:\n",
        "def activation(preactivation):\n",
        "  return 1 if preactivation >= 0 else 0\n",
        "\n",
        "# Función de ajuste:\n",
        "def fit_perceptron(X, y, learning_rate, iterations):\n",
        "\n",
        "  # Se inicializan los parámetros a optimizar:\n",
        "  W = np.array([1, 1, 1])\n",
        "  b = 1\n",
        "\n",
        "  # Comienza las iteraciones:\n",
        "  for i in range(iterations):\n",
        "\n",
        "    print(\"_______________\\n\")\n",
        "    print(f\"Iteration [{i}]\\nWeigths:\\n{W}\\nb: {b}\")\n",
        "\n",
        "    # Para el conjunto de entrenamiento:\n",
        "    for j in range(len(X)):\n",
        "\n",
        "      # Forward:\n",
        "      x = X[j]\n",
        "      target = y[j]\n",
        "      preactivation = W @ x + b\n",
        "      f = activation(preactivation)\n",
        "\n",
        "      # Backward:\n",
        "      W -= learning_rate * (f - target) * x\n",
        "      b -= learning_rate * (f - target)\n",
        "\n",
        "  return W, b"
      ],
      "metadata": {
        "id": "M5SpHHgrf4Nx"
      },
      "execution_count": 73,
      "outputs": []
    },
    {
      "cell_type": "markdown",
      "source": [
        "## Implementación"
      ],
      "metadata": {
        "id": "V64z0jMRlQfK"
      }
    },
    {
      "cell_type": "code",
      "source": [
        "# Se corre el algoritmo con los datos especificados:\n",
        "W, b = fit_perceptron(X, y, learning_rate, iterations)\n",
        "print(\"_______________\\n\")\n",
        "print(f\"Final Results\\nWeigths:\\n{W}\\nb: {b}\")\n",
        "print(\"_______________\")"
      ],
      "metadata": {
        "colab": {
          "base_uri": "https://localhost:8080/"
        },
        "id": "7CKIb2VDlSiy",
        "outputId": "6b8a76f3-f6b5-49d0-8fc8-478e1a4a6ed8"
      },
      "execution_count": 74,
      "outputs": [
        {
          "output_type": "stream",
          "name": "stdout",
          "text": [
            "_______________\n",
            "\n",
            "Iteration [0]\n",
            "Weigths:\n",
            "[1 1 1]\n",
            "b: 1\n",
            "_______________\n",
            "\n",
            "Iteration [1]\n",
            "Weigths:\n",
            "[0 0 1]\n",
            "b: -1\n",
            "_______________\n",
            "\n",
            "Iteration [2]\n",
            "Weigths:\n",
            "[0 0 1]\n",
            "b: -1\n",
            "_______________\n",
            "\n",
            "Iteration [3]\n",
            "Weigths:\n",
            "[0 0 1]\n",
            "b: -1\n",
            "_______________\n",
            "\n",
            "Iteration [4]\n",
            "Weigths:\n",
            "[0 0 1]\n",
            "b: -1\n",
            "_______________\n",
            "\n",
            "Final Results\n",
            "Weigths:\n",
            "[0 0 1]\n",
            "b: -1\n",
            "_______________\n"
          ]
        }
      ]
    },
    {
      "cell_type": "markdown",
      "source": [
        "## Resultados\n",
        "\n",
        "**🛑 NOTA IMPORTANTE**\n",
        "\n",
        "PARA LA FUNCIÓN DE ACTIVACIÓN SE UTILIZÓ:\n",
        "\n",
        "f1(x) =\n",
        "\n",
        "{\n",
        "  - 1 si x >= 0\n",
        "  - 0 si x <  0\n",
        "\n",
        "}\n",
        "\n",
        "TAL CUÁL SE VIÓ EN CLASE, SIN EMBARGO, NO SE CONVERGE CON DICHA FUNCIÓN, POR ELLO ES POSIBLE UTILIZAR LA VARIANTE:\n",
        "\n",
        "f2(x) =\n",
        "\n",
        "{\n",
        "  - 1 si x >= 0\n",
        "  - -1 si x <  0\n",
        "\n",
        "}\n",
        "\n",
        "**LOS RESULTADOS FUERON LOS SIGUIENTES:**\n",
        "\n",
        "**Para f1:**\n",
        "- Weigths: <u>[0 0 1]</u>\n",
        "- b: <u>-1</u>\n",
        "\n",
        "**Para f2:**\n",
        "- Weigths: <u>[0 0 3]</u>\n",
        "- b: <u>0</u>"
      ],
      "metadata": {
        "id": "Oi4OeJGFu3rp"
      }
    },
    {
      "cell_type": "markdown",
      "source": [
        "# [08]\n",
        "## Realizado por:\n",
        "### Iván Alejadro Ramos Herrera\n",
        "### 💜 [@arhcoder](https://github.com/arhcoder)"
      ],
      "metadata": {
        "id": "4DinJz64wzft"
      }
    }
  ]
}