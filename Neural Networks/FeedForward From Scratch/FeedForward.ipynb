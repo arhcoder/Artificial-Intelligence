{
 "cells": [
  {
   "cell_type": "markdown",
   "metadata": {
    "id": "P7F5VNFJMckc"
   },
   "source": [
    "# 🧠 REDES NEURONALES\n",
    "## 🧪 Facultad de Ciencias\n",
    "## 🏫 Universidad Nacional Autónoma de México\n",
    "\n",
    "<hr>\n",
    "\n",
    "### 📄 Práctica No. 02\n",
    "\n",
    "#### Realizado por:\n",
    "#### Iván Alejadro Ramos Herrera\n",
    "#### 💜 [@arhcoder](https://github.com/arhcoder)\n",
    "\n"
   ]
  },
  {
   "cell_type": "markdown",
   "metadata": {
    "id": "eUmJqJKuCoA0"
   },
   "source": [
    "# [01] 📚 Selección de Dataset\n",
    "\n",
    "## MNIST\n",
    "### Fuente: sklearn.datasets.load_digits\n",
    "### Información del dataset:\n",
    "\n",
    "> Load and return the digits dataset (classification). Each datapoint is a 8x8 image of a digit.\n",
    "\n",
    "|                   |      |\n",
    "|-------------------|------|\n",
    "| Classes           | 10   |\n",
    "| Samples per class | ~180 |\n",
    "| Samples total     | 1797 |\n",
    "| Dimensionality    | 64   |\n",
    "| Features integers | 0-16 |\n",
    "\n",
    "> We used preprocessing programs made available by NIST to extract normalized bitmaps of handwritten digits from a preprinted form. From a total of 43 people, 30 contributed to the training set and different 13 to the test set. 32x32 bitmaps are divided into nonoverlapping blocks of 4x4 and the number of on pixels are counted in each block. This generates an input matrix of 8x8 where each element is an integer in the range 0..16. This reduces dimensionality and gives invariance to small distortions.\n",
    "\n",
    "> For info on NIST preprocessing routines, see M. D. Garris, J. L. Blue, G. T. Candela, D. L. Dimmick, J. Geist, P. J. Grother, S. A. Janet, and C. L. Wilson, NIST Form-Based Handprint Recognition System, NISTIR 5469, 1994.\n",
    "\n"
   ]
  },
  {
   "cell_type": "code",
   "execution_count": 4,
   "metadata": {
    "id": "_cQdrQyUFyYw"
   },
   "outputs": [],
   "source": [
    "# Se obtiene el dataset:\n",
    "from sklearn.datasets import load_digits\n",
    "digits = load_digits()"
   ]
  },
  {
   "cell_type": "markdown",
   "metadata": {
    "id": "AoyhUg2TIA66"
   },
   "source": [
    "## 🔎 Exploración"
   ]
  },
  {
   "cell_type": "code",
   "execution_count": 6,
   "metadata": {
    "colab": {
     "base_uri": "https://localhost:8080/"
    },
    "id": "CoK4pzMOGF5_",
    "outputId": "bcd3be75-b26d-4ecc-dd1c-fb0e27b91b1b"
   },
   "outputs": [
    {
     "name": "stdout",
     "output_type": "stream",
     "text": [
      "Data:\n",
      " [[ 0.  0.  5. ...  0.  0.  0.]\n",
      " [ 0.  0.  0. ... 10.  0.  0.]\n",
      " [ 0.  0.  0. ... 16.  9.  0.]\n",
      " ...\n",
      " [ 0.  0.  1. ...  6.  0.  0.]\n",
      " [ 0.  0.  2. ... 12.  0.  0.]\n",
      " [ 0.  0. 10. ... 12.  1.  0.]]\n",
      "\n",
      "Tamaños: (1797, 64)\n",
      "\n",
      "Imágen:\n",
      " [[ 0.  0.  5. 13.  9.  1.  0.  0.]\n",
      " [ 0.  0. 13. 15. 10. 15.  5.  0.]\n",
      " [ 0.  3. 15.  2.  0. 11.  8.  0.]\n",
      " [ 0.  4. 12.  0.  0.  8.  8.  0.]\n",
      " [ 0.  5.  8.  0.  0.  9.  8.  0.]\n",
      " [ 0.  4. 11.  0.  1. 12.  7.  0.]\n",
      " [ 0.  2. 14.  5. 10. 12.  0.  0.]\n",
      " [ 0.  0.  6. 13. 10.  0.  0.  0.]]\n",
      "\n",
      "Targets: [0 1 2 ... 8 9 8]\n"
     ]
    }
   ],
   "source": [
    "# Explorando el dataset:\n",
    "print(\"Data:\\n\", digits.data,)\n",
    "print(\"\\nTamaños:\", digits.data.shape)\n",
    "print(\"\\nImágen:\\n\", digits.images[0])\n",
    "print(\"\\nTargets:\", digits.target)"
   ]
  },
  {
   "cell_type": "markdown",
   "metadata": {
    "id": "2pl87IMpIFqU"
   },
   "source": [
    "🔎 Según la documentación, el dataset incluye miles de imágenes de 8x8 que contienen el dibujo de cada uno de los dígitos escritos a mano del 0 al 10. Aproximadamente 180 ejemplos por cada dígito.\n",
    "\n",
    "Las imágenes están representadas como matrices de 8x8 en $digits.images$, en donde esto retorna una lista con cada imágen.\n",
    "\n",
    "En $digits.data$ se incluyen todas las imágenes como un vector de 64 features.\n",
    "\n",
    "En $digits.target$ se incluyen las clasificaciones."
   ]
  },
  {
   "cell_type": "markdown",
   "metadata": {
    "id": "_h6UZyVfKdVP"
   },
   "source": [
    "# [02] 📑 Separación en Train - Test\n",
    "### Se hará una separación de los datos en un esquema 70% entrenamiento y 30% evaluación"
   ]
  },
  {
   "cell_type": "markdown",
   "metadata": {
    "id": "bzF6vULlK1Cd"
   },
   "source": [
    "## 📦 Separación"
   ]
  },
  {
   "cell_type": "code",
   "execution_count": 7,
   "metadata": {
    "colab": {
     "base_uri": "https://localhost:8080/"
    },
    "id": "sXSwk79fK5DP",
    "outputId": "7b265cad-faa0-4477-8f47-66dd6d242339"
   },
   "outputs": [
    {
     "name": "stdout",
     "output_type": "stream",
     "text": [
      "X de Entrenamiento: 1257\n",
      "X de Evaluación: 540\n",
      "\n",
      "y de Entrenamiento: 1257\n",
      "y de Evaluación: 540\n"
     ]
    }
   ],
   "source": [
    "import random\n",
    "from sklearn.preprocessing import LabelBinarizer\n",
    "\n",
    "# Se establecen las variables:\n",
    "X = digits.data\n",
    "y = digits.target\n",
    "\n",
    "# Se hace un shuffle al dataset para evitar sesgos:\n",
    "data = list(zip(X, y))\n",
    "random.shuffle(data)\n",
    "X, y = zip(*data)\n",
    "\n",
    "# Se separa en 70% - 30%:\n",
    "train_size = int(0.7 * len(X))\n",
    "\n",
    "X_train = X[:train_size]\n",
    "X_test = X[train_size:]\n",
    "\n",
    "y_train = y[:train_size]\n",
    "y_test = y[train_size:]\n",
    "\n",
    "# Convierte las etiquetas a One-Hot:\n",
    "label_binarizer = LabelBinarizer()\n",
    "y_train = label_binarizer.fit_transform(y_train)\n",
    "y_test = label_binarizer.transform(y_test)\n",
    "\n",
    "print(\"X de Entrenamiento:\", len(X_train))\n",
    "print(\"X de Evaluación:\", len(X_test))\n",
    "print(\"\\ny de Entrenamiento:\", len(y_train))\n",
    "print(\"y de Evaluación:\", len(y_test))"
   ]
  },
  {
   "cell_type": "markdown",
   "metadata": {
    "id": "STNIuksjOYgh"
   },
   "source": [
    "# [03] 🧠 Red Neuronal FeedForward\n",
    "### Para problemas de clasificación"
   ]
  },
  {
   "cell_type": "markdown",
   "metadata": {
    "id": "XvQHO0xJ8zou"
   },
   "source": [
    "## 🧮 Código"
   ]
  },
  {
   "cell_type": "code",
   "execution_count": 12,
   "metadata": {
    "id": "A9xzZ3FuoZya"
   },
   "outputs": [],
   "source": [
    "import numpy as np\n",
    "from tqdm import tqdm\n",
    "import matplotlib.pyplot as plt\n",
    "from sklearn.metrics import classification_report"
   ]
  },
  {
   "cell_type": "code",
   "execution_count": 13,
   "metadata": {
    "id": "InZF77Xwsp6m"
   },
   "outputs": [],
   "source": [
    "import warnings\n",
    "warnings.filterwarnings(\"ignore\")"
   ]
  },
  {
   "cell_type": "code",
   "execution_count": 14,
   "metadata": {
    "id": "D6G3a0dfQuhf"
   },
   "outputs": [],
   "source": [
    "# FEED FORWARD NEURAL NETWORK CLASS #\n",
    "class NeuralNetwork:\n",
    "\n",
    "  # FEED FORWARD NEURAL NETWORK CONSTRUCTOR:\n",
    "  def __init__(self, inputs: int, classes: int, hidden_layers: list, output_function=\"softmax\", cost_function=\"cross entropy\"):\n",
    "\n",
    "    '''\n",
    "      FEEDFORWARD NEURAL NETWORK\n",
    "      [FOR CLASSIFICATION]\n",
    "\n",
    "        Attributes:\n",
    "        - inputs [int]: Amount of entry neuron unities.\n",
    "        - classes [int]: Amount of classificaction labels.\n",
    "        - hidden_layers: [list[tuples]]: List of tuples with the next structure for each hiden layer:\n",
    "          - hidden_layers:\n",
    "          [\n",
    "            (\n",
    "              amount_neuron_unities [int],\n",
    "              activation_function [string]\n",
    "            )\n",
    "          ]\n",
    "          Example:\n",
    "          hidden_layers:\n",
    "          [\n",
    "            (50, \"sigmoid\"),\n",
    "            (30, \"tanh\")\n",
    "          ]\n",
    "        - output_function [string]: Activation function for the output layer. It could be:\n",
    "          * \"identity\"\n",
    "          * \"step\"\n",
    "          * \"sigmoid\"\n",
    "          * \"softmax\"\n",
    "          * \"relu\"\n",
    "          * \"tanh\"\n",
    "          [default is \"softmax\"]\n",
    "\n",
    "          - cost_function [string]: Cost function to fit the weights. It could be:\n",
    "          * \"cross entropy\" (default)\n",
    "    '''\n",
    "\n",
    "\n",
    "    # ATTRIBUTES #\n",
    "    # Basics:\n",
    "    self.classes = classes\n",
    "    self.inputs = inputs\n",
    "    self.activation_functions = {\n",
    "      \"identity\": lambda x: x,\n",
    "      \"step\": lambda x: np.where(x >= 0, 1, 0),\n",
    "      \"sigmoid\": lambda x: 1 / (1 + np.exp(-x)),\n",
    "      \"softmax\": lambda x: np.exp(x - np.max(x, axis=0)) / np.sum(np.exp(x - np.max(x, axis=0)), axis=0),\n",
    "      \"relu\": lambda x: np.maximum(0, x),\n",
    "      \"tanh\": lambda x: np.tanh(x)\n",
    "    }\n",
    "    self.activation_derivates = {\n",
    "      \"identity\": lambda x: np.ones_like(x),\n",
    "      \"step\": lambda x: np.zeros_like(x),\n",
    "      \"sigmoid\": lambda x: x * (1 - x),\n",
    "      \"softmax\": lambda x: np.exp(x - np.max(x, axis=1, keepdims=True)) / np.sum(np.exp(x - np.max(x, axis=1, keepdims=True)), axis=1, keepdims=True),\n",
    "      \"relu\": lambda x: (x > 0).astype(float),\n",
    "      \"tanh\": lambda x: 1 - x**2\n",
    "    }\n",
    "    self.output_function = self.activation_functions[output_function]\n",
    "    self.output_function_derivate = self.activation_derivates[output_function]\n",
    "\n",
    "    self.cost_functions = {\n",
    "      \"cross entropy\": lambda y, y_predicted: -np.sum(y * np.log(y_predicted + 1e-10)),\n",
    "      \"mse\": lambda y, y_predicted: np.mean((y - y_predicted) ** 2)\n",
    "    }\n",
    "    self.cost_functions_derivates = {\n",
    "      \"cross entropy\": lambda y, y_predicted: y_predicted - y,\n",
    "      \"mse\": lambda y, y_predicted: 2 * (y_predicted - y) / len(y)\n",
    "    }\n",
    "    self.cost_function_name = cost_function\n",
    "    self.cost_function = self.cost_functions[cost_function]\n",
    "    self.cost_function_derivate = self.cost_functions_derivates[cost_function]\n",
    "\n",
    "    # Hidden Layers:\n",
    "    self.hidden_layers = list()\n",
    "    try:\n",
    "      # Constructs the Hidden Layers:\n",
    "      for layer_unities, activation in hidden_layers:\n",
    "        self.hidden_layers.append({\n",
    "          \"unities\": layer_unities,\n",
    "          \"activation\": self.activation_functions[activation],\n",
    "          \"activation_derivate\": self.activation_derivates[activation]\n",
    "        })\n",
    "    except ValueError as verror:\n",
    "      error = str(f'''\n",
    "      Invalid format for hidden_layers: Try like:\n",
    "      [\n",
    "            (\n",
    "              amount_neuron_unities [int],\n",
    "              activation_function [string]\n",
    "            )\n",
    "      ]\n",
    "\n",
    "      Example:\n",
    "      hidden_layers = [(50, \"sigmoid\"), (30, \"tanh\")]\n",
    "\n",
    "      You put: {hidden_layers}\n",
    "      ''')\n",
    "      print(verror)\n",
    "      raise ValueError(error)\n",
    "\n",
    "      # To save cost in each epoch:\n",
    "      self.costs = list()\n",
    "\n",
    "\n",
    "    # Weights and Biases:\n",
    "    # Xaver Initialization:\n",
    "    self.W = []\n",
    "    self.b = []\n",
    "\n",
    "    # For input layer:\n",
    "    self.W.append(np.random.randn(self.hidden_layers[0][\"unities\"], self.inputs) * np.sqrt(1 / self.inputs))\n",
    "    self.b.append(np.zeros(self.hidden_layers[0][\"unities\"]))\n",
    "\n",
    "    # For hidden layers:\n",
    "    for layer in range(1, len(self.hidden_layers)):\n",
    "      self.W.append(np.random.randn(self.hidden_layers[layer][\"unities\"], self.hidden_layers[layer - 1][\"unities\"]) * np.sqrt(1 / self.hidden_layers[layer - 1][\"unities\"]))\n",
    "      self.b.append(np.zeros(self.hidden_layers[layer][\"unities\"]))\n",
    "\n",
    "    # For Output Layer:\n",
    "    self.W.append(np.random.randn(self.classes, self.hidden_layers[-1][\"unities\"]) * np.sqrt(1 / self.hidden_layers[-1][\"unities\"]))\n",
    "    self.b.append(np.zeros(self.classes))\n",
    "\n",
    "\n",
    "\n",
    "  # TRAINING FUNCTION:\n",
    "  def train(self, X_train, y_train, optimizer=\"gradient\", epochs=1000, learning_rate=0.01, batch_size=1):\n",
    "    '''\n",
    "      Inputs:\n",
    "        - X_train: Training data matrix.\n",
    "        - y_train: Training labels vector.\n",
    "        - optimizer [string]: Optimizer to fit the weights. It could be:\n",
    "          * \"gradient\" (defalut): Simple Gradient Descend.\n",
    "          * \"adagrad\": Adaptative Gradient Descend.\n",
    "\n",
    "        - epochs [int]: Amount of iterations in the traning.\n",
    "          [default 1000]\n",
    "\n",
    "        - learning_rate [flaot]: For optimizaters.\n",
    "          [default 0.01]\n",
    "\n",
    "        - batch_size [int]: Amount of data that will be used to fit the weights in each iteration.\n",
    "          [default 1 (as Stochastic Gradient Descend)]\n",
    "    '''\n",
    "    # Checks the optimizers:\n",
    "    if optimizer == \"gradient\":\n",
    "      self.optimizer = self.update_gradient\n",
    "    elif optimizer == \"adagrad\":\n",
    "      self.optimizer = self.update_adagrad\n",
    "    else:\n",
    "      raise ValueError(f\"Invalid optimizer: {optimizer}.\\nValid options:\\n*\\\"gradient\\\"\\n*\\\"adagrad\\\"\")\n",
    "\n",
    "\n",
    "    # Epochs:\n",
    "    self.costs = [0]\n",
    "    X_train = np.array(X_train)\n",
    "    print(f\"Total Epochs {epochs}\")\n",
    "    for epoch in tqdm(range(epochs), desc=\"Training Progress\"):\n",
    "\n",
    "      # Batches:\n",
    "      batch_costs = list()\n",
    "      for i in range(0, len(X_train), batch_size):\n",
    "        X_batch = X_train[i:i + batch_size]\n",
    "        y_batch = y_train[i:i + batch_size]\n",
    "\n",
    "        # Forward:\n",
    "        activations, outputs = self.forward(X_batch)\n",
    "\n",
    "        # Backward:\n",
    "        self.backward(X_batch, y_batch, activations, outputs)\n",
    "\n",
    "        # Update weights:\n",
    "        self.optimizer(learning_rate, activations)\n",
    "\n",
    "      # Cost on the epoch:\n",
    "      _, predictions = self.forward(X_train)\n",
    "      cost = self.cost_function(y_train, np.argmax(predictions[-1]))\n",
    "      self.costs.append(cost)\n",
    "    print(\"\\nTrained! 😎\")\n",
    "\n",
    "\n",
    "\n",
    "\n",
    "  # FORWARD STEP FOR TRAINING:\n",
    "  def forward(self, X: np.ndarray):\n",
    "    '''\n",
    "      Pass the X batch through the layers.\n",
    "\n",
    "      Inputs:\n",
    "        - X [numpy.ndarray]: Input data.\n",
    "\n",
    "      Returns:\n",
    "        - activations [list]: List of activation values for each layer.\n",
    "        - outputs [list]: List of output values for each layer.\n",
    "    '''\n",
    "\n",
    "    activations = [X]\n",
    "    outputs = []\n",
    "\n",
    "    # From Input Layer => First Hidden Layer:\n",
    "    outputs.append(X @ self.W[0].T + self.b[0])\n",
    "    activations.append(self.hidden_layers[0][\"activation\"](outputs[-1]))\n",
    "\n",
    "    # From First Hidden Layer => All Hidden Layers:\n",
    "    for i in range(1, len(self.hidden_layers)):\n",
    "      outputs.append(activations[-1] @ self.W[i].T + self.b[i])\n",
    "      activations.append(self.hidden_layers[i][\"activation\"](outputs[-1]))\n",
    "\n",
    "    # From Last Hidden Layer => Output Layer:\n",
    "    outputs.append(activations[-1] @ self.W[-1].T + self.b[-1])\n",
    "    activations.append(self.output_function(outputs[-1]))\n",
    "\n",
    "    return activations, outputs\n",
    "\n",
    "\n",
    "\n",
    "\n",
    "  # BACKWARD STEP FOR TRAINING:\n",
    "  def backward(self, X_batch: np.ndarray, y_batch: np.ndarray, activations: list, outputs: list):\n",
    "    '''\n",
    "      Backpropagation for the X batch Forward into Backward steps to store the Deltas.\n",
    "\n",
    "      Inputs:\n",
    "        - X_batch [numpy.ndarray]: Batch of input data.\n",
    "        - y_batch [numpy.ndarray]: Batch of target labels.\n",
    "        - activations [list]: List of activation values for each layer from Forward.\n",
    "        - outputs [list]: List of output values for each layer from Forward.\n",
    "    '''\n",
    "    # Delta From Output Layer => delta(cost_function)' => Output:\n",
    "    delta_output = self.cost_function_derivate(y_batch, activations[-1]) * self.output_function_derivate(outputs[-1])\n",
    "\n",
    "    # Deltas for Hidden Layers:\n",
    "    self.deltas = [None] * (len(self.hidden_layers) + 1)\n",
    "    self.deltas[-1] = delta_output\n",
    "\n",
    "    # Deltas From Last Hidden Layer => Input Layer:\n",
    "    for i in reversed(range(len(self.hidden_layers))):\n",
    "        delta_hidden = self.deltas[i + 1] @ self.W[i + 1] * self.hidden_layers[i][\"activation_derivate\"](activations[i + 1])\n",
    "        self.deltas[i] = delta_hidden\n",
    "\n",
    "\n",
    "\n",
    "\n",
    "  # OPTIMIZERS:\n",
    "  # ADAPTATIVE GRADIENT DESCEND OPTIMIZER:\n",
    "  def update_adagrad(self, learning_rate: float, activations: list):\n",
    "\n",
    "    # Gradients for each W and B size:\n",
    "    self.accumulated_gradientW = [np.zeros_like(W) for W in self.W]\n",
    "    self.accumulated_gradientB = [np.zeros_like(b) for b in self.b]\n",
    "\n",
    "    # Get Deltas for each Layer:\n",
    "    for i in range(len(self.W)):\n",
    "      # Deltas:\n",
    "      deltaW = self.deltas[i].T @ activations[i]\n",
    "      deltaB = np.sum(self.deltas[i], axis=0)\n",
    "\n",
    "      # Squared Accumulated Gradients:\n",
    "      self.accumulated_gradientW[i] += deltaW ** 2\n",
    "      self.accumulated_gradientB[i] += deltaB ** 2\n",
    "\n",
    "      # ADAGRAD Optimization:\n",
    "      self.W[i] -= learning_rate * deltaW / (np.sqrt(self.accumulated_gradientW[i]) + 1e-8)\n",
    "      self.b[i] -= learning_rate * deltaB / (np.sqrt(self.accumulated_gradientB[i]) + 1e-8)\n",
    "\n",
    "\n",
    "  # SIMPLE GRADIENT DESCEND OPTIMIZER:\n",
    "  def update_gradient(self, learning_rate: float, activations: list):\n",
    "    # Get Deltas for each Layer:\n",
    "    for i in range(len(self.W)):\n",
    "      # Deltas:\n",
    "      deltaW = self.deltas[i].T @ self.outputs[i]\n",
    "      deltaB = np.sum(self.deltas[i], axis=0)\n",
    "\n",
    "      # GRADIENT DESCEND OPTIMIZATION:\n",
    "      self.W[i] -= learning_rate * deltaW\n",
    "      self.b[i] -= learning_rate * deltaB\n",
    "\n",
    "\n",
    "\n",
    "\n",
    "  # PLOTS THE EVOLUTION OF LEARNING COST THROUGH THE TRAINED EPOCHS:\n",
    "  def view_learning(self, each_epochs=1):\n",
    "    '''\n",
    "      Plots the cost error on each trained epoch.\n",
    "\n",
    "      Inputs:\n",
    "        - each [int]: In what range of values of the time to graph the cost. If 1, it will show the cost each 1 epoch.\n",
    "    '''\n",
    "    if len(self.costs) <= 1:\n",
    "      print(\"You haven't trained your NN.\\nTrain it doing:\\nYourNN.train(X_train, y_train, optimizer=\\\"adagrad\\\", epochs=1000, learning_rate=0.0001, batch_size=10)\")\n",
    "      return\n",
    "\n",
    "    # Plot the progress of the cost in each trained epoch:\n",
    "    self.costs.pop(0)\n",
    "    plt.suptitle(\"Model Cost Through Trained Epochs\")\n",
    "    plt.title(f\"With the cost function {self.cost_function_name.upper()}\")\n",
    "    plt.plot(range(0, len(self.costs), each_epochs), self.costs[::each_epochs], color=\"purple\", label=\"cost\")\n",
    "    plt.xlabel(\"Epochs\")\n",
    "    plt.ylabel(f\"{self.cost_function_name.upper()} cost\")\n",
    "    plt.show()\n",
    "\n",
    "\n",
    "\n",
    "\n",
    "  # PREDICTS A CLASS FOR A X SAMPLE:\n",
    "  def predict(self, instance):\n",
    "    '''\n",
    "    Predicts the class label for a single input instance.\n",
    "\n",
    "    Inputs:\n",
    "      - instance: Input data instance.\n",
    "\n",
    "    Returns:\n",
    "      - prediction: Predicted class label.\n",
    "    '''\n",
    "    _, prediction = self.forward(np.array([instance]))\n",
    "    return np.argmax(prediction[-1])\n",
    "\n",
    "\n",
    "\n",
    "\n",
    "  # TO EVALUATE THE ACCURACY OF THE MODEL:\n",
    "  def accuracy(self, X_test: np.ndarray, y_test: np.ndarray):\n",
    "    '''\n",
    "    Calculates the accuracy of the model on the given test dataset.\n",
    "\n",
    "    Inputs:\n",
    "      - X_test [np.ndarray]: Test data matrix.\n",
    "      - y_test: [np.ndarray]: True labels for the test data.\n",
    "\n",
    "    Returns:\n",
    "      - accuracy: Model accuracy on the test data.\n",
    "    '''\n",
    "\n",
    "    # Predicts with the test data:\n",
    "    _, predictions = self.forward(X_test)\n",
    "    predicted_labels = np.argmax(predictions[-1], axis=1)\n",
    "\n",
    "    # Counts where the predictions are same of the real labels:\n",
    "    correct_predictions = np.sum(predicted_labels == np.argmax(y_test, axis=1))\n",
    "    total_instances = len(y_test)\n",
    "\n",
    "    # Calculates the accuracy:\n",
    "    accuracy = correct_predictions / total_instances\n",
    "    return accuracy\n",
    "\n",
    "\n",
    "\n",
    "\n",
    "  # METRICS REPORT (FROM SKLEARN):\n",
    "  def metrics(self, X_test: np.ndarray, y_test: np.ndarray):\n",
    "    '''\n",
    "      Prints sklearn classification report for the model on the given test dataset.\n",
    "\n",
    "      Inputs:\n",
    "        - X_test [np.ndarray]: Test data matrix.\n",
    "        - y_test: [np.ndarray]: True labels for the test data.\n",
    "    '''\n",
    "    _, predictions = self.forward(X_test)\n",
    "    predicted_labels = np.argmax(predictions[-1], axis=1)\n",
    "\n",
    "    # Generate a classification report using sklearn:\n",
    "    report = classification_report(np.argmax(y_test, axis=1), predicted_labels)\n",
    "\n",
    "    # Prints the report:\n",
    "    print(\"Classification Report:\")\n",
    "    print(report)"
   ]
  },
  {
   "cell_type": "markdown",
   "metadata": {
    "id": "yf5HCQMknG0r"
   },
   "source": [
    "## 🔮 Implementación"
   ]
  },
  {
   "cell_type": "code",
   "execution_count": 17,
   "metadata": {
    "colab": {
     "base_uri": "https://localhost:8080/"
    },
    "id": "29x1M-f4GV9A",
    "outputId": "7edd8361-6288-4997-d234-cf87fc71a9c7"
   },
   "outputs": [
    {
     "name": "stdout",
     "output_type": "stream",
     "text": [
      "Total Epochs 600\n"
     ]
    },
    {
     "name": "stderr",
     "output_type": "stream",
     "text": [
      "Training Progress: 100%|██████████| 600/600 [00:14<00:00, 42.03it/s]"
     ]
    },
    {
     "name": "stdout",
     "output_type": "stream",
     "text": [
      "\n",
      "Trained! 😎\n"
     ]
    },
    {
     "name": "stderr",
     "output_type": "stream",
     "text": [
      "\n"
     ]
    }
   ],
   "source": [
    "# INSTANCIA DE LA RED NEURONAL PARA EL PROBLEMA MNIST:\n",
    "IA = NeuralNetwork(inputs=64, classes=10, hidden_layers=[(40, \"sigmoid\"), (30, \"tanh\")], output_function=\"softmax\", cost_function=\"cross entropy\")\n",
    "IA.train(X_train, y_train, optimizer=\"adagrad\", epochs=600, learning_rate=0.00001, batch_size=10)"
   ]
  },
  {
   "cell_type": "code",
   "execution_count": 18,
   "metadata": {
    "colab": {
     "base_uri": "https://localhost:8080/"
    },
    "id": "Sui-3Dyi2xbP",
    "outputId": "8fcd37d8-d33e-4326-95ae-2cacfd3aeac1"
   },
   "outputs": [
    {
     "name": "stdout",
     "output_type": "stream",
     "text": [
      "Accuracy: 73.70%\n",
      "Classification Report:\n",
      "              precision    recall  f1-score   support\n",
      "\n",
      "           0       0.93      0.98      0.95        51\n",
      "           1       0.83      0.56      0.67        61\n",
      "           2       0.75      0.92      0.83        49\n",
      "           3       0.44      0.96      0.60        54\n",
      "           4       0.88      0.89      0.88        56\n",
      "           5       0.98      0.95      0.97        65\n",
      "           6       0.69      1.00      0.81        46\n",
      "           7       0.72      0.98      0.83        52\n",
      "           8       0.00      0.00      0.00        55\n",
      "           9       0.89      0.16      0.27        51\n",
      "\n",
      "    accuracy                           0.74       540\n",
      "   macro avg       0.71      0.74      0.68       540\n",
      "weighted avg       0.71      0.74      0.68       540\n",
      "\n"
     ]
    }
   ],
   "source": [
    "# Muestra el Accuracy y el reporte de métricas:\n",
    "accuracy = IA.accuracy(X_test, y_test)\n",
    "print(f\"Accuracy: {accuracy * 100:.2f}%\")\n",
    "IA.metrics(X_test, y_test)"
   ]
  },
  {
   "cell_type": "code",
   "execution_count": 19,
   "metadata": {
    "colab": {
     "base_uri": "https://localhost:8080/",
     "height": 497
    },
    "id": "WYqIRhKYS6UG",
    "outputId": "e103438c-50e1-4eba-ba34-9fc54b844eef"
   },
   "outputs": [
    {
     "data": {
      "image/png": "[encoded data removed]",
      "text/plain": [
       "<Figure size 640x480 with 1 Axes>"
      ]
     },
     "metadata": {},
     "output_type": "display_data"
    }
   ],
   "source": [
    "# Grafica los costos a través de las épocas:\n",
    "IA.view_learning(each_epochs=50)"
   ]
  },
  {
   "cell_type": "markdown",
   "metadata": {
    "id": "Cp_ZeRxgz4wZ"
   },
   "source": [
    "# [04] 🏆 Mejor Implementación\n",
    "### Red sugerida para obtener la mejor clasificación"
   ]
  },
  {
   "cell_type": "markdown",
   "metadata": {
    "id": "B8bcMEET2kIa"
   },
   "source": [
    "## 💡 Clasificador MNIST"
   ]
  },
  {
   "cell_type": "code",
   "execution_count": 20,
   "metadata": {
    "colab": {
     "base_uri": "https://localhost:8080/"
    },
    "id": "77L94cpD0cRh",
    "outputId": "d22be4c7-46a0-48f8-e8d3-0ce259a8e5f7"
   },
   "outputs": [
    {
     "name": "stdout",
     "output_type": "stream",
     "text": [
      "Total Epochs 1000\n"
     ]
    },
    {
     "name": "stderr",
     "output_type": "stream",
     "text": [
      "Training Progress: 100%|██████████| 1000/1000 [00:22<00:00, 44.78it/s]\n"
     ]
    },
    {
     "name": "stdout",
     "output_type": "stream",
     "text": [
      "\n",
      "Trained! 😎\n"
     ]
    }
   ],
   "source": [
    "NNClasifier = NeuralNetwork(inputs=64, hidden_layers=[(50, \"sigmoid\"), (40, \"tanh\")], output_function=\"softmax\", classes=10, cost_function=\"cross entropy\")\n",
    "NNClasifier.train(X_train, y_train, epochs=1000, optimizer=\"adagrad\", learning_rate=0.0001, batch_size=10)"
   ]
  },
  {
   "cell_type": "code",
   "execution_count": 21,
   "metadata": {
    "colab": {
     "base_uri": "https://localhost:8080/",
     "height": 848
    },
    "id": "edZWPqKE5IOH",
    "outputId": "a4651603-54ff-4439-a043-33546f974161"
   },
   "outputs": [
    {
     "name": "stdout",
     "output_type": "stream",
     "text": [
      "Accuracy: 90.74%\n",
      "Classification Report:\n",
      "              precision    recall  f1-score   support\n",
      "\n",
      "           0       0.96      0.98      0.97        51\n",
      "           1       0.91      0.80      0.85        61\n",
      "           2       0.82      1.00      0.90        49\n",
      "           3       0.88      0.85      0.87        54\n",
      "           4       0.91      0.89      0.90        56\n",
      "           5       0.98      0.88      0.93        65\n",
      "           6       0.96      1.00      0.98        46\n",
      "           7       0.94      0.96      0.95        52\n",
      "           8       0.90      0.82      0.86        55\n",
      "           9       0.83      0.94      0.88        51\n",
      "\n",
      "    accuracy                           0.91       540\n",
      "   macro avg       0.91      0.91      0.91       540\n",
      "weighted avg       0.91      0.91      0.91       540\n",
      "\n"
     ]
    },
    {
     "data": {
      "image/png": "[encoded data removed]",
      "text/plain": [
       "<Figure size 640x480 with 1 Axes>"
      ]
     },
     "metadata": {},
     "output_type": "display_data"
    }
   ],
   "source": [
    "accuracy = NNClasifier.accuracy(X_test, y_test)\n",
    "print(f\"Accuracy: {accuracy * 100:.2f}%\")\n",
    "NNClasifier.metrics(X_test, y_test)\n",
    "NNClasifier.view_learning(each_epochs=100)"
   ]
  },
  {
   "cell_type": "markdown",
   "metadata": {
    "id": "3wN0hz442zsE"
   },
   "source": [
    "## 📌 Visualización"
   ]
  },
  {
   "cell_type": "code",
   "execution_count": 22,
   "metadata": {
    "colab": {
     "base_uri": "https://localhost:8080/",
     "height": 430
    },
    "id": "k1CR06Xr3Jek",
    "outputId": "6bcba063-4635-4463-fe14-5efe77ba2b13"
   },
   "outputs": [
    {
     "data": {
      "image/png": "[encoded data removed]",
      "text/plain": [
       "<Figure size 1200x500 with 10 Axes>"
      ]
     },
     "metadata": {},
     "output_type": "display_data"
    }
   ],
   "source": [
    "# Toma al azar 10 imágenes de MNIST del X_train:\n",
    "random_indices = random.sample(range(len(X_train)), 10)\n",
    "random_images = [X_train[i] for i in random_indices]\n",
    "random_labels = [y_train[i] for i in random_indices]\n",
    "\n",
    "# Crea la predicción para cada ejemplo:\n",
    "predictions = [NNClasifier.predict(image) for image in random_images]\n",
    "\n",
    "# Grafica las imágenes y su predicción:\n",
    "plt.figure(figsize=(12, 5))\n",
    "for i in range(10):\n",
    "    plt.subplot(2, 5, i + 1)\n",
    "    plt.imshow(random_images[i].reshape(8, 8), cmap=\"gray\")\n",
    "    plt.title(f\"Dígito predicho: {predictions[i]}\")\n",
    "    plt.axis(\"off\")\n",
    "plt.show()"
   ]
  },
  {
   "cell_type": "markdown",
   "metadata": {
    "id": "4DinJz64wzft"
   },
   "source": [
    "# [05] 💜 @arhcoder\n",
    "## Realizado por:\n",
    "### Iván Alejadro Ramos Herrera\n",
    "### [@arhcoder](https://github.com/arhcoder)"
   ]
  }
 ],
 "metadata": {
  "colab": {
   "provenance": [],
   "toc_visible": true
  },
  "kernelspec": {
   "display_name": "Python 3 (ipykernel)",
   "language": "python",
   "name": "python3"
  },
  "language_info": {
   "codemirror_mode": {
    "name": "ipython",
    "version": 3
   },
   "file_extension": ".py",
   "mimetype": "text/x-python",
   "name": "python",
   "nbconvert_exporter": "python",
   "pygments_lexer": "ipython3",
   "version": "3.12.1"
  }
 },
 "nbformat": 4,
 "nbformat_minor": 4
}
