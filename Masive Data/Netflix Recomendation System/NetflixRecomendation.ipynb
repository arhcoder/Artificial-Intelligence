{
  "nbformat": 4,
  "nbformat_minor": 0,
  "metadata": {
    "colab": {
      "provenance": [],
      "toc_visible": true,
      "gpuType": "T4"
    },
    "kernelspec": {
      "name": "python3",
      "display_name": "Python 3"
    },
    "language_info": {
      "name": "python"
    },
    "accelerator": "GPU"
  },
  "cells": [
    {
      "cell_type": "markdown",
      "source": [
        "# 📚 DATOS MASIVOS II\n",
        "## 💻 Instituto de Investigaciones en Matemáticas Aplicadas y en Sistemas\n",
        "## 🏫 Universidad Nacional Autónoma de México\n",
        "\n",
        "<hr>\n",
        "\n",
        "### 🎬 Caso Netflix\n",
        "### 🍿 Sistema de Recomendación de Contenido\n",
        "#### 🚻 Método de Filtrado Colaborativo\n",
        "\n",
        "<br>\n",
        "\n",
        "#### Realizado por:\n",
        "#### Iván Alejadro Ramos Herrera\n",
        "#### 💜 [@arhcoder](https://github.com/arhcoder)\n",
        "\n"
      ],
      "metadata": {
        "id": "P7F5VNFJMckc"
      }
    },
    {
      "cell_type": "markdown",
      "source": [
        "# [01] 📓 Selección de Dataset\n",
        "\n",
        "## Netflix Prize data\n",
        "### Fuente: https://www.kaggle.com/datasets/netflix-inc/netflix-prize-data/\n",
        "### Información del dataset:\n",
        "> Netflix held the Netflix Prize open competition for the best algorithm to predict user ratings for films. The grand prize was $1,000,000 and was won by BellKor's Pragmatic Chaos team. This is the dataset that was used in that competition.\n",
        "\n",
        "> TRAINING DATASET FILE DESCRIPTION\n",
        "The file \"training_set.tar\" is a tar of a directory containing 17770 files, one\n",
        "per movie. The first line of each file contains the movie id followed by a\n",
        "colon. Each subsequent line in the file corresponds to a rating from a customer\n",
        "and its date in the following format:\n",
        "\n",
        "> CustomerID,Rating,Date\n",
        "MovieIDs range from 1 to 17770 sequentially.\n",
        "CustomerIDs range from 1 to 2649429, with gaps. There are 480189 users.\n",
        "Ratings are on a five star (integral) scale from 1 to 5.\n",
        "Dates have the format YYYY-MM-DD.\n",
        "MOVIES FILE DESCRIPTION\n",
        "Movie information in \"movie_titles.txt\" is in the following format:\n",
        "\n",
        "> MovieID,YearOfRelease,Title\n",
        "MovieID do not correspond to actual Netflix movie ids or IMDB movie ids.\n",
        "YearOfRelease can range from 1890 to 2005 and may correspond to the release of\n",
        "corresponding DVD, not necessarily its theaterical release.\n",
        "Title is the Netflix movie title and may not correspond to\n",
        "titles used on other sites. Titles are in English.\n",
        "QUALIFYING AND PREDICTION DATASET FILE DESCRIPTION\n",
        "The qualifying dataset for the Netflix Prize is contained in the text file\n",
        "\"qualifying.txt\". It consists of lines indicating a movie id, followed by a\n",
        "colon, and then customer ids and rating dates, one per line for that movie id.\n",
        "The movie and customer ids are contained in the training set. Of course the\n",
        "ratings are withheld. There are no empty lines in the file.\n",
        "…\n",
        "\n",
        "> To calculate the RMSE of your predictions against those\n",
        "ratings and compare your RMSE against the Cinematch RMSE on the same data. See http://www.netflixprize.com/faq#probe for that value.\n"
      ],
      "metadata": {
        "id": "eUmJqJKuCoA0"
      }
    },
    {
      "cell_type": "markdown",
      "source": [
        "# [02] 📖 Dataset"
      ],
      "metadata": {
        "id": "VbD7gUUpcPnH"
      }
    },
    {
      "cell_type": "markdown",
      "source": [
        "## Obtención"
      ],
      "metadata": {
        "id": "ZAiDEC88Ls8-"
      }
    },
    {
      "cell_type": "code",
      "source": [
        "import warnings\n",
        "warnings.filterwarnings(\"ignore\")"
      ],
      "metadata": {
        "id": "9FLX47UTOI9E"
      },
      "execution_count": 1,
      "outputs": []
    },
    {
      "cell_type": "markdown",
      "source": [
        "### Leyendo el Dataset"
      ],
      "metadata": {
        "id": "kL2ApC9ZtRos"
      }
    },
    {
      "cell_type": "code",
      "source": [
        "# Leyendo el dataset:\n",
        "import pandas as pd\n",
        "\n",
        "ratings = pd.DataFrame()\n",
        "for i in range(1, 5):\n",
        "  df = pd.read_csv(f\"/content/drive/MyDrive/Datasets/Netflix/combined_data_{i}.txt\",\n",
        "                   header = None, names = [\"User_Id\", \"Rating\"], usecols = [0, 1])\n",
        "  df[\"Rating\"] = df[\"Rating\"].astype(float)\n",
        "  ratings = ratings.append(df, ignore_index=True)\n",
        "\n",
        "# Observando el dataset:\n",
        "print(ratings.head(6))\n",
        "print(ratings.shape)"
      ],
      "metadata": {
        "colab": {
          "base_uri": "https://localhost:8080/"
        },
        "id": "bwSFiEdwHZWB",
        "outputId": "78a2ba2b-6077-406b-907a-b26563bf2b18"
      },
      "execution_count": 2,
      "outputs": [
        {
          "output_type": "stream",
          "name": "stdout",
          "text": [
            "   User_Id  Rating\n",
            "0       1:     NaN\n",
            "1  1488844     3.0\n",
            "2   822109     5.0\n",
            "3   885013     4.0\n",
            "4    30878     4.0\n",
            "5   823519     3.0\n",
            "(100498277, 2)\n"
          ]
        }
      ]
    },
    {
      "cell_type": "markdown",
      "source": [
        "### Títulos de películas"
      ],
      "metadata": {
        "id": "NKx3B6eXtaJ6"
      }
    },
    {
      "cell_type": "code",
      "source": [
        "# Títulos de las películas:\n",
        "import csv\n",
        "\n",
        "names = []\n",
        "def combine_name(row):\n",
        "    return \" \".join(map(str, row[2:]))\n",
        "\n",
        "with open(\"/content/drive/MyDrive/Datasets/Netflix/movie_titles.csv\", encoding=\"ISO-8859-1\") as file:\n",
        "  reader = csv.reader(file)\n",
        "  for row in reader:\n",
        "    # Combina las columnas Name:\n",
        "    name = combine_name(row)\n",
        "    names.append([row[0], row[1], name])\n",
        "\n",
        "# Dataframe de títulos:\n",
        "titles = pd.DataFrame(names, columns=[\"Movie_Id\", \"Year\", \"Name\"])\n",
        "titles.set_index(\"Movie_Id\", inplace=True)\n",
        "print(titles.head(6))\n",
        "print(titles.shape)"
      ],
      "metadata": {
        "colab": {
          "base_uri": "https://localhost:8080/"
        },
        "id": "xwgYk4p1Myb_",
        "outputId": "99420bb1-7719-4466-f57f-ce437368a913"
      },
      "execution_count": 16,
      "outputs": [
        {
          "output_type": "stream",
          "name": "stdout",
          "text": [
            "          Year                          Name\n",
            "Movie_Id                                    \n",
            "1         2003               Dinosaur Planet\n",
            "2         2004    Isle of Man TT 2004 Review\n",
            "3         1997                     Character\n",
            "4         1994  Paula Abdul's Get Up & Dance\n",
            "5         2004      The Rise and Fall of ECW\n",
            "6         1997                          Sick\n",
            "(17770, 2)\n"
          ]
        }
      ]
    },
    {
      "cell_type": "code",
      "source": [
        "# Limpia la RAM:\n",
        "try:\n",
        "  del df\n",
        "except:\n",
        "  pass\n",
        "try:\n",
        "  del reader\n",
        "except:\n",
        "  pass\n",
        "try:\n",
        "  del names\n",
        "except:\n",
        "  pass\n",
        "try:\n",
        "  del name\n",
        "except:\n",
        "  pass\n",
        "try:\n",
        "  del row\n",
        "except:\n",
        "  pass"
      ],
      "metadata": {
        "id": "v5YC_iwr9XWg"
      },
      "execution_count": 16,
      "outputs": []
    },
    {
      "cell_type": "markdown",
      "source": [
        "## Exploración"
      ],
      "metadata": {
        "id": "BGh2qFxsLvIG"
      }
    },
    {
      "cell_type": "markdown",
      "source": [
        "### Distribución de ratings"
      ],
      "metadata": {
        "id": "sH-KVs--t5kD"
      }
    },
    {
      "cell_type": "code",
      "source": [
        "# Distribución de Ratings:\n",
        "print(\"Conteo de raitings:\")\n",
        "print(ratings.groupby(\"Rating\")[\"Rating\"].agg([\"count\"]))"
      ],
      "metadata": {
        "colab": {
          "base_uri": "https://localhost:8080/"
        },
        "id": "UcF5vpJ8LxHO",
        "outputId": "ea2dc837-6b33-4306-e1ac-7064b1595b53"
      },
      "execution_count": 5,
      "outputs": [
        {
          "output_type": "stream",
          "name": "stdout",
          "text": [
            "Conteo de raitings:\n",
            "           count\n",
            "Rating          \n",
            "1.0      4617990\n",
            "2.0     10132080\n",
            "3.0     28811247\n",
            "4.0     33750958\n",
            "5.0     23168232\n"
          ]
        }
      ]
    },
    {
      "cell_type": "markdown",
      "source": [
        "### Conteo de datos"
      ],
      "metadata": {
        "id": "oZJ5t_5Et9RR"
      }
    },
    {
      "cell_type": "code",
      "source": [
        "# Conteo de datos:\n",
        "movies_count = ratings.isnull().sum()[1]\n",
        "users_count = ratings[\"User_Id\"].nunique() - movies_count\n",
        "rating_count = ratings[\"User_Id\"].count() - movies_count\n",
        "print(f\"Películas: {movies_count}\\nUsuarios: {users_count}\\nRatings: {rating_count}\")"
      ],
      "metadata": {
        "id": "Yel2CsX7MHgn",
        "colab": {
          "base_uri": "https://localhost:8080/"
        },
        "outputId": "288cfaec-76f9-4a22-a059-888abb0f5cba"
      },
      "execution_count": 6,
      "outputs": [
        {
          "output_type": "stream",
          "name": "stdout",
          "text": [
            "Películas: 17770\n",
            "Usuarios: 480189\n",
            "Ratings: 100480507\n"
          ]
        }
      ]
    },
    {
      "cell_type": "markdown",
      "source": [
        "### Datos faltantes"
      ],
      "metadata": {
        "id": "xL7VwpHat_-A"
      }
    },
    {
      "cell_type": "code",
      "source": [
        "# Datos faltantes:\n",
        "ratings.isnull().sum()"
      ],
      "metadata": {
        "colab": {
          "base_uri": "https://localhost:8080/"
        },
        "id": "euppAMMqltzg",
        "outputId": "68f81cdf-bd83-401c-8210-3999b85ea123"
      },
      "execution_count": 7,
      "outputs": [
        {
          "output_type": "execute_result",
          "data": {
            "text/plain": [
              "User_Id        0\n",
              "Rating     17770\n",
              "dtype: int64"
            ]
          },
          "metadata": {},
          "execution_count": 7
        }
      ]
    },
    {
      "cell_type": "markdown",
      "source": [
        "## Preparación"
      ],
      "metadata": {
        "id": "i-d2J5hSWvLR"
      }
    },
    {
      "cell_type": "markdown",
      "source": [
        "### Lidiando con ID's faltantes"
      ],
      "metadata": {
        "id": "p2VRD3x3uD6_"
      }
    },
    {
      "cell_type": "code",
      "source": [
        "import numpy as np\n",
        "\n",
        "# Se lidia con completar los ID's vacíos:\n",
        "df_nan = pd.DataFrame(pd.isnull(ratings.Rating))\n",
        "df_nan = df_nan[df_nan[\"Rating\"] == True]\n",
        "df_nan = df_nan.reset_index()\n",
        "\n",
        "# Reorganiza los ID's:\n",
        "movie_np = []\n",
        "movie_id = 1\n",
        "for i,j in zip(df_nan[\"index\"][1:], df_nan[\"index\"][:-1]):\n",
        "    temp = np.full((1, i-j-1), movie_id)\n",
        "    movie_np = np.append(movie_np, temp)\n",
        "    movie_id += 1\n",
        "last_record = np.full((1, len(ratings) - df_nan.iloc[-1, 0] - 1), movie_id)\n",
        "movie_np = np.append(movie_np, last_record)\n",
        "\n",
        "# Vector Numpy con los nuevos ID's:\n",
        "print(f\"Movie Numpy: {movie_np}\")\n",
        "print(f\"Length: {len(movie_np)}\")"
      ],
      "metadata": {
        "id": "Urun3m1nTi4P",
        "colab": {
          "base_uri": "https://localhost:8080/"
        },
        "outputId": "568dc393-6053-4432-99df-1db55b526567"
      },
      "execution_count": 8,
      "outputs": [
        {
          "output_type": "stream",
          "name": "stdout",
          "text": [
            "Movie Numpy: [1.000e+00 1.000e+00 1.000e+00 ... 1.777e+04 1.777e+04 1.777e+04]\n",
            "Length: 100480507\n"
          ]
        }
      ]
    },
    {
      "cell_type": "code",
      "source": [
        "try:\n",
        "  del movie_id\n",
        "except:\n",
        "  pass\n",
        "try:\n",
        "  del last_record\n",
        "except:\n",
        "  pass\n",
        "try:\n",
        "  del df_nan\n",
        "except:\n",
        "  pass"
      ],
      "metadata": {
        "id": "2l_p9h058nbA"
      },
      "execution_count": 9,
      "outputs": []
    },
    {
      "cell_type": "code",
      "source": [
        "# Guardar movie_np en un archivo, para evitar saturar la RAM:\n",
        "np.save(\"movie_np.npy\", movie_np)"
      ],
      "metadata": {
        "id": "0uj8A9C1DgHm"
      },
      "execution_count": 10,
      "outputs": []
    },
    {
      "cell_type": "markdown",
      "source": [
        "### Reintegrando Dataset completo"
      ],
      "metadata": {
        "id": "iANgl4C2uHgX"
      }
    },
    {
      "cell_type": "code",
      "source": [
        "# Remueve las filas con valores NaN en Rating:\n",
        "import numpy as np\n",
        "ratings = ratings.dropna(subset=[\"Rating\"])\n",
        "\n",
        "# Carga movie_np para evitar saturar la RAM:\n",
        "movie_np = np.load(\"movie_np.npy\")\n",
        "\n",
        "# Guarda y convierte los ID's en int:\n",
        "ratings[\"Movie_Id\"] = movie_np.astype(int)\n",
        "ratings[\"User_Id\"] = ratings[\"User_Id\"].astype(int)"
      ],
      "metadata": {
        "id": "_FX2_L0UkaRb"
      },
      "execution_count": 5,
      "outputs": []
    },
    {
      "cell_type": "markdown",
      "source": [
        "### Guardando Datset"
      ],
      "metadata": {
        "id": "6JN9mbFRuL8t"
      }
    },
    {
      "cell_type": "code",
      "source": [
        "# Preparación de \"Ratings\" como matriz definitiva:\n",
        "print(ratings.head(6))\n",
        "ratings.to_csv(\"/content/drive/MyDrive/Datasets/Netflix/ratings.csv\", index=False)"
      ],
      "metadata": {
        "id": "kPA6wsLokgvi",
        "colab": {
          "base_uri": "https://localhost:8080/"
        },
        "outputId": "b60c17aa-2a84-4896-bf31-de91e65430bd"
      },
      "execution_count": 7,
      "outputs": [
        {
          "output_type": "stream",
          "name": "stdout",
          "text": [
            "   User_Id  Rating  Movie_Id\n",
            "1  1488844     3.0         1\n",
            "2   822109     5.0         1\n",
            "3   885013     4.0         1\n",
            "4    30878     4.0         1\n",
            "5   823519     3.0         1\n",
            "6   893988     3.0         1\n"
          ]
        }
      ]
    },
    {
      "cell_type": "markdown",
      "source": [
        "# [03] 🧺 Rellenando con Predicciones\n",
        "\n",
        "Se utilizará Factorización No-Negativa de Matrices para que; ya teniendo la \"matrix\" con los películas y ratings asociados a cada usuario, rellenar los espacios vacíos para \"predecir\" qué películas querrá ver cada uno de los usuarios (obteniendo la estimación del rating que le daría a cada película que no ha visto)"
      ],
      "metadata": {
        "id": "VkXMPVHaYoEY"
      }
    },
    {
      "cell_type": "code",
      "source": [
        "!pip install surprise"
      ],
      "metadata": {
        "id": "GchzB8qYZEvU"
      },
      "execution_count": null,
      "outputs": []
    },
    {
      "cell_type": "markdown",
      "source": [
        "## Factorización No-Negativa"
      ],
      "metadata": {
        "id": "2MHU8v71ZNP4"
      }
    },
    {
      "cell_type": "code",
      "source": [
        "from surprise import NMF, Dataset, Reader\n",
        "from surprise.model_selection import cross_validate\n",
        "\n",
        "# Cargando únicamente las primeras 100,000 líneas:\n",
        "reader = Reader()\n",
        "data = Dataset.load_from_df(ratings[[\"User_Id\", \"Movie_Id\", \"Rating\"]][:100000], reader)\n",
        "\n",
        "# Factorización No-Negativa de Matrices:\n",
        "nmf = NMF()\n",
        "\n",
        "# Validación cruzada con las métricas \"RMSE\" y \"MAE\":\n",
        "results = cross_validate(nmf, data, measures=[\"RMSE\", \"MAE\"], cv=3, verbose=False)\n",
        "\n",
        "# Promedios de resultados:\n",
        "rmse = results[\"test_rmse\"].mean()\n",
        "mae = results[\"test_mae\"].mean()\n",
        "print(f\"RMSE promedio: {rmse}\")\n",
        "print(f\"MAE promedio: {mae}\")"
      ],
      "metadata": {
        "id": "G31hqYKlZLc7",
        "colab": {
          "base_uri": "https://localhost:8080/"
        },
        "outputId": "7560c8aa-5b32-4eea-f769-502adcc61fb8"
      },
      "execution_count": 11,
      "outputs": [
        {
          "output_type": "stream",
          "name": "stdout",
          "text": [
            "RMSE promedio: 1.1803985125831258\n",
            "MAE promedio: 0.9740562898435142\n"
          ]
        }
      ]
    },
    {
      "cell_type": "markdown",
      "source": [
        "# [04] 🔮 Recomendando Películas\n",
        "\n",
        "Se toma un usuario al azar y se analiza cómo se realizarían las recomendaciones\n"
      ],
      "metadata": {
        "id": "Hwco0oNpqhTk"
      }
    },
    {
      "cell_type": "markdown",
      "source": [
        "### Obteniendo usuario al azar"
      ],
      "metadata": {
        "id": "NWPhsEeDuRq0"
      }
    },
    {
      "cell_type": "code",
      "source": [
        "# Usuario al azar:\n",
        "import numpy as np\n",
        "import pandas as pd\n",
        "\n",
        "ratings = pd.read_csv(\"/content/drive/MyDrive/Datasets/Netflix/ratings.csv\")\n",
        "random_user = np.random.choice(ratings[\"User_Id\"][:100000].unique())\n",
        "print(random_user)"
      ],
      "metadata": {
        "id": "1kxJ6Qi_r7aH",
        "colab": {
          "base_uri": "https://localhost:8080/"
        },
        "outputId": "4560eb60-257d-4c13-c7f0-91205e5dc536"
      },
      "execution_count": 1,
      "outputs": [
        {
          "output_type": "stream",
          "name": "stdout",
          "text": [
            "510521\n"
          ]
        }
      ]
    },
    {
      "cell_type": "markdown",
      "source": [
        "### Películas favoritas del usuario"
      ],
      "metadata": {
        "id": "fYrxbqJ8uUDC"
      }
    },
    {
      "cell_type": "code",
      "source": [
        "# Se muestran 10 películas a las que el usario ha dado rating de 5:\n",
        "ids = ratings[(ratings[\"User_Id\"] == random_user) & (ratings[\"Rating\"] == 5)]\n",
        "ids = ids[[\"Movie_Id\"]]\n",
        "ids = ids[\"Movie_Id\"].tolist()\n",
        "\n",
        "names = []\n",
        "for id in ids:\n",
        "  name = filtered_rows = titles.reset_index()[[\"Name\"]][titles.reset_index()[\"Movie_Id\"] == str(id)].values[0][0]\n",
        "  names.append(name)\n",
        "favorites = pd.DataFrame({\"Movie_Id\": ids, \"Name\": names})\n",
        "favorites = favorites.reset_index(drop=True)\n",
        "\n",
        "print(f\"\\nUsuario: {random_user}\\n[n] películas favoritas:\")\n",
        "print(favorites)"
      ],
      "metadata": {
        "id": "P3Nw4wcRsD16",
        "colab": {
          "base_uri": "https://localhost:8080/"
        },
        "outputId": "11c0b3a3-7e50-4926-dcf1-3da87d98a8e0"
      },
      "execution_count": 26,
      "outputs": [
        {
          "output_type": "stream",
          "name": "stdout",
          "text": [
            "\n",
            "Usuario: 510521\n",
            "[n] películas favoritas:\n",
            "    Movie_Id                                              Name\n",
            "0         28                                   Lilo and Stitch\n",
            "1        270                        Sex and the City: Season 4\n",
            "2       1174                                       The Sandlot\n",
            "3       2040          Star Trek: The Next Generation: Season 5\n",
            "4       2452     Lord of the Rings: The Fellowship of the Ring\n",
            "5       3079                    The Lion King: Special Edition\n",
            "6       3523          Star Trek: The Next Generation: Season 6\n",
            "7       3962                         Finding Nemo (Widescreen)\n",
            "8       4306                                   The Sixth Sense\n",
            "9       5317                                 Miss Congeniality\n",
            "10      5326          Star Trek: The Next Generation: Season 4\n",
            "11      5385                 Jamie Foxx: I Might Need Security\n",
            "12      5513                          Mr. Bean: The Whole Bean\n",
            "13      5614                                      Best in Show\n",
            "14      6205                Scarface: 20th Anniversary Edition\n",
            "15      6428                             To Kill a Mockingbird\n",
            "16      7655                         The Best Bits of Mr. Bean\n",
            "17      7964      Thomas & Friends: It's Great to be an Engine\n",
            "18      7989             Beauty and the Beast: Special Edition\n",
            "19      8327                   One Flew Over the Cuckoo's Nest\n",
            "20     11089                                    Monsters  Inc.\n",
            "21     11283                                      Forrest Gump\n",
            "22     11521                 Lord of the Rings: The Two Towers\n",
            "23     11810                                Reno 911: Season 1\n",
            "24     12184                        Sex and the City: Season 5\n",
            "25     12530                Sex and the City: Season 6: Part 2\n",
            "26     12999                                Nip/Tuck: Season 1\n",
            "27     13031          Star Trek: The Next Generation: Season 3\n",
            "28     13058                                         Backdraft\n",
            "29     13728                                         Gladiator\n",
            "30     14240         Lord of the Rings: The Return of the King\n",
            "31     14410                                        Spider-Man\n",
            "32     14550         The Shawshank Redemption: Special Edition\n",
            "33     14621                               Shrek (Full-screen)\n",
            "34     14725             Austin Powers: The Spy Who Shagged Me\n",
            "35     15062                                            Grease\n",
            "36     15070                        Sex and the City: Season 2\n",
            "37     15124                                  Independence Day\n",
            "38     15902                Blue Collar Comedy Tour: The Movie\n",
            "39     16222                               The Lion King 1 1/2\n",
            "40     16711                Sex and the City: Season 6: Part 1\n",
            "41     17046  Thomas & Friends: Thomas & His Friends Get Along\n",
            "42     17339                                 Full Metal Jacket\n",
            "43     17355                                      The Terminal\n",
            "44     17397                         In Living Color: Season 1\n"
          ]
        }
      ]
    },
    {
      "cell_type": "markdown",
      "source": [
        "### Recomendaciones encontradas para el usuario"
      ],
      "metadata": {
        "id": "JV4wvCLif15Z"
      }
    },
    {
      "cell_type": "code",
      "source": [
        "user_already_views = ratings[ratings[\"User_Id\"] == random_user]"
      ],
      "metadata": {
        "id": "ZtTYnvfeu9l7"
      },
      "execution_count": 27,
      "outputs": []
    },
    {
      "cell_type": "code",
      "source": [
        "user_already_views"
      ],
      "metadata": {
        "colab": {
          "base_uri": "https://localhost:8080/",
          "height": 423
        },
        "id": "8pJKIhJUvNNq",
        "outputId": "a0cc3a88-fa3f-45ff-c213-df1fa386ac01"
      },
      "execution_count": 29,
      "outputs": [
        {
          "output_type": "execute_result",
          "data": {
            "text/plain": [
              "           User_Id  Rating  Movie_Id\n",
              "43469       510521     3.0        23\n",
              "67146       510521     5.0        28\n",
              "136573      510521     4.0        30\n",
              "847045      510521     4.0       197\n",
              "943012      510521     4.0       209\n",
              "...            ...     ...       ...\n",
              "98587294    510521     5.0     17397\n",
              "99556645    510521     2.0     17560\n",
              "99949973    510521     4.0     17627\n",
              "100161908   510521     4.0     17692\n",
              "100217725   510521     3.0     17703\n",
              "\n",
              "[212 rows x 3 columns]"
            ],
            "text/html": [
              "\n",
              "  <div id=\"df-0396f876-e8a0-4a06-831a-0c2d600e90c0\" class=\"colab-df-container\">\n",
              "    <div>\n",
              "<style scoped>\n",
              "    .dataframe tbody tr th:only-of-type {\n",
              "        vertical-align: middle;\n",
              "    }\n",
              "\n",
              "    .dataframe tbody tr th {\n",
              "        vertical-align: top;\n",
              "    }\n",
              "\n",
              "    .dataframe thead th {\n",
              "        text-align: right;\n",
              "    }\n",
              "</style>\n",
              "<table border=\"1\" class=\"dataframe\">\n",
              "  <thead>\n",
              "    <tr style=\"text-align: right;\">\n",
              "      <th></th>\n",
              "      <th>User_Id</th>\n",
              "      <th>Rating</th>\n",
              "      <th>Movie_Id</th>\n",
              "    </tr>\n",
              "  </thead>\n",
              "  <tbody>\n",
              "    <tr>\n",
              "      <th>43469</th>\n",
              "      <td>510521</td>\n",
              "      <td>3.0</td>\n",
              "      <td>23</td>\n",
              "    </tr>\n",
              "    <tr>\n",
              "      <th>67146</th>\n",
              "      <td>510521</td>\n",
              "      <td>5.0</td>\n",
              "      <td>28</td>\n",
              "    </tr>\n",
              "    <tr>\n",
              "      <th>136573</th>\n",
              "      <td>510521</td>\n",
              "      <td>4.0</td>\n",
              "      <td>30</td>\n",
              "    </tr>\n",
              "    <tr>\n",
              "      <th>847045</th>\n",
              "      <td>510521</td>\n",
              "      <td>4.0</td>\n",
              "      <td>197</td>\n",
              "    </tr>\n",
              "    <tr>\n",
              "      <th>943012</th>\n",
              "      <td>510521</td>\n",
              "      <td>4.0</td>\n",
              "      <td>209</td>\n",
              "    </tr>\n",
              "    <tr>\n",
              "      <th>...</th>\n",
              "      <td>...</td>\n",
              "      <td>...</td>\n",
              "      <td>...</td>\n",
              "    </tr>\n",
              "    <tr>\n",
              "      <th>98587294</th>\n",
              "      <td>510521</td>\n",
              "      <td>5.0</td>\n",
              "      <td>17397</td>\n",
              "    </tr>\n",
              "    <tr>\n",
              "      <th>99556645</th>\n",
              "      <td>510521</td>\n",
              "      <td>2.0</td>\n",
              "      <td>17560</td>\n",
              "    </tr>\n",
              "    <tr>\n",
              "      <th>99949973</th>\n",
              "      <td>510521</td>\n",
              "      <td>4.0</td>\n",
              "      <td>17627</td>\n",
              "    </tr>\n",
              "    <tr>\n",
              "      <th>100161908</th>\n",
              "      <td>510521</td>\n",
              "      <td>4.0</td>\n",
              "      <td>17692</td>\n",
              "    </tr>\n",
              "    <tr>\n",
              "      <th>100217725</th>\n",
              "      <td>510521</td>\n",
              "      <td>3.0</td>\n",
              "      <td>17703</td>\n",
              "    </tr>\n",
              "  </tbody>\n",
              "</table>\n",
              "<p>212 rows × 3 columns</p>\n",
              "</div>\n",
              "    <div class=\"colab-df-buttons\">\n",
              "\n",
              "  <div class=\"colab-df-container\">\n",
              "    <button class=\"colab-df-convert\" onclick=\"convertToInteractive('df-0396f876-e8a0-4a06-831a-0c2d600e90c0')\"\n",
              "            title=\"Convert this dataframe to an interactive table.\"\n",
              "            style=\"display:none;\">\n",
              "\n",
              "  <svg xmlns=\"http://www.w3.org/2000/svg\" height=\"24px\" viewBox=\"0 -960 960 960\">\n",
              "    <path d=\"M120-120v-720h720v720H120Zm60-500h600v-160H180v160Zm220 220h160v-160H400v160Zm0 220h160v-160H400v160ZM180-400h160v-160H180v160Zm440 0h160v-160H620v160ZM180-180h160v-160H180v160Zm440 0h160v-160H620v160Z\"/>\n",
              "  </svg>\n",
              "    </button>\n",
              "\n",
              "  <style>\n",
              "    .colab-df-container {\n",
              "      display:flex;\n",
              "      gap: 12px;\n",
              "    }\n",
              "\n",
              "    .colab-df-convert {\n",
              "      background-color: #E8F0FE;\n",
              "      border: none;\n",
              "      border-radius: 50%;\n",
              "      cursor: pointer;\n",
              "      display: none;\n",
              "      fill: #1967D2;\n",
              "      height: 32px;\n",
              "      padding: 0 0 0 0;\n",
              "      width: 32px;\n",
              "    }\n",
              "\n",
              "    .colab-df-convert:hover {\n",
              "      background-color: #E2EBFA;\n",
              "      box-shadow: 0px 1px 2px rgba(60, 64, 67, 0.3), 0px 1px 3px 1px rgba(60, 64, 67, 0.15);\n",
              "      fill: #174EA6;\n",
              "    }\n",
              "\n",
              "    .colab-df-buttons div {\n",
              "      margin-bottom: 4px;\n",
              "    }\n",
              "\n",
              "    [theme=dark] .colab-df-convert {\n",
              "      background-color: #3B4455;\n",
              "      fill: #D2E3FC;\n",
              "    }\n",
              "\n",
              "    [theme=dark] .colab-df-convert:hover {\n",
              "      background-color: #434B5C;\n",
              "      box-shadow: 0px 1px 3px 1px rgba(0, 0, 0, 0.15);\n",
              "      filter: drop-shadow(0px 1px 2px rgba(0, 0, 0, 0.3));\n",
              "      fill: #FFFFFF;\n",
              "    }\n",
              "  </style>\n",
              "\n",
              "    <script>\n",
              "      const buttonEl =\n",
              "        document.querySelector('#df-0396f876-e8a0-4a06-831a-0c2d600e90c0 button.colab-df-convert');\n",
              "      buttonEl.style.display =\n",
              "        google.colab.kernel.accessAllowed ? 'block' : 'none';\n",
              "\n",
              "      async function convertToInteractive(key) {\n",
              "        const element = document.querySelector('#df-0396f876-e8a0-4a06-831a-0c2d600e90c0');\n",
              "        const dataTable =\n",
              "          await google.colab.kernel.invokeFunction('convertToInteractive',\n",
              "                                                    [key], {});\n",
              "        if (!dataTable) return;\n",
              "\n",
              "        const docLinkHtml = 'Like what you see? Visit the ' +\n",
              "          '<a target=\"_blank\" href=https://colab.research.google.com/notebooks/data_table.ipynb>data table notebook</a>'\n",
              "          + ' to learn more about interactive tables.';\n",
              "        element.innerHTML = '';\n",
              "        dataTable['output_type'] = 'display_data';\n",
              "        await google.colab.output.renderOutput(dataTable, element);\n",
              "        const docLink = document.createElement('div');\n",
              "        docLink.innerHTML = docLinkHtml;\n",
              "        element.appendChild(docLink);\n",
              "      }\n",
              "    </script>\n",
              "  </div>\n",
              "\n",
              "\n",
              "<div id=\"df-f60e3d76-f63a-4579-9042-1773d5a1fd4d\">\n",
              "  <button class=\"colab-df-quickchart\" onclick=\"quickchart('df-f60e3d76-f63a-4579-9042-1773d5a1fd4d')\"\n",
              "            title=\"Suggest charts\"\n",
              "            style=\"display:none;\">\n",
              "\n",
              "<svg xmlns=\"http://www.w3.org/2000/svg\" height=\"24px\"viewBox=\"0 0 24 24\"\n",
              "     width=\"24px\">\n",
              "    <g>\n",
              "        <path d=\"M19 3H5c-1.1 0-2 .9-2 2v14c0 1.1.9 2 2 2h14c1.1 0 2-.9 2-2V5c0-1.1-.9-2-2-2zM9 17H7v-7h2v7zm4 0h-2V7h2v10zm4 0h-2v-4h2v4z\"/>\n",
              "    </g>\n",
              "</svg>\n",
              "  </button>\n",
              "\n",
              "<style>\n",
              "  .colab-df-quickchart {\n",
              "      --bg-color: #E8F0FE;\n",
              "      --fill-color: #1967D2;\n",
              "      --hover-bg-color: #E2EBFA;\n",
              "      --hover-fill-color: #174EA6;\n",
              "      --disabled-fill-color: #AAA;\n",
              "      --disabled-bg-color: #DDD;\n",
              "  }\n",
              "\n",
              "  [theme=dark] .colab-df-quickchart {\n",
              "      --bg-color: #3B4455;\n",
              "      --fill-color: #D2E3FC;\n",
              "      --hover-bg-color: #434B5C;\n",
              "      --hover-fill-color: #FFFFFF;\n",
              "      --disabled-bg-color: #3B4455;\n",
              "      --disabled-fill-color: #666;\n",
              "  }\n",
              "\n",
              "  .colab-df-quickchart {\n",
              "    background-color: var(--bg-color);\n",
              "    border: none;\n",
              "    border-radius: 50%;\n",
              "    cursor: pointer;\n",
              "    display: none;\n",
              "    fill: var(--fill-color);\n",
              "    height: 32px;\n",
              "    padding: 0;\n",
              "    width: 32px;\n",
              "  }\n",
              "\n",
              "  .colab-df-quickchart:hover {\n",
              "    background-color: var(--hover-bg-color);\n",
              "    box-shadow: 0 1px 2px rgba(60, 64, 67, 0.3), 0 1px 3px 1px rgba(60, 64, 67, 0.15);\n",
              "    fill: var(--button-hover-fill-color);\n",
              "  }\n",
              "\n",
              "  .colab-df-quickchart-complete:disabled,\n",
              "  .colab-df-quickchart-complete:disabled:hover {\n",
              "    background-color: var(--disabled-bg-color);\n",
              "    fill: var(--disabled-fill-color);\n",
              "    box-shadow: none;\n",
              "  }\n",
              "\n",
              "  .colab-df-spinner {\n",
              "    border: 2px solid var(--fill-color);\n",
              "    border-color: transparent;\n",
              "    border-bottom-color: var(--fill-color);\n",
              "    animation:\n",
              "      spin 1s steps(1) infinite;\n",
              "  }\n",
              "\n",
              "  @keyframes spin {\n",
              "    0% {\n",
              "      border-color: transparent;\n",
              "      border-bottom-color: var(--fill-color);\n",
              "      border-left-color: var(--fill-color);\n",
              "    }\n",
              "    20% {\n",
              "      border-color: transparent;\n",
              "      border-left-color: var(--fill-color);\n",
              "      border-top-color: var(--fill-color);\n",
              "    }\n",
              "    30% {\n",
              "      border-color: transparent;\n",
              "      border-left-color: var(--fill-color);\n",
              "      border-top-color: var(--fill-color);\n",
              "      border-right-color: var(--fill-color);\n",
              "    }\n",
              "    40% {\n",
              "      border-color: transparent;\n",
              "      border-right-color: var(--fill-color);\n",
              "      border-top-color: var(--fill-color);\n",
              "    }\n",
              "    60% {\n",
              "      border-color: transparent;\n",
              "      border-right-color: var(--fill-color);\n",
              "    }\n",
              "    80% {\n",
              "      border-color: transparent;\n",
              "      border-right-color: var(--fill-color);\n",
              "      border-bottom-color: var(--fill-color);\n",
              "    }\n",
              "    90% {\n",
              "      border-color: transparent;\n",
              "      border-bottom-color: var(--fill-color);\n",
              "    }\n",
              "  }\n",
              "</style>\n",
              "\n",
              "  <script>\n",
              "    async function quickchart(key) {\n",
              "      const quickchartButtonEl =\n",
              "        document.querySelector('#' + key + ' button');\n",
              "      quickchartButtonEl.disabled = true;  // To prevent multiple clicks.\n",
              "      quickchartButtonEl.classList.add('colab-df-spinner');\n",
              "      try {\n",
              "        const charts = await google.colab.kernel.invokeFunction(\n",
              "            'suggestCharts', [key], {});\n",
              "      } catch (error) {\n",
              "        console.error('Error during call to suggestCharts:', error);\n",
              "      }\n",
              "      quickchartButtonEl.classList.remove('colab-df-spinner');\n",
              "      quickchartButtonEl.classList.add('colab-df-quickchart-complete');\n",
              "    }\n",
              "    (() => {\n",
              "      let quickchartButtonEl =\n",
              "        document.querySelector('#df-f60e3d76-f63a-4579-9042-1773d5a1fd4d button');\n",
              "      quickchartButtonEl.style.display =\n",
              "        google.colab.kernel.accessAllowed ? 'block' : 'none';\n",
              "    })();\n",
              "  </script>\n",
              "</div>\n",
              "    </div>\n",
              "  </div>\n"
            ]
          },
          "metadata": {},
          "execution_count": 29
        }
      ]
    },
    {
      "cell_type": "code",
      "source": [
        "import pandas as pd\n",
        "from surprise import NMF, Dataset, Reader\n",
        "from surprise.model_selection import cross_validate\n",
        "\n",
        "# Nuevo DataFrame para el usuario al azar:\n",
        "ratings = pd.read_csv(\"/content/drive/MyDrive/Datasets/Netflix/ratings.csv\")\n",
        "user = ratings[ratings[\"User_Id\"] == random_user]\n",
        "\n",
        "# Cargar el conjunto de datos completo:\n",
        "reader = Reader()\n",
        "data = Dataset.load_from_df(ratings[[\"User_Id\", \"Movie_Id\", \"Rating\"]][:100000], reader)"
      ],
      "metadata": {
        "id": "ecNZjH_8f0uz"
      },
      "execution_count": 19,
      "outputs": []
    },
    {
      "cell_type": "code",
      "source": [
        "user"
      ],
      "metadata": {
        "colab": {
          "base_uri": "https://localhost:8080/",
          "height": 423
        },
        "id": "qgvp7ttbtiJb",
        "outputId": "d4f5edda-9aca-45a5-cfae-556483c1f260"
      },
      "execution_count": 20,
      "outputs": [
        {
          "output_type": "execute_result",
          "data": {
            "text/plain": [
              "           User_Id  Rating  Movie_Id\n",
              "43469       510521     3.0        23\n",
              "67146       510521     5.0        28\n",
              "136573      510521     4.0        30\n",
              "847045      510521     4.0       197\n",
              "943012      510521     4.0       209\n",
              "...            ...     ...       ...\n",
              "98587294    510521     5.0     17397\n",
              "99556645    510521     2.0     17560\n",
              "99949973    510521     4.0     17627\n",
              "100161908   510521     4.0     17692\n",
              "100217725   510521     3.0     17703\n",
              "\n",
              "[212 rows x 3 columns]"
            ],
            "text/html": [
              "\n",
              "  <div id=\"df-ae8fd086-6c5f-4cf5-8a1c-73e8f93c8935\" class=\"colab-df-container\">\n",
              "    <div>\n",
              "<style scoped>\n",
              "    .dataframe tbody tr th:only-of-type {\n",
              "        vertical-align: middle;\n",
              "    }\n",
              "\n",
              "    .dataframe tbody tr th {\n",
              "        vertical-align: top;\n",
              "    }\n",
              "\n",
              "    .dataframe thead th {\n",
              "        text-align: right;\n",
              "    }\n",
              "</style>\n",
              "<table border=\"1\" class=\"dataframe\">\n",
              "  <thead>\n",
              "    <tr style=\"text-align: right;\">\n",
              "      <th></th>\n",
              "      <th>User_Id</th>\n",
              "      <th>Rating</th>\n",
              "      <th>Movie_Id</th>\n",
              "    </tr>\n",
              "  </thead>\n",
              "  <tbody>\n",
              "    <tr>\n",
              "      <th>43469</th>\n",
              "      <td>510521</td>\n",
              "      <td>3.0</td>\n",
              "      <td>23</td>\n",
              "    </tr>\n",
              "    <tr>\n",
              "      <th>67146</th>\n",
              "      <td>510521</td>\n",
              "      <td>5.0</td>\n",
              "      <td>28</td>\n",
              "    </tr>\n",
              "    <tr>\n",
              "      <th>136573</th>\n",
              "      <td>510521</td>\n",
              "      <td>4.0</td>\n",
              "      <td>30</td>\n",
              "    </tr>\n",
              "    <tr>\n",
              "      <th>847045</th>\n",
              "      <td>510521</td>\n",
              "      <td>4.0</td>\n",
              "      <td>197</td>\n",
              "    </tr>\n",
              "    <tr>\n",
              "      <th>943012</th>\n",
              "      <td>510521</td>\n",
              "      <td>4.0</td>\n",
              "      <td>209</td>\n",
              "    </tr>\n",
              "    <tr>\n",
              "      <th>...</th>\n",
              "      <td>...</td>\n",
              "      <td>...</td>\n",
              "      <td>...</td>\n",
              "    </tr>\n",
              "    <tr>\n",
              "      <th>98587294</th>\n",
              "      <td>510521</td>\n",
              "      <td>5.0</td>\n",
              "      <td>17397</td>\n",
              "    </tr>\n",
              "    <tr>\n",
              "      <th>99556645</th>\n",
              "      <td>510521</td>\n",
              "      <td>2.0</td>\n",
              "      <td>17560</td>\n",
              "    </tr>\n",
              "    <tr>\n",
              "      <th>99949973</th>\n",
              "      <td>510521</td>\n",
              "      <td>4.0</td>\n",
              "      <td>17627</td>\n",
              "    </tr>\n",
              "    <tr>\n",
              "      <th>100161908</th>\n",
              "      <td>510521</td>\n",
              "      <td>4.0</td>\n",
              "      <td>17692</td>\n",
              "    </tr>\n",
              "    <tr>\n",
              "      <th>100217725</th>\n",
              "      <td>510521</td>\n",
              "      <td>3.0</td>\n",
              "      <td>17703</td>\n",
              "    </tr>\n",
              "  </tbody>\n",
              "</table>\n",
              "<p>212 rows × 3 columns</p>\n",
              "</div>\n",
              "    <div class=\"colab-df-buttons\">\n",
              "\n",
              "  <div class=\"colab-df-container\">\n",
              "    <button class=\"colab-df-convert\" onclick=\"convertToInteractive('df-ae8fd086-6c5f-4cf5-8a1c-73e8f93c8935')\"\n",
              "            title=\"Convert this dataframe to an interactive table.\"\n",
              "            style=\"display:none;\">\n",
              "\n",
              "  <svg xmlns=\"http://www.w3.org/2000/svg\" height=\"24px\" viewBox=\"0 -960 960 960\">\n",
              "    <path d=\"M120-120v-720h720v720H120Zm60-500h600v-160H180v160Zm220 220h160v-160H400v160Zm0 220h160v-160H400v160ZM180-400h160v-160H180v160Zm440 0h160v-160H620v160ZM180-180h160v-160H180v160Zm440 0h160v-160H620v160Z\"/>\n",
              "  </svg>\n",
              "    </button>\n",
              "\n",
              "  <style>\n",
              "    .colab-df-container {\n",
              "      display:flex;\n",
              "      gap: 12px;\n",
              "    }\n",
              "\n",
              "    .colab-df-convert {\n",
              "      background-color: #E8F0FE;\n",
              "      border: none;\n",
              "      border-radius: 50%;\n",
              "      cursor: pointer;\n",
              "      display: none;\n",
              "      fill: #1967D2;\n",
              "      height: 32px;\n",
              "      padding: 0 0 0 0;\n",
              "      width: 32px;\n",
              "    }\n",
              "\n",
              "    .colab-df-convert:hover {\n",
              "      background-color: #E2EBFA;\n",
              "      box-shadow: 0px 1px 2px rgba(60, 64, 67, 0.3), 0px 1px 3px 1px rgba(60, 64, 67, 0.15);\n",
              "      fill: #174EA6;\n",
              "    }\n",
              "\n",
              "    .colab-df-buttons div {\n",
              "      margin-bottom: 4px;\n",
              "    }\n",
              "\n",
              "    [theme=dark] .colab-df-convert {\n",
              "      background-color: #3B4455;\n",
              "      fill: #D2E3FC;\n",
              "    }\n",
              "\n",
              "    [theme=dark] .colab-df-convert:hover {\n",
              "      background-color: #434B5C;\n",
              "      box-shadow: 0px 1px 3px 1px rgba(0, 0, 0, 0.15);\n",
              "      filter: drop-shadow(0px 1px 2px rgba(0, 0, 0, 0.3));\n",
              "      fill: #FFFFFF;\n",
              "    }\n",
              "  </style>\n",
              "\n",
              "    <script>\n",
              "      const buttonEl =\n",
              "        document.querySelector('#df-ae8fd086-6c5f-4cf5-8a1c-73e8f93c8935 button.colab-df-convert');\n",
              "      buttonEl.style.display =\n",
              "        google.colab.kernel.accessAllowed ? 'block' : 'none';\n",
              "\n",
              "      async function convertToInteractive(key) {\n",
              "        const element = document.querySelector('#df-ae8fd086-6c5f-4cf5-8a1c-73e8f93c8935');\n",
              "        const dataTable =\n",
              "          await google.colab.kernel.invokeFunction('convertToInteractive',\n",
              "                                                    [key], {});\n",
              "        if (!dataTable) return;\n",
              "\n",
              "        const docLinkHtml = 'Like what you see? Visit the ' +\n",
              "          '<a target=\"_blank\" href=https://colab.research.google.com/notebooks/data_table.ipynb>data table notebook</a>'\n",
              "          + ' to learn more about interactive tables.';\n",
              "        element.innerHTML = '';\n",
              "        dataTable['output_type'] = 'display_data';\n",
              "        await google.colab.output.renderOutput(dataTable, element);\n",
              "        const docLink = document.createElement('div');\n",
              "        docLink.innerHTML = docLinkHtml;\n",
              "        element.appendChild(docLink);\n",
              "      }\n",
              "    </script>\n",
              "  </div>\n",
              "\n",
              "\n",
              "<div id=\"df-b0908075-f528-42b9-8caf-cd3fafed2f46\">\n",
              "  <button class=\"colab-df-quickchart\" onclick=\"quickchart('df-b0908075-f528-42b9-8caf-cd3fafed2f46')\"\n",
              "            title=\"Suggest charts\"\n",
              "            style=\"display:none;\">\n",
              "\n",
              "<svg xmlns=\"http://www.w3.org/2000/svg\" height=\"24px\"viewBox=\"0 0 24 24\"\n",
              "     width=\"24px\">\n",
              "    <g>\n",
              "        <path d=\"M19 3H5c-1.1 0-2 .9-2 2v14c0 1.1.9 2 2 2h14c1.1 0 2-.9 2-2V5c0-1.1-.9-2-2-2zM9 17H7v-7h2v7zm4 0h-2V7h2v10zm4 0h-2v-4h2v4z\"/>\n",
              "    </g>\n",
              "</svg>\n",
              "  </button>\n",
              "\n",
              "<style>\n",
              "  .colab-df-quickchart {\n",
              "      --bg-color: #E8F0FE;\n",
              "      --fill-color: #1967D2;\n",
              "      --hover-bg-color: #E2EBFA;\n",
              "      --hover-fill-color: #174EA6;\n",
              "      --disabled-fill-color: #AAA;\n",
              "      --disabled-bg-color: #DDD;\n",
              "  }\n",
              "\n",
              "  [theme=dark] .colab-df-quickchart {\n",
              "      --bg-color: #3B4455;\n",
              "      --fill-color: #D2E3FC;\n",
              "      --hover-bg-color: #434B5C;\n",
              "      --hover-fill-color: #FFFFFF;\n",
              "      --disabled-bg-color: #3B4455;\n",
              "      --disabled-fill-color: #666;\n",
              "  }\n",
              "\n",
              "  .colab-df-quickchart {\n",
              "    background-color: var(--bg-color);\n",
              "    border: none;\n",
              "    border-radius: 50%;\n",
              "    cursor: pointer;\n",
              "    display: none;\n",
              "    fill: var(--fill-color);\n",
              "    height: 32px;\n",
              "    padding: 0;\n",
              "    width: 32px;\n",
              "  }\n",
              "\n",
              "  .colab-df-quickchart:hover {\n",
              "    background-color: var(--hover-bg-color);\n",
              "    box-shadow: 0 1px 2px rgba(60, 64, 67, 0.3), 0 1px 3px 1px rgba(60, 64, 67, 0.15);\n",
              "    fill: var(--button-hover-fill-color);\n",
              "  }\n",
              "\n",
              "  .colab-df-quickchart-complete:disabled,\n",
              "  .colab-df-quickchart-complete:disabled:hover {\n",
              "    background-color: var(--disabled-bg-color);\n",
              "    fill: var(--disabled-fill-color);\n",
              "    box-shadow: none;\n",
              "  }\n",
              "\n",
              "  .colab-df-spinner {\n",
              "    border: 2px solid var(--fill-color);\n",
              "    border-color: transparent;\n",
              "    border-bottom-color: var(--fill-color);\n",
              "    animation:\n",
              "      spin 1s steps(1) infinite;\n",
              "  }\n",
              "\n",
              "  @keyframes spin {\n",
              "    0% {\n",
              "      border-color: transparent;\n",
              "      border-bottom-color: var(--fill-color);\n",
              "      border-left-color: var(--fill-color);\n",
              "    }\n",
              "    20% {\n",
              "      border-color: transparent;\n",
              "      border-left-color: var(--fill-color);\n",
              "      border-top-color: var(--fill-color);\n",
              "    }\n",
              "    30% {\n",
              "      border-color: transparent;\n",
              "      border-left-color: var(--fill-color);\n",
              "      border-top-color: var(--fill-color);\n",
              "      border-right-color: var(--fill-color);\n",
              "    }\n",
              "    40% {\n",
              "      border-color: transparent;\n",
              "      border-right-color: var(--fill-color);\n",
              "      border-top-color: var(--fill-color);\n",
              "    }\n",
              "    60% {\n",
              "      border-color: transparent;\n",
              "      border-right-color: var(--fill-color);\n",
              "    }\n",
              "    80% {\n",
              "      border-color: transparent;\n",
              "      border-right-color: var(--fill-color);\n",
              "      border-bottom-color: var(--fill-color);\n",
              "    }\n",
              "    90% {\n",
              "      border-color: transparent;\n",
              "      border-bottom-color: var(--fill-color);\n",
              "    }\n",
              "  }\n",
              "</style>\n",
              "\n",
              "  <script>\n",
              "    async function quickchart(key) {\n",
              "      const quickchartButtonEl =\n",
              "        document.querySelector('#' + key + ' button');\n",
              "      quickchartButtonEl.disabled = true;  // To prevent multiple clicks.\n",
              "      quickchartButtonEl.classList.add('colab-df-spinner');\n",
              "      try {\n",
              "        const charts = await google.colab.kernel.invokeFunction(\n",
              "            'suggestCharts', [key], {});\n",
              "      } catch (error) {\n",
              "        console.error('Error during call to suggestCharts:', error);\n",
              "      }\n",
              "      quickchartButtonEl.classList.remove('colab-df-spinner');\n",
              "      quickchartButtonEl.classList.add('colab-df-quickchart-complete');\n",
              "    }\n",
              "    (() => {\n",
              "      let quickchartButtonEl =\n",
              "        document.querySelector('#df-b0908075-f528-42b9-8caf-cd3fafed2f46 button');\n",
              "      quickchartButtonEl.style.display =\n",
              "        google.colab.kernel.accessAllowed ? 'block' : 'none';\n",
              "    })();\n",
              "  </script>\n",
              "</div>\n",
              "    </div>\n",
              "  </div>\n"
            ]
          },
          "metadata": {},
          "execution_count": 20
        }
      ]
    },
    {
      "cell_type": "code",
      "source": [
        "try:\n",
        "  del ratings\n",
        "except:\n",
        "  pass"
      ],
      "metadata": {
        "id": "vlMw6O4Si7Fp"
      },
      "execution_count": 31,
      "outputs": []
    },
    {
      "cell_type": "code",
      "source": [
        "# Se entrena el NMF:\n",
        "nmf = NMF()\n",
        "trainset = data.build_full_trainset()\n",
        "nmf.fit(trainset)"
      ],
      "metadata": {
        "colab": {
          "base_uri": "https://localhost:8080/"
        },
        "id": "z3wLRyfWixZC",
        "outputId": "e421ee2b-e8c5-4a4b-a4ab-26e11f2b0b96"
      },
      "execution_count": 32,
      "outputs": [
        {
          "output_type": "execute_result",
          "data": {
            "text/plain": [
              "<surprise.prediction_algorithms.matrix_factorization.NMF at 0x7c50f1242140>"
            ]
          },
          "metadata": {},
          "execution_count": 32
        }
      ]
    },
    {
      "cell_type": "code",
      "source": [
        "ratings = pd.read_csv(\"/content/drive/MyDrive/Datasets/Netflix/ratings.csv\")"
      ],
      "metadata": {
        "id": "cTsmQS5PxAdB"
      },
      "execution_count": 41,
      "outputs": []
    },
    {
      "cell_type": "code",
      "source": [
        "# not_viewed_movies = data[data[\"User_Id\"] != random_user]"
      ],
      "metadata": {
        "id": "Ov1bbt9xxfN5"
      },
      "execution_count": 44,
      "outputs": []
    },
    {
      "cell_type": "markdown",
      "source": [
        "**NOTA: PARA UNA CORRECTA PREDICCIÓN HACE FALTA TOMAR TODO EL DATASET Y ELIMINAR LAS PELÍCULAS QUE YA VIÓ EL USUARIO, Y PREDECIR ESTAS CON RESPECTO A LAS QUE SÍ VIÓ; SIN EMBARGO, AL CARGAR \"not_viwed_movies\" SE DESBORDA LA RAM. LA PREDICCIÓN HECHA ENSEGUIDA ES SÓLO UN EJEMPLO DE CÓMO SE IMPLEMENTARÍA SI SE UTILIZARA TODO EL CATÁLOGO DE PELÍCULAS NO VISTAS**"
      ],
      "metadata": {
        "id": "h-L58_EmyVeW"
      }
    },
    {
      "cell_type": "code",
      "source": [
        "# Se predicen los scores estimados para el usuario al azar:\n",
        "user[\"Estimate_Score\"] = ratings[\"Movie_Id\"].apply(lambda x: nmf.predict(random_user, x).est)\n",
        "\n",
        "# Ordenar las estimaciones de calificación en orden descendente:\n",
        "user = user.sort_values(\"Estimate_Score\", ascending=False)\n",
        "\n",
        "print(\"Dataset con las estimaciones para el usuario al azar:\")\n",
        "print(user)"
      ],
      "metadata": {
        "colab": {
          "base_uri": "https://localhost:8080/"
        },
        "id": "dZpT4jBqp6ts",
        "outputId": "8ed790aa-5411-4900-d764-063ecc3be815"
      },
      "execution_count": 38,
      "outputs": [
        {
          "output_type": "stream",
          "name": "stdout",
          "text": [
            "Dataset con las estimaciones para el usuario al azar:\n",
            "          User_Id  Rating  Movie_Id  Estimate_Score\n",
            "67146      510521     5.0        28        4.979762\n",
            "136573     510521     4.0        30        3.830453\n",
            "4317421    510521     3.0       831        3.532140\n",
            "3884598    510521     4.0       752        3.532140\n",
            "5582267    510521     2.0      1121        3.532140\n",
            "...           ...     ...       ...             ...\n",
            "94189938   510521     5.0     16711        3.532140\n",
            "95007063   510521     4.0     16879        3.532140\n",
            "95464819   510521     3.0     16930        3.532140\n",
            "96136709   510521     5.0     17046        3.532140\n",
            "43469      510521     3.0        23        3.124421\n",
            "\n",
            "[212 rows x 4 columns]\n"
          ]
        }
      ]
    },
    {
      "cell_type": "code",
      "source": [
        "# Las 10 recomendaciones que se le darán individualmente al usuario:\n",
        "recomendations = user[[\"Movie_Id\", \"Estimate_Score\"]]\n",
        "\n",
        "ids = recomendations[[\"Movie_Id\"]]\n",
        "ids = ids[\"Movie_Id\"].tolist()\n",
        "\n",
        "names = []\n",
        "for id in ids:\n",
        "  name = filtered_rows = titles.reset_index()[[\"Name\"]][titles.reset_index()[\"Movie_Id\"] == str(id)].values[0][0]\n",
        "  names.append(name)\n",
        "recomendated_movies = pd.DataFrame({\"Movie_Id\": ids, \"Name\": names})\n",
        "recomendated_movies = recomendated_movies.reset_index(drop=True)"
      ],
      "metadata": {
        "id": "iILjBgCeqEod"
      },
      "execution_count": 39,
      "outputs": []
    },
    {
      "cell_type": "code",
      "source": [
        "print(f\"\\nUsuario: {random_user}:\\n[10] Recomendaciones:\")\n",
        "print(recomendated_movies)"
      ],
      "metadata": {
        "colab": {
          "base_uri": "https://localhost:8080/"
        },
        "id": "9R6EoZnHsQax",
        "outputId": "88963aff-4efd-40fb-d2a1-77feb520edd1"
      },
      "execution_count": 40,
      "outputs": [
        {
          "output_type": "stream",
          "name": "stdout",
          "text": [
            "\n",
            "Usuario: 510521:\n",
            "[10] Recomendaciones:\n",
            "     Movie_Id                                               Name\n",
            "0          28                                    Lilo and Stitch\n",
            "1          30                             Something's Gotta Give\n",
            "2         831                                          Mannequin\n",
            "3         752           Star Trek: The Next Generation: Season 7\n",
            "4        1121                      MVP 2:  Most Vertical Primate\n",
            "..        ...                                                ...\n",
            "207     16711                 Sex and the City: Season 6: Part 1\n",
            "208     16879                                            Titanic\n",
            "209     16930                                         The Tuxedo\n",
            "210     17046   Thomas & Friends: Thomas & His Friends Get Along\n",
            "211        23  Clifford: Clifford Saves the Day! / Clifford's...\n",
            "\n",
            "[212 rows x 2 columns]\n"
          ]
        }
      ]
    },
    {
      "cell_type": "markdown",
      "source": [
        "# [05] 💜 @arhcoder\n",
        "## Realizado por:\n",
        "### Iván Alejadro Ramos Herrera\n",
        "### 💜 [@arhcoder](https://github.com/arhcoder)"
      ],
      "metadata": {
        "id": "4DinJz64wzft"
      }
    }
  ]
}