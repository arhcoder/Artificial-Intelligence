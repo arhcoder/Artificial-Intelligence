{
  "nbformat": 4,
  "nbformat_minor": 0,
  "metadata": {
    "colab": {
      "provenance": []
    },
    "kernelspec": {
      "name": "python3",
      "display_name": "Python 3"
    },
    "language_info": {
      "name": "python"
    }
  },
  "cells": [
    {
      "cell_type": "markdown",
      "source": [
        "# 📚 PROYECTO AI-TEXTIFICATION\n",
        "## 👅 Procesamiento de Lenguaje Natural\n",
        "## 💻 Instituto de Investigaciones en Matemáticas Aplicadas y en Sistemas\n",
        "## 🏫 Universidad Nacional Autónoma de México\n",
        "\n",
        "<hr>\n",
        "\n",
        "### 🤖 AI-TEXTIFICATION\n",
        "### 📓 CUADERNO [02]: EMBEDDINGS\n",
        "### 📄 Detección de autoría en textos AI - Humanos:\n",
        "\n",
        "#### 🔵 **Tarea A**: Clasificación Binaria:\n",
        "1. Texto de Humano.\n",
        "2. Texto de Inteligencia Artificial.\n",
        "\n",
        "#### 🔵 **Tarea B**: Clasificación Multiclase:\n",
        "1. Texto de ChatGPT.\n",
        "2. Texto de Cohere.\n",
        "3. Texto de Davinci.\n",
        "4. Texto de Dolly.\n",
        "5. Texto de Humano.\n",
        "\n",
        "**👬 Autores:**\n",
        "* León Rosas Manuel Alejandro.\n",
        "* Ramos Herrera Iván Alejandro.\n"
      ],
      "metadata": {
        "id": "P7F5VNFJMckc"
      }
    },
    {
      "cell_type": "markdown",
      "source": [
        "# [01] 🎯 Objetivo\n",
        "\n",
        "**EN ESTE NOTEBOOK SE OBTENDRÁ EL DATASET LIMPIADOS Y SE LES APLICARÁN EMBEDDINGS [PROPIOS Y DE LA LIBRERÍA GENSIM] Y SE GUARDARÁN**.\n",
        "\n",
        "**DATASETS:**\n",
        "1. **PA: Cleaned => Lemma => UNK => GENSIM Embbedings**.\n",
        "2. **PB: Cleaned => Lemma => UNK => OWN Embbedings**.\n",
        "3. **PC: Cleaned => UNK => GENSIM Embbedings**.\n",
        "4. **PD: Cleaned => UNK => OWN Embbeds**."
      ],
      "metadata": {
        "id": "-TQwHu8N3nzR"
      }
    },
    {
      "cell_type": "markdown",
      "source": [
        "# [02] 📚 Datasets"
      ],
      "metadata": {
        "id": "8hffjg5vJPVU"
      }
    },
    {
      "cell_type": "markdown",
      "source": [
        "## Obtención"
      ],
      "metadata": {
        "id": "oMogqegiJXqj"
      }
    },
    {
      "cell_type": "code",
      "source": [
        "import pandas as pd\n",
        "import numpy as np\n",
        "import nltk\n",
        "from nltk.tokenize import word_tokenize\n",
        "nltk.download(\"punkt\")\n",
        "from utils import sigmoid, get_batches, compute_pca, get_dict"
      ],
      "metadata": {
        "colab": {
          "base_uri": "https://localhost:8080/"
        },
        "id": "EBUX7PyjJaJZ",
        "outputId": "91f0ee75-150a-49a1-ff1f-faa2bcc128c8"
      },
      "execution_count": null,
      "outputs": [
        {
          "output_type": "stream",
          "name": "stderr",
          "text": [
            "[nltk_data] Downloading package punkt to /root/nltk_data...\n",
            "[nltk_data]   Unzipping tokenizers/punkt.zip.\n"
          ]
        }
      ]
    },
    {
      "cell_type": "markdown",
      "source": [
        "# [03] 🔳 Embeddings [A]"
      ],
      "metadata": {
        "id": "FfIxquQmnMBW"
      }
    },
    {
      "cell_type": "code",
      "source": [
        "# Dataset AB:\n",
        "AB_train = pd.read_csv(\"/content/drive/MyDrive/Datasets/AITextification/TaskA-TrainAB.csv\")\n",
        "AB_test = pd.read_csv(\"/content/drive/MyDrive/Datasets/AITextification/TaskA-DevAB.csv\")\n",
        "\n",
        "# Dataset CD:\n",
        "CD_train = pd.read_csv(\"/content/drive/MyDrive/Datasets/AITextification/TaskA-TrainCD.csv\")\n",
        "CD_test = pd.read_csv(\"/content/drive/MyDrive/Datasets/AITextification/TaskA-DevCD.csv\")"
      ],
      "metadata": {
        "id": "ZHAt6r5WndYF"
      },
      "execution_count": null,
      "outputs": []
    },
    {
      "cell_type": "markdown",
      "source": [
        "## Implementaciones"
      ],
      "metadata": {
        "id": "9rNtc4OUrlXi"
      }
    },
    {
      "cell_type": "markdown",
      "source": [
        "### OWN EMBEDDINGS"
      ],
      "metadata": {
        "id": "vd5uCgHe4oI_"
      }
    },
    {
      "cell_type": "code",
      "source": [
        "class Embeddings:\n",
        "\n",
        "  # Constructor:\n",
        "  def __init__(self, vocabulary_size: int, dimension: int):\n",
        "    \"\"\"\n",
        "      ATTRIBUTES:\n",
        "        - vocabulary_size [int]: Size of the vocabulary.\n",
        "        - dimension [int]: Dimension of the hoped embedding.\n",
        "    \"\"\"\n",
        "    self.V = vocabulary_size\n",
        "    self.D = dimension\n",
        "\n",
        "    # Initializate the Weights and Biases of the FFD NN for CBOW:\n",
        "    # XAVIER INITIALIZATION:\n",
        "    np.random.seed(11)\n",
        "    self.W1 = np.random.randn(self.D, self.V) * np.sqrt(1 / self.V)\n",
        "    self.W2 = np.random.randn(self.V, self.D) * np.sqrt(1 / self.D)\n",
        "    self.b1 = np.zeros((self.D, 1))\n",
        "    self.b2 = np.zeros((self.V, 1))\n",
        "    self.grad_W1 = self.grad_W2 = self.grad_b1 = self.grad_b2 = None\n",
        "    assert self.W1.shape == ((self.D, self.V))\n",
        "    assert self.W2.shape == ((self.V, self.D))\n",
        "\n",
        "\n",
        "  # Activation function:\n",
        "  def softmax(self, x):\n",
        "    \"\"\"Returns the computation for Softmax(x), to the output layer\"\"\"\n",
        "    exp_x = np.exp(x - np.max(x))\n",
        "    return exp_x / np.sum(exp_x, axis=0, keepdims=True)\n",
        "\n",
        "\n",
        "  # FEEDFORWARD NEURAL NETWORK FUNCTIONS:\n",
        "  def cost(self, y_real, y_predicted, batch_size):\n",
        "    \"\"\"Computes the Cross Entropy function(y_real, y_predicted, batch_size)\"\"\"\n",
        "    logprobs = np.multiply(np.log(y_predicted),y_real) + np.multiply(np.log(1 - y_predicted), 1 - y_real)\n",
        "    cost = - 1/batch_size * np.sum(logprobs)\n",
        "    cost = np.squeeze(cost)\n",
        "    return cost\n",
        "\n",
        "\n",
        "  def forward(self, x):\n",
        "    \"\"\"Computes the Forward step on the FFD NN as Wx + b across the layer.\"\"\"\n",
        "    \"\"\"[h1 = ReLU(W1 * x + b1)] => [a2 = (W2 * h1 + b2)]\"\"\"\n",
        "\n",
        "    # Preactivation a1:\n",
        "    a1 = self.W1 @ x + self.b1\n",
        "    # h1 = ReLU(a1):\n",
        "    h1 = np.maximum(0, a1)\n",
        "    # Preactivation a2:\n",
        "    a2 = self.W2 @ h1 + self.b2\n",
        "    return a2, h1\n",
        "\n",
        "\n",
        "  def backward(self, x, y_predicted, y_real, h, batch_size):\n",
        "    \"\"\"Computes Backrpopagation across Ouput Layer => a1\"\"\"\n",
        "    # Layer 1:\n",
        "    l1 = self.W2.T @ (y_predicted - y_real)\n",
        "    # ReLu:\n",
        "    l1 = np.maximum(0, l1)\n",
        "\n",
        "    # Gradients:\n",
        "    self.grad_W1 = (1 / batch_size) * np.dot(l1, x.T)\n",
        "    self.grad_W2 = (1 / batch_size) * np.dot(y_predicted - y_real, h.T)\n",
        "    self.grad_b1 = (1 / batch_size) * np.sum(l1, axis=1, keepdims=True)\n",
        "    self.grad_b2 = (1 / batch_size) * np.sum(y_predicted - y_real, axis=1, keepdims=True)\n",
        "\n",
        "\n",
        "  def embeddings(self, text, wordIndexes, iterations, learning_rate=0.001, batch_size=20):\n",
        "    \"\"\"Optimizator to update Weights and Biases using Gradient Descend and returns the embeddings (Weights)\"\"\"\n",
        "    for x, y in get_batches(text, wordIndexes, self.V, 2, batch_size):\n",
        "      # Forward Step:\n",
        "      a2, h1 = self.forward(x)\n",
        "      # Prediction:\n",
        "      y_predicted = self.softmax(a2)\n",
        "      # Cost:\n",
        "      cost = -np.sum(y * np.log(y_predicted)) / batch_size\n",
        "      # if ((iterations+1) % 10 == 0):\n",
        "      #  print(f\"iterations: {iterations + 1} cost: {cost:.6f}\")\n",
        "      # Backpropagation step:\n",
        "      self.backward(x, y_predicted, y, h1, batch_size)\n",
        "\n",
        "      # Updating the Weights and Biases:\n",
        "      self.W1 -= learning_rate * self.grad_W1\n",
        "      self.W2 -= learning_rate * self.grad_W2\n",
        "      self.b1 -= learning_rate * self.grad_b1\n",
        "      self.b2 -= learning_rate * self.grad_b2\n",
        "\n",
        "      iterations += 1\n",
        "      if iterations == iterations:\n",
        "          break\n",
        "      if iterations % 100 == 0:\n",
        "          learning_rate *= 0.66\n",
        "\n",
        "    # Returns the embeddings:\n",
        "    return (self.W1.T + self.W2) / 2.0\n",
        "\n",
        "\n",
        "  def get_embedding_of(self, word, word2Index):\n",
        "    \"\"\"\n",
        "    Obtiene el embedding para una palabra específica.\n",
        "\n",
        "    Parameters:\n",
        "    - word (str): La palabra para la cual se desea obtener el embedding.\n",
        "    - word2Index (dict): Diccionario que mapea palabras a índices.\n",
        "\n",
        "    Returns:\n",
        "    - np.ndarray: El embedding correspondiente a la palabra.\n",
        "    \"\"\"\n",
        "    if word in word2Index:\n",
        "      word_index = word2Index[word]\n",
        "      print(f\"Índice de la palabra \\\"{word}\\\": {word_index}\")\n",
        "\n",
        "      embedding = (self.W1.T[word_index] + self.W2[word_index]) / 2.0\n",
        "      print(f\"Embedding calculado: {embedding}\")\n",
        "\n",
        "      return embedding\n",
        "    else:\n",
        "      print(f\"La palabra \\\"{word}\\\" no está en el vocabulario.\")\n",
        "      print(word)\n",
        "      return np.zeros(self.D)\n",
        "\n",
        "\n",
        "  def view_embeddings(self, words, word2Index):\n",
        "    from matplotlib import pyplot\n",
        "    valid_indices = [word2Index[word] for word in words if word in word2Index]\n",
        "\n",
        "    X = embedsitos[valid_indices, :]\n",
        "    print(X.shape, valid_indices)\n",
        "\n",
        "    result = compute_pca(X, 2)\n",
        "\n",
        "    pyplot.scatter(result[:, 0], result[:, 1])\n",
        "\n",
        "    for i, word in enumerate(words):\n",
        "        if word in word2Index:\n",
        "            idx = valid_indices.index(word2Index[word])\n",
        "            pyplot.annotate(word, xy=(result[idx, 0], result[idx, 1]))\n",
        "\n",
        "    pyplot.show()"
      ],
      "metadata": {
        "id": "lF7273WY41qZ"
      },
      "execution_count": null,
      "outputs": []
    },
    {
      "cell_type": "code",
      "source": [
        "def own_embeddings(dataframe, text_column=\"text\", dimensions=50, iterations=1000, learning_rate=0.001, batch_size=1):\n",
        "  # Obtiene el diccionario de palabras:\n",
        "  whole_text = \" \".join(dataframe[text_column])\n",
        "  tokens = word_tokenize(whole_text)\n",
        "  tokens.append(\" \")\n",
        "  word2Index, _ = get_dict(tokens)\n",
        "  print(\"Tamaño del vocabulario:\", len(word2Index))\n",
        "\n",
        "  # Inicializa el objeto de embeddings:\n",
        "  EMB = Embeddings(vocabulary_size=len(word2Index), dimension=dimensions)\n",
        "\n",
        "  # Obtiene embeddings para toda la columna en el DataFrame:\n",
        "  embeddings = EMB.embeddings(whole_text, word2Index, iterations, learning_rate)\n",
        "\n",
        "  return embeddings, word2Index, EMB"
      ],
      "metadata": {
        "id": "ZN1pM_cTwxIA"
      },
      "execution_count": null,
      "outputs": []
    },
    {
      "cell_type": "markdown",
      "source": [
        "#### Ejemplo de uso"
      ],
      "metadata": {
        "id": "uNupZAxVA2GR"
      }
    },
    {
      "cell_type": "code",
      "source": [
        "embedsitos, word2Index, emb = own_embeddings(AB_test, iterations=2000, learning_rate=0.0001)\n",
        "print(embedsitos.shape)\n",
        "emb.get_embedding_of(\"computer\", word2Index)\n",
        "view_words = [\"computer\", \"king\", \"queen\", \"kingdom\", \"happy\", \"sad\", \"dog\", \"run\", \"science\", \"lolxd\", \"unk\"]\n",
        "emb.view_embeddings(view_words, word2Index)"
      ],
      "metadata": {
        "colab": {
          "base_uri": "https://localhost:8080/",
          "height": 658
        },
        "id": "LpEgV9EMt8Jy",
        "outputId": "e3a4b6cb-58df-4158-b5e1-b880a76ba438"
      },
      "execution_count": null,
      "outputs": [
        {
          "output_type": "stream",
          "name": "stdout",
          "text": [
            "Tamaño del vocabulario: 18887\n",
            "(18887, 50)\n",
            "Índice de la palabra \"computer\": 4177\n",
            "Embedding calculado: [ 0.045846   -0.05224661  0.09487325  0.06001613  0.01304955 -0.0674416\n",
            " -0.04988113 -0.06065706 -0.04037847 -0.04839922  0.05238548  0.07383298\n",
            " -0.02626773 -0.00044722 -0.05665265 -0.10181015 -0.0797675   0.07552308\n",
            "  0.02023089 -0.0915984   0.00552453  0.01035424  0.01675895 -0.01054961\n",
            "  0.011903   -0.04685713  0.03256091 -0.06374772 -0.00129824 -0.01877435\n",
            "  0.01408439 -0.10200335  0.03171838  0.0381566  -0.01531156 -0.06592213\n",
            " -0.04305332 -0.00167716  0.05010012  0.01306855 -0.07377424 -0.03814982\n",
            "  0.04244974 -0.16680745 -0.00260824 -0.02935439 -0.00689167  0.05153336\n",
            " -0.02121076  0.0084323 ]\n",
            "(10, 50) [4177, 9802, 13683, 9803, 8123, 14822, 5693, 14773, 15024, 17785]\n"
          ]
        },
        {
          "output_type": "display_data",
          "data": {
            "text/plain": [
              "<Figure size 640x480 with 1 Axes>"
            ],
            "image/svg+xml": "<?xml version=\"1.0\" encoding=\"utf-8\" standalone=\"no\"?>\n<!DOCTYPE svg PUBLIC \"-//W3C//DTD SVG 1.1//EN\"\n  \"http://www.w3.org/Graphics/SVG/1.1/DTD/svg11.dtd\">\n<svg xmlns:xlink=\"http://www.w3.org/1999/xlink\" width=\"403.356023pt\" height=\"297.190125pt\" viewBox=\"0 0 403.356023 297.190125\" xmlns=\"http://www.w3.org/2000/svg\" version=\"1.1\">\n <metadata>\n  <rdf:RDF xmlns:dc=\"http://purl.org/dc/elements/1.1/\" xmlns:cc=\"http://creativecommons.org/ns#\" xmlns:rdf=\"http://www.w3.org/1999/02/22-rdf-syntax-ns#\">\n   <cc:Work>\n    <dc:type rdf:resource=\"http://purl.org/dc/dcmitype/StillImage\"/>\n    <dc:date>2023-11-24T21:08:19.583532</dc:date>\n    <dc:format>image/svg+xml</dc:format>\n    <dc:creator>\n     <cc:Agent>\n      <dc:title>Matplotlib v3.7.1, https://matplotlib.org/</dc:title>\n     </cc:Agent>\n    </dc:creator>\n   </cc:Work>\n  </rdf:RDF>\n </metadata>\n <defs>\n  <style type=\"text/css\">*{stroke-linejoin: round; stroke-linecap: butt}</style>\n </defs>\n <g id=\"figure_1\">\n  <g id=\"patch_1\">\n   <path d=\"M 0 297.190125 \nL 403.356023 297.190125 \nL 403.356023 0 \nL 0 0 \nz\n\" style=\"fill: #ffffff\"/>\n  </g>\n  <g id=\"axes_1\">\n   <g id=\"patch_2\">\n    <path d=\"M 38.482813 273.312 \nL 395.602813 273.312 \nL 395.602813 7.2 \nL 38.482813 7.2 \nz\n\" style=\"fill: #ffffff\"/>\n   </g>\n   <g id=\"PathCollection_1\">\n    <defs>\n     <path id=\"m6373f127aa\" d=\"M 0 3 \nC 0.795609 3 1.55874 2.683901 2.12132 2.12132 \nC 2.683901 1.55874 3 0.795609 3 0 \nC 3 -0.795609 2.683901 -1.55874 2.12132 -2.12132 \nC 1.55874 -2.683901 0.795609 -3 0 -3 \nC -0.795609 -3 -1.55874 -2.683901 -2.12132 -2.12132 \nC -2.683901 -1.55874 -3 -0.795609 -3 0 \nC -3 0.795609 -2.683901 1.55874 -2.12132 2.12132 \nC -1.55874 2.683901 -0.795609 3 0 3 \nz\n\" style=\"stroke: #1f77b4\"/>\n    </defs>\n    <g clip-path=\"url(#p747d7d1792)\">\n     <use xlink:href=\"#m6373f127aa\" x=\"220.351681\" y=\"87.067447\" style=\"fill: #1f77b4; stroke: #1f77b4\"/>\n     <use xlink:href=\"#m6373f127aa\" x=\"123.96908\" y=\"261.216\" style=\"fill: #1f77b4; stroke: #1f77b4\"/>\n     <use xlink:href=\"#m6373f127aa\" x=\"168.916718\" y=\"66.823937\" style=\"fill: #1f77b4; stroke: #1f77b4\"/>\n     <use xlink:href=\"#m6373f127aa\" x=\"336.440009\" y=\"128.59244\" style=\"fill: #1f77b4; stroke: #1f77b4\"/>\n     <use xlink:href=\"#m6373f127aa\" x=\"220.235772\" y=\"108.571264\" style=\"fill: #1f77b4; stroke: #1f77b4\"/>\n     <use xlink:href=\"#m6373f127aa\" x=\"346.522938\" y=\"145.907431\" style=\"fill: #1f77b4; stroke: #1f77b4\"/>\n     <use xlink:href=\"#m6373f127aa\" x=\"54.71554\" y=\"19.296\" style=\"fill: #1f77b4; stroke: #1f77b4\"/>\n     <use xlink:href=\"#m6373f127aa\" x=\"379.370085\" y=\"64.964882\" style=\"fill: #1f77b4; stroke: #1f77b4\"/>\n     <use xlink:href=\"#m6373f127aa\" x=\"294.807535\" y=\"74.263313\" style=\"fill: #1f77b4; stroke: #1f77b4\"/>\n     <use xlink:href=\"#m6373f127aa\" x=\"234.880983\" y=\"149.861872\" style=\"fill: #1f77b4; stroke: #1f77b4\"/>\n    </g>\n   </g>\n   <g id=\"matplotlib.axis_1\">\n    <g id=\"xtick_1\">\n     <g id=\"line2d_1\">\n      <defs>\n       <path id=\"m5a9718597e\" d=\"M 0 0 \nL 0 3.5 \n\" style=\"stroke: #000000; stroke-width: 0.8\"/>\n      </defs>\n      <g>\n       <use xlink:href=\"#m5a9718597e\" x=\"68.395392\" y=\"273.312\" style=\"stroke: #000000; stroke-width: 0.8\"/>\n      </g>\n     </g>\n     <g id=\"text_1\">\n      <!-- −0.4 -->\n      <g transform=\"translate(56.253986 287.910437) scale(0.1 -0.1)\">\n       <defs>\n        <path id=\"DejaVuSans-2212\" d=\"M 678 2272 \nL 4684 2272 \nL 4684 1741 \nL 678 1741 \nL 678 2272 \nz\n\" transform=\"scale(0.015625)\"/>\n        <path id=\"DejaVuSans-30\" d=\"M 2034 4250 \nQ 1547 4250 1301 3770 \nQ 1056 3291 1056 2328 \nQ 1056 1369 1301 889 \nQ 1547 409 2034 409 \nQ 2525 409 2770 889 \nQ 3016 1369 3016 2328 \nQ 3016 3291 2770 3770 \nQ 2525 4250 2034 4250 \nz\nM 2034 4750 \nQ 2819 4750 3233 4129 \nQ 3647 3509 3647 2328 \nQ 3647 1150 3233 529 \nQ 2819 -91 2034 -91 \nQ 1250 -91 836 529 \nQ 422 1150 422 2328 \nQ 422 3509 836 4129 \nQ 1250 4750 2034 4750 \nz\n\" transform=\"scale(0.015625)\"/>\n        <path id=\"DejaVuSans-2e\" d=\"M 684 794 \nL 1344 794 \nL 1344 0 \nL 684 0 \nL 684 794 \nz\n\" transform=\"scale(0.015625)\"/>\n        <path id=\"DejaVuSans-34\" d=\"M 2419 4116 \nL 825 1625 \nL 2419 1625 \nL 2419 4116 \nz\nM 2253 4666 \nL 3047 4666 \nL 3047 1625 \nL 3713 1625 \nL 3713 1100 \nL 3047 1100 \nL 3047 0 \nL 2419 0 \nL 2419 1100 \nL 313 1100 \nL 313 1709 \nL 2253 4666 \nz\n\" transform=\"scale(0.015625)\"/>\n       </defs>\n       <use xlink:href=\"#DejaVuSans-2212\"/>\n       <use xlink:href=\"#DejaVuSans-30\" x=\"83.789062\"/>\n       <use xlink:href=\"#DejaVuSans-2e\" x=\"147.412109\"/>\n       <use xlink:href=\"#DejaVuSans-34\" x=\"179.199219\"/>\n      </g>\n     </g>\n    </g>\n    <g id=\"xtick_2\">\n     <g id=\"line2d_2\">\n      <g>\n       <use xlink:href=\"#m5a9718597e\" x=\"110.801802\" y=\"273.312\" style=\"stroke: #000000; stroke-width: 0.8\"/>\n      </g>\n     </g>\n     <g id=\"text_2\">\n      <!-- −0.3 -->\n      <g transform=\"translate(98.660396 287.910437) scale(0.1 -0.1)\">\n       <defs>\n        <path id=\"DejaVuSans-33\" d=\"M 2597 2516 \nQ 3050 2419 3304 2112 \nQ 3559 1806 3559 1356 \nQ 3559 666 3084 287 \nQ 2609 -91 1734 -91 \nQ 1441 -91 1130 -33 \nQ 819 25 488 141 \nL 488 750 \nQ 750 597 1062 519 \nQ 1375 441 1716 441 \nQ 2309 441 2620 675 \nQ 2931 909 2931 1356 \nQ 2931 1769 2642 2001 \nQ 2353 2234 1838 2234 \nL 1294 2234 \nL 1294 2753 \nL 1863 2753 \nQ 2328 2753 2575 2939 \nQ 2822 3125 2822 3475 \nQ 2822 3834 2567 4026 \nQ 2313 4219 1838 4219 \nQ 1578 4219 1281 4162 \nQ 984 4106 628 3988 \nL 628 4550 \nQ 988 4650 1302 4700 \nQ 1616 4750 1894 4750 \nQ 2613 4750 3031 4423 \nQ 3450 4097 3450 3541 \nQ 3450 3153 3228 2886 \nQ 3006 2619 2597 2516 \nz\n\" transform=\"scale(0.015625)\"/>\n       </defs>\n       <use xlink:href=\"#DejaVuSans-2212\"/>\n       <use xlink:href=\"#DejaVuSans-30\" x=\"83.789062\"/>\n       <use xlink:href=\"#DejaVuSans-2e\" x=\"147.412109\"/>\n       <use xlink:href=\"#DejaVuSans-33\" x=\"179.199219\"/>\n      </g>\n     </g>\n    </g>\n    <g id=\"xtick_3\">\n     <g id=\"line2d_3\">\n      <g>\n       <use xlink:href=\"#m5a9718597e\" x=\"153.208213\" y=\"273.312\" style=\"stroke: #000000; stroke-width: 0.8\"/>\n      </g>\n     </g>\n     <g id=\"text_3\">\n      <!-- −0.2 -->\n      <g transform=\"translate(141.066807 287.910437) scale(0.1 -0.1)\">\n       <defs>\n        <path id=\"DejaVuSans-32\" d=\"M 1228 531 \nL 3431 531 \nL 3431 0 \nL 469 0 \nL 469 531 \nQ 828 903 1448 1529 \nQ 2069 2156 2228 2338 \nQ 2531 2678 2651 2914 \nQ 2772 3150 2772 3378 \nQ 2772 3750 2511 3984 \nQ 2250 4219 1831 4219 \nQ 1534 4219 1204 4116 \nQ 875 4013 500 3803 \nL 500 4441 \nQ 881 4594 1212 4672 \nQ 1544 4750 1819 4750 \nQ 2544 4750 2975 4387 \nQ 3406 4025 3406 3419 \nQ 3406 3131 3298 2873 \nQ 3191 2616 2906 2266 \nQ 2828 2175 2409 1742 \nQ 1991 1309 1228 531 \nz\n\" transform=\"scale(0.015625)\"/>\n       </defs>\n       <use xlink:href=\"#DejaVuSans-2212\"/>\n       <use xlink:href=\"#DejaVuSans-30\" x=\"83.789062\"/>\n       <use xlink:href=\"#DejaVuSans-2e\" x=\"147.412109\"/>\n       <use xlink:href=\"#DejaVuSans-32\" x=\"179.199219\"/>\n      </g>\n     </g>\n    </g>\n    <g id=\"xtick_4\">\n     <g id=\"line2d_4\">\n      <g>\n       <use xlink:href=\"#m5a9718597e\" x=\"195.614624\" y=\"273.312\" style=\"stroke: #000000; stroke-width: 0.8\"/>\n      </g>\n     </g>\n     <g id=\"text_4\">\n      <!-- −0.1 -->\n      <g transform=\"translate(183.473217 287.910437) scale(0.1 -0.1)\">\n       <defs>\n        <path id=\"DejaVuSans-31\" d=\"M 794 531 \nL 1825 531 \nL 1825 4091 \nL 703 3866 \nL 703 4441 \nL 1819 4666 \nL 2450 4666 \nL 2450 531 \nL 3481 531 \nL 3481 0 \nL 794 0 \nL 794 531 \nz\n\" transform=\"scale(0.015625)\"/>\n       </defs>\n       <use xlink:href=\"#DejaVuSans-2212\"/>\n       <use xlink:href=\"#DejaVuSans-30\" x=\"83.789062\"/>\n       <use xlink:href=\"#DejaVuSans-2e\" x=\"147.412109\"/>\n       <use xlink:href=\"#DejaVuSans-31\" x=\"179.199219\"/>\n      </g>\n     </g>\n    </g>\n    <g id=\"xtick_5\">\n     <g id=\"line2d_5\">\n      <g>\n       <use xlink:href=\"#m5a9718597e\" x=\"238.021034\" y=\"273.312\" style=\"stroke: #000000; stroke-width: 0.8\"/>\n      </g>\n     </g>\n     <g id=\"text_5\">\n      <!-- 0.0 -->\n      <g transform=\"translate(230.069472 287.910437) scale(0.1 -0.1)\">\n       <use xlink:href=\"#DejaVuSans-30\"/>\n       <use xlink:href=\"#DejaVuSans-2e\" x=\"63.623047\"/>\n       <use xlink:href=\"#DejaVuSans-30\" x=\"95.410156\"/>\n      </g>\n     </g>\n    </g>\n    <g id=\"xtick_6\">\n     <g id=\"line2d_6\">\n      <g>\n       <use xlink:href=\"#m5a9718597e\" x=\"280.427445\" y=\"273.312\" style=\"stroke: #000000; stroke-width: 0.8\"/>\n      </g>\n     </g>\n     <g id=\"text_6\">\n      <!-- 0.1 -->\n      <g transform=\"translate(272.475882 287.910437) scale(0.1 -0.1)\">\n       <use xlink:href=\"#DejaVuSans-30\"/>\n       <use xlink:href=\"#DejaVuSans-2e\" x=\"63.623047\"/>\n       <use xlink:href=\"#DejaVuSans-31\" x=\"95.410156\"/>\n      </g>\n     </g>\n    </g>\n    <g id=\"xtick_7\">\n     <g id=\"line2d_7\">\n      <g>\n       <use xlink:href=\"#m5a9718597e\" x=\"322.833855\" y=\"273.312\" style=\"stroke: #000000; stroke-width: 0.8\"/>\n      </g>\n     </g>\n     <g id=\"text_7\">\n      <!-- 0.2 -->\n      <g transform=\"translate(314.882293 287.910437) scale(0.1 -0.1)\">\n       <use xlink:href=\"#DejaVuSans-30\"/>\n       <use xlink:href=\"#DejaVuSans-2e\" x=\"63.623047\"/>\n       <use xlink:href=\"#DejaVuSans-32\" x=\"95.410156\"/>\n      </g>\n     </g>\n    </g>\n    <g id=\"xtick_8\">\n     <g id=\"line2d_8\">\n      <g>\n       <use xlink:href=\"#m5a9718597e\" x=\"365.240266\" y=\"273.312\" style=\"stroke: #000000; stroke-width: 0.8\"/>\n      </g>\n     </g>\n     <g id=\"text_8\">\n      <!-- 0.3 -->\n      <g transform=\"translate(357.288703 287.910437) scale(0.1 -0.1)\">\n       <use xlink:href=\"#DejaVuSans-30\"/>\n       <use xlink:href=\"#DejaVuSans-2e\" x=\"63.623047\"/>\n       <use xlink:href=\"#DejaVuSans-33\" x=\"95.410156\"/>\n      </g>\n     </g>\n    </g>\n   </g>\n   <g id=\"matplotlib.axis_2\">\n    <g id=\"ytick_1\">\n     <g id=\"line2d_9\">\n      <defs>\n       <path id=\"me20f6ae132\" d=\"M 0 0 \nL -3.5 0 \n\" style=\"stroke: #000000; stroke-width: 0.8\"/>\n      </defs>\n      <g>\n       <use xlink:href=\"#me20f6ae132\" x=\"38.482813\" y=\"270.561822\" style=\"stroke: #000000; stroke-width: 0.8\"/>\n      </g>\n     </g>\n     <g id=\"text_9\">\n      <!-- −0.5 -->\n      <g transform=\"translate(7.2 274.361041) scale(0.1 -0.1)\">\n       <defs>\n        <path id=\"DejaVuSans-35\" d=\"M 691 4666 \nL 3169 4666 \nL 3169 4134 \nL 1269 4134 \nL 1269 2991 \nQ 1406 3038 1543 3061 \nQ 1681 3084 1819 3084 \nQ 2600 3084 3056 2656 \nQ 3513 2228 3513 1497 \nQ 3513 744 3044 326 \nQ 2575 -91 1722 -91 \nQ 1428 -91 1123 -41 \nQ 819 9 494 109 \nL 494 744 \nQ 775 591 1075 516 \nQ 1375 441 1709 441 \nQ 2250 441 2565 725 \nQ 2881 1009 2881 1497 \nQ 2881 1984 2565 2268 \nQ 2250 2553 1709 2553 \nQ 1456 2553 1204 2497 \nQ 953 2441 691 2322 \nL 691 4666 \nz\n\" transform=\"scale(0.015625)\"/>\n       </defs>\n       <use xlink:href=\"#DejaVuSans-2212\"/>\n       <use xlink:href=\"#DejaVuSans-30\" x=\"83.789062\"/>\n       <use xlink:href=\"#DejaVuSans-2e\" x=\"147.412109\"/>\n       <use xlink:href=\"#DejaVuSans-35\" x=\"179.199219\"/>\n      </g>\n     </g>\n    </g>\n    <g id=\"ytick_2\">\n     <g id=\"line2d_10\">\n      <g>\n       <use xlink:href=\"#me20f6ae132\" x=\"38.482813\" y=\"238.580749\" style=\"stroke: #000000; stroke-width: 0.8\"/>\n      </g>\n     </g>\n     <g id=\"text_10\">\n      <!-- −0.4 -->\n      <g transform=\"translate(7.2 242.379968) scale(0.1 -0.1)\">\n       <use xlink:href=\"#DejaVuSans-2212\"/>\n       <use xlink:href=\"#DejaVuSans-30\" x=\"83.789062\"/>\n       <use xlink:href=\"#DejaVuSans-2e\" x=\"147.412109\"/>\n       <use xlink:href=\"#DejaVuSans-34\" x=\"179.199219\"/>\n      </g>\n     </g>\n    </g>\n    <g id=\"ytick_3\">\n     <g id=\"line2d_11\">\n      <g>\n       <use xlink:href=\"#me20f6ae132\" x=\"38.482813\" y=\"206.599677\" style=\"stroke: #000000; stroke-width: 0.8\"/>\n      </g>\n     </g>\n     <g id=\"text_11\">\n      <!-- −0.3 -->\n      <g transform=\"translate(7.2 210.398895) scale(0.1 -0.1)\">\n       <use xlink:href=\"#DejaVuSans-2212\"/>\n       <use xlink:href=\"#DejaVuSans-30\" x=\"83.789062\"/>\n       <use xlink:href=\"#DejaVuSans-2e\" x=\"147.412109\"/>\n       <use xlink:href=\"#DejaVuSans-33\" x=\"179.199219\"/>\n      </g>\n     </g>\n    </g>\n    <g id=\"ytick_4\">\n     <g id=\"line2d_12\">\n      <g>\n       <use xlink:href=\"#me20f6ae132\" x=\"38.482813\" y=\"174.618604\" style=\"stroke: #000000; stroke-width: 0.8\"/>\n      </g>\n     </g>\n     <g id=\"text_12\">\n      <!-- −0.2 -->\n      <g transform=\"translate(7.2 178.417823) scale(0.1 -0.1)\">\n       <use xlink:href=\"#DejaVuSans-2212\"/>\n       <use xlink:href=\"#DejaVuSans-30\" x=\"83.789062\"/>\n       <use xlink:href=\"#DejaVuSans-2e\" x=\"147.412109\"/>\n       <use xlink:href=\"#DejaVuSans-32\" x=\"179.199219\"/>\n      </g>\n     </g>\n    </g>\n    <g id=\"ytick_5\">\n     <g id=\"line2d_13\">\n      <g>\n       <use xlink:href=\"#me20f6ae132\" x=\"38.482813\" y=\"142.637531\" style=\"stroke: #000000; stroke-width: 0.8\"/>\n      </g>\n     </g>\n     <g id=\"text_13\">\n      <!-- −0.1 -->\n      <g transform=\"translate(7.2 146.43675) scale(0.1 -0.1)\">\n       <use xlink:href=\"#DejaVuSans-2212\"/>\n       <use xlink:href=\"#DejaVuSans-30\" x=\"83.789062\"/>\n       <use xlink:href=\"#DejaVuSans-2e\" x=\"147.412109\"/>\n       <use xlink:href=\"#DejaVuSans-31\" x=\"179.199219\"/>\n      </g>\n     </g>\n    </g>\n    <g id=\"ytick_6\">\n     <g id=\"line2d_14\">\n      <g>\n       <use xlink:href=\"#me20f6ae132\" x=\"38.482813\" y=\"110.656459\" style=\"stroke: #000000; stroke-width: 0.8\"/>\n      </g>\n     </g>\n     <g id=\"text_14\">\n      <!-- 0.0 -->\n      <g transform=\"translate(15.579688 114.455677) scale(0.1 -0.1)\">\n       <use xlink:href=\"#DejaVuSans-30\"/>\n       <use xlink:href=\"#DejaVuSans-2e\" x=\"63.623047\"/>\n       <use xlink:href=\"#DejaVuSans-30\" x=\"95.410156\"/>\n      </g>\n     </g>\n    </g>\n    <g id=\"ytick_7\">\n     <g id=\"line2d_15\">\n      <g>\n       <use xlink:href=\"#me20f6ae132\" x=\"38.482813\" y=\"78.675386\" style=\"stroke: #000000; stroke-width: 0.8\"/>\n      </g>\n     </g>\n     <g id=\"text_15\">\n      <!-- 0.1 -->\n      <g transform=\"translate(15.579688 82.474605) scale(0.1 -0.1)\">\n       <use xlink:href=\"#DejaVuSans-30\"/>\n       <use xlink:href=\"#DejaVuSans-2e\" x=\"63.623047\"/>\n       <use xlink:href=\"#DejaVuSans-31\" x=\"95.410156\"/>\n      </g>\n     </g>\n    </g>\n    <g id=\"ytick_8\">\n     <g id=\"line2d_16\">\n      <g>\n       <use xlink:href=\"#me20f6ae132\" x=\"38.482813\" y=\"46.694313\" style=\"stroke: #000000; stroke-width: 0.8\"/>\n      </g>\n     </g>\n     <g id=\"text_16\">\n      <!-- 0.2 -->\n      <g transform=\"translate(15.579688 50.493532) scale(0.1 -0.1)\">\n       <use xlink:href=\"#DejaVuSans-30\"/>\n       <use xlink:href=\"#DejaVuSans-2e\" x=\"63.623047\"/>\n       <use xlink:href=\"#DejaVuSans-32\" x=\"95.410156\"/>\n      </g>\n     </g>\n    </g>\n    <g id=\"ytick_9\">\n     <g id=\"line2d_17\">\n      <g>\n       <use xlink:href=\"#me20f6ae132\" x=\"38.482813\" y=\"14.713241\" style=\"stroke: #000000; stroke-width: 0.8\"/>\n      </g>\n     </g>\n     <g id=\"text_17\">\n      <!-- 0.3 -->\n      <g transform=\"translate(15.579688 18.512459) scale(0.1 -0.1)\">\n       <use xlink:href=\"#DejaVuSans-30\"/>\n       <use xlink:href=\"#DejaVuSans-2e\" x=\"63.623047\"/>\n       <use xlink:href=\"#DejaVuSans-33\" x=\"95.410156\"/>\n      </g>\n     </g>\n    </g>\n   </g>\n   <g id=\"patch_3\">\n    <path d=\"M 38.482813 273.312 \nL 38.482813 7.2 \n\" style=\"fill: none; stroke: #000000; stroke-width: 0.8; stroke-linejoin: miter; stroke-linecap: square\"/>\n   </g>\n   <g id=\"patch_4\">\n    <path d=\"M 395.602813 273.312 \nL 395.602813 7.2 \n\" style=\"fill: none; stroke: #000000; stroke-width: 0.8; stroke-linejoin: miter; stroke-linecap: square\"/>\n   </g>\n   <g id=\"patch_5\">\n    <path d=\"M 38.482813 273.312 \nL 395.602812 273.312 \n\" style=\"fill: none; stroke: #000000; stroke-width: 0.8; stroke-linejoin: miter; stroke-linecap: square\"/>\n   </g>\n   <g id=\"patch_6\">\n    <path d=\"M 38.482813 7.2 \nL 395.602812 7.2 \n\" style=\"fill: none; stroke: #000000; stroke-width: 0.8; stroke-linejoin: miter; stroke-linecap: square\"/>\n   </g>\n   <g id=\"text_18\">\n    <!-- computer -->\n    <g transform=\"translate(220.351681 87.067447) scale(0.1 -0.1)\">\n     <defs>\n      <path id=\"DejaVuSans-63\" d=\"M 3122 3366 \nL 3122 2828 \nQ 2878 2963 2633 3030 \nQ 2388 3097 2138 3097 \nQ 1578 3097 1268 2742 \nQ 959 2388 959 1747 \nQ 959 1106 1268 751 \nQ 1578 397 2138 397 \nQ 2388 397 2633 464 \nQ 2878 531 3122 666 \nL 3122 134 \nQ 2881 22 2623 -34 \nQ 2366 -91 2075 -91 \nQ 1284 -91 818 406 \nQ 353 903 353 1747 \nQ 353 2603 823 3093 \nQ 1294 3584 2113 3584 \nQ 2378 3584 2631 3529 \nQ 2884 3475 3122 3366 \nz\n\" transform=\"scale(0.015625)\"/>\n      <path id=\"DejaVuSans-6f\" d=\"M 1959 3097 \nQ 1497 3097 1228 2736 \nQ 959 2375 959 1747 \nQ 959 1119 1226 758 \nQ 1494 397 1959 397 \nQ 2419 397 2687 759 \nQ 2956 1122 2956 1747 \nQ 2956 2369 2687 2733 \nQ 2419 3097 1959 3097 \nz\nM 1959 3584 \nQ 2709 3584 3137 3096 \nQ 3566 2609 3566 1747 \nQ 3566 888 3137 398 \nQ 2709 -91 1959 -91 \nQ 1206 -91 779 398 \nQ 353 888 353 1747 \nQ 353 2609 779 3096 \nQ 1206 3584 1959 3584 \nz\n\" transform=\"scale(0.015625)\"/>\n      <path id=\"DejaVuSans-6d\" d=\"M 3328 2828 \nQ 3544 3216 3844 3400 \nQ 4144 3584 4550 3584 \nQ 5097 3584 5394 3201 \nQ 5691 2819 5691 2113 \nL 5691 0 \nL 5113 0 \nL 5113 2094 \nQ 5113 2597 4934 2840 \nQ 4756 3084 4391 3084 \nQ 3944 3084 3684 2787 \nQ 3425 2491 3425 1978 \nL 3425 0 \nL 2847 0 \nL 2847 2094 \nQ 2847 2600 2669 2842 \nQ 2491 3084 2119 3084 \nQ 1678 3084 1418 2786 \nQ 1159 2488 1159 1978 \nL 1159 0 \nL 581 0 \nL 581 3500 \nL 1159 3500 \nL 1159 2956 \nQ 1356 3278 1631 3431 \nQ 1906 3584 2284 3584 \nQ 2666 3584 2933 3390 \nQ 3200 3197 3328 2828 \nz\n\" transform=\"scale(0.015625)\"/>\n      <path id=\"DejaVuSans-70\" d=\"M 1159 525 \nL 1159 -1331 \nL 581 -1331 \nL 581 3500 \nL 1159 3500 \nL 1159 2969 \nQ 1341 3281 1617 3432 \nQ 1894 3584 2278 3584 \nQ 2916 3584 3314 3078 \nQ 3713 2572 3713 1747 \nQ 3713 922 3314 415 \nQ 2916 -91 2278 -91 \nQ 1894 -91 1617 61 \nQ 1341 213 1159 525 \nz\nM 3116 1747 \nQ 3116 2381 2855 2742 \nQ 2594 3103 2138 3103 \nQ 1681 3103 1420 2742 \nQ 1159 2381 1159 1747 \nQ 1159 1113 1420 752 \nQ 1681 391 2138 391 \nQ 2594 391 2855 752 \nQ 3116 1113 3116 1747 \nz\n\" transform=\"scale(0.015625)\"/>\n      <path id=\"DejaVuSans-75\" d=\"M 544 1381 \nL 544 3500 \nL 1119 3500 \nL 1119 1403 \nQ 1119 906 1312 657 \nQ 1506 409 1894 409 \nQ 2359 409 2629 706 \nQ 2900 1003 2900 1516 \nL 2900 3500 \nL 3475 3500 \nL 3475 0 \nL 2900 0 \nL 2900 538 \nQ 2691 219 2414 64 \nQ 2138 -91 1772 -91 \nQ 1169 -91 856 284 \nQ 544 659 544 1381 \nz\nM 1991 3584 \nL 1991 3584 \nz\n\" transform=\"scale(0.015625)\"/>\n      <path id=\"DejaVuSans-74\" d=\"M 1172 4494 \nL 1172 3500 \nL 2356 3500 \nL 2356 3053 \nL 1172 3053 \nL 1172 1153 \nQ 1172 725 1289 603 \nQ 1406 481 1766 481 \nL 2356 481 \nL 2356 0 \nL 1766 0 \nQ 1100 0 847 248 \nQ 594 497 594 1153 \nL 594 3053 \nL 172 3053 \nL 172 3500 \nL 594 3500 \nL 594 4494 \nL 1172 4494 \nz\n\" transform=\"scale(0.015625)\"/>\n      <path id=\"DejaVuSans-65\" d=\"M 3597 1894 \nL 3597 1613 \nL 953 1613 \nQ 991 1019 1311 708 \nQ 1631 397 2203 397 \nQ 2534 397 2845 478 \nQ 3156 559 3463 722 \nL 3463 178 \nQ 3153 47 2828 -22 \nQ 2503 -91 2169 -91 \nQ 1331 -91 842 396 \nQ 353 884 353 1716 \nQ 353 2575 817 3079 \nQ 1281 3584 2069 3584 \nQ 2775 3584 3186 3129 \nQ 3597 2675 3597 1894 \nz\nM 3022 2063 \nQ 3016 2534 2758 2815 \nQ 2500 3097 2075 3097 \nQ 1594 3097 1305 2825 \nQ 1016 2553 972 2059 \nL 3022 2063 \nz\n\" transform=\"scale(0.015625)\"/>\n      <path id=\"DejaVuSans-72\" d=\"M 2631 2963 \nQ 2534 3019 2420 3045 \nQ 2306 3072 2169 3072 \nQ 1681 3072 1420 2755 \nQ 1159 2438 1159 1844 \nL 1159 0 \nL 581 0 \nL 581 3500 \nL 1159 3500 \nL 1159 2956 \nQ 1341 3275 1631 3429 \nQ 1922 3584 2338 3584 \nQ 2397 3584 2469 3576 \nQ 2541 3569 2628 3553 \nL 2631 2963 \nz\n\" transform=\"scale(0.015625)\"/>\n     </defs>\n     <use xlink:href=\"#DejaVuSans-63\"/>\n     <use xlink:href=\"#DejaVuSans-6f\" x=\"54.980469\"/>\n     <use xlink:href=\"#DejaVuSans-6d\" x=\"116.162109\"/>\n     <use xlink:href=\"#DejaVuSans-70\" x=\"213.574219\"/>\n     <use xlink:href=\"#DejaVuSans-75\" x=\"277.050781\"/>\n     <use xlink:href=\"#DejaVuSans-74\" x=\"340.429688\"/>\n     <use xlink:href=\"#DejaVuSans-65\" x=\"379.638672\"/>\n     <use xlink:href=\"#DejaVuSans-72\" x=\"441.162109\"/>\n    </g>\n   </g>\n   <g id=\"text_19\">\n    <!-- king -->\n    <g transform=\"translate(123.96908 261.216) scale(0.1 -0.1)\">\n     <defs>\n      <path id=\"DejaVuSans-6b\" d=\"M 581 4863 \nL 1159 4863 \nL 1159 1991 \nL 2875 3500 \nL 3609 3500 \nL 1753 1863 \nL 3688 0 \nL 2938 0 \nL 1159 1709 \nL 1159 0 \nL 581 0 \nL 581 4863 \nz\n\" transform=\"scale(0.015625)\"/>\n      <path id=\"DejaVuSans-69\" d=\"M 603 3500 \nL 1178 3500 \nL 1178 0 \nL 603 0 \nL 603 3500 \nz\nM 603 4863 \nL 1178 4863 \nL 1178 4134 \nL 603 4134 \nL 603 4863 \nz\n\" transform=\"scale(0.015625)\"/>\n      <path id=\"DejaVuSans-6e\" d=\"M 3513 2113 \nL 3513 0 \nL 2938 0 \nL 2938 2094 \nQ 2938 2591 2744 2837 \nQ 2550 3084 2163 3084 \nQ 1697 3084 1428 2787 \nQ 1159 2491 1159 1978 \nL 1159 0 \nL 581 0 \nL 581 3500 \nL 1159 3500 \nL 1159 2956 \nQ 1366 3272 1645 3428 \nQ 1925 3584 2291 3584 \nQ 2894 3584 3203 3211 \nQ 3513 2838 3513 2113 \nz\n\" transform=\"scale(0.015625)\"/>\n      <path id=\"DejaVuSans-67\" d=\"M 2906 1791 \nQ 2906 2416 2648 2759 \nQ 2391 3103 1925 3103 \nQ 1463 3103 1205 2759 \nQ 947 2416 947 1791 \nQ 947 1169 1205 825 \nQ 1463 481 1925 481 \nQ 2391 481 2648 825 \nQ 2906 1169 2906 1791 \nz\nM 3481 434 \nQ 3481 -459 3084 -895 \nQ 2688 -1331 1869 -1331 \nQ 1566 -1331 1297 -1286 \nQ 1028 -1241 775 -1147 \nL 775 -588 \nQ 1028 -725 1275 -790 \nQ 1522 -856 1778 -856 \nQ 2344 -856 2625 -561 \nQ 2906 -266 2906 331 \nL 2906 616 \nQ 2728 306 2450 153 \nQ 2172 0 1784 0 \nQ 1141 0 747 490 \nQ 353 981 353 1791 \nQ 353 2603 747 3093 \nQ 1141 3584 1784 3584 \nQ 2172 3584 2450 3431 \nQ 2728 3278 2906 2969 \nL 2906 3500 \nL 3481 3500 \nL 3481 434 \nz\n\" transform=\"scale(0.015625)\"/>\n     </defs>\n     <use xlink:href=\"#DejaVuSans-6b\"/>\n     <use xlink:href=\"#DejaVuSans-69\" x=\"57.910156\"/>\n     <use xlink:href=\"#DejaVuSans-6e\" x=\"85.693359\"/>\n     <use xlink:href=\"#DejaVuSans-67\" x=\"149.072266\"/>\n    </g>\n   </g>\n   <g id=\"text_20\">\n    <!-- queen -->\n    <g transform=\"translate(168.916718 66.823937) scale(0.1 -0.1)\">\n     <defs>\n      <path id=\"DejaVuSans-71\" d=\"M 947 1747 \nQ 947 1113 1208 752 \nQ 1469 391 1925 391 \nQ 2381 391 2643 752 \nQ 2906 1113 2906 1747 \nQ 2906 2381 2643 2742 \nQ 2381 3103 1925 3103 \nQ 1469 3103 1208 2742 \nQ 947 2381 947 1747 \nz\nM 2906 525 \nQ 2725 213 2448 61 \nQ 2172 -91 1784 -91 \nQ 1150 -91 751 415 \nQ 353 922 353 1747 \nQ 353 2572 751 3078 \nQ 1150 3584 1784 3584 \nQ 2172 3584 2448 3432 \nQ 2725 3281 2906 2969 \nL 2906 3500 \nL 3481 3500 \nL 3481 -1331 \nL 2906 -1331 \nL 2906 525 \nz\n\" transform=\"scale(0.015625)\"/>\n     </defs>\n     <use xlink:href=\"#DejaVuSans-71\"/>\n     <use xlink:href=\"#DejaVuSans-75\" x=\"63.476562\"/>\n     <use xlink:href=\"#DejaVuSans-65\" x=\"126.855469\"/>\n     <use xlink:href=\"#DejaVuSans-65\" x=\"188.378906\"/>\n     <use xlink:href=\"#DejaVuSans-6e\" x=\"249.902344\"/>\n    </g>\n   </g>\n   <g id=\"text_21\">\n    <!-- kingdom -->\n    <g transform=\"translate(336.440009 128.59244) scale(0.1 -0.1)\">\n     <defs>\n      <path id=\"DejaVuSans-64\" d=\"M 2906 2969 \nL 2906 4863 \nL 3481 4863 \nL 3481 0 \nL 2906 0 \nL 2906 525 \nQ 2725 213 2448 61 \nQ 2172 -91 1784 -91 \nQ 1150 -91 751 415 \nQ 353 922 353 1747 \nQ 353 2572 751 3078 \nQ 1150 3584 1784 3584 \nQ 2172 3584 2448 3432 \nQ 2725 3281 2906 2969 \nz\nM 947 1747 \nQ 947 1113 1208 752 \nQ 1469 391 1925 391 \nQ 2381 391 2643 752 \nQ 2906 1113 2906 1747 \nQ 2906 2381 2643 2742 \nQ 2381 3103 1925 3103 \nQ 1469 3103 1208 2742 \nQ 947 2381 947 1747 \nz\n\" transform=\"scale(0.015625)\"/>\n     </defs>\n     <use xlink:href=\"#DejaVuSans-6b\"/>\n     <use xlink:href=\"#DejaVuSans-69\" x=\"57.910156\"/>\n     <use xlink:href=\"#DejaVuSans-6e\" x=\"85.693359\"/>\n     <use xlink:href=\"#DejaVuSans-67\" x=\"149.072266\"/>\n     <use xlink:href=\"#DejaVuSans-64\" x=\"212.548828\"/>\n     <use xlink:href=\"#DejaVuSans-6f\" x=\"276.025391\"/>\n     <use xlink:href=\"#DejaVuSans-6d\" x=\"337.207031\"/>\n    </g>\n   </g>\n   <g id=\"text_22\">\n    <!-- happy -->\n    <g transform=\"translate(220.235772 108.571264) scale(0.1 -0.1)\">\n     <defs>\n      <path id=\"DejaVuSans-68\" d=\"M 3513 2113 \nL 3513 0 \nL 2938 0 \nL 2938 2094 \nQ 2938 2591 2744 2837 \nQ 2550 3084 2163 3084 \nQ 1697 3084 1428 2787 \nQ 1159 2491 1159 1978 \nL 1159 0 \nL 581 0 \nL 581 4863 \nL 1159 4863 \nL 1159 2956 \nQ 1366 3272 1645 3428 \nQ 1925 3584 2291 3584 \nQ 2894 3584 3203 3211 \nQ 3513 2838 3513 2113 \nz\n\" transform=\"scale(0.015625)\"/>\n      <path id=\"DejaVuSans-61\" d=\"M 2194 1759 \nQ 1497 1759 1228 1600 \nQ 959 1441 959 1056 \nQ 959 750 1161 570 \nQ 1363 391 1709 391 \nQ 2188 391 2477 730 \nQ 2766 1069 2766 1631 \nL 2766 1759 \nL 2194 1759 \nz\nM 3341 1997 \nL 3341 0 \nL 2766 0 \nL 2766 531 \nQ 2569 213 2275 61 \nQ 1981 -91 1556 -91 \nQ 1019 -91 701 211 \nQ 384 513 384 1019 \nQ 384 1609 779 1909 \nQ 1175 2209 1959 2209 \nL 2766 2209 \nL 2766 2266 \nQ 2766 2663 2505 2880 \nQ 2244 3097 1772 3097 \nQ 1472 3097 1187 3025 \nQ 903 2953 641 2809 \nL 641 3341 \nQ 956 3463 1253 3523 \nQ 1550 3584 1831 3584 \nQ 2591 3584 2966 3190 \nQ 3341 2797 3341 1997 \nz\n\" transform=\"scale(0.015625)\"/>\n      <path id=\"DejaVuSans-79\" d=\"M 2059 -325 \nQ 1816 -950 1584 -1140 \nQ 1353 -1331 966 -1331 \nL 506 -1331 \nL 506 -850 \nL 844 -850 \nQ 1081 -850 1212 -737 \nQ 1344 -625 1503 -206 \nL 1606 56 \nL 191 3500 \nL 800 3500 \nL 1894 763 \nL 2988 3500 \nL 3597 3500 \nL 2059 -325 \nz\n\" transform=\"scale(0.015625)\"/>\n     </defs>\n     <use xlink:href=\"#DejaVuSans-68\"/>\n     <use xlink:href=\"#DejaVuSans-61\" x=\"63.378906\"/>\n     <use xlink:href=\"#DejaVuSans-70\" x=\"124.658203\"/>\n     <use xlink:href=\"#DejaVuSans-70\" x=\"188.134766\"/>\n     <use xlink:href=\"#DejaVuSans-79\" x=\"251.611328\"/>\n    </g>\n   </g>\n   <g id=\"text_23\">\n    <!-- sad -->\n    <g transform=\"translate(346.522938 145.907431) scale(0.1 -0.1)\">\n     <defs>\n      <path id=\"DejaVuSans-73\" d=\"M 2834 3397 \nL 2834 2853 \nQ 2591 2978 2328 3040 \nQ 2066 3103 1784 3103 \nQ 1356 3103 1142 2972 \nQ 928 2841 928 2578 \nQ 928 2378 1081 2264 \nQ 1234 2150 1697 2047 \nL 1894 2003 \nQ 2506 1872 2764 1633 \nQ 3022 1394 3022 966 \nQ 3022 478 2636 193 \nQ 2250 -91 1575 -91 \nQ 1294 -91 989 -36 \nQ 684 19 347 128 \nL 347 722 \nQ 666 556 975 473 \nQ 1284 391 1588 391 \nQ 1994 391 2212 530 \nQ 2431 669 2431 922 \nQ 2431 1156 2273 1281 \nQ 2116 1406 1581 1522 \nL 1381 1569 \nQ 847 1681 609 1914 \nQ 372 2147 372 2553 \nQ 372 3047 722 3315 \nQ 1072 3584 1716 3584 \nQ 2034 3584 2315 3537 \nQ 2597 3491 2834 3397 \nz\n\" transform=\"scale(0.015625)\"/>\n     </defs>\n     <use xlink:href=\"#DejaVuSans-73\"/>\n     <use xlink:href=\"#DejaVuSans-61\" x=\"52.099609\"/>\n     <use xlink:href=\"#DejaVuSans-64\" x=\"113.378906\"/>\n    </g>\n   </g>\n   <g id=\"text_24\">\n    <!-- dog -->\n    <g transform=\"translate(54.71554 19.296) scale(0.1 -0.1)\">\n     <use xlink:href=\"#DejaVuSans-64\"/>\n     <use xlink:href=\"#DejaVuSans-6f\" x=\"63.476562\"/>\n     <use xlink:href=\"#DejaVuSans-67\" x=\"124.658203\"/>\n    </g>\n   </g>\n   <g id=\"text_25\">\n    <!-- run -->\n    <g transform=\"translate(379.370085 64.964882) scale(0.1 -0.1)\">\n     <use xlink:href=\"#DejaVuSans-72\"/>\n     <use xlink:href=\"#DejaVuSans-75\" x=\"41.113281\"/>\n     <use xlink:href=\"#DejaVuSans-6e\" x=\"104.492188\"/>\n    </g>\n   </g>\n   <g id=\"text_26\">\n    <!-- science -->\n    <g transform=\"translate(294.807535 74.263313) scale(0.1 -0.1)\">\n     <use xlink:href=\"#DejaVuSans-73\"/>\n     <use xlink:href=\"#DejaVuSans-63\" x=\"52.099609\"/>\n     <use xlink:href=\"#DejaVuSans-69\" x=\"107.080078\"/>\n     <use xlink:href=\"#DejaVuSans-65\" x=\"134.863281\"/>\n     <use xlink:href=\"#DejaVuSans-6e\" x=\"196.386719\"/>\n     <use xlink:href=\"#DejaVuSans-63\" x=\"259.765625\"/>\n     <use xlink:href=\"#DejaVuSans-65\" x=\"314.746094\"/>\n    </g>\n   </g>\n   <g id=\"text_27\">\n    <!-- unk -->\n    <g transform=\"translate(234.880983 149.861872) scale(0.1 -0.1)\">\n     <use xlink:href=\"#DejaVuSans-75\"/>\n     <use xlink:href=\"#DejaVuSans-6e\" x=\"63.378906\"/>\n     <use xlink:href=\"#DejaVuSans-6b\" x=\"126.757812\"/>\n    </g>\n   </g>\n  </g>\n </g>\n <defs>\n  <clipPath id=\"p747d7d1792\">\n   <rect x=\"38.482813\" y=\"7.2\" width=\"357.12\" height=\"266.112\"/>\n  </clipPath>\n </defs>\n</svg>\n"
          },
          "metadata": {}
        }
      ]
    },
    {
      "cell_type": "markdown",
      "source": [
        "### PYTHON LIBRARY EMBEDDINGS"
      ],
      "metadata": {
        "id": "LFZpoPPVGrGj"
      }
    },
    {
      "cell_type": "code",
      "source": [
        "!pip install gensim"
      ],
      "metadata": {
        "colab": {
          "base_uri": "https://localhost:8080/"
        },
        "id": "B1C_8Ru6G0fW",
        "outputId": "018a7970-2680-42e1-ad94-dd231b8c07cc"
      },
      "execution_count": null,
      "outputs": [
        {
          "output_type": "stream",
          "name": "stdout",
          "text": [
            "Requirement already satisfied: gensim in /usr/local/lib/python3.10/dist-packages (4.3.2)\n",
            "Requirement already satisfied: numpy>=1.18.5 in /usr/local/lib/python3.10/dist-packages (from gensim) (1.23.5)\n",
            "Requirement already satisfied: scipy>=1.7.0 in /usr/local/lib/python3.10/dist-packages (from gensim) (1.11.3)\n",
            "Requirement already satisfied: smart-open>=1.8.1 in /usr/local/lib/python3.10/dist-packages (from gensim) (6.4.0)\n"
          ]
        }
      ]
    },
    {
      "cell_type": "code",
      "source": [
        "from gensim.models import Word2Vec\n",
        "from nltk.tokenize import word_tokenize"
      ],
      "metadata": {
        "id": "BYhpTu0TD7ia"
      },
      "execution_count": null,
      "outputs": []
    },
    {
      "cell_type": "code",
      "source": [
        "# Tokenize the sentences:\n",
        "tokenized_sentences = [word_tokenize(sentence.lower()) for sentence in lines]\n",
        "\n",
        "# Train Word2Vec model:\n",
        "model = Word2Vec(sentences=tokenized_sentences, vector_size=50, window=5, min_count=1, workers=4)\n",
        "\n",
        "# Save the model:\n",
        "model.save(\"word2vec.model\")\n",
        "\n",
        "# Get the word vector for a specific word:\n",
        "word_vector = model.wv[\"little\"]\n",
        "print(f\"Vector for \\\"little\\\": {word_vector}\")\n",
        "\n",
        "# Similarity between two words:\n",
        "similarity = model.wv.similarity(\"kingdom\", \"king\")\n",
        "print(f\"Similarity between \\\"kingdom\\\" and \\\"king\\\": {similarity}\")"
      ],
      "metadata": {
        "colab": {
          "base_uri": "https://localhost:8080/"
        },
        "id": "l7xUFZ-fGx7g",
        "outputId": "44bc4e21-146a-4dfd-f15e-1e58fb73b081"
      },
      "execution_count": null,
      "outputs": [
        {
          "output_type": "stream",
          "name": "stdout",
          "text": [
            "Vector for \"little\": [-0.00635842 -0.06396496  0.00608176  0.07513064 -0.10107178 -0.1780544\n",
            "  0.14216593  0.33434093 -0.24632278 -0.16182567  0.04969298 -0.21819204\n",
            "  0.03386923  0.22442748 -0.13066857  0.12986629  0.15950257  0.00782079\n",
            " -0.36780035 -0.1717765   0.01976203  0.20504047  0.3643737   0.00560989\n",
            "  0.04927661  0.04978066  0.00109018 -0.00640525 -0.11617131  0.03706574\n",
            "  0.1437774  -0.10265845 -0.0465221  -0.16134077 -0.04047582  0.09819089\n",
            "  0.2401363   0.01229743  0.14250459 -0.10995676  0.24078216 -0.04479929\n",
            " -0.0719698   0.00566156  0.41558087  0.11065891 -0.08807793  0.01718168\n",
            "  0.13502286  0.04408467]\n",
            "Similarity between \"kingdom\" and \"king\": 0.9445829391479492\n"
          ]
        }
      ]
    },
    {
      "cell_type": "code",
      "source": [
        "from sklearn.decomposition import PCA\n",
        "import matplotlib.pyplot as plt\n",
        "\n",
        "def gensim_embeddings(dataframe, text_column=\"text\", dimensions=50, window=5, min_count=1, workers=4):\n",
        "  # Tokeniza el texto:\n",
        "  tokenized_sentences = [word_tokenize(sentence.lower()) for sentence in dataframe[text_column]]\n",
        "\n",
        "  # Entrenar el modelo Word2Vec:\n",
        "  model = Word2Vec(sentences=tokenized_sentences, vector_size=dimensions, window=window, min_count=min_count, workers=workers)\n",
        "\n",
        "  # Obtener embeddings para cada texto en el DataFrame:\n",
        "  dataframe[\"embeddings\"] = dataframe[text_column].apply(lambda text: get_embeddings(text, model))\n",
        "\n",
        "  return dataframe, model\n",
        "\n",
        "\n",
        "def get_embeddings(text, model):\n",
        "  # Tokeniza y procesa el texto:\n",
        "  tokens = word_tokenize(text.lower())\n",
        "\n",
        "  # Obtiene el vector promedio de embeddings de palabras:\n",
        "  embeddings = [model.wv[token] for token in tokens if token in model.wv]\n",
        "  if not embeddings:\n",
        "    # Si no hay embeddings, retornar un vector de ceros:\n",
        "    return np.zeros(model.vector_size)\n",
        "  return np.mean(embeddings, axis=0)\n",
        "\n",
        "\n",
        "def view_gensim(words, model):\n",
        "  valid_words = [word for word in words if word in model.wv]\n",
        "\n",
        "  # Obtiene los embeddings para las palabras válidas:\n",
        "  X = [model.wv[word] for word in valid_words]\n",
        "  X = np.array(X)\n",
        "\n",
        "  print(X.shape, valid_words)\n",
        "\n",
        "  # Aplica PCA a los embeddings:\n",
        "  pca = PCA(n_components=2)\n",
        "  result = pca.fit_transform(X)\n",
        "\n",
        "  # Visualiza los embeddings:\n",
        "  plt.scatter(result[:, 0], result[:, 1])\n",
        "  for i, word in enumerate(valid_words):\n",
        "    idx = words.index(word)\n",
        "    plt.annotate(word, xy=(result[i, 0], result[i, 1]))\n",
        "  plt.show()"
      ],
      "metadata": {
        "id": "Od8X961XjBg3"
      },
      "execution_count": null,
      "outputs": []
    },
    {
      "cell_type": "markdown",
      "source": [
        "#### Ejemplo de uso"
      ],
      "metadata": {
        "id": "fPo5TiUjEWxS"
      }
    },
    {
      "cell_type": "code",
      "source": [
        "df_gensim, model_gensim = gensim_embeddings(AB_test, dimensions=50, window=5, min_count=1, workers=4)\n",
        "print(df_gensim[\"embeddings\"].shape)\n",
        "print(\"Vector para \\\"computer\\\":\\n\", model_gensim.wv[\"computer\"])\n",
        "\n",
        "view_words = [\"computer\", \"king\", \"queen\", \"kingdom\", \"happy\", \"sad\", \"dog\", \"run\", \"science\", \"lolxd\", \"unk\"]\n",
        "view_gensim(view_words, model_gensim)"
      ],
      "metadata": {
        "colab": {
          "base_uri": "https://localhost:8080/",
          "height": 640
        },
        "id": "vmwQw-EPEZ5J",
        "outputId": "56a1de1e-7dbb-4ac4-a147-3e79b999cc0c"
      },
      "execution_count": null,
      "outputs": [
        {
          "output_type": "stream",
          "name": "stdout",
          "text": [
            "(5000,)\n",
            "Vector para \"computer\":\n",
            " [ 0.01872814  0.61278784 -0.8637215   0.6796528  -1.9468354  -1.0770389\n",
            "  0.79480714  0.4223309  -2.151323    0.47885495  0.05581171 -1.134505\n",
            "  0.68822086  1.0381188   2.0538232  -0.99861145 -0.2788916  -0.9172653\n",
            "  0.48028585 -1.6959043  -0.1866316  -0.41082233  0.77889043  0.28801018\n",
            "  0.9204819  -0.6734427   0.8454199  -0.36540842  1.1906438  -0.8396483\n",
            " -0.30666092  0.55653465  0.45937142  0.9032368  -0.4742202  -1.2499065\n",
            " -0.38450286  1.1851611  -0.7325303  -0.8080676   0.89294076  0.05001917\n",
            " -0.02660507 -0.03860467  1.3522491   1.244368   -0.26224878 -0.7421615\n",
            "  0.3430547   1.0515698 ]\n",
            "(10, 50) ['computer', 'king', 'queen', 'kingdom', 'happy', 'sad', 'dog', 'run', 'science', 'unk']\n"
          ]
        },
        {
          "output_type": "display_data",
          "data": {
            "text/plain": [
              "<Figure size 640x480 with 1 Axes>"
            ],
            "image/svg+xml": "<?xml version=\"1.0\" encoding=\"utf-8\" standalone=\"no\"?>\n<!DOCTYPE svg PUBLIC \"-//W3C//DTD SVG 1.1//EN\"\n  \"http://www.w3.org/Graphics/SVG/1.1/DTD/svg11.dtd\">\n<svg xmlns:xlink=\"http://www.w3.org/1999/xlink\" width=\"395.495085pt\" height=\"297.190125pt\" viewBox=\"0 0 395.495085 297.190125\" xmlns=\"http://www.w3.org/2000/svg\" version=\"1.1\">\n <metadata>\n  <rdf:RDF xmlns:dc=\"http://purl.org/dc/elements/1.1/\" xmlns:cc=\"http://creativecommons.org/ns#\" xmlns:rdf=\"http://www.w3.org/1999/02/22-rdf-syntax-ns#\">\n   <cc:Work>\n    <dc:type rdf:resource=\"http://purl.org/dc/dcmitype/StillImage\"/>\n    <dc:date>2023-11-24T21:09:10.532513</dc:date>\n    <dc:format>image/svg+xml</dc:format>\n    <dc:creator>\n     <cc:Agent>\n      <dc:title>Matplotlib v3.7.1, https://matplotlib.org/</dc:title>\n     </cc:Agent>\n    </dc:creator>\n   </cc:Work>\n  </rdf:RDF>\n </metadata>\n <defs>\n  <style type=\"text/css\">*{stroke-linejoin: round; stroke-linecap: butt}</style>\n </defs>\n <g id=\"figure_1\">\n  <g id=\"patch_1\">\n   <path d=\"M 0 297.190125 \nL 395.495085 297.190125 \nL 395.495085 0 \nL 0 0 \nz\n\" style=\"fill: #ffffff\"/>\n  </g>\n  <g id=\"axes_1\">\n   <g id=\"patch_2\">\n    <path d=\"M 28.942188 273.312 \nL 386.062188 273.312 \nL 386.062188 7.2 \nL 28.942188 7.2 \nz\n\" style=\"fill: #ffffff\"/>\n   </g>\n   <g id=\"PathCollection_1\">\n    <defs>\n     <path id=\"m62ce82839a\" d=\"M 0 3 \nC 0.795609 3 1.55874 2.683901 2.12132 2.12132 \nC 2.683901 1.55874 3 0.795609 3 0 \nC 3 -0.795609 2.683901 -1.55874 2.12132 -2.12132 \nC 1.55874 -2.683901 0.795609 -3 0 -3 \nC -0.795609 -3 -1.55874 -2.683901 -2.12132 -2.12132 \nC -2.683901 -1.55874 -3 -0.795609 -3 0 \nC -3 0.795609 -2.683901 1.55874 -2.12132 2.12132 \nC -1.55874 2.683901 -0.795609 3 0 3 \nz\n\" style=\"stroke: #1f77b4\"/>\n    </defs>\n    <g clip-path=\"url(#p3e87af0be1)\">\n     <use xlink:href=\"#m62ce82839a\" x=\"45.174915\" y=\"75.303402\" style=\"fill: #1f77b4; stroke: #1f77b4\"/>\n     <use xlink:href=\"#m62ce82839a\" x=\"294.120769\" y=\"160.340074\" style=\"fill: #1f77b4; stroke: #1f77b4\"/>\n     <use xlink:href=\"#m62ce82839a\" x=\"191.894924\" y=\"154.016139\" style=\"fill: #1f77b4; stroke: #1f77b4\"/>\n     <use xlink:href=\"#m62ce82839a\" x=\"166.811758\" y=\"109.794601\" style=\"fill: #1f77b4; stroke: #1f77b4\"/>\n     <use xlink:href=\"#m62ce82839a\" x=\"138.003705\" y=\"219.388598\" style=\"fill: #1f77b4; stroke: #1f77b4\"/>\n     <use xlink:href=\"#m62ce82839a\" x=\"152.085439\" y=\"176.744675\" style=\"fill: #1f77b4; stroke: #1f77b4\"/>\n     <use xlink:href=\"#m62ce82839a\" x=\"97.695911\" y=\"227.440021\" style=\"fill: #1f77b4; stroke: #1f77b4\"/>\n     <use xlink:href=\"#m62ce82839a\" x=\"56.147399\" y=\"261.216\" style=\"fill: #1f77b4; stroke: #1f77b4\"/>\n     <use xlink:href=\"#m62ce82839a\" x=\"205.536951\" y=\"19.296\" style=\"fill: #1f77b4; stroke: #1f77b4\"/>\n     <use xlink:href=\"#m62ce82839a\" x=\"369.82946\" y=\"225.08693\" style=\"fill: #1f77b4; stroke: #1f77b4\"/>\n    </g>\n   </g>\n   <g id=\"matplotlib.axis_1\">\n    <g id=\"xtick_1\">\n     <g id=\"line2d_1\">\n      <defs>\n       <path id=\"m7081616078\" d=\"M 0 0 \nL 0 3.5 \n\" style=\"stroke: #000000; stroke-width: 0.8\"/>\n      </defs>\n      <g>\n       <use xlink:href=\"#m7081616078\" x=\"42.38436\" y=\"273.312\" style=\"stroke: #000000; stroke-width: 0.8\"/>\n      </g>\n     </g>\n     <g id=\"text_1\">\n      <!-- −4 -->\n      <g transform=\"translate(35.013267 287.910437) scale(0.1 -0.1)\">\n       <defs>\n        <path id=\"DejaVuSans-2212\" d=\"M 678 2272 \nL 4684 2272 \nL 4684 1741 \nL 678 1741 \nL 678 2272 \nz\n\" transform=\"scale(0.015625)\"/>\n        <path id=\"DejaVuSans-34\" d=\"M 2419 4116 \nL 825 1625 \nL 2419 1625 \nL 2419 4116 \nz\nM 2253 4666 \nL 3047 4666 \nL 3047 1625 \nL 3713 1625 \nL 3713 1100 \nL 3047 1100 \nL 3047 0 \nL 2419 0 \nL 2419 1100 \nL 313 1100 \nL 313 1709 \nL 2253 4666 \nz\n\" transform=\"scale(0.015625)\"/>\n       </defs>\n       <use xlink:href=\"#DejaVuSans-2212\"/>\n       <use xlink:href=\"#DejaVuSans-34\" x=\"83.789062\"/>\n      </g>\n     </g>\n    </g>\n    <g id=\"xtick_2\">\n     <g id=\"line2d_2\">\n      <g>\n       <use xlink:href=\"#m7081616078\" x=\"107.057241\" y=\"273.312\" style=\"stroke: #000000; stroke-width: 0.8\"/>\n      </g>\n     </g>\n     <g id=\"text_2\">\n      <!-- −2 -->\n      <g transform=\"translate(99.686148 287.910437) scale(0.1 -0.1)\">\n       <defs>\n        <path id=\"DejaVuSans-32\" d=\"M 1228 531 \nL 3431 531 \nL 3431 0 \nL 469 0 \nL 469 531 \nQ 828 903 1448 1529 \nQ 2069 2156 2228 2338 \nQ 2531 2678 2651 2914 \nQ 2772 3150 2772 3378 \nQ 2772 3750 2511 3984 \nQ 2250 4219 1831 4219 \nQ 1534 4219 1204 4116 \nQ 875 4013 500 3803 \nL 500 4441 \nQ 881 4594 1212 4672 \nQ 1544 4750 1819 4750 \nQ 2544 4750 2975 4387 \nQ 3406 4025 3406 3419 \nQ 3406 3131 3298 2873 \nQ 3191 2616 2906 2266 \nQ 2828 2175 2409 1742 \nQ 1991 1309 1228 531 \nz\n\" transform=\"scale(0.015625)\"/>\n       </defs>\n       <use xlink:href=\"#DejaVuSans-2212\"/>\n       <use xlink:href=\"#DejaVuSans-32\" x=\"83.789062\"/>\n      </g>\n     </g>\n    </g>\n    <g id=\"xtick_3\">\n     <g id=\"line2d_3\">\n      <g>\n       <use xlink:href=\"#m7081616078\" x=\"171.730122\" y=\"273.312\" style=\"stroke: #000000; stroke-width: 0.8\"/>\n      </g>\n     </g>\n     <g id=\"text_3\">\n      <!-- 0 -->\n      <g transform=\"translate(168.548872 287.910437) scale(0.1 -0.1)\">\n       <defs>\n        <path id=\"DejaVuSans-30\" d=\"M 2034 4250 \nQ 1547 4250 1301 3770 \nQ 1056 3291 1056 2328 \nQ 1056 1369 1301 889 \nQ 1547 409 2034 409 \nQ 2525 409 2770 889 \nQ 3016 1369 3016 2328 \nQ 3016 3291 2770 3770 \nQ 2525 4250 2034 4250 \nz\nM 2034 4750 \nQ 2819 4750 3233 4129 \nQ 3647 3509 3647 2328 \nQ 3647 1150 3233 529 \nQ 2819 -91 2034 -91 \nQ 1250 -91 836 529 \nQ 422 1150 422 2328 \nQ 422 3509 836 4129 \nQ 1250 4750 2034 4750 \nz\n\" transform=\"scale(0.015625)\"/>\n       </defs>\n       <use xlink:href=\"#DejaVuSans-30\"/>\n      </g>\n     </g>\n    </g>\n    <g id=\"xtick_4\">\n     <g id=\"line2d_4\">\n      <g>\n       <use xlink:href=\"#m7081616078\" x=\"236.403003\" y=\"273.312\" style=\"stroke: #000000; stroke-width: 0.8\"/>\n      </g>\n     </g>\n     <g id=\"text_4\">\n      <!-- 2 -->\n      <g transform=\"translate(233.221753 287.910437) scale(0.1 -0.1)\">\n       <use xlink:href=\"#DejaVuSans-32\"/>\n      </g>\n     </g>\n    </g>\n    <g id=\"xtick_5\">\n     <g id=\"line2d_5\">\n      <g>\n       <use xlink:href=\"#m7081616078\" x=\"301.075884\" y=\"273.312\" style=\"stroke: #000000; stroke-width: 0.8\"/>\n      </g>\n     </g>\n     <g id=\"text_5\">\n      <!-- 4 -->\n      <g transform=\"translate(297.894634 287.910437) scale(0.1 -0.1)\">\n       <use xlink:href=\"#DejaVuSans-34\"/>\n      </g>\n     </g>\n    </g>\n    <g id=\"xtick_6\">\n     <g id=\"line2d_6\">\n      <g>\n       <use xlink:href=\"#m7081616078\" x=\"365.748765\" y=\"273.312\" style=\"stroke: #000000; stroke-width: 0.8\"/>\n      </g>\n     </g>\n     <g id=\"text_6\">\n      <!-- 6 -->\n      <g transform=\"translate(362.567515 287.910437) scale(0.1 -0.1)\">\n       <defs>\n        <path id=\"DejaVuSans-36\" d=\"M 2113 2584 \nQ 1688 2584 1439 2293 \nQ 1191 2003 1191 1497 \nQ 1191 994 1439 701 \nQ 1688 409 2113 409 \nQ 2538 409 2786 701 \nQ 3034 994 3034 1497 \nQ 3034 2003 2786 2293 \nQ 2538 2584 2113 2584 \nz\nM 3366 4563 \nL 3366 3988 \nQ 3128 4100 2886 4159 \nQ 2644 4219 2406 4219 \nQ 1781 4219 1451 3797 \nQ 1122 3375 1075 2522 \nQ 1259 2794 1537 2939 \nQ 1816 3084 2150 3084 \nQ 2853 3084 3261 2657 \nQ 3669 2231 3669 1497 \nQ 3669 778 3244 343 \nQ 2819 -91 2113 -91 \nQ 1303 -91 875 529 \nQ 447 1150 447 2328 \nQ 447 3434 972 4092 \nQ 1497 4750 2381 4750 \nQ 2619 4750 2861 4703 \nQ 3103 4656 3366 4563 \nz\n\" transform=\"scale(0.015625)\"/>\n       </defs>\n       <use xlink:href=\"#DejaVuSans-36\"/>\n      </g>\n     </g>\n    </g>\n   </g>\n   <g id=\"matplotlib.axis_2\">\n    <g id=\"ytick_1\">\n     <g id=\"line2d_7\">\n      <defs>\n       <path id=\"mb3340e9a0f\" d=\"M 0 0 \nL -3.5 0 \n\" style=\"stroke: #000000; stroke-width: 0.8\"/>\n      </defs>\n      <g>\n       <use xlink:href=\"#mb3340e9a0f\" x=\"28.942188\" y=\"261.271074\" style=\"stroke: #000000; stroke-width: 0.8\"/>\n      </g>\n     </g>\n     <g id=\"text_7\">\n      <!-- −3 -->\n      <g transform=\"translate(7.2 265.070293) scale(0.1 -0.1)\">\n       <defs>\n        <path id=\"DejaVuSans-33\" d=\"M 2597 2516 \nQ 3050 2419 3304 2112 \nQ 3559 1806 3559 1356 \nQ 3559 666 3084 287 \nQ 2609 -91 1734 -91 \nQ 1441 -91 1130 -33 \nQ 819 25 488 141 \nL 488 750 \nQ 750 597 1062 519 \nQ 1375 441 1716 441 \nQ 2309 441 2620 675 \nQ 2931 909 2931 1356 \nQ 2931 1769 2642 2001 \nQ 2353 2234 1838 2234 \nL 1294 2234 \nL 1294 2753 \nL 1863 2753 \nQ 2328 2753 2575 2939 \nQ 2822 3125 2822 3475 \nQ 2822 3834 2567 4026 \nQ 2313 4219 1838 4219 \nQ 1578 4219 1281 4162 \nQ 984 4106 628 3988 \nL 628 4550 \nQ 988 4650 1302 4700 \nQ 1616 4750 1894 4750 \nQ 2613 4750 3031 4423 \nQ 3450 4097 3450 3541 \nQ 3450 3153 3228 2886 \nQ 3006 2619 2597 2516 \nz\n\" transform=\"scale(0.015625)\"/>\n       </defs>\n       <use xlink:href=\"#DejaVuSans-2212\"/>\n       <use xlink:href=\"#DejaVuSans-33\" x=\"83.789062\"/>\n      </g>\n     </g>\n    </g>\n    <g id=\"ytick_2\">\n     <g id=\"line2d_8\">\n      <g>\n       <use xlink:href=\"#mb3340e9a0f\" x=\"28.942188\" y=\"228.468265\" style=\"stroke: #000000; stroke-width: 0.8\"/>\n      </g>\n     </g>\n     <g id=\"text_8\">\n      <!-- −2 -->\n      <g transform=\"translate(7.2 232.267483) scale(0.1 -0.1)\">\n       <use xlink:href=\"#DejaVuSans-2212\"/>\n       <use xlink:href=\"#DejaVuSans-32\" x=\"83.789062\"/>\n      </g>\n     </g>\n    </g>\n    <g id=\"ytick_3\">\n     <g id=\"line2d_9\">\n      <g>\n       <use xlink:href=\"#mb3340e9a0f\" x=\"28.942188\" y=\"195.665455\" style=\"stroke: #000000; stroke-width: 0.8\"/>\n      </g>\n     </g>\n     <g id=\"text_9\">\n      <!-- −1 -->\n      <g transform=\"translate(7.2 199.464674) scale(0.1 -0.1)\">\n       <defs>\n        <path id=\"DejaVuSans-31\" d=\"M 794 531 \nL 1825 531 \nL 1825 4091 \nL 703 3866 \nL 703 4441 \nL 1819 4666 \nL 2450 4666 \nL 2450 531 \nL 3481 531 \nL 3481 0 \nL 794 0 \nL 794 531 \nz\n\" transform=\"scale(0.015625)\"/>\n       </defs>\n       <use xlink:href=\"#DejaVuSans-2212\"/>\n       <use xlink:href=\"#DejaVuSans-31\" x=\"83.789062\"/>\n      </g>\n     </g>\n    </g>\n    <g id=\"ytick_4\">\n     <g id=\"line2d_10\">\n      <g>\n       <use xlink:href=\"#mb3340e9a0f\" x=\"28.942188\" y=\"162.862646\" style=\"stroke: #000000; stroke-width: 0.8\"/>\n      </g>\n     </g>\n     <g id=\"text_10\">\n      <!-- 0 -->\n      <g transform=\"translate(15.579688 166.661865) scale(0.1 -0.1)\">\n       <use xlink:href=\"#DejaVuSans-30\"/>\n      </g>\n     </g>\n    </g>\n    <g id=\"ytick_5\">\n     <g id=\"line2d_11\">\n      <g>\n       <use xlink:href=\"#mb3340e9a0f\" x=\"28.942188\" y=\"130.059836\" style=\"stroke: #000000; stroke-width: 0.8\"/>\n      </g>\n     </g>\n     <g id=\"text_11\">\n      <!-- 1 -->\n      <g transform=\"translate(15.579688 133.859055) scale(0.1 -0.1)\">\n       <use xlink:href=\"#DejaVuSans-31\"/>\n      </g>\n     </g>\n    </g>\n    <g id=\"ytick_6\">\n     <g id=\"line2d_12\">\n      <g>\n       <use xlink:href=\"#mb3340e9a0f\" x=\"28.942188\" y=\"97.257027\" style=\"stroke: #000000; stroke-width: 0.8\"/>\n      </g>\n     </g>\n     <g id=\"text_12\">\n      <!-- 2 -->\n      <g transform=\"translate(15.579688 101.056246) scale(0.1 -0.1)\">\n       <use xlink:href=\"#DejaVuSans-32\"/>\n      </g>\n     </g>\n    </g>\n    <g id=\"ytick_7\">\n     <g id=\"line2d_13\">\n      <g>\n       <use xlink:href=\"#mb3340e9a0f\" x=\"28.942188\" y=\"64.454218\" style=\"stroke: #000000; stroke-width: 0.8\"/>\n      </g>\n     </g>\n     <g id=\"text_13\">\n      <!-- 3 -->\n      <g transform=\"translate(15.579688 68.253436) scale(0.1 -0.1)\">\n       <use xlink:href=\"#DejaVuSans-33\"/>\n      </g>\n     </g>\n    </g>\n    <g id=\"ytick_8\">\n     <g id=\"line2d_14\">\n      <g>\n       <use xlink:href=\"#mb3340e9a0f\" x=\"28.942188\" y=\"31.651408\" style=\"stroke: #000000; stroke-width: 0.8\"/>\n      </g>\n     </g>\n     <g id=\"text_14\">\n      <!-- 4 -->\n      <g transform=\"translate(15.579688 35.450627) scale(0.1 -0.1)\">\n       <use xlink:href=\"#DejaVuSans-34\"/>\n      </g>\n     </g>\n    </g>\n   </g>\n   <g id=\"patch_3\">\n    <path d=\"M 28.942188 273.312 \nL 28.942188 7.2 \n\" style=\"fill: none; stroke: #000000; stroke-width: 0.8; stroke-linejoin: miter; stroke-linecap: square\"/>\n   </g>\n   <g id=\"patch_4\">\n    <path d=\"M 386.062188 273.312 \nL 386.062188 7.2 \n\" style=\"fill: none; stroke: #000000; stroke-width: 0.8; stroke-linejoin: miter; stroke-linecap: square\"/>\n   </g>\n   <g id=\"patch_5\">\n    <path d=\"M 28.942187 273.312 \nL 386.062188 273.312 \n\" style=\"fill: none; stroke: #000000; stroke-width: 0.8; stroke-linejoin: miter; stroke-linecap: square\"/>\n   </g>\n   <g id=\"patch_6\">\n    <path d=\"M 28.942187 7.2 \nL 386.062188 7.2 \n\" style=\"fill: none; stroke: #000000; stroke-width: 0.8; stroke-linejoin: miter; stroke-linecap: square\"/>\n   </g>\n   <g id=\"text_15\">\n    <!-- computer -->\n    <g transform=\"translate(45.174915 75.303402) scale(0.1 -0.1)\">\n     <defs>\n      <path id=\"DejaVuSans-63\" d=\"M 3122 3366 \nL 3122 2828 \nQ 2878 2963 2633 3030 \nQ 2388 3097 2138 3097 \nQ 1578 3097 1268 2742 \nQ 959 2388 959 1747 \nQ 959 1106 1268 751 \nQ 1578 397 2138 397 \nQ 2388 397 2633 464 \nQ 2878 531 3122 666 \nL 3122 134 \nQ 2881 22 2623 -34 \nQ 2366 -91 2075 -91 \nQ 1284 -91 818 406 \nQ 353 903 353 1747 \nQ 353 2603 823 3093 \nQ 1294 3584 2113 3584 \nQ 2378 3584 2631 3529 \nQ 2884 3475 3122 3366 \nz\n\" transform=\"scale(0.015625)\"/>\n      <path id=\"DejaVuSans-6f\" d=\"M 1959 3097 \nQ 1497 3097 1228 2736 \nQ 959 2375 959 1747 \nQ 959 1119 1226 758 \nQ 1494 397 1959 397 \nQ 2419 397 2687 759 \nQ 2956 1122 2956 1747 \nQ 2956 2369 2687 2733 \nQ 2419 3097 1959 3097 \nz\nM 1959 3584 \nQ 2709 3584 3137 3096 \nQ 3566 2609 3566 1747 \nQ 3566 888 3137 398 \nQ 2709 -91 1959 -91 \nQ 1206 -91 779 398 \nQ 353 888 353 1747 \nQ 353 2609 779 3096 \nQ 1206 3584 1959 3584 \nz\n\" transform=\"scale(0.015625)\"/>\n      <path id=\"DejaVuSans-6d\" d=\"M 3328 2828 \nQ 3544 3216 3844 3400 \nQ 4144 3584 4550 3584 \nQ 5097 3584 5394 3201 \nQ 5691 2819 5691 2113 \nL 5691 0 \nL 5113 0 \nL 5113 2094 \nQ 5113 2597 4934 2840 \nQ 4756 3084 4391 3084 \nQ 3944 3084 3684 2787 \nQ 3425 2491 3425 1978 \nL 3425 0 \nL 2847 0 \nL 2847 2094 \nQ 2847 2600 2669 2842 \nQ 2491 3084 2119 3084 \nQ 1678 3084 1418 2786 \nQ 1159 2488 1159 1978 \nL 1159 0 \nL 581 0 \nL 581 3500 \nL 1159 3500 \nL 1159 2956 \nQ 1356 3278 1631 3431 \nQ 1906 3584 2284 3584 \nQ 2666 3584 2933 3390 \nQ 3200 3197 3328 2828 \nz\n\" transform=\"scale(0.015625)\"/>\n      <path id=\"DejaVuSans-70\" d=\"M 1159 525 \nL 1159 -1331 \nL 581 -1331 \nL 581 3500 \nL 1159 3500 \nL 1159 2969 \nQ 1341 3281 1617 3432 \nQ 1894 3584 2278 3584 \nQ 2916 3584 3314 3078 \nQ 3713 2572 3713 1747 \nQ 3713 922 3314 415 \nQ 2916 -91 2278 -91 \nQ 1894 -91 1617 61 \nQ 1341 213 1159 525 \nz\nM 3116 1747 \nQ 3116 2381 2855 2742 \nQ 2594 3103 2138 3103 \nQ 1681 3103 1420 2742 \nQ 1159 2381 1159 1747 \nQ 1159 1113 1420 752 \nQ 1681 391 2138 391 \nQ 2594 391 2855 752 \nQ 3116 1113 3116 1747 \nz\n\" transform=\"scale(0.015625)\"/>\n      <path id=\"DejaVuSans-75\" d=\"M 544 1381 \nL 544 3500 \nL 1119 3500 \nL 1119 1403 \nQ 1119 906 1312 657 \nQ 1506 409 1894 409 \nQ 2359 409 2629 706 \nQ 2900 1003 2900 1516 \nL 2900 3500 \nL 3475 3500 \nL 3475 0 \nL 2900 0 \nL 2900 538 \nQ 2691 219 2414 64 \nQ 2138 -91 1772 -91 \nQ 1169 -91 856 284 \nQ 544 659 544 1381 \nz\nM 1991 3584 \nL 1991 3584 \nz\n\" transform=\"scale(0.015625)\"/>\n      <path id=\"DejaVuSans-74\" d=\"M 1172 4494 \nL 1172 3500 \nL 2356 3500 \nL 2356 3053 \nL 1172 3053 \nL 1172 1153 \nQ 1172 725 1289 603 \nQ 1406 481 1766 481 \nL 2356 481 \nL 2356 0 \nL 1766 0 \nQ 1100 0 847 248 \nQ 594 497 594 1153 \nL 594 3053 \nL 172 3053 \nL 172 3500 \nL 594 3500 \nL 594 4494 \nL 1172 4494 \nz\n\" transform=\"scale(0.015625)\"/>\n      <path id=\"DejaVuSans-65\" d=\"M 3597 1894 \nL 3597 1613 \nL 953 1613 \nQ 991 1019 1311 708 \nQ 1631 397 2203 397 \nQ 2534 397 2845 478 \nQ 3156 559 3463 722 \nL 3463 178 \nQ 3153 47 2828 -22 \nQ 2503 -91 2169 -91 \nQ 1331 -91 842 396 \nQ 353 884 353 1716 \nQ 353 2575 817 3079 \nQ 1281 3584 2069 3584 \nQ 2775 3584 3186 3129 \nQ 3597 2675 3597 1894 \nz\nM 3022 2063 \nQ 3016 2534 2758 2815 \nQ 2500 3097 2075 3097 \nQ 1594 3097 1305 2825 \nQ 1016 2553 972 2059 \nL 3022 2063 \nz\n\" transform=\"scale(0.015625)\"/>\n      <path id=\"DejaVuSans-72\" d=\"M 2631 2963 \nQ 2534 3019 2420 3045 \nQ 2306 3072 2169 3072 \nQ 1681 3072 1420 2755 \nQ 1159 2438 1159 1844 \nL 1159 0 \nL 581 0 \nL 581 3500 \nL 1159 3500 \nL 1159 2956 \nQ 1341 3275 1631 3429 \nQ 1922 3584 2338 3584 \nQ 2397 3584 2469 3576 \nQ 2541 3569 2628 3553 \nL 2631 2963 \nz\n\" transform=\"scale(0.015625)\"/>\n     </defs>\n     <use xlink:href=\"#DejaVuSans-63\"/>\n     <use xlink:href=\"#DejaVuSans-6f\" x=\"54.980469\"/>\n     <use xlink:href=\"#DejaVuSans-6d\" x=\"116.162109\"/>\n     <use xlink:href=\"#DejaVuSans-70\" x=\"213.574219\"/>\n     <use xlink:href=\"#DejaVuSans-75\" x=\"277.050781\"/>\n     <use xlink:href=\"#DejaVuSans-74\" x=\"340.429688\"/>\n     <use xlink:href=\"#DejaVuSans-65\" x=\"379.638672\"/>\n     <use xlink:href=\"#DejaVuSans-72\" x=\"441.162109\"/>\n    </g>\n   </g>\n   <g id=\"text_16\">\n    <!-- king -->\n    <g transform=\"translate(294.120769 160.340074) scale(0.1 -0.1)\">\n     <defs>\n      <path id=\"DejaVuSans-6b\" d=\"M 581 4863 \nL 1159 4863 \nL 1159 1991 \nL 2875 3500 \nL 3609 3500 \nL 1753 1863 \nL 3688 0 \nL 2938 0 \nL 1159 1709 \nL 1159 0 \nL 581 0 \nL 581 4863 \nz\n\" transform=\"scale(0.015625)\"/>\n      <path id=\"DejaVuSans-69\" d=\"M 603 3500 \nL 1178 3500 \nL 1178 0 \nL 603 0 \nL 603 3500 \nz\nM 603 4863 \nL 1178 4863 \nL 1178 4134 \nL 603 4134 \nL 603 4863 \nz\n\" transform=\"scale(0.015625)\"/>\n      <path id=\"DejaVuSans-6e\" d=\"M 3513 2113 \nL 3513 0 \nL 2938 0 \nL 2938 2094 \nQ 2938 2591 2744 2837 \nQ 2550 3084 2163 3084 \nQ 1697 3084 1428 2787 \nQ 1159 2491 1159 1978 \nL 1159 0 \nL 581 0 \nL 581 3500 \nL 1159 3500 \nL 1159 2956 \nQ 1366 3272 1645 3428 \nQ 1925 3584 2291 3584 \nQ 2894 3584 3203 3211 \nQ 3513 2838 3513 2113 \nz\n\" transform=\"scale(0.015625)\"/>\n      <path id=\"DejaVuSans-67\" d=\"M 2906 1791 \nQ 2906 2416 2648 2759 \nQ 2391 3103 1925 3103 \nQ 1463 3103 1205 2759 \nQ 947 2416 947 1791 \nQ 947 1169 1205 825 \nQ 1463 481 1925 481 \nQ 2391 481 2648 825 \nQ 2906 1169 2906 1791 \nz\nM 3481 434 \nQ 3481 -459 3084 -895 \nQ 2688 -1331 1869 -1331 \nQ 1566 -1331 1297 -1286 \nQ 1028 -1241 775 -1147 \nL 775 -588 \nQ 1028 -725 1275 -790 \nQ 1522 -856 1778 -856 \nQ 2344 -856 2625 -561 \nQ 2906 -266 2906 331 \nL 2906 616 \nQ 2728 306 2450 153 \nQ 2172 0 1784 0 \nQ 1141 0 747 490 \nQ 353 981 353 1791 \nQ 353 2603 747 3093 \nQ 1141 3584 1784 3584 \nQ 2172 3584 2450 3431 \nQ 2728 3278 2906 2969 \nL 2906 3500 \nL 3481 3500 \nL 3481 434 \nz\n\" transform=\"scale(0.015625)\"/>\n     </defs>\n     <use xlink:href=\"#DejaVuSans-6b\"/>\n     <use xlink:href=\"#DejaVuSans-69\" x=\"57.910156\"/>\n     <use xlink:href=\"#DejaVuSans-6e\" x=\"85.693359\"/>\n     <use xlink:href=\"#DejaVuSans-67\" x=\"149.072266\"/>\n    </g>\n   </g>\n   <g id=\"text_17\">\n    <!-- queen -->\n    <g transform=\"translate(191.894924 154.016139) scale(0.1 -0.1)\">\n     <defs>\n      <path id=\"DejaVuSans-71\" d=\"M 947 1747 \nQ 947 1113 1208 752 \nQ 1469 391 1925 391 \nQ 2381 391 2643 752 \nQ 2906 1113 2906 1747 \nQ 2906 2381 2643 2742 \nQ 2381 3103 1925 3103 \nQ 1469 3103 1208 2742 \nQ 947 2381 947 1747 \nz\nM 2906 525 \nQ 2725 213 2448 61 \nQ 2172 -91 1784 -91 \nQ 1150 -91 751 415 \nQ 353 922 353 1747 \nQ 353 2572 751 3078 \nQ 1150 3584 1784 3584 \nQ 2172 3584 2448 3432 \nQ 2725 3281 2906 2969 \nL 2906 3500 \nL 3481 3500 \nL 3481 -1331 \nL 2906 -1331 \nL 2906 525 \nz\n\" transform=\"scale(0.015625)\"/>\n     </defs>\n     <use xlink:href=\"#DejaVuSans-71\"/>\n     <use xlink:href=\"#DejaVuSans-75\" x=\"63.476562\"/>\n     <use xlink:href=\"#DejaVuSans-65\" x=\"126.855469\"/>\n     <use xlink:href=\"#DejaVuSans-65\" x=\"188.378906\"/>\n     <use xlink:href=\"#DejaVuSans-6e\" x=\"249.902344\"/>\n    </g>\n   </g>\n   <g id=\"text_18\">\n    <!-- kingdom -->\n    <g transform=\"translate(166.811758 109.794601) scale(0.1 -0.1)\">\n     <defs>\n      <path id=\"DejaVuSans-64\" d=\"M 2906 2969 \nL 2906 4863 \nL 3481 4863 \nL 3481 0 \nL 2906 0 \nL 2906 525 \nQ 2725 213 2448 61 \nQ 2172 -91 1784 -91 \nQ 1150 -91 751 415 \nQ 353 922 353 1747 \nQ 353 2572 751 3078 \nQ 1150 3584 1784 3584 \nQ 2172 3584 2448 3432 \nQ 2725 3281 2906 2969 \nz\nM 947 1747 \nQ 947 1113 1208 752 \nQ 1469 391 1925 391 \nQ 2381 391 2643 752 \nQ 2906 1113 2906 1747 \nQ 2906 2381 2643 2742 \nQ 2381 3103 1925 3103 \nQ 1469 3103 1208 2742 \nQ 947 2381 947 1747 \nz\n\" transform=\"scale(0.015625)\"/>\n     </defs>\n     <use xlink:href=\"#DejaVuSans-6b\"/>\n     <use xlink:href=\"#DejaVuSans-69\" x=\"57.910156\"/>\n     <use xlink:href=\"#DejaVuSans-6e\" x=\"85.693359\"/>\n     <use xlink:href=\"#DejaVuSans-67\" x=\"149.072266\"/>\n     <use xlink:href=\"#DejaVuSans-64\" x=\"212.548828\"/>\n     <use xlink:href=\"#DejaVuSans-6f\" x=\"276.025391\"/>\n     <use xlink:href=\"#DejaVuSans-6d\" x=\"337.207031\"/>\n    </g>\n   </g>\n   <g id=\"text_19\">\n    <!-- happy -->\n    <g transform=\"translate(138.003705 219.388598) scale(0.1 -0.1)\">\n     <defs>\n      <path id=\"DejaVuSans-68\" d=\"M 3513 2113 \nL 3513 0 \nL 2938 0 \nL 2938 2094 \nQ 2938 2591 2744 2837 \nQ 2550 3084 2163 3084 \nQ 1697 3084 1428 2787 \nQ 1159 2491 1159 1978 \nL 1159 0 \nL 581 0 \nL 581 4863 \nL 1159 4863 \nL 1159 2956 \nQ 1366 3272 1645 3428 \nQ 1925 3584 2291 3584 \nQ 2894 3584 3203 3211 \nQ 3513 2838 3513 2113 \nz\n\" transform=\"scale(0.015625)\"/>\n      <path id=\"DejaVuSans-61\" d=\"M 2194 1759 \nQ 1497 1759 1228 1600 \nQ 959 1441 959 1056 \nQ 959 750 1161 570 \nQ 1363 391 1709 391 \nQ 2188 391 2477 730 \nQ 2766 1069 2766 1631 \nL 2766 1759 \nL 2194 1759 \nz\nM 3341 1997 \nL 3341 0 \nL 2766 0 \nL 2766 531 \nQ 2569 213 2275 61 \nQ 1981 -91 1556 -91 \nQ 1019 -91 701 211 \nQ 384 513 384 1019 \nQ 384 1609 779 1909 \nQ 1175 2209 1959 2209 \nL 2766 2209 \nL 2766 2266 \nQ 2766 2663 2505 2880 \nQ 2244 3097 1772 3097 \nQ 1472 3097 1187 3025 \nQ 903 2953 641 2809 \nL 641 3341 \nQ 956 3463 1253 3523 \nQ 1550 3584 1831 3584 \nQ 2591 3584 2966 3190 \nQ 3341 2797 3341 1997 \nz\n\" transform=\"scale(0.015625)\"/>\n      <path id=\"DejaVuSans-79\" d=\"M 2059 -325 \nQ 1816 -950 1584 -1140 \nQ 1353 -1331 966 -1331 \nL 506 -1331 \nL 506 -850 \nL 844 -850 \nQ 1081 -850 1212 -737 \nQ 1344 -625 1503 -206 \nL 1606 56 \nL 191 3500 \nL 800 3500 \nL 1894 763 \nL 2988 3500 \nL 3597 3500 \nL 2059 -325 \nz\n\" transform=\"scale(0.015625)\"/>\n     </defs>\n     <use xlink:href=\"#DejaVuSans-68\"/>\n     <use xlink:href=\"#DejaVuSans-61\" x=\"63.378906\"/>\n     <use xlink:href=\"#DejaVuSans-70\" x=\"124.658203\"/>\n     <use xlink:href=\"#DejaVuSans-70\" x=\"188.134766\"/>\n     <use xlink:href=\"#DejaVuSans-79\" x=\"251.611328\"/>\n    </g>\n   </g>\n   <g id=\"text_20\">\n    <!-- sad -->\n    <g transform=\"translate(152.085439 176.744675) scale(0.1 -0.1)\">\n     <defs>\n      <path id=\"DejaVuSans-73\" d=\"M 2834 3397 \nL 2834 2853 \nQ 2591 2978 2328 3040 \nQ 2066 3103 1784 3103 \nQ 1356 3103 1142 2972 \nQ 928 2841 928 2578 \nQ 928 2378 1081 2264 \nQ 1234 2150 1697 2047 \nL 1894 2003 \nQ 2506 1872 2764 1633 \nQ 3022 1394 3022 966 \nQ 3022 478 2636 193 \nQ 2250 -91 1575 -91 \nQ 1294 -91 989 -36 \nQ 684 19 347 128 \nL 347 722 \nQ 666 556 975 473 \nQ 1284 391 1588 391 \nQ 1994 391 2212 530 \nQ 2431 669 2431 922 \nQ 2431 1156 2273 1281 \nQ 2116 1406 1581 1522 \nL 1381 1569 \nQ 847 1681 609 1914 \nQ 372 2147 372 2553 \nQ 372 3047 722 3315 \nQ 1072 3584 1716 3584 \nQ 2034 3584 2315 3537 \nQ 2597 3491 2834 3397 \nz\n\" transform=\"scale(0.015625)\"/>\n     </defs>\n     <use xlink:href=\"#DejaVuSans-73\"/>\n     <use xlink:href=\"#DejaVuSans-61\" x=\"52.099609\"/>\n     <use xlink:href=\"#DejaVuSans-64\" x=\"113.378906\"/>\n    </g>\n   </g>\n   <g id=\"text_21\">\n    <!-- dog -->\n    <g transform=\"translate(97.695911 227.440021) scale(0.1 -0.1)\">\n     <use xlink:href=\"#DejaVuSans-64\"/>\n     <use xlink:href=\"#DejaVuSans-6f\" x=\"63.476562\"/>\n     <use xlink:href=\"#DejaVuSans-67\" x=\"124.658203\"/>\n    </g>\n   </g>\n   <g id=\"text_22\">\n    <!-- run -->\n    <g transform=\"translate(56.147399 261.216) scale(0.1 -0.1)\">\n     <use xlink:href=\"#DejaVuSans-72\"/>\n     <use xlink:href=\"#DejaVuSans-75\" x=\"41.113281\"/>\n     <use xlink:href=\"#DejaVuSans-6e\" x=\"104.492188\"/>\n    </g>\n   </g>\n   <g id=\"text_23\">\n    <!-- science -->\n    <g transform=\"translate(205.536951 19.296) scale(0.1 -0.1)\">\n     <use xlink:href=\"#DejaVuSans-73\"/>\n     <use xlink:href=\"#DejaVuSans-63\" x=\"52.099609\"/>\n     <use xlink:href=\"#DejaVuSans-69\" x=\"107.080078\"/>\n     <use xlink:href=\"#DejaVuSans-65\" x=\"134.863281\"/>\n     <use xlink:href=\"#DejaVuSans-6e\" x=\"196.386719\"/>\n     <use xlink:href=\"#DejaVuSans-63\" x=\"259.765625\"/>\n     <use xlink:href=\"#DejaVuSans-65\" x=\"314.746094\"/>\n    </g>\n   </g>\n   <g id=\"text_24\">\n    <!-- unk -->\n    <g transform=\"translate(369.82946 225.08693) scale(0.1 -0.1)\">\n     <use xlink:href=\"#DejaVuSans-75\"/>\n     <use xlink:href=\"#DejaVuSans-6e\" x=\"63.378906\"/>\n     <use xlink:href=\"#DejaVuSans-6b\" x=\"126.757812\"/>\n    </g>\n   </g>\n  </g>\n </g>\n <defs>\n  <clipPath id=\"p3e87af0be1\">\n   <rect x=\"28.942188\" y=\"7.2\" width=\"357.12\" height=\"266.112\"/>\n  </clipPath>\n </defs>\n</svg>\n"
          },
          "metadata": {}
        }
      ]
    },
    {
      "cell_type": "markdown",
      "source": [
        "## Embeddings de Datasets"
      ],
      "metadata": {
        "id": "L0EWg8d0LXoJ"
      }
    },
    {
      "cell_type": "markdown",
      "source": [
        "### [A]"
      ],
      "metadata": {
        "id": "PBa_fbOGLiXI"
      }
    },
    {
      "cell_type": "code",
      "source": [
        "# Embeddings A: Dataset AB => Embeddings Gensim:\n",
        "A_gensim_df, A_gensim_model = gensim_embeddings(AB_train, dimensions=50, window=5, min_count=1, workers=4)"
      ],
      "metadata": {
        "id": "fodSRpW6Lrjj"
      },
      "execution_count": null,
      "outputs": []
    },
    {
      "cell_type": "code",
      "source": [
        "A_gensim_model.save(\"/content/drive/MyDrive/Datasets/AITextification/A_gensim_model.bin\")\n",
        "A_gensim_df[\"embeddings\"].to_csv(\"/content/drive/MyDrive/Datasets/AITextification/A_gensim_embeddings.csv\", index=False)"
      ],
      "metadata": {
        "id": "cq55yS0qNbmv"
      },
      "execution_count": null,
      "outputs": []
    },
    {
      "cell_type": "markdown",
      "source": [
        "### [B]"
      ],
      "metadata": {
        "id": "uh7vO6iVLvmw"
      }
    },
    {
      "cell_type": "code",
      "source": [
        "# Embeddings B: Dataset AB => Embeddings Propios:\n",
        "B_embeds, B_word2Index, B_embeds_model = own_embeddings(AB_train, iterations=2000, learning_rate=0.0001)"
      ],
      "metadata": {
        "colab": {
          "base_uri": "https://localhost:8080/"
        },
        "id": "BVACw_YJLvmx",
        "outputId": "662cdea0-9a30-43de-a937-250ef783bc1e"
      },
      "execution_count": null,
      "outputs": [
        {
          "output_type": "stream",
          "name": "stdout",
          "text": [
            "Tamaño del vocabulario: 123381\n"
          ]
        }
      ]
    },
    {
      "cell_type": "code",
      "source": [
        "import pickle\n",
        "\n",
        "with open(\"/content/drive/MyDrive/Datasets/AITextification/B_embeds_model.pkl\", \"wb\") as model_file:\n",
        "    pickle.dump(B_embeds_model, model_file)\n",
        "\n",
        "with open(\"/content/drive/MyDrive/Datasets/AITextification/B_word2Index.pkl\", \"wb\") as word2Index_file:\n",
        "    pickle.dump(B_word2Index, word2Index_file)\n",
        "\n",
        "pd.DataFrame(B_embeds).to_csv(\"/content/drive/MyDrive/Datasets/AITextification/B_embeds.csv\", index=False)"
      ],
      "metadata": {
        "id": "X-bJSXkjT3i9"
      },
      "execution_count": null,
      "outputs": []
    },
    {
      "cell_type": "markdown",
      "source": [
        "### [C]"
      ],
      "metadata": {
        "id": "1lTrOMFFLv-_"
      }
    },
    {
      "cell_type": "code",
      "source": [
        "# Embeddings C: Dataset CD => Embeddings Gensim:\n",
        "C_gensim_df, C_gensim_model = gensim_embeddings(CD_train, dimensions=50, window=5, min_count=1, workers=4)"
      ],
      "metadata": {
        "id": "irty3ZjuLv_A"
      },
      "execution_count": null,
      "outputs": []
    },
    {
      "cell_type": "code",
      "source": [
        "C_gensim_model.save(\"/content/drive/MyDrive/Datasets/AITextification/C_gensim_model.bin\")\n",
        "C_gensim_df[\"embeddings\"].to_csv(\"/content/drive/MyDrive/Datasets/AITextification/C_gensim_embeddings.csv\", index=False)"
      ],
      "metadata": {
        "id": "_T9XR9srNi3a"
      },
      "execution_count": null,
      "outputs": []
    },
    {
      "cell_type": "markdown",
      "source": [
        "### [D]"
      ],
      "metadata": {
        "id": "kiTq-mQ2LwOz"
      }
    },
    {
      "cell_type": "code",
      "source": [
        "# Embeddings D: Dataset CD => Embeddings Propios:\n",
        "D_embeds, D_word2Index, D_embeds_model = own_embeddings(CD_train, iterations=2000, learning_rate=0.0001)"
      ],
      "metadata": {
        "colab": {
          "base_uri": "https://localhost:8080/"
        },
        "id": "vjSS_6nYLwO0",
        "outputId": "e4e4bddc-1a04-42a4-f348-0096bcc6782c"
      },
      "execution_count": null,
      "outputs": [
        {
          "output_type": "stream",
          "name": "stdout",
          "text": [
            "Tamaño del vocabulario: 135214\n"
          ]
        }
      ]
    },
    {
      "cell_type": "code",
      "source": [
        "import pickle\n",
        "\n",
        "with open(\"/content/drive/MyDrive/Datasets/AITextification/D_embeds_model.pkl\", \"wb\") as model_file:\n",
        "    pickle.dump(D_embeds_model, model_file)\n",
        "\n",
        "with open(\"/content/drive/MyDrive/Datasets/AITextification/D_word2Index.pkl\", \"wb\") as word2Index_file:\n",
        "    pickle.dump(D_word2Index, word2Index_file)\n",
        "\n",
        "pd.DataFrame(D_embeds).to_csv(\"/content/drive/MyDrive/Datasets/AITextification/D_embeds.csv\", index=False)"
      ],
      "metadata": {
        "id": "Pj48rBSmUY59"
      },
      "execution_count": null,
      "outputs": []
    },
    {
      "cell_type": "markdown",
      "source": [
        "# [04] 🔳 Embeddings [B]"
      ],
      "metadata": {
        "id": "FVZ9g1y9ZD7X"
      }
    },
    {
      "cell_type": "code",
      "source": [
        "# Dataset AB:\n",
        "TaskB_AB_train = pd.read_csv(\"/content/drive/MyDrive/Datasets/AITextification/TaskB-TrainAB.csv\")\n",
        "# AB_test = pd.read_csv(\"/content/drive/MyDrive/Datasets/AITextification/TaskB-DevAB.csv\")\n",
        "\n",
        "# Dataset CD:\n",
        "TaskB_CD_train = pd.read_csv(\"/content/drive/MyDrive/Datasets/AITextification/TaskB-TrainCD.csv\")\n",
        "# CD_test = pd.read_csv(\"/content/drive/MyDrive/Datasets/AITextification/TaskB-DevCD.csv\")"
      ],
      "metadata": {
        "id": "LRGjc24IZD7Y"
      },
      "execution_count": null,
      "outputs": []
    },
    {
      "cell_type": "markdown",
      "source": [
        "## Embeddings de Datasets"
      ],
      "metadata": {
        "id": "m172zkpaZiZO"
      }
    },
    {
      "cell_type": "markdown",
      "source": [
        "### [A]"
      ],
      "metadata": {
        "id": "pgiFxTMSZiZP"
      }
    },
    {
      "cell_type": "code",
      "source": [
        "# Embeddings A: Dataset AB => Embeddings Gensim:\n",
        "TB_A_gensim_df, TB_A_gensim_model = gensim_embeddings(TaskB_AB_train, dimensions=50, window=5, min_count=1, workers=4)"
      ],
      "metadata": {
        "id": "B6Td9TvWZiZQ"
      },
      "execution_count": null,
      "outputs": []
    },
    {
      "cell_type": "code",
      "source": [
        "TB_A_gensim_model.save(\"/content/drive/MyDrive/Datasets/AITextification/TaskB_A_gensim_model.bin\")\n",
        "TB_A_gensim_df[\"embeddings\"].to_csv(\"/content/drive/MyDrive/Datasets/AITextification/TaskB_A_gensim_embeddings.csv\", index=False)"
      ],
      "metadata": {
        "id": "xpL6RIFxZiZQ"
      },
      "execution_count": null,
      "outputs": []
    },
    {
      "cell_type": "markdown",
      "source": [
        "### [B]"
      ],
      "metadata": {
        "id": "ZmmeZgrNZiZQ"
      }
    },
    {
      "cell_type": "code",
      "source": [
        "# Embeddings B: Dataset AB => Embeddings Propios:\n",
        "TB_B_embeds, TB_B_word2Index, TB_B_embeds_model = own_embeddings(TaskB_AB_train, iterations=2000, learning_rate=0.0001)"
      ],
      "metadata": {
        "colab": {
          "base_uri": "https://localhost:8080/"
        },
        "outputId": "15cd6a40-3f91-42db-ff40-77da11443522",
        "id": "S1naB7QkZiZR"
      },
      "execution_count": null,
      "outputs": [
        {
          "output_type": "stream",
          "name": "stdout",
          "text": [
            "Tamaño del vocabulario: 68731\n"
          ]
        }
      ]
    },
    {
      "cell_type": "code",
      "source": [
        "import pickle\n",
        "\n",
        "with open(\"/content/drive/MyDrive/Datasets/AITextification/TaskB_B_embeds_model.pkl\", \"wb\") as model_file:\n",
        "    pickle.dump(TB_B_embeds_model, model_file)\n",
        "\n",
        "with open(\"/content/drive/MyDrive/Datasets/AITextification/TaskB_B_word2Index.pkl\", \"wb\") as word2Index_file:\n",
        "    pickle.dump(TB_B_word2Index, word2Index_file)\n",
        "\n",
        "pd.DataFrame(TB_B_embeds).to_csv(\"/content/drive/MyDrive/Datasets/AITextification/TB_B_embeds.csv\", index=False)"
      ],
      "metadata": {
        "id": "K860uD0wZiZR"
      },
      "execution_count": null,
      "outputs": []
    },
    {
      "cell_type": "markdown",
      "source": [
        "### [C]"
      ],
      "metadata": {
        "id": "qBnG0zhnZiZS"
      }
    },
    {
      "cell_type": "code",
      "source": [
        "# Embeddings C: Dataset CD => Embeddings Gensim:\n",
        "TB_C_gensim_df, TB_C_gensim_model = gensim_embeddings(TaskB_CD_train, dimensions=50, window=5, min_count=1, workers=4)"
      ],
      "metadata": {
        "id": "-ysxVBEaZiZS"
      },
      "execution_count": null,
      "outputs": []
    },
    {
      "cell_type": "code",
      "source": [
        "TB_C_gensim_model.save(\"/content/drive/MyDrive/Datasets/AITextification/TB_C_gensim_model.bin\")\n",
        "TB_C_gensim_df[\"embeddings\"].to_csv(\"/content/drive/MyDrive/Datasets/AITextification/TB_C_gensim_embeddings.csv\", index=False)"
      ],
      "metadata": {
        "id": "uorOKaVCZiZS"
      },
      "execution_count": null,
      "outputs": []
    },
    {
      "cell_type": "markdown",
      "source": [
        "### [D]"
      ],
      "metadata": {
        "id": "oBIPvgDAZiZT"
      }
    },
    {
      "cell_type": "code",
      "source": [
        "# Embeddings D: Dataset CD => Embeddings Propios:\n",
        "TB_D_embeds, TB_D_word2Index, TB_D_embeds_model = own_embeddings(TaskB_CD_train, iterations=2000, learning_rate=0.0001)"
      ],
      "metadata": {
        "colab": {
          "base_uri": "https://localhost:8080/"
        },
        "outputId": "bf6ef253-4528-47d4-8db6-f701f2994a54",
        "id": "TPtriMtJZiZT"
      },
      "execution_count": null,
      "outputs": [
        {
          "output_type": "stream",
          "name": "stdout",
          "text": [
            "Tamaño del vocabulario: 76948\n"
          ]
        }
      ]
    },
    {
      "cell_type": "code",
      "source": [
        "import pickle\n",
        "\n",
        "with open(\"/content/drive/MyDrive/Datasets/AITextification/TB_D_embeds_model.pkl\", \"wb\") as model_file:\n",
        "    pickle.dump(TB_D_embeds_model, model_file)\n",
        "\n",
        "with open(\"/content/drive/MyDrive/Datasets/AITextification/TB_D_word2Index.pkl\", \"wb\") as word2Index_file:\n",
        "    pickle.dump(TB_D_word2Index, word2Index_file)\n",
        "\n",
        "pd.DataFrame(TB_D_embeds).to_csv(\"/content/drive/MyDrive/Datasets/AITextification/TB_D_embeds.csv\", index=False)"
      ],
      "metadata": {
        "id": "xi-wHIlsZiZU"
      },
      "execution_count": null,
      "outputs": []
    },
    {
      "cell_type": "markdown",
      "source": [
        "# [04] 👬 Autores\n",
        "## Realizado por:\n",
        "* León Rosas Manuel Alejandro.\n",
        "* Ramos Herrera Iván Alejandro."
      ],
      "metadata": {
        "id": "4DinJz64wzft"
      }
    }
  ]
}